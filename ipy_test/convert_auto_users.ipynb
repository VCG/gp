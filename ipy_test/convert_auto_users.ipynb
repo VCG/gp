{
 "cells": [
  {
   "cell_type": "code",
   "execution_count": 1,
   "metadata": {
    "collapsed": false
   },
   "outputs": [
    {
     "name": "stderr",
     "output_type": "stream",
     "text": [
      "/home/d/nolearn/local/lib/python2.7/site-packages/matplotlib/font_manager.py:273: UserWarning: Matplotlib is building the font cache using fc-list. This may take a moment.\n",
      "  warnings.warn('Matplotlib is building the font cache using fc-list. This may take a moment.')\n",
      "Using gpu device 0: GeForce GTX TITAN (CNMeM is disabled, CuDNN 4007)\n",
      "/home/d/nolearn/local/lib/python2.7/site-packages/theano/tensor/signal/downsample.py:6: UserWarning: downsample module has been moved to the theano.tensor.signal.pool module.\n",
      "  \"downsample module has been moved to the theano.tensor.signal.pool module.\")\n"
     ]
    }
   ],
   "source": [
    "%load_ext autoreload\n",
    "%autoreload 2\n",
    "\n",
    "from matplotlib.pyplot import imshow\n",
    "import matplotlib.pyplot as plt\n",
    "\n",
    "%matplotlib inline\n",
    "import numpy as np\n",
    "import sys\n",
    "import os\n",
    "sys.path.append('../')\n",
    "import gp\n",
    "import cPickle as pickle"
   ]
  },
  {
   "cell_type": "code",
   "execution_count": 61,
   "metadata": {
    "collapsed": true
   },
   "outputs": [],
   "source": [
    "BASEDIR = '/home/d/netstatsPAPER/IPMLB/'\n",
    "OUTDIR = '/home/d/GPSTUDY/'\n",
    "merge_vis = BASEDIR+'dojo_merge_simuser_vis.p'\n",
    "split_vis = BASEDIR+'dojo_split_simuser_vis.p'\n",
    "merge_fixes = BASEDIR+'dojo_merge_simuser_fixes.p'\n",
    "split_fixes = BASEDIR+'dojo_split_simuser_fixes.p'\n",
    "output = BASEDIR+'dojo_simuser_output.p'"
   ]
  },
  {
   "cell_type": "code",
   "execution_count": 2,
   "metadata": {
    "collapsed": false
   },
   "outputs": [],
   "source": [
    "def VI(gt, seg):\n",
    "    # total_vi = 0\n",
    "    slice_vi = []    \n",
    "    for i in range(len(gt)):\n",
    "        current_vi = gp.Util.vi(gt[i].astype(np.int64), seg[i].astype(np.int64))\n",
    "        # total_vi += current_vi\n",
    "        slice_vi.append(current_vi)\n",
    "    # total_vi /= 10\n",
    "    return np.mean(slice_vi), np.median(slice_vi), slice_vi\n",
    "\n",
    "def convert_vis(file, stopat=-1):\n",
    "    vis = []\n",
    "    with open(file, 'rb') as f:\n",
    "        vis_ = pickle.load(f)    \n",
    "\n",
    "    for i,vi in enumerate(vis_):\n",
    "        \n",
    "        if stopat != -1 and i>stopat:\n",
    "            break        \n",
    "        \n",
    "        vis.append(vi[2])\n",
    "    return vis\n",
    "\n",
    "def convert_merge_fixes(file):\n",
    "    fixes = []\n",
    "    with open(file, 'rb') as f:\n",
    "        fixes_ = pickle.load(f)\n",
    "    for f in fixes_:\n",
    "        if f=='Good' or f=='yes':\n",
    "            fixes.append(('merge', '1'))\n",
    "        elif f=='Bad' or f=='no':\n",
    "            fixes.append(('merge', 'current'))\n",
    "    return fixes\n",
    "\n",
    "def convert_split_fixes(file, oracle=False, t=.95, stopat=-1):\n",
    "    fixes = []\n",
    "    with open(file, 'rb') as f:\n",
    "        fixes_ = pickle.load(f)\n",
    "\n",
    "    threshold_printed = False\n",
    "    for i,f in enumerate(fixes_):\n",
    "        \n",
    "        if stopat != -1 and i>stopat:\n",
    "            break\n",
    "        \n",
    "        if oracle==True:\n",
    "#             print f[0]\n",
    "            if f[0] == 1:\n",
    "                fixes.append(('split', '1'))\n",
    "            else:\n",
    "                fixes.append(('split', 'current'))\n",
    "        else:\n",
    "            if f[1] < t and threshold_printed==False:\n",
    "                print 'found threshold:', i-1\n",
    "                threshold_printed = True\n",
    "                \n",
    "            fixes.append(('split', '1'))\n",
    "\n",
    "    return fixes\n",
    "\n",
    "def convert_user(output_folder, merge_vis, split_vis, merge_fixes, split_fixes, output, data='dojo', oracle=False, t=.95, stopat=-1, skipoutput=False):\n",
    "    import glob, os\n",
    "    if data=='dojo':\n",
    "        image, prob, gold, rhoana, bb = gp.Legacy.read_dojo_data()\n",
    "        \n",
    "    elif data=='cremi':\n",
    "        input_image = []\n",
    "        input_prob = []\n",
    "        input_gold = []\n",
    "        input_rhoana = []\n",
    "\n",
    "        # for z in range(0,50):\n",
    "        test_slices = range(15,25) + range(40,50) + range(65,75)\n",
    "        for z in test_slices:\n",
    "            image, prob, gold, rhoana = gp.Util.read_cremi_section(os.path.expanduser('/home/d/data/CREMIGP/TEST/'), z)\n",
    "            input_image.append(image[0:500,0:500])\n",
    "            input_prob.append(255.-prob[0:500,0:500])\n",
    "            input_gold.append(gold[0:500,0:500])\n",
    "            input_rhoana.append(rhoana[0:500,0:500])    \n",
    "    else:\n",
    "        \n",
    "        import mahotas as mh\n",
    "        golds = []\n",
    "        rhoanas = []\n",
    "        for z in range(250,300):\n",
    "            path = '/home/d/data/cylinderNEW/'\n",
    "            gold = sorted(glob.glob(os.path.join(path, 'gold', '*'+str(z)+'.png')))\n",
    "            rhoana = sorted(glob.glob(os.path.join(path, 'rhoana', '*'+str(z)+'.png')))\n",
    "            mask = sorted(glob.glob(os.path.join(path, 'mask', '*'+str(z)+'.png')))   \n",
    "            mask = mh.imread(mask[0]).astype(np.bool)\n",
    "            gold = mh.imread(gold[0])\n",
    "            rhoana = mh.imread(rhoana[0])\n",
    "\n",
    "\n",
    "            #convert ids from rgb to single channel\n",
    "            rhoana_single = np.zeros((rhoana.shape[0], rhoana.shape[1]), dtype=np.uint64)\n",
    "            rhoana_single[:, :] = rhoana[:,:,0]*256*256 + rhoana[:,:,1]*256 + rhoana[:,:,2]\n",
    "            gold_single = np.zeros((gold.shape[0], gold.shape[1]), dtype=np.uint64)\n",
    "            gold_single[:, :] = gold[:,:,0]*256*256 + gold[:,:,1]*256 + gold[:,:,2]\n",
    "\n",
    "            # relabel the segmentations\n",
    "            gold_single = gp.Util.relabel(gold_single)\n",
    "            rhoana_single = gp.Util.relabel(rhoana_single)\n",
    "\n",
    "\n",
    "            #mask the rhoana output\n",
    "            rhoana_single[mask==0] = 0\n",
    "\n",
    "            golds.append(gold_single)\n",
    "            rhoanas.append(rhoana_single)\n",
    "        gold = golds\n",
    "        rhoana = rhoanas\n",
    "    init_mean_vi = VI(gold, rhoana)[0]\n",
    "    init_median_vi = VI(gold, rhoana)[1]\n",
    "    init_vi_per_slice = VI(gold, rhoana)[2]    \n",
    "    \n",
    "    if merge_vis:\n",
    "        c_merge_vis = convert_vis(merge_vis)\n",
    "    else:\n",
    "        c_merge_vis = []\n",
    "    c_split_vis = convert_vis(split_vis, stopat=stopat)\n",
    "    if merge_fixes:\n",
    "        c_merge_fixes = convert_merge_fixes(merge_fixes)\n",
    "    else:\n",
    "        c_merge_fixes = []\n",
    "    c_split_fixes = convert_split_fixes(split_fixes, oracle=oracle, t=t, stopat=stopat)\n",
    "    \n",
    "#     if not skipoutput:\n",
    "#         with open(output, 'rb') as f:\n",
    "#             output_seg = pickle.load(f)\n",
    "    \n",
    "    out_vis = [init_vi_per_slice]\n",
    "    out_vis += c_merge_vis\n",
    "    out_vis += c_split_vis\n",
    "    \n",
    "    out_fixes = []\n",
    "    out_fixes += c_merge_fixes\n",
    "    out_fixes += c_split_fixes\n",
    "    \n",
    "    if not os.path.exists(output_folder):\n",
    "        os.makedirs(output_folder)\n",
    "\n",
    "    if not skipoutput:        \n",
    "        os.rename(output, output_folder+'/ui_results.p')\n",
    "#         with open(output_folder+'/ui_results.p', 'wb') as f:\n",
    "#             pickle.dump(output_seg, f)\n",
    "        \n",
    "    with open(output_folder+'/times.p', 'wb') as f:\n",
    "        # always 0\n",
    "        pickle.dump([0], f)\n",
    "        \n",
    "    with open(output_folder+'/corrections.p', 'wb') as f:\n",
    "        pickle.dump(out_fixes, f)\n",
    "        \n",
    "    with open(output_folder+'/correction_vis.p', 'wb') as f:\n",
    "        pickle.dump(out_vis, f)\n",
    "    "
   ]
  },
  {
   "cell_type": "code",
   "execution_count": 104,
   "metadata": {
    "collapsed": false
   },
   "outputs": [],
   "source": [
    "BASEDIR = '/home/d/netstatsPAPER/IPMLB/'\n",
    "OUTDIR = '/home/d/GPSTUDY/'\n",
    "merge_vis = BASEDIR+'dojo_merge_simuser_vis.p'\n",
    "split_vis = BASEDIR+'dojo_split_simuser_vis.p'\n",
    "merge_fixes = BASEDIR+'dojo_merge_simuser_fixes.p'\n",
    "split_fixes = BASEDIR+'dojo_split_simuser_fixes.p'\n",
    "output = BASEDIR+'dojo_simuser_output.p'\n",
    "\n",
    "convert_user(OUTDIR+'simuserGP_NEW', merge_vis, split_vis, merge_fixes, split_fixes, output, oracle=True)"
   ]
  },
  {
   "cell_type": "code",
   "execution_count": 59,
   "metadata": {
    "collapsed": true
   },
   "outputs": [],
   "source": [
    "with open('/home/d/netstatsPAPER/IPMLB/'+'dojo_merge_simuser_fixes.p', 'rb') as f:\n",
    "    dojo_simuser_merge_fixes = pickle.load(f)"
   ]
  },
  {
   "cell_type": "code",
   "execution_count": 60,
   "metadata": {
    "collapsed": false
   },
   "outputs": [
    {
     "data": {
      "text/plain": [
       "['Good', 'Bad', 'Bad', 'Bad', 'Good', 'Bad', 'Bad', 'Good', 'Good', 'Bad']"
      ]
     },
     "execution_count": 60,
     "metadata": {},
     "output_type": "execute_result"
    }
   ],
   "source": [
    "dojo_simuser_merge_fixes"
   ]
  },
  {
   "cell_type": "code",
   "execution_count": 61,
   "metadata": {
    "collapsed": true
   },
   "outputs": [],
   "source": [
    "with open('/home/d/netstatsPAPER/IPMLB/'+'dojo_merge_till_end_fixes.p', 'rb') as f:\n",
    "    dojo_auto_merge_fixes = pickle.load(f)"
   ]
  },
  {
   "cell_type": "code",
   "execution_count": 62,
   "metadata": {
    "collapsed": false
   },
   "outputs": [
    {
     "data": {
      "text/plain": [
       "['yes', 'no', 'no', 'no', 'yes', 'no', 'yes', 'yes', 'yes', 'yes']"
      ]
     },
     "execution_count": 62,
     "metadata": {},
     "output_type": "execute_result"
    }
   ],
   "source": [
    "dojo_auto_merge_fixes"
   ]
  },
  {
   "cell_type": "code",
   "execution_count": 67,
   "metadata": {
    "collapsed": false
   },
   "outputs": [
    {
     "name": "stdout",
     "output_type": "stream",
     "text": [
      "             precision    recall  f1-score   support\n",
      "\n",
      "          0       1.00      0.67      0.80         6\n",
      "          1       0.67      1.00      0.80         4\n",
      "\n",
      "avg / total       0.87      0.80      0.80        10\n",
      "\n"
     ]
    }
   ],
   "source": [
    "print classification_report(np.array(GT_merge_dojo), np.array(test_merge_dojo))"
   ]
  },
  {
   "cell_type": "code",
   "execution_count": 103,
   "metadata": {
    "collapsed": true
   },
   "outputs": [],
   "source": [
    "with open('/home/d/netstatsPAPER/IPMLB/'+'dojo_merge_till_end_vis.p', 'rb') as f:\n",
    "    dojo_auto_merge_vis = pickle.load(f)\n",
    "with open('/home/d/netstatsPAPER/IPMLB/'+'dojo_merge_simuser_vis.p', 'rb') as f:\n",
    "    dojo_simuser_merge_vis = pickle.load(f)    "
   ]
  },
  {
   "cell_type": "code",
   "execution_count": 99,
   "metadata": {
    "collapsed": false
   },
   "outputs": [
    {
     "name": "stdout",
     "output_type": "stream",
     "text": [
      "0.511781195555 0.0907757390528\n",
      "0.508905213489 0.0864722683879\n"
     ]
    }
   ],
   "source": [
    "print np.mean(dojo_auto_merge_vis[0][2]), np.std(dojo_auto_merge_vis[0][2])\n",
    "print np.mean(dojo_auto_merge_vis[-1][2]), np.std(dojo_auto_merge_vis[-1][2])"
   ]
  },
  {
   "cell_type": "code",
   "execution_count": 106,
   "metadata": {
    "collapsed": false
   },
   "outputs": [
    {
     "name": "stdout",
     "output_type": "stream",
     "text": [
      "0.511781195555 0.0907757390528\n",
      "0.508213829306 0.0858641090214\n"
     ]
    }
   ],
   "source": [
    "print np.mean(dojo_simuser_merge_vis[0][2]), np.std(dojo_simuser_merge_vis[0][2])\n",
    "print np.mean(dojo_simuser_merge_vis[-1][2]), np.std(dojo_simuser_merge_vis[-1][2])"
   ]
  },
  {
   "cell_type": "code",
   "execution_count": 66,
   "metadata": {
    "collapsed": true
   },
   "outputs": [],
   "source": [
    "GT_merge_dojo = []\n",
    "test_merge_dojo = []\n",
    "for i in range(len(dojo_simuser_merge_fixes)):\n",
    "    if dojo_simuser_merge_fixes[i] == 'Good':\n",
    "        GT_merge_dojo.append(1)\n",
    "    else:\n",
    "        GT_merge_dojo.append(0)\n",
    "    if dojo_auto_merge_fixes[i] == 'yes':\n",
    "        test_merge_dojo.append(1)\n",
    "    else:\n",
    "        test_merge_dojo.append(0)"
   ]
  },
  {
   "cell_type": "code",
   "execution_count": 105,
   "metadata": {
    "collapsed": false
   },
   "outputs": [
    {
     "name": "stdout",
     "output_type": "stream",
     "text": [
      "found threshold: 153\n"
     ]
    }
   ],
   "source": [
    "BASEDIR = '/home/d/netstatsPAPER/IPMLB/'\n",
    "OUTDIR = '/home/d/GPSTUDY/'\n",
    "merge_vis = BASEDIR+'dojo_merge_till_end_vis.p'\n",
    "split_vis = BASEDIR+'dojo_split_till_end_vis.p'\n",
    "merge_fixes = BASEDIR+'dojo_merge_till_end_fixes.p'\n",
    "split_fixes = BASEDIR+'dojo_split_till_end_fixes.p'\n",
    "output = BASEDIR+'dojo_till_end_output.p'\n",
    "\n",
    "convert_user(OUTDIR+'auto95GP_NEW', merge_vis, split_vis, merge_fixes, split_fixes, output)"
   ]
  },
  {
   "cell_type": "code",
   "execution_count": 87,
   "metadata": {
    "collapsed": false
   },
   "outputs": [],
   "source": [
    "BASEDIR = '/home/d/netstatsPAPERFP/IPMLB/'\n",
    "OUTDIR = '/home/d/GPSTUDY/'\n",
    "merge_vis = None\n",
    "split_vis = BASEDIR+'dojo_split_simuser_vis.p'\n",
    "merge_fixes = None\n",
    "split_fixes = BASEDIR+'dojo_split_simuser_fixes.p'\n",
    "output = BASEDIR+'dojo_simuser_output.p'\n",
    "\n",
    "convert_user(OUTDIR+'simuserFP_NEW', merge_vis, split_vis, merge_fixes, split_fixes, output, oracle=True)"
   ]
  },
  {
   "cell_type": "code",
   "execution_count": 91,
   "metadata": {
    "collapsed": false
   },
   "outputs": [
    {
     "name": "stdout",
     "output_type": "stream",
     "text": [
      "found threshold: -1\n"
     ]
    }
   ],
   "source": [
    "BASEDIR = '/home/d/netstatsPAPERFP/IPMLB/'\n",
    "OUTDIR = '/home/d/GPSTUDY/'\n",
    "merge_vis = None\n",
    "split_vis = BASEDIR+'dojo_split_auto95_vis.p'\n",
    "merge_fixes = None\n",
    "split_fixes = BASEDIR+'dojo_split_auto95_fixes.p'\n",
    "output = BASEDIR+'dojo_auto95_output.p'\n",
    "\n",
    "convert_user(OUTDIR+'auto95FP_NEW', merge_vis, split_vis, merge_fixes, split_fixes, output)"
   ]
  },
  {
   "cell_type": "code",
   "execution_count": null,
   "metadata": {
    "collapsed": true
   },
   "outputs": [],
   "source": []
  },
  {
   "cell_type": "code",
   "execution_count": 80,
   "metadata": {
    "collapsed": false
   },
   "outputs": [
    {
     "name": "stdout",
     "output_type": "stream",
     "text": [
      "found threshold: 153\n"
     ]
    },
    {
     "ename": "OSError",
     "evalue": "[Errno 2] No such file or directory",
     "output_type": "error",
     "traceback": [
      "\u001b[1;31m---------------------------------------------------------------------------\u001b[0m",
      "\u001b[1;31mOSError\u001b[0m                                   Traceback (most recent call last)",
      "\u001b[1;32m<ipython-input-80-b1834fc6befd>\u001b[0m in \u001b[0;36m<module>\u001b[1;34m()\u001b[0m\n\u001b[0;32m      8\u001b[0m \u001b[0moutput\u001b[0m \u001b[1;33m=\u001b[0m \u001b[0mBASEDIR\u001b[0m\u001b[1;33m+\u001b[0m\u001b[1;34m'dojo_till_end_output.p'\u001b[0m\u001b[1;33m\u001b[0m\u001b[0m\n\u001b[0;32m      9\u001b[0m \u001b[1;33m\u001b[0m\u001b[0m\n\u001b[1;32m---> 10\u001b[1;33m \u001b[0mconvert_user\u001b[0m\u001b[1;33m(\u001b[0m\u001b[0mOUTDIR\u001b[0m\u001b[1;33m+\u001b[0m\u001b[1;34m'auto95GP_threshold_NEW'\u001b[0m\u001b[1;33m,\u001b[0m \u001b[0mmerge_vis\u001b[0m\u001b[1;33m,\u001b[0m \u001b[0msplit_vis\u001b[0m\u001b[1;33m,\u001b[0m \u001b[0mmerge_fixes\u001b[0m\u001b[1;33m,\u001b[0m \u001b[0msplit_fixes\u001b[0m\u001b[1;33m,\u001b[0m \u001b[0moutput\u001b[0m\u001b[1;33m)\u001b[0m\u001b[1;31m#, stopat=100)\u001b[0m\u001b[1;33m\u001b[0m\u001b[0m\n\u001b[0m",
      "\u001b[1;32m<ipython-input-78-49df8499f615>\u001b[0m in \u001b[0;36mconvert_user\u001b[1;34m(output_folder, merge_vis, split_vis, merge_fixes, split_fixes, output, data, oracle, t, stopat, skipoutput)\u001b[0m\n\u001b[0;32m    127\u001b[0m \u001b[1;33m\u001b[0m\u001b[0m\n\u001b[0;32m    128\u001b[0m     \u001b[1;32mif\u001b[0m \u001b[1;32mnot\u001b[0m \u001b[0mskipoutput\u001b[0m\u001b[1;33m:\u001b[0m\u001b[1;33m\u001b[0m\u001b[0m\n\u001b[1;32m--> 129\u001b[1;33m         \u001b[0mos\u001b[0m\u001b[1;33m.\u001b[0m\u001b[0mrename\u001b[0m\u001b[1;33m(\u001b[0m\u001b[0moutput\u001b[0m\u001b[1;33m,\u001b[0m \u001b[0moutput_folder\u001b[0m\u001b[1;33m+\u001b[0m\u001b[1;34m'/ui_results.p'\u001b[0m\u001b[1;33m)\u001b[0m\u001b[1;33m\u001b[0m\u001b[0m\n\u001b[0m\u001b[0;32m    130\u001b[0m \u001b[1;31m#         with open(output_folder+'/ui_results.p', 'wb') as f:\u001b[0m\u001b[1;33m\u001b[0m\u001b[1;33m\u001b[0m\u001b[0m\n\u001b[0;32m    131\u001b[0m \u001b[1;31m#             pickle.dump(output_seg, f)\u001b[0m\u001b[1;33m\u001b[0m\u001b[1;33m\u001b[0m\u001b[0m\n",
      "\u001b[1;31mOSError\u001b[0m: [Errno 2] No such file or directory"
     ]
    }
   ],
   "source": [
    "\n",
    "BASEDIR = '/home/d/netstatsPAPER/IPMLB/'\n",
    "OUTDIR = '/home/d/GPSTUDY/'\n",
    "merge_vis = BASEDIR+'dojo_merge_till_end_vis.p'\n",
    "split_vis = BASEDIR+'dojo_split_till_end_vis.p'\n",
    "merge_fixes = BASEDIR+'dojo_merge_till_end_fixes.p'\n",
    "split_fixes = BASEDIR+'dojo_split_till_end_fixes.p'\n",
    "output = BASEDIR+'dojo_till_end_output.p'\n",
    "\n",
    "convert_user(OUTDIR+'auto95GP_threshold_NEW', merge_vis, split_vis, merge_fixes, split_fixes, output)#, stopat=100)"
   ]
  },
  {
   "cell_type": "code",
   "execution_count": null,
   "metadata": {
    "collapsed": true
   },
   "outputs": [],
   "source": []
  },
  {
   "cell_type": "code",
   "execution_count": 82,
   "metadata": {
    "collapsed": false
   },
   "outputs": [
    {
     "name": "stdout",
     "output_type": "stream",
     "text": [
      "0.0681852012576\n"
     ]
    }
   ],
   "source": [
    "with open('/home/d/netstatsPAPER/IPMLB/dojo_split_till_end_vis.p', 'rb') as f:\n",
    "    print np.std(pickle.load(f)[153][2])"
   ]
  },
  {
   "cell_type": "code",
   "execution_count": 100,
   "metadata": {
    "collapsed": false
   },
   "outputs": [
    {
     "name": "stdout",
     "output_type": "stream",
     "text": [
      "found threshold: -1\n"
     ]
    }
   ],
   "source": [
    "BASEDIR = '/home/d/netstatsPAPERFP/IPMLB/'\n",
    "OUTDIR = '/home/d/GPSTUDY/'\n",
    "merge_vis = None\n",
    "split_vis = BASEDIR+'dojo_split_auto95_vis.p'\n",
    "merge_fixes = None\n",
    "split_fixes = BASEDIR+'dojo_split_auto95_fixes.p'\n",
    "output = BASEDIR+'dojo_auto95_output.p'\n",
    "\n",
    "convert_user(OUTDIR+'auto95FP_threshold_NEW', merge_vis, split_vis, merge_fixes, split_fixes, output, stopat=100)"
   ]
  },
  {
   "cell_type": "code",
   "execution_count": null,
   "metadata": {
    "collapsed": true
   },
   "outputs": [],
   "source": []
  },
  {
   "cell_type": "code",
   "execution_count": 30,
   "metadata": {
    "collapsed": false
   },
   "outputs": [
    {
     "name": "stdout",
     "output_type": "stream",
     "text": [
      "Done\n"
     ]
    }
   ],
   "source": [
    "BASEDIR = '/home/d/CYLINDERSTUDY/cylinderFP/'\n",
    "OUTDIR = '/home/d/CYLINDERSTUDY/'\n",
    "merge_vis = None\n",
    "split_vis = BASEDIR+'cylinder_split_simuser_vis.p'\n",
    "merge_fixes = None\n",
    "split_fixes = BASEDIR+'cylinder_split_simuser_fixes.p'\n",
    "output = BASEDIR+'cylinder_simuser_output.p'\n",
    "\n",
    "convert_user(OUTDIR+'simuserFP_NEW', merge_vis, split_vis, merge_fixes, split_fixes, output, \n",
    "             oracle=True, data='cylinder')\n",
    "print 'Done'"
   ]
  },
  {
   "cell_type": "code",
   "execution_count": 31,
   "metadata": {
    "collapsed": false
   },
   "outputs": [
    {
     "name": "stdout",
     "output_type": "stream",
     "text": [
      "found threshold: 1051\n",
      "Done\n"
     ]
    }
   ],
   "source": [
    "BASEDIR = '/home/d/CYLINDERSTUDY/cylinderFP/'\n",
    "OUTDIR = '/home/d/CYLINDERSTUDY/'\n",
    "merge_vis = None\n",
    "split_vis = BASEDIR+'cylinder_split_auto95_vis.p'\n",
    "merge_fixes = None\n",
    "split_fixes = BASEDIR+'cylinder_split_auto95_fixes.p'\n",
    "output = BASEDIR+'cylinder_auto95_output.p'\n",
    "\n",
    "convert_user(OUTDIR+'auto95FP_NEW', merge_vis, split_vis, merge_fixes, split_fixes, output, \n",
    "             oracle=False, data='cylinder')\n",
    "print 'Done'"
   ]
  },
  {
   "cell_type": "code",
   "execution_count": 36,
   "metadata": {
    "collapsed": false
   },
   "outputs": [
    {
     "name": "stdout",
     "output_type": "stream",
     "text": [
      "Done\n"
     ]
    }
   ],
   "source": [
    "BASEDIR = '/home/d/CYLINDERSTUDY/cylinderGP/'\n",
    "OUTDIR = '/home/d/CYLINDERSTUDY/'\n",
    "merge_vis = BASEDIR+'cylinder_merge_simuser_vis.p'\n",
    "split_vis = BASEDIR+'cylinder_split_simuser_vis.p'\n",
    "merge_fixes = BASEDIR+'cylinder_merge_simuser_fixes.p'\n",
    "split_fixes = BASEDIR+'cylinder_split_simuser_fixes.p'\n",
    "output = BASEDIR+'cylinder_simuser_output.p'\n",
    "\n",
    "convert_user(OUTDIR+'simuserGP_NEW', merge_vis, split_vis, merge_fixes, split_fixes, output, oracle=True, data='cylinder')\n",
    "print 'Done'"
   ]
  },
  {
   "cell_type": "code",
   "execution_count": 37,
   "metadata": {
    "collapsed": false
   },
   "outputs": [
    {
     "name": "stdout",
     "output_type": "stream",
     "text": [
      "found threshold: 2199\n",
      "Done\n"
     ]
    }
   ],
   "source": [
    "BASEDIR = '/home/d/CYLINDERSTUDY/cylinderGP/'\n",
    "OUTDIR = '/home/d/CYLINDERSTUDY/'\n",
    "merge_vis = BASEDIR+'cylinder_merge_auto00_vis.p'\n",
    "split_vis = BASEDIR+'cylinder_split_auto00_vis.p'\n",
    "merge_fixes = BASEDIR+'cylinder_merge_auto00_fixes.p'\n",
    "split_fixes = BASEDIR+'cylinder_split_auto00_fixes.p'\n",
    "output = BASEDIR+'cylinder_auto00_output.p'\n",
    "\n",
    "convert_user(OUTDIR+'auto00GP_NEW', merge_vis, split_vis, merge_fixes, split_fixes, output, data='cylinder')\n",
    "print 'Done'"
   ]
  },
  {
   "cell_type": "code",
   "execution_count": 38,
   "metadata": {
    "collapsed": true
   },
   "outputs": [],
   "source": [
    "with open('/home/d/CYLINDERSTUDY/cylinderGP/cylinder_merge_auto00_fixes.p', 'rb') as f:\n",
    "    gpcylmerge00 = pickle.load(f)"
   ]
  },
  {
   "cell_type": "code",
   "execution_count": 58,
   "metadata": {
    "collapsed": false
   },
   "outputs": [
    {
     "data": {
      "text/plain": [
       "['yes',\n",
       " 'no',\n",
       " 'yes',\n",
       " 'no',\n",
       " 'no',\n",
       " 'yes',\n",
       " 'no',\n",
       " 'no',\n",
       " 'no',\n",
       " 'no',\n",
       " 'no',\n",
       " 'no',\n",
       " 'no',\n",
       " 'no',\n",
       " 'no',\n",
       " 'yes',\n",
       " 'no',\n",
       " 'no',\n",
       " 'no',\n",
       " 'no',\n",
       " 'no',\n",
       " 'no',\n",
       " 'no',\n",
       " 'no',\n",
       " 'no',\n",
       " 'no',\n",
       " 'no',\n",
       " 'no',\n",
       " 'no',\n",
       " 'yes',\n",
       " 'no',\n",
       " 'no',\n",
       " 'no',\n",
       " 'no',\n",
       " 'no',\n",
       " 'no',\n",
       " 'yes',\n",
       " 'yes',\n",
       " 'no',\n",
       " 'no',\n",
       " 'no',\n",
       " 'yes',\n",
       " 'no',\n",
       " 'yes',\n",
       " 'no',\n",
       " 'no',\n",
       " 'yes',\n",
       " 'yes',\n",
       " 'no',\n",
       " 'yes',\n",
       " 'no',\n",
       " 'no',\n",
       " 'no',\n",
       " 'no',\n",
       " 'yes',\n",
       " 'no',\n",
       " 'no',\n",
       " 'no',\n",
       " 'no',\n",
       " 'no',\n",
       " 'no',\n",
       " 'no',\n",
       " 'yes',\n",
       " 'no',\n",
       " 'no',\n",
       " 'yes',\n",
       " 'no',\n",
       " 'no',\n",
       " 'no',\n",
       " 'yes',\n",
       " 'no',\n",
       " 'yes',\n",
       " 'no',\n",
       " 'no',\n",
       " 'no',\n",
       " 'no',\n",
       " 'no',\n",
       " 'yes',\n",
       " 'no',\n",
       " 'yes',\n",
       " 'no',\n",
       " 'yes',\n",
       " 'yes',\n",
       " 'no',\n",
       " 'no',\n",
       " 'no',\n",
       " 'no',\n",
       " 'no',\n",
       " 'no',\n",
       " 'no',\n",
       " 'no',\n",
       " 'no',\n",
       " 'no',\n",
       " 'no',\n",
       " 'no',\n",
       " 'yes',\n",
       " 'no',\n",
       " 'no',\n",
       " 'no',\n",
       " 'no',\n",
       " 'yes',\n",
       " 'no',\n",
       " 'no',\n",
       " 'no',\n",
       " 'no',\n",
       " 'yes',\n",
       " 'no',\n",
       " 'no',\n",
       " 'no',\n",
       " 'no',\n",
       " 'no',\n",
       " 'no',\n",
       " 'yes',\n",
       " 'yes',\n",
       " 'no',\n",
       " 'no',\n",
       " 'yes',\n",
       " 'no',\n",
       " 'no',\n",
       " 'no',\n",
       " 'no',\n",
       " 'yes',\n",
       " 'no',\n",
       " 'no',\n",
       " 'no',\n",
       " 'no',\n",
       " 'yes',\n",
       " 'no',\n",
       " 'no',\n",
       " 'yes',\n",
       " 'no',\n",
       " 'yes',\n",
       " 'no',\n",
       " 'yes',\n",
       " 'no',\n",
       " 'no',\n",
       " 'no',\n",
       " 'no',\n",
       " 'yes',\n",
       " 'no',\n",
       " 'yes',\n",
       " 'no',\n",
       " 'no',\n",
       " 'yes',\n",
       " 'no',\n",
       " 'no',\n",
       " 'no',\n",
       " 'no',\n",
       " 'no',\n",
       " 'no',\n",
       " 'yes']"
      ]
     },
     "execution_count": 58,
     "metadata": {},
     "output_type": "execute_result"
    }
   ],
   "source": [
    "gpcylmerge00"
   ]
  },
  {
   "cell_type": "code",
   "execution_count": 46,
   "metadata": {
    "collapsed": true
   },
   "outputs": [],
   "source": [
    "with open('/home/d/CYLINDERSTUDY/cylinderGP/cylinder_merge_simuser_fixes.p', 'rb') as f:\n",
    "    gpcylmergesimuser = pickle.load(f)"
   ]
  },
  {
   "cell_type": "code",
   "execution_count": 47,
   "metadata": {
    "collapsed": false
   },
   "outputs": [
    {
     "data": {
      "text/plain": [
       "['Bad',\n",
       " 'Bad',\n",
       " 'Bad',\n",
       " 'Bad',\n",
       " 'Bad',\n",
       " 'Bad',\n",
       " 'Bad',\n",
       " 'Bad',\n",
       " 'Bad',\n",
       " 'Bad',\n",
       " 'Bad',\n",
       " 'Bad',\n",
       " 'Bad',\n",
       " 'Bad',\n",
       " 'Bad',\n",
       " 'Bad',\n",
       " 'Bad',\n",
       " 'Bad',\n",
       " 'Bad',\n",
       " 'Bad',\n",
       " 'Bad',\n",
       " 'Bad',\n",
       " 'Bad',\n",
       " 'Bad',\n",
       " 'Bad',\n",
       " 'Bad',\n",
       " 'Bad',\n",
       " 'Bad',\n",
       " 'Bad',\n",
       " 'Bad',\n",
       " 'Bad',\n",
       " 'Bad',\n",
       " 'Bad',\n",
       " 'Bad',\n",
       " 'Bad',\n",
       " 'Bad',\n",
       " 'Bad',\n",
       " 'Bad',\n",
       " 'Bad',\n",
       " 'Bad',\n",
       " 'Bad',\n",
       " 'Bad',\n",
       " 'Bad',\n",
       " 'Bad',\n",
       " 'Bad',\n",
       " 'Bad',\n",
       " 'Bad',\n",
       " 'Bad',\n",
       " 'Bad',\n",
       " 'Bad',\n",
       " 'Bad',\n",
       " 'Bad',\n",
       " 'Bad',\n",
       " 'Bad',\n",
       " 'Bad',\n",
       " 'Bad',\n",
       " 'Bad',\n",
       " 'Bad',\n",
       " 'Bad',\n",
       " 'Bad',\n",
       " 'Bad',\n",
       " 'Bad',\n",
       " 'Bad',\n",
       " 'Bad',\n",
       " 'Bad',\n",
       " 'Bad',\n",
       " 'Bad',\n",
       " 'Bad',\n",
       " 'Bad',\n",
       " 'Bad',\n",
       " 'Bad',\n",
       " 'Bad',\n",
       " 'Bad',\n",
       " 'Bad',\n",
       " 'Bad',\n",
       " 'Bad',\n",
       " 'Bad',\n",
       " 'Bad',\n",
       " 'Bad',\n",
       " 'Bad',\n",
       " 'Bad',\n",
       " 'Bad',\n",
       " 'Bad',\n",
       " 'Bad',\n",
       " 'Bad',\n",
       " 'Bad',\n",
       " 'Bad',\n",
       " 'Bad',\n",
       " 'Bad',\n",
       " 'Bad',\n",
       " 'Bad',\n",
       " 'Bad',\n",
       " 'Bad',\n",
       " 'Bad',\n",
       " 'Bad',\n",
       " 'Bad',\n",
       " 'Bad',\n",
       " 'Bad',\n",
       " 'Bad',\n",
       " 'Bad',\n",
       " 'Bad',\n",
       " 'Bad',\n",
       " 'Bad',\n",
       " 'Bad',\n",
       " 'Bad',\n",
       " 'Bad',\n",
       " 'Bad',\n",
       " 'Bad',\n",
       " 'Bad',\n",
       " 'Bad',\n",
       " 'Bad',\n",
       " 'Bad',\n",
       " 'Bad',\n",
       " 'Bad',\n",
       " 'Bad',\n",
       " 'Bad',\n",
       " 'Bad',\n",
       " 'Bad',\n",
       " 'Bad',\n",
       " 'Bad',\n",
       " 'Bad',\n",
       " 'Bad',\n",
       " 'Bad',\n",
       " 'Bad',\n",
       " 'Bad',\n",
       " 'Bad',\n",
       " 'Bad',\n",
       " 'Good',\n",
       " 'Bad',\n",
       " 'Good',\n",
       " 'Good',\n",
       " 'Good',\n",
       " 'Good',\n",
       " 'Good',\n",
       " 'Good',\n",
       " 'Bad',\n",
       " 'Good',\n",
       " 'Bad',\n",
       " 'Bad',\n",
       " 'Bad',\n",
       " 'Good',\n",
       " 'Good',\n",
       " 'Bad',\n",
       " 'Good',\n",
       " 'Good',\n",
       " 'Bad',\n",
       " 'Good',\n",
       " 'Good',\n",
       " 'Good',\n",
       " 'Good',\n",
       " 'Good']"
      ]
     },
     "execution_count": 47,
     "metadata": {},
     "output_type": "execute_result"
    }
   ],
   "source": [
    "gpcylmergesimuser"
   ]
  },
  {
   "cell_type": "code",
   "execution_count": 64,
   "metadata": {
    "collapsed": true
   },
   "outputs": [],
   "source": [
    "GT_merge_cylinder = []\n",
    "test_merge_cylinder = []\n",
    "for i in range(len(gpcylmergesimuser)):\n",
    "    if gpcylmergesimuser[i] == 'Good':\n",
    "        GT_merge_cylinder.append(1)\n",
    "    else:\n",
    "        GT_merge_cylinder.append(0)\n",
    "    if gpcylmerge00[i] == 'yes':\n",
    "        test_merge_cylinder.append(1)\n",
    "    else:\n",
    "        test_merge_cylinder.append(0)"
   ]
  },
  {
   "cell_type": "code",
   "execution_count": 71,
   "metadata": {
    "collapsed": false
   },
   "outputs": [
    {
     "name": "stdout",
     "output_type": "stream",
     "text": [
      "6\n",
      "30\n"
     ]
    }
   ],
   "source": [
    "good_c = 0\n",
    "bad_c =0\n",
    "for i in range(len(gpcylmerge00)):\n",
    "    if gpcylmerge00[i] == 'yes' and gpcylmergesimuser[i] == 'Good':\n",
    "        good_c += 1\n",
    "    elif gpcylmerge00[i] == 'yes' and gpcylmergesimuser[i] == 'Bad':\n",
    "        bad_c += 1\n",
    "print good_c\n",
    "print bad_c"
   ]
  },
  {
   "cell_type": "code",
   "execution_count": 63,
   "metadata": {
    "collapsed": true
   },
   "outputs": [],
   "source": [
    "from sklearn.metrics import classification_report, accuracy_score, roc_curve, auc, precision_recall_fscore_support, f1_score, precision_recall_curve, average_precision_score, zero_one_loss\n"
   ]
  },
  {
   "cell_type": "code",
   "execution_count": 65,
   "metadata": {
    "collapsed": false
   },
   "outputs": [
    {
     "name": "stdout",
     "output_type": "stream",
     "text": [
      "             precision    recall  f1-score   support\n",
      "\n",
      "          0       0.90      0.78      0.84       134\n",
      "          1       0.17      0.35      0.23        17\n",
      "\n",
      "avg / total       0.82      0.73      0.77       151\n",
      "\n"
     ]
    }
   ],
   "source": [
    "print classification_report(np.array(GT_merge_cylinder), np.array(test_merge_cylinder))"
   ]
  },
  {
   "cell_type": "code",
   "execution_count": 41,
   "metadata": {
    "collapsed": true
   },
   "outputs": [],
   "source": [
    "with open('/home/d/CYLINDERSTUDY/cylinderGP/cylinder_merge_auto00_vis.p', 'rb') as f:\n",
    "    gpcylmergevis00 = pickle.load(f)"
   ]
  },
  {
   "cell_type": "code",
   "execution_count": 49,
   "metadata": {
    "collapsed": false
   },
   "outputs": [],
   "source": [
    "with open('/home/d/CYLINDERSTUDY/cylinderGP/cylinder_split_auto00_vis.p', 'rb') as f:\n",
    "    gpcylsplitvis00 = pickle.load(f)"
   ]
  },
  {
   "cell_type": "code",
   "execution_count": 55,
   "metadata": {
    "collapsed": false
   },
   "outputs": [],
   "source": [
    "bestautocylviGP = gpcylsplitvis00[2199][2]"
   ]
  },
  {
   "cell_type": "code",
   "execution_count": 56,
   "metadata": {
    "collapsed": false
   },
   "outputs": [
    {
     "data": {
      "text/plain": [
       "0.35240961428372275"
      ]
     },
     "execution_count": 56,
     "metadata": {},
     "output_type": "execute_result"
    }
   ],
   "source": [
    "np.median(bestautocylviGP)"
   ]
  },
  {
   "cell_type": "code",
   "execution_count": 57,
   "metadata": {
    "collapsed": false
   },
   "outputs": [
    {
     "data": {
      "text/plain": [
       "0.087020673649631411"
      ]
     },
     "execution_count": 57,
     "metadata": {},
     "output_type": "execute_result"
    }
   ],
   "source": [
    "np.std(bestautocylviGP)"
   ]
  },
  {
   "cell_type": "code",
   "execution_count": 88,
   "metadata": {
    "collapsed": true
   },
   "outputs": [],
   "source": [
    "with open('/home/d/CYLINDERSTUDY/cylinderGP/cylinder_merge_auto00_vis.p', 'rb') as f:\n",
    "    gpcylmerge00vis = pickle.load(f)"
   ]
  },
  {
   "cell_type": "code",
   "execution_count": 89,
   "metadata": {
    "collapsed": true
   },
   "outputs": [],
   "source": [
    "with open('/home/d/CYLINDERSTUDY/cylinderGP/cylinder_merge_simuser_vis.p', 'rb') as f:\n",
    "    gpcylmergesimuservis = pickle.load(f)"
   ]
  },
  {
   "cell_type": "code",
   "execution_count": 94,
   "metadata": {
    "collapsed": false
   },
   "outputs": [
    {
     "data": {
      "text/plain": [
       "0.37941064949584113"
      ]
     },
     "execution_count": 94,
     "metadata": {},
     "output_type": "execute_result"
    }
   ],
   "source": [
    "np.median(gpcylmerge00vis[0][2])"
   ]
  },
  {
   "cell_type": "code",
   "execution_count": 95,
   "metadata": {
    "collapsed": false
   },
   "outputs": [
    {
     "data": {
      "text/plain": [
       "0.37941064949584113"
      ]
     },
     "execution_count": 95,
     "metadata": {},
     "output_type": "execute_result"
    }
   ],
   "source": [
    "np.median(gpcylmerge00vis[-1][2])"
   ]
  },
  {
   "cell_type": "code",
   "execution_count": 96,
   "metadata": {
    "collapsed": false
   },
   "outputs": [
    {
     "data": {
      "text/plain": [
       "0.38934267264725458"
      ]
     },
     "execution_count": 96,
     "metadata": {},
     "output_type": "execute_result"
    }
   ],
   "source": [
    "np.mean(gpcylmerge00vis[-1][2])"
   ]
  },
  {
   "cell_type": "code",
   "execution_count": 97,
   "metadata": {
    "collapsed": false
   },
   "outputs": [
    {
     "data": {
      "text/plain": [
       "0.38929931104950805"
      ]
     },
     "execution_count": 97,
     "metadata": {},
     "output_type": "execute_result"
    }
   ],
   "source": [
    "np.mean(gpcylmerge00vis[0][2])"
   ]
  },
  {
   "cell_type": "code",
   "execution_count": null,
   "metadata": {
    "collapsed": true
   },
   "outputs": [],
   "source": []
  },
  {
   "cell_type": "code",
   "execution_count": null,
   "metadata": {
    "collapsed": true
   },
   "outputs": [],
   "source": [
    "# CREMI\n"
   ]
  },
  {
   "cell_type": "code",
   "execution_count": null,
   "metadata": {
    "collapsed": true
   },
   "outputs": [],
   "source": []
  },
  {
   "cell_type": "code",
   "execution_count": 4,
   "metadata": {
    "collapsed": false
   },
   "outputs": [
    {
     "name": "stdout",
     "output_type": "stream",
     "text": [
      "Done\n"
     ]
    }
   ],
   "source": [
    "BASEDIR = '/home/d/FP/CREMITEST/'\n",
    "OUTDIR = '/home/d/CREMISTUDY/'\n",
    "merge_vis = None\n",
    "split_vis = BASEDIR+'cylinder_split_simuser_vis.p'\n",
    "merge_fixes = None\n",
    "split_fixes = BASEDIR+'cylinder_split_simuser_fixes.p'\n",
    "output = BASEDIR+'cylinder_simuser_output.p'\n",
    "\n",
    "convert_user(OUTDIR+'simuserFP', merge_vis, split_vis, merge_fixes, split_fixes, output, \n",
    "             oracle=True, data='cremi')\n",
    "print 'Done'"
   ]
  },
  {
   "cell_type": "code",
   "execution_count": 5,
   "metadata": {
    "collapsed": false
   },
   "outputs": [
    {
     "name": "stdout",
     "output_type": "stream",
     "text": [
      "found threshold: -1\n",
      "Done\n"
     ]
    }
   ],
   "source": [
    "BASEDIR = '/home/d/FP/CREMITEST/'\n",
    "OUTDIR = '/home/d/CREMISTUDY/'\n",
    "merge_vis = None\n",
    "split_vis = BASEDIR+'cylinder_split_auto95_vis.p'\n",
    "merge_fixes = None\n",
    "split_fixes = BASEDIR+'cylinder_split_auto95_fixes.p'\n",
    "output = BASEDIR+'cylinder_auto95_output.p'\n",
    "\n",
    "convert_user(OUTDIR+'auto95FP_NEW', merge_vis, split_vis, merge_fixes, split_fixes, output, \n",
    "             oracle=False, data='cremi')\n",
    "print 'Done'"
   ]
  },
  {
   "cell_type": "code",
   "execution_count": 9,
   "metadata": {
    "collapsed": false
   },
   "outputs": [
    {
     "name": "stdout",
     "output_type": "stream",
     "text": [
      "Done\n"
     ]
    }
   ],
   "source": [
    "BASEDIR = '/home/d/GPCREMI/'\n",
    "OUTDIR = '/home/d/CREMISTUDY/'\n",
    "merge_vis = BASEDIR+'cremi_merge_simuser_vis.p'\n",
    "split_vis = BASEDIR+'cylinder_split_simuser_vis.p'\n",
    "merge_fixes = BASEDIR+'cremi_merge_simuser_fixes.p'\n",
    "split_fixes = BASEDIR+'cylinder_split_simuser_fixes.p'\n",
    "output = BASEDIR+'cylinder_simuser_output.p'\n",
    "\n",
    "convert_user(OUTDIR+'simuserGP', merge_vis, split_vis, merge_fixes, split_fixes, output, \n",
    "             oracle=True, data='cremi', skipoutput=True)\n",
    "print 'Done'"
   ]
  },
  {
   "cell_type": "code",
   "execution_count": 12,
   "metadata": {
    "collapsed": false
   },
   "outputs": [
    {
     "name": "stdout",
     "output_type": "stream",
     "text": [
      "found threshold: -1\n",
      "Done\n"
     ]
    }
   ],
   "source": [
    "BASEDIR = '/home/d/GPCREMI/'\n",
    "OUTDIR = '/home/d/CREMISTUDY/'\n",
    "merge_vis = BASEDIR+'cremi_merge_auto95_vis.p'\n",
    "split_vis = BASEDIR+'cremi_split_auto95_vis.p'\n",
    "merge_fixes = BASEDIR+'cremi_merge_auto95_fixes.p'\n",
    "split_fixes = BASEDIR+'cremi_split_auto95_fixes.p'\n",
    "output = BASEDIR+'cremi_auto95_output.p'\n",
    "\n",
    "convert_user(OUTDIR+'auto95GP_NEW', merge_vis, split_vis, merge_fixes, split_fixes, output, \n",
    "             oracle=False, data='cremi', skipoutput=True)\n",
    "print 'Done'"
   ]
  },
  {
   "cell_type": "code",
   "execution_count": null,
   "metadata": {
    "collapsed": true
   },
   "outputs": [],
   "source": []
  }
 ],
 "metadata": {
  "kernelspec": {
   "display_name": "Python 2",
   "language": "python",
   "name": "python2"
  },
  "language_info": {
   "codemirror_mode": {
    "name": "ipython",
    "version": 2
   },
   "file_extension": ".py",
   "mimetype": "text/x-python",
   "name": "python",
   "nbconvert_exporter": "python",
   "pygments_lexer": "ipython2",
   "version": "2.7.6"
  }
 },
 "nbformat": 4,
 "nbformat_minor": 0
}
