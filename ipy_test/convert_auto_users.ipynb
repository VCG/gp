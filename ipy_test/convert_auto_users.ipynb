{
 "cells": [
  {
   "cell_type": "code",
   "execution_count": 1,
   "metadata": {
    "collapsed": false
   },
   "outputs": [
    {
     "name": "stderr",
     "output_type": "stream",
     "text": [
      "/home/d/nolearn/local/lib/python2.7/site-packages/matplotlib/font_manager.py:273: UserWarning: Matplotlib is building the font cache using fc-list. This may take a moment.\n",
      "  warnings.warn('Matplotlib is building the font cache using fc-list. This may take a moment.')\n",
      "Using gpu device 0: GeForce GTX TITAN (CNMeM is disabled, CuDNN 4007)\n",
      "/home/d/nolearn/local/lib/python2.7/site-packages/theano/tensor/signal/downsample.py:6: UserWarning: downsample module has been moved to the theano.tensor.signal.pool module.\n",
      "  \"downsample module has been moved to the theano.tensor.signal.pool module.\")\n"
     ]
    }
   ],
   "source": [
    "%load_ext autoreload\n",
    "%autoreload 2\n",
    "\n",
    "from matplotlib.pyplot import imshow\n",
    "import matplotlib.pyplot as plt\n",
    "\n",
    "%matplotlib inline\n",
    "import numpy as np\n",
    "import sys\n",
    "import os\n",
    "sys.path.append('../')\n",
    "import gp\n",
    "import cPickle as pickle"
   ]
  },
  {
   "cell_type": "code",
   "execution_count": 61,
   "metadata": {
    "collapsed": true
   },
   "outputs": [],
   "source": [
    "BASEDIR = '/home/d/netstatsPAPER/IPMLB/'\n",
    "OUTDIR = '/home/d/GPSTUDY/'\n",
    "merge_vis = BASEDIR+'dojo_merge_simuser_vis.p'\n",
    "split_vis = BASEDIR+'dojo_split_simuser_vis.p'\n",
    "merge_fixes = BASEDIR+'dojo_merge_simuser_fixes.p'\n",
    "split_fixes = BASEDIR+'dojo_split_simuser_fixes.p'\n",
    "output = BASEDIR+'dojo_simuser_output.p'"
   ]
  },
  {
   "cell_type": "code",
   "execution_count": 29,
   "metadata": {
    "collapsed": false
   },
   "outputs": [],
   "source": [
    "def VI(gt, seg):\n",
    "    # total_vi = 0\n",
    "    slice_vi = []    \n",
    "    for i in range(len(gt)):\n",
    "        current_vi = gp.Util.vi(gt[i].astype(np.int64), seg[i].astype(np.int64))\n",
    "        # total_vi += current_vi\n",
    "        slice_vi.append(current_vi)\n",
    "    # total_vi /= 10\n",
    "    return np.mean(slice_vi), np.median(slice_vi), slice_vi\n",
    "\n",
    "def convert_vis(file, stopat=-1):\n",
    "    vis = []\n",
    "    with open(file, 'rb') as f:\n",
    "        vis_ = pickle.load(f)    \n",
    "\n",
    "    for i,vi in enumerate(vis_):\n",
    "        \n",
    "        if stopat != -1 and i>stopat:\n",
    "            break        \n",
    "        \n",
    "        vis.append(vi[2])\n",
    "    return vis\n",
    "\n",
    "def convert_merge_fixes(file):\n",
    "    fixes = []\n",
    "    with open(file, 'rb') as f:\n",
    "        fixes_ = pickle.load(f)\n",
    "    for f in fixes_:\n",
    "        if f=='Good' or f=='yes':\n",
    "            fixes.append(('merge', '1'))\n",
    "        elif f=='Bad' or f=='no':\n",
    "            fixes.append(('merge', 'current'))\n",
    "    return fixes\n",
    "\n",
    "def convert_split_fixes(file, oracle=False, t=.95, stopat=-1):\n",
    "    fixes = []\n",
    "    with open(file, 'rb') as f:\n",
    "        fixes_ = pickle.load(f)\n",
    "\n",
    "    threshold_printed = False\n",
    "    for i,f in enumerate(fixes_):\n",
    "        \n",
    "        if stopat != -1 and i>stopat:\n",
    "            break\n",
    "        \n",
    "        if oracle==True:\n",
    "#             print f[0]\n",
    "            if f[0] == 1:\n",
    "                fixes.append(('split', '1'))\n",
    "            else:\n",
    "                fixes.append(('split', 'current'))\n",
    "        else:\n",
    "            if f[1] < t and threshold_printed==False:\n",
    "                print 'found threshold:', i-1\n",
    "                threshold_printed = True\n",
    "                \n",
    "            fixes.append(('split', '1'))\n",
    "\n",
    "    return fixes\n",
    "\n",
    "def convert_user(output_folder, merge_vis, split_vis, merge_fixes, split_fixes, output, data='dojo', oracle=False, t=.95, stopat=-1, skipoutput=False):\n",
    "\n",
    "    if data=='dojo':\n",
    "        image, prob, gold, rhoana, bb = gp.Legacy.read_dojo_data()\n",
    "    else:\n",
    "        import glob, os\n",
    "        import mahotas as mh\n",
    "        golds = []\n",
    "        rhoanas = []\n",
    "        for z in range(250,300):\n",
    "            path = '/home/d/data/cylinderNEW/'\n",
    "            gold = sorted(glob.glob(os.path.join(path, 'gold', '*'+str(z)+'.png')))\n",
    "            rhoana = sorted(glob.glob(os.path.join(path, 'rhoana', '*'+str(z)+'.png')))\n",
    "            mask = sorted(glob.glob(os.path.join(path, 'mask', '*'+str(z)+'.png')))   \n",
    "            mask = mh.imread(mask[0]).astype(np.bool)\n",
    "            gold = mh.imread(gold[0])\n",
    "            rhoana = mh.imread(rhoana[0])\n",
    "\n",
    "\n",
    "            #convert ids from rgb to single channel\n",
    "            rhoana_single = np.zeros((rhoana.shape[0], rhoana.shape[1]), dtype=np.uint64)\n",
    "            rhoana_single[:, :] = rhoana[:,:,0]*256*256 + rhoana[:,:,1]*256 + rhoana[:,:,2]\n",
    "            gold_single = np.zeros((gold.shape[0], gold.shape[1]), dtype=np.uint64)\n",
    "            gold_single[:, :] = gold[:,:,0]*256*256 + gold[:,:,1]*256 + gold[:,:,2]\n",
    "\n",
    "            # relabel the segmentations\n",
    "            gold_single = gp.Util.relabel(gold_single)\n",
    "            rhoana_single = gp.Util.relabel(rhoana_single)\n",
    "\n",
    "\n",
    "            #mask the rhoana output\n",
    "            rhoana_single[mask==0] = 0\n",
    "\n",
    "            golds.append(gold_single)\n",
    "            rhoanas.append(rhoana_single)\n",
    "        gold = golds\n",
    "        rhoana = rhoanas\n",
    "    init_mean_vi = VI(gold, rhoana)[0]\n",
    "    init_median_vi = VI(gold, rhoana)[1]\n",
    "    init_vi_per_slice = VI(gold, rhoana)[2]    \n",
    "    \n",
    "    if merge_vis:\n",
    "        c_merge_vis = convert_vis(merge_vis)\n",
    "    else:\n",
    "        c_merge_vis = []\n",
    "    c_split_vis = convert_vis(split_vis, stopat=stopat)\n",
    "    if merge_fixes:\n",
    "        c_merge_fixes = convert_merge_fixes(merge_fixes)\n",
    "    else:\n",
    "        c_merge_fixes = []\n",
    "    c_split_fixes = convert_split_fixes(split_fixes, oracle=oracle, t=t, stopat=stopat)\n",
    "    \n",
    "#     if not skipoutput:\n",
    "#         with open(output, 'rb') as f:\n",
    "#             output_seg = pickle.load(f)\n",
    "    \n",
    "    out_vis = [init_vi_per_slice]\n",
    "    out_vis += c_merge_vis\n",
    "    out_vis += c_split_vis\n",
    "    \n",
    "    out_fixes = []\n",
    "    out_fixes += c_merge_fixes\n",
    "    out_fixes += c_split_fixes\n",
    "    \n",
    "    if not os.path.exists(output_folder):\n",
    "        os.makedirs(output_folder)\n",
    "\n",
    "    if not skipoutput:        \n",
    "        os.rename(output, output_folder+'/ui_results.p')\n",
    "#         with open(output_folder+'/ui_results.p', 'wb') as f:\n",
    "#             pickle.dump(output_seg, f)\n",
    "        \n",
    "    with open(output_folder+'/times.p', 'wb') as f:\n",
    "        # always 0\n",
    "        pickle.dump([0], f)\n",
    "        \n",
    "    with open(output_folder+'/corrections.p', 'wb') as f:\n",
    "        pickle.dump(out_fixes, f)\n",
    "        \n",
    "    with open(output_folder+'/correction_vis.p', 'wb') as f:\n",
    "        pickle.dump(out_vis, f)\n",
    "    "
   ]
  },
  {
   "cell_type": "code",
   "execution_count": 104,
   "metadata": {
    "collapsed": false
   },
   "outputs": [],
   "source": [
    "BASEDIR = '/home/d/netstatsPAPER/IPMLB/'\n",
    "OUTDIR = '/home/d/GPSTUDY/'\n",
    "merge_vis = BASEDIR+'dojo_merge_simuser_vis.p'\n",
    "split_vis = BASEDIR+'dojo_split_simuser_vis.p'\n",
    "merge_fixes = BASEDIR+'dojo_merge_simuser_fixes.p'\n",
    "split_fixes = BASEDIR+'dojo_split_simuser_fixes.p'\n",
    "output = BASEDIR+'dojo_simuser_output.p'\n",
    "\n",
    "convert_user(OUTDIR+'simuserGP_NEW', merge_vis, split_vis, merge_fixes, split_fixes, output, oracle=True)"
   ]
  },
  {
   "cell_type": "code",
   "execution_count": 105,
   "metadata": {
    "collapsed": false
   },
   "outputs": [
    {
     "name": "stdout",
     "output_type": "stream",
     "text": [
      "found threshold: 153\n"
     ]
    }
   ],
   "source": [
    "BASEDIR = '/home/d/netstatsPAPER/IPMLB/'\n",
    "OUTDIR = '/home/d/GPSTUDY/'\n",
    "merge_vis = BASEDIR+'dojo_merge_till_end_vis.p'\n",
    "split_vis = BASEDIR+'dojo_split_till_end_vis.p'\n",
    "merge_fixes = BASEDIR+'dojo_merge_till_end_fixes.p'\n",
    "split_fixes = BASEDIR+'dojo_split_till_end_fixes.p'\n",
    "output = BASEDIR+'dojo_till_end_output.p'\n",
    "\n",
    "convert_user(OUTDIR+'auto95GP_NEW', merge_vis, split_vis, merge_fixes, split_fixes, output)"
   ]
  },
  {
   "cell_type": "code",
   "execution_count": 87,
   "metadata": {
    "collapsed": false
   },
   "outputs": [],
   "source": [
    "BASEDIR = '/home/d/netstatsPAPERFP/IPMLB/'\n",
    "OUTDIR = '/home/d/GPSTUDY/'\n",
    "merge_vis = None\n",
    "split_vis = BASEDIR+'dojo_split_simuser_vis.p'\n",
    "merge_fixes = None\n",
    "split_fixes = BASEDIR+'dojo_split_simuser_fixes.p'\n",
    "output = BASEDIR+'dojo_simuser_output.p'\n",
    "\n",
    "convert_user(OUTDIR+'simuserFP_NEW', merge_vis, split_vis, merge_fixes, split_fixes, output, oracle=True)"
   ]
  },
  {
   "cell_type": "code",
   "execution_count": 91,
   "metadata": {
    "collapsed": false
   },
   "outputs": [
    {
     "name": "stdout",
     "output_type": "stream",
     "text": [
      "found threshold: -1\n"
     ]
    }
   ],
   "source": [
    "BASEDIR = '/home/d/netstatsPAPERFP/IPMLB/'\n",
    "OUTDIR = '/home/d/GPSTUDY/'\n",
    "merge_vis = None\n",
    "split_vis = BASEDIR+'dojo_split_auto95_vis.p'\n",
    "merge_fixes = None\n",
    "split_fixes = BASEDIR+'dojo_split_auto95_fixes.p'\n",
    "output = BASEDIR+'dojo_auto95_output.p'\n",
    "\n",
    "convert_user(OUTDIR+'auto95FP_NEW', merge_vis, split_vis, merge_fixes, split_fixes, output)"
   ]
  },
  {
   "cell_type": "code",
   "execution_count": null,
   "metadata": {
    "collapsed": true
   },
   "outputs": [],
   "source": []
  },
  {
   "cell_type": "code",
   "execution_count": 103,
   "metadata": {
    "collapsed": false
   },
   "outputs": [
    {
     "name": "stdout",
     "output_type": "stream",
     "text": [
      "found threshold: 75\n"
     ]
    }
   ],
   "source": [
    "BASEDIR = '/home/d/netstatsPAPER/IPMLB/'\n",
    "OUTDIR = '/home/d/GPSTUDY/'\n",
    "merge_vis = BASEDIR+'dojo_merge_till_end_vis.p'\n",
    "split_vis = BASEDIR+'dojo_split_till_end_vis.p'\n",
    "merge_fixes = BASEDIR+'dojo_merge_till_end_fixes.p'\n",
    "split_fixes = BASEDIR+'dojo_split_till_end_fixes.p'\n",
    "output = BASEDIR+'dojo_till_end_output.p'\n",
    "\n",
    "convert_user(OUTDIR+'auto95GP_threshold_NEW', merge_vis, split_vis, merge_fixes, split_fixes, output, stopat=100)"
   ]
  },
  {
   "cell_type": "code",
   "execution_count": 100,
   "metadata": {
    "collapsed": false
   },
   "outputs": [
    {
     "name": "stdout",
     "output_type": "stream",
     "text": [
      "found threshold: -1\n"
     ]
    }
   ],
   "source": [
    "BASEDIR = '/home/d/netstatsPAPERFP/IPMLB/'\n",
    "OUTDIR = '/home/d/GPSTUDY/'\n",
    "merge_vis = None\n",
    "split_vis = BASEDIR+'dojo_split_auto95_vis.p'\n",
    "merge_fixes = None\n",
    "split_fixes = BASEDIR+'dojo_split_auto95_fixes.p'\n",
    "output = BASEDIR+'dojo_auto95_output.p'\n",
    "\n",
    "convert_user(OUTDIR+'auto95FP_threshold_NEW', merge_vis, split_vis, merge_fixes, split_fixes, output, stopat=100)"
   ]
  },
  {
   "cell_type": "code",
   "execution_count": null,
   "metadata": {
    "collapsed": true
   },
   "outputs": [],
   "source": []
  },
  {
   "cell_type": "code",
   "execution_count": 30,
   "metadata": {
    "collapsed": false
   },
   "outputs": [
    {
     "name": "stdout",
     "output_type": "stream",
     "text": [
      "Done\n"
     ]
    }
   ],
   "source": [
    "BASEDIR = '/home/d/CYLINDERSTUDY/cylinderFP/'\n",
    "OUTDIR = '/home/d/CYLINDERSTUDY/'\n",
    "merge_vis = None\n",
    "split_vis = BASEDIR+'cylinder_split_simuser_vis.p'\n",
    "merge_fixes = None\n",
    "split_fixes = BASEDIR+'cylinder_split_simuser_fixes.p'\n",
    "output = BASEDIR+'cylinder_simuser_output.p'\n",
    "\n",
    "convert_user(OUTDIR+'simuserFP_NEW', merge_vis, split_vis, merge_fixes, split_fixes, output, \n",
    "             oracle=True, data='cylinder')\n",
    "print 'Done'"
   ]
  },
  {
   "cell_type": "code",
   "execution_count": 31,
   "metadata": {
    "collapsed": false
   },
   "outputs": [
    {
     "name": "stdout",
     "output_type": "stream",
     "text": [
      "found threshold: 1051\n",
      "Done\n"
     ]
    }
   ],
   "source": [
    "BASEDIR = '/home/d/CYLINDERSTUDY/cylinderFP/'\n",
    "OUTDIR = '/home/d/CYLINDERSTUDY/'\n",
    "merge_vis = None\n",
    "split_vis = BASEDIR+'cylinder_split_auto95_vis.p'\n",
    "merge_fixes = None\n",
    "split_fixes = BASEDIR+'cylinder_split_auto95_fixes.p'\n",
    "output = BASEDIR+'cylinder_auto95_output.p'\n",
    "\n",
    "convert_user(OUTDIR+'auto95FP_NEW', merge_vis, split_vis, merge_fixes, split_fixes, output, \n",
    "             oracle=False, data='cylinder')\n",
    "print 'Done'"
   ]
  },
  {
   "cell_type": "code",
   "execution_count": 3,
   "metadata": {
    "collapsed": false
   },
   "outputs": [
    {
     "name": "stdout",
     "output_type": "stream",
     "text": [
      "Done\n"
     ]
    }
   ],
   "source": [
    "BASEDIR = '/home/d/CYLINDERSTUDY/cylinderGP/'\n",
    "OUTDIR = '/home/d/CYLINDERSTUDY/'\n",
    "merge_vis = BASEDIR+'cylinder_merge_simuser_vis.p'\n",
    "split_vis = BASEDIR+'cylinder_split_simuser_vis.p'\n",
    "merge_fixes = BASEDIR+'cylinder_merge_simuser_fixes.p'\n",
    "split_fixes = BASEDIR+'cylinder_split_simuser_fixes.p'\n",
    "output = BASEDIR+'cylinder_simuser_output.p'\n",
    "\n",
    "convert_user(OUTDIR+'simuserGP_NEW', merge_vis, split_vis, merge_fixes, split_fixes, output, oracle=True)\n",
    "print 'Done'"
   ]
  },
  {
   "cell_type": "code",
   "execution_count": 4,
   "metadata": {
    "collapsed": false
   },
   "outputs": [
    {
     "name": "stdout",
     "output_type": "stream",
     "text": [
      "found threshold: 2160\n",
      "Done\n"
     ]
    }
   ],
   "source": [
    "BASEDIR = '/home/d/CYLINDERSTUDY/cylinderGP/'\n",
    "OUTDIR = '/home/d/CYLINDERSTUDY/'\n",
    "merge_vis = BASEDIR+'cylinder_merge_auto00_vis.p'\n",
    "split_vis = BASEDIR+'cylinder_split_auto00_vis.p'\n",
    "merge_fixes = BASEDIR+'cylinder_merge_auto00_fixes.p'\n",
    "split_fixes = BASEDIR+'cylinder_split_auto00_fixes.p'\n",
    "output = BASEDIR+'cylinder_auto00_output.p'\n",
    "\n",
    "convert_user(OUTDIR+'auto00GP_NEW', merge_vis, split_vis, merge_fixes, split_fixes, output)\n",
    "print 'Done'"
   ]
  },
  {
   "cell_type": "code",
   "execution_count": null,
   "metadata": {
    "collapsed": true
   },
   "outputs": [],
   "source": []
  }
 ],
 "metadata": {
  "kernelspec": {
   "display_name": "Python 2",
   "language": "python",
   "name": "python2"
  },
  "language_info": {
   "codemirror_mode": {
    "name": "ipython",
    "version": 2
   },
   "file_extension": ".py",
   "mimetype": "text/x-python",
   "name": "python",
   "nbconvert_exporter": "python",
   "pygments_lexer": "ipython2",
   "version": "2.7.6"
  }
 },
 "nbformat": 4,
 "nbformat_minor": 0
}
