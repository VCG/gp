{
 "cells": [
  {
   "cell_type": "code",
   "execution_count": 5,
   "metadata": {
    "collapsed": false
   },
   "outputs": [
    {
     "name": "stderr",
     "output_type": "stream",
     "text": [
      "/home/d/nolearn/local/lib/python2.7/site-packages/matplotlib/font_manager.py:273: UserWarning: Matplotlib is building the font cache using fc-list. This may take a moment.\n",
      "  warnings.warn('Matplotlib is building the font cache using fc-list. This may take a moment.')\n"
     ]
    },
    {
     "name": "stdout",
     "output_type": "stream",
     "text": [
      "\n"
     ]
    },
    {
     "name": "stderr",
     "output_type": "stream",
     "text": [
      "Using gpu device 0: GeForce GTX TITAN (CNMeM is disabled, CuDNN 4007)\n",
      "/home/d/nolearn/local/lib/python2.7/site-packages/theano/tensor/signal/downsample.py:6: UserWarning: downsample module has been moved to the theano.tensor.signal.pool module.\n",
      "  \"downsample module has been moved to the theano.tensor.signal.pool module.\")\n"
     ]
    }
   ],
   "source": [
    "\n",
    "from matplotlib.pyplot import imshow\n",
    "import matplotlib.pyplot as plt\n",
    "\n",
    "%matplotlib inline\n",
    "import numpy as np\n",
    "import sys\n",
    "sys.path.append('../')\n",
    "import gp"
   ]
  },
  {
   "cell_type": "code",
   "execution_count": 6,
   "metadata": {
    "collapsed": true
   },
   "outputs": [],
   "source": [
    "import cPickle as pickle"
   ]
  },
  {
   "cell_type": "code",
   "execution_count": 7,
   "metadata": {
    "collapsed": false
   },
   "outputs": [
    {
     "name": "stdout",
     "output_type": "stream",
     "text": [
      "a\n"
     ]
    }
   ],
   "source": [
    "image, prob, gold, rhoana, bb = gp.Legacy.read_dojo_data()"
   ]
  },
  {
   "cell_type": "code",
   "execution_count": 8,
   "metadata": {
    "collapsed": true
   },
   "outputs": [],
   "source": [
    "def VI(gt, seg):\n",
    "  # total_vi = 0\n",
    "  slice_vi = []    \n",
    "  for i in range(10):\n",
    "      current_vi = gp.Util.vi(gt[i].astype(np.int64), seg[i].astype(np.int64))\n",
    "      # total_vi += current_vi\n",
    "      slice_vi.append(current_vi)\n",
    "  # total_vi /= 10\n",
    "  return np.mean(slice_vi), np.median(slice_vi), slice_vi\n"
   ]
  },
  {
   "cell_type": "code",
   "execution_count": 9,
   "metadata": {
    "collapsed": false
   },
   "outputs": [],
   "source": [
    "init_mean_vi = VI(gold, rhoana)[0]\n",
    "init_median_vi = VI(gold, rhoana)[1]\n",
    "init_vi_per_slice = VI(gold, rhoana)[2]"
   ]
  },
  {
   "cell_type": "code",
   "execution_count": 198,
   "metadata": {
    "collapsed": true
   },
   "outputs": [],
   "source": [
    "FP_USERS = ['/home/d/GPSTUDY/S32', '/home/d/GPSTUDY/S38', '/home/d/GPSTUDY/S6','/home/d/GPSTUDY/S24', '/home/d/GPSTUDY/S31',\n",
    "            '/home/d/GPSTUDY/S45','/home/d/GPSTUDY/E2']\n",
    "GP_USERS = [ '/home/d/GPSTUDY/S25', '/home/d/GPSTUDY/S28', '/home/d/GPSTUDY/S36', '/home/d/GPSTUDY/S35', '/home/d/GPSTUDY/E1']"
   ]
  },
  {
   "cell_type": "code",
   "execution_count": 199,
   "metadata": {
    "collapsed": true
   },
   "outputs": [],
   "source": [
    "newrhoana = 'ui_results.p'\n",
    "times = 'times.p'\n",
    "corrections = 'corrections.p'\n",
    "correction_vis = 'correction_vis.p'"
   ]
  },
  {
   "cell_type": "code",
   "execution_count": 201,
   "metadata": {
    "collapsed": false
   },
   "outputs": [],
   "source": [
    "fp_outputs = []\n",
    "fp_times = []\n",
    "fp_corrections = []\n",
    "fp_vis =[]\n",
    "\n",
    "for i,f in enumerate(FP_USERS):\n",
    "    with open(FP_USERS[i]+'/'+newrhoana, 'rb') as f:\n",
    "        fp_newrhoana = pickle.load(f)\n",
    "        fp_outputs.append(fp_newrhoana)\n",
    "    with open(FP_USERS[i]+'/'+times, 'rb') as f:\n",
    "        fp_time = pickle.load(f)\n",
    "        fp_time = [int(v) for v in fp_time]\n",
    "        fp_times.append(fp_time)\n",
    "    with open(FP_USERS[i]+'/'+corrections, 'rb') as f:\n",
    "        fp_correction = pickle.load(f)       \n",
    "        fp_corrections.append(fp_correction)\n",
    "    with open(FP_USERS[i]+'/'+correction_vis, 'rb') as f:\n",
    "        fp_correction_vis = pickle.load(f) \n",
    "        fp_vis.append(fp_correction_vis)"
   ]
  },
  {
   "cell_type": "code",
   "execution_count": null,
   "metadata": {
    "collapsed": true
   },
   "outputs": [],
   "source": []
  },
  {
   "cell_type": "code",
   "execution_count": 202,
   "metadata": {
    "collapsed": false
   },
   "outputs": [
    {
     "name": "stdout",
     "output_type": "stream",
     "text": [
      "Avg. time 3914.27360471\n"
     ]
    }
   ],
   "source": [
    "fp_times_mean = []\n",
    "for t in fp_times:\n",
    "    fp_times_mean.append(np.mean(t))\n",
    "print 'Avg. time',np.mean(fp_times_mean)"
   ]
  },
  {
   "cell_type": "code",
   "execution_count": 203,
   "metadata": {
    "collapsed": false
   },
   "outputs": [
    {
     "name": "stdout",
     "output_type": "stream",
     "text": [
      "Avg. corrections 488.0\n",
      "Avg. accepted 45.8571428571\n"
     ]
    }
   ],
   "source": [
    "fp_corrections_mean = []\n",
    "fp_accepted_corrections = []\n",
    "\n",
    "for c in fp_corrections:\n",
    "    fp_corrections_mean.append(len(c))\n",
    "    a_counter = 0\n",
    "    for d in c:\n",
    "        if d[1] == '1':\n",
    "            # user accepted\n",
    "            a_counter +=1\n",
    "    fp_accepted_corrections.append(a_counter)\n",
    "    \n",
    "print 'Avg. corrections',np.mean(fp_corrections_mean)\n",
    "print 'Avg. accepted', np.mean(fp_accepted_corrections)"
   ]
  },
  {
   "cell_type": "code",
   "execution_count": 204,
   "metadata": {
    "collapsed": true
   },
   "outputs": [],
   "source": [
    "fp_vi_per_c_per_user = []\n",
    "for v in fp_vis:\n",
    "    vis = [init_median_vi]\n",
    "    for c in v:\n",
    "        vi_per_c = np.median(c)\n",
    "        vis.append(vi_per_c)\n",
    "    fp_vi_per_c_per_user.append(vis)"
   ]
  },
  {
   "cell_type": "code",
   "execution_count": 205,
   "metadata": {
    "collapsed": false
   },
   "outputs": [
    {
     "data": {
      "image/png": "[encoded data removed]",
      "text/plain": [
       "<matplotlib.figure.Figure at 0x7f112ce41190>"
      ]
     },
     "metadata": {},
     "output_type": "display_data"
    }
   ],
   "source": [
    "for u in fp_vi_per_c_per_user:\n",
    "    plt.plot(u)"
   ]
  },
  {
   "cell_type": "code",
   "execution_count": 145,
   "metadata": {
    "collapsed": false
   },
   "outputs": [],
   "source": [
    "fp_vi_per_slice_per_user = []\n",
    "fp_vi_per_slice = [0,0,0,0,0,0,0,0,0,0]\n",
    "for o in fp_outputs:\n",
    "    fp_vi_per_slice_per_user.append(VI(gold, o)[2])\n",
    "for u in fp_vi_per_slice_per_user:\n",
    "    for z,v in enumerate(u):\n",
    "        fp_vi_per_slice[z] += v\n",
    "for z in range(10):\n",
    "    fp_vi_per_slice[z] /= len(fp_outputs)"
   ]
  },
  {
   "cell_type": "code",
   "execution_count": 179,
   "metadata": {
    "collapsed": true
   },
   "outputs": [],
   "source": []
  },
  {
   "cell_type": "code",
   "execution_count": null,
   "metadata": {
    "collapsed": true
   },
   "outputs": [],
   "source": []
  },
  {
   "cell_type": "code",
   "execution_count": null,
   "metadata": {
    "collapsed": true
   },
   "outputs": [],
   "source": []
  },
  {
   "cell_type": "code",
   "execution_count": null,
   "metadata": {
    "collapsed": true
   },
   "outputs": [],
   "source": []
  },
  {
   "cell_type": "code",
   "execution_count": 146,
   "metadata": {
    "collapsed": false
   },
   "outputs": [],
   "source": [
    "gp_outputs = []\n",
    "gp_times = []\n",
    "gp_corrections = []\n",
    "gp_vis =[]\n",
    "\n",
    "for i,f in enumerate(GP_USERS):\n",
    "    with open(GP_USERS[i]+'/'+newrhoana, 'rb') as f:\n",
    "        gp_newrhoana = pickle.load(f)\n",
    "        gp_outputs.append(gp_newrhoana)\n",
    "    with open(GP_USERS[i]+'/'+times, 'rb') as f:\n",
    "        gp_time = pickle.load(f)\n",
    "        gp_time = [int(v) for v in gp_time]\n",
    "        gp_times.append(gp_time)\n",
    "    with open(GP_USERS[i]+'/'+corrections, 'rb') as f:\n",
    "        gp_correction = pickle.load(f)       \n",
    "        gp_corrections.append(gp_correction)\n",
    "    with open(GP_USERS[i]+'/'+correction_vis, 'rb') as f:\n",
    "        gp_correction_vis = pickle.load(f) \n",
    "        gp_vis.append(gp_correction_vis)"
   ]
  },
  {
   "cell_type": "code",
   "execution_count": 147,
   "metadata": {
    "collapsed": false
   },
   "outputs": [
    {
     "name": "stdout",
     "output_type": "stream",
     "text": [
      "Avg. time 5848.61407508\n"
     ]
    }
   ],
   "source": [
    "gp_times_mean = []\n",
    "for t in gp_times:\n",
    "    gp_times_mean.append(np.mean(t))\n",
    "print 'Avg. time',np.mean(gp_times_mean)"
   ]
  },
  {
   "cell_type": "code",
   "execution_count": 148,
   "metadata": {
    "collapsed": false
   },
   "outputs": [
    {
     "name": "stdout",
     "output_type": "stream",
     "text": [
      "Avg. corrections 383.2\n",
      "Avg. accepted 107.2\n"
     ]
    }
   ],
   "source": [
    "gp_corrections_mean = []\n",
    "gp_accepted_corrections = []\n",
    "for c in gp_corrections:\n",
    "    gp_corrections_mean.append(len(c))\n",
    "    a_counter = 0\n",
    "    for d in c:\n",
    "        if d[1] == '1':\n",
    "            # user accepted suggested correction\n",
    "            a_counter += 1\n",
    "            \n",
    "    gp_accepted_corrections.append(a_counter)\n",
    "print 'Avg. corrections',np.mean(gp_corrections_mean)\n",
    "print 'Avg. accepted', np.mean(gp_accepted_corrections)"
   ]
  },
  {
   "cell_type": "code",
   "execution_count": 149,
   "metadata": {
    "collapsed": true
   },
   "outputs": [],
   "source": [
    "vi_per_c_per_user = []\n",
    "for v in gp_vis:\n",
    "    vis = [init_median_vi]\n",
    "    for c in v:\n",
    "        vi_per_c = np.median(c)\n",
    "        vis.append(vi_per_c)\n",
    "    vi_per_c_per_user.append(vis)"
   ]
  },
  {
   "cell_type": "code",
   "execution_count": 150,
   "metadata": {
    "collapsed": false
   },
   "outputs": [
    {
     "data": {
      "image/png": "[encoded data removed]",
      "text/plain": [
       "<matplotlib.figure.Figure at 0x7f112ec3b190>"
      ]
     },
     "metadata": {},
     "output_type": "display_data"
    }
   ],
   "source": [
    "for u in vi_per_c_per_user:\n",
    "    plt.plot(u)"
   ]
  },
  {
   "cell_type": "code",
   "execution_count": 151,
   "metadata": {
    "collapsed": false
   },
   "outputs": [],
   "source": [
    "gp_vi_per_slice_per_user = []\n",
    "gp_vi_per_slice = [0,0,0,0,0,0,0,0,0,0]\n",
    "for o in gp_outputs:\n",
    "    gp_vi_per_slice_per_user.append(VI(gold, o)[2])\n",
    "for u in gp_vi_per_slice_per_user:\n",
    "    for z,v in enumerate(u):\n",
    "        gp_vi_per_slice[z] += v\n",
    "for z in range(10):\n",
    "    gp_vi_per_slice[z] /= len(gp_outputs)        "
   ]
  },
  {
   "cell_type": "code",
   "execution_count": 152,
   "metadata": {
    "collapsed": false
   },
   "outputs": [
    {
     "data": {
      "text/plain": [
       "[0.3764069914706457,\n",
       " 0.3888242519860059,\n",
       " 0.378286409477662,\n",
       " 0.3847789323702974,\n",
       " 0.4461399250634255,\n",
       " 0.3979326894709301,\n",
       " 0.49051390708537,\n",
       " 0.471345688225853,\n",
       " 0.46404264888045466,\n",
       " 0.4592646552354367]"
      ]
     },
     "execution_count": 152,
     "metadata": {},
     "output_type": "execute_result"
    }
   ],
   "source": [
    "gp_vi_per_slice"
   ]
  },
  {
   "cell_type": "code",
   "execution_count": 153,
   "metadata": {
    "collapsed": false
   },
   "outputs": [
    {
     "data": {
      "image/png": "[encoded data removed]",
      "text/plain": [
       "<matplotlib.figure.Figure at 0x7f112e6e56d0>"
      ]
     },
     "metadata": {},
     "output_type": "display_data"
    }
   ],
   "source": [
    "plt.subplots()\n",
    "objects = ['Init', 'FP', 'GP']\n",
    "data = [init_vi_per_slice, fp_vi_per_slice, gp_vi_per_slice]\n",
    "y_pos = range(1,len(objects)+1)\n",
    "\n",
    "bp = plt.boxplot(data)\n",
    "plt.xticks(y_pos, objects)\n",
    "plt.show()"
   ]
  },
  {
   "cell_type": "code",
   "execution_count": 154,
   "metadata": {
    "collapsed": false
   },
   "outputs": [
    {
     "data": {
      "text/plain": [
       "[0.41876088664996686,\n",
       " 0.40807333277025065,\n",
       " 0.40321163956848266,\n",
       " 0.40267906818624627,\n",
       " 0.43269900894519225,\n",
       " 0.44795269290857637,\n",
       " 0.5533524925501997,\n",
       " 0.5971238665209242,\n",
       " 0.6421598326792379,\n",
       " 0.5256768819386304]"
      ]
     },
     "execution_count": 154,
     "metadata": {},
     "output_type": "execute_result"
    }
   ],
   "source": [
    "fp_vi_per_slice"
   ]
  },
  {
   "cell_type": "code",
   "execution_count": 155,
   "metadata": {
    "collapsed": false
   },
   "outputs": [
    {
     "data": {
      "text/plain": [
       "0.42203630726717778"
      ]
     },
     "execution_count": 155,
     "metadata": {},
     "output_type": "execute_result"
    }
   ],
   "source": [
    "np.median(gp_vi_per_slice)"
   ]
  },
  {
   "cell_type": "code",
   "execution_count": 156,
   "metadata": {
    "collapsed": false
   },
   "outputs": [
    {
     "data": {
      "text/plain": [
       "0.44032585092688431"
      ]
     },
     "execution_count": 156,
     "metadata": {},
     "output_type": "execute_result"
    }
   ],
   "source": [
    "np.median(fp_vi_per_slice)"
   ]
  },
  {
   "cell_type": "code",
   "execution_count": 157,
   "metadata": {
    "collapsed": false
   },
   "outputs": [
    {
     "data": {
      "text/plain": [
       "0.4763612343909136"
      ]
     },
     "execution_count": 157,
     "metadata": {},
     "output_type": "execute_result"
    }
   ],
   "source": [
    "init_median_vi"
   ]
  },
  {
   "cell_type": "code",
   "execution_count": null,
   "metadata": {
    "collapsed": true
   },
   "outputs": [],
   "source": []
  },
  {
   "cell_type": "code",
   "execution_count": 206,
   "metadata": {
    "collapsed": true
   },
   "outputs": [],
   "source": [
    "#\n",
    "#"
   ]
  },
  {
   "cell_type": "code",
   "execution_count": null,
   "metadata": {
    "collapsed": true
   },
   "outputs": [],
   "source": [
    "#\n",
    "with open('/home/d/dojo_xp/data/bigM_fp.p', 'rb') as f:\n",
    "    bigM = pickle.load(f)\n",
    "\n",
    "corrections = []\n",
    "rhoana_copy = np.array(rhoana)\n",
    "for c in fp_corrections[3]:\n",
    "    bigM_max = -1\n",
    "    bigM_max_index = None\n",
    "    bigM_max_z = -1\n",
    "    for z,m in enumerate(bigM):\n",
    "        if m.max() > bigM_max:\n",
    "            bigM_max = m.max()\n",
    "            bigM_max_indices = np.where(m == bigM_max)\n",
    "            bigM_max_index = [bigM_max_indices[0][0], bigM_max_indices[1][0]]\n",
    "            bigM_max_z = z\n",
    "\n",
    "            \n",
    "    m = bigM[bigM_max_z]\n",
    "    new_m = np.array(m)\n",
    "\n",
    "    label1 = bigM_max_index[0]\n",
    "    label2 = bigM_max_index[1]\n",
    "    \n",
    "    c_rhoana = rhoana_copy[bigM_max_z].copy()\n",
    "\n",
    "    if c[1] == '1':\n",
    "        \n",
    "#         print 'merging', label1, label2\n",
    "        \n",
    "        corrections.append([bigM_max_z, label1, label2, gp.Util.view_labels(c_rhoana, [label1, label2], return_it=True)])\n",
    "        \n",
    "        c_rhoana[c_rhoana == label2] = label1\n",
    "\n",
    "        # grab old neighbors of label 2 which are now neighbors of label1\n",
    "        label2_neighbors = gp.Util.grab_neighbors(c_rhoana, label2)\n",
    "        for l_neighbor in label2_neighbors:\n",
    "\n",
    "            if l_neighbor == 0:\n",
    "                continue\n",
    "\n",
    "            if label1 == l_neighbor:\n",
    "                continue\n",
    "  \n",
    "            # get old score\n",
    "            old_score = new_m[label2, l_neighbor]\n",
    "\n",
    "            label1_neighbor_score = new_m[label1, l_neighbor]\n",
    "\n",
    "            # and now choose the max of these two\n",
    "            new_m[label1, l_neighbor] = max(label1_neighbor_score, old_score)\n",
    "            new_m[l_neighbor, label1] = max(label1_neighbor_score, old_score)\n",
    "\n",
    "\n",
    "        # label2 does not exist anymore\n",
    "        new_m[:,label2] = -2\n",
    "        new_m[label2, :] = -2      \n",
    "\n",
    "        bigM[bigM_max_z] = new_m\n",
    "        \n",
    "        rhoana_copy[bigM_max_z] = c_rhoana.copy()\n",
    "        \n",
    "    else:\n",
    "        pass\n",
    "#         print 'current'\n",
    "for c in corrections:\n",
    "\n",
    "    gp.Util.view(c[3], color=False)"
   ]
  },
  {
   "cell_type": "code",
   "execution_count": null,
   "metadata": {
    "collapsed": true
   },
   "outputs": [],
   "source": []
  },
  {
   "cell_type": "code",
   "execution_count": null,
   "metadata": {
    "collapsed": true
   },
   "outputs": [],
   "source": []
  },
  {
   "cell_type": "code",
   "execution_count": null,
   "metadata": {
    "collapsed": true
   },
   "outputs": [],
   "source": []
  },
  {
   "cell_type": "code",
   "execution_count": 208,
   "metadata": {
    "collapsed": true
   },
   "outputs": [],
   "source": [
    "aaa = '''#!/bin/bash\n",
    "#\n",
    "# add all other SBATCH directives here...\n",
    "#\n",
    "#SBATCH -p cox\n",
    "#SBATCH -n 1 # Number of cores\n",
    "#SBATCH -N 1 # Ensure that all cores are on one machine\n",
    "#SBATCH --gres=gpu\n",
    "#SBATCH --mem=8000\n",
    "#SBATCH -t 10-12:00\n",
    "#SBATCH --mail-type=ALL\n",
    "#SBATCH --mail-user=haehn@seas.harvard.edu\n",
    "#SBATCH -o /n/home05/haehn/SLURM/gp/out-me_{Z}.txt\n",
    "#SBATCH -e /n/home05/haehn/SLURM/gp/err-me_{Z}.txt\n",
    "\n",
    "source new-modules.sh\n",
    "module load Anaconda/2.5.0-fasrc01\n",
    "module load gcc/4.9.0-fasrc01\n",
    "\n",
    "module load cuda/7.5-fasrc01\n",
    "module load cudnn/7.0-fasrc01\n",
    "\n",
    "module load opencv/3.0.0-fasrc04\n",
    "\n",
    "# custom HDF5 lib\n",
    "export LIBRARY_PATH=/n/home05/haehn/nolearncox/src/hdf5-1.8.17/hdf5/lib:$LIBRARY_PATH\n",
    "export LD_LIBRARY_PATH=/n/home05/haehn/nolearncox/src/hdf5-1.8.17/hdf5/lib:$LD_LIBRARY_PATH\n",
    "export CPATH=/n/home05/haehn/nolearncox/src/hdf5-1.8.17/hdf5/include:$CPATH\n",
    "export FPATH=/n/home05/haehn/nolearncox/src/hdf5-1.8.17/hdf5/include:$FPATH\n",
    "\n",
    "source /n/home05/haehn/nolearncox/bin/activate\n",
    "\n",
    "# we are working in TEMP\n",
    "cd /n/home05/haehn/Projects/gp/\n",
    "python mergeerrors.py {Z}\n",
    "\n",
    "# end of program\n",
    "exit 0;\n",
    "'''"
   ]
  },
  {
   "cell_type": "code",
   "execution_count": 212,
   "metadata": {
    "collapsed": false
   },
   "outputs": [],
   "source": [
    "for yyy in range(250,251):\n",
    "    bbb = aaa.replace('{Z}', str(yyy))\n",
    "    with open('../slurm/mergeerrors/'+str(yyy)+'.slurm', 'w') as f:\n",
    "        f.write(bbb)"
   ]
  },
  {
   "cell_type": "code",
   "execution_count": null,
   "metadata": {
    "collapsed": true
   },
   "outputs": [],
   "source": []
  }
 ],
 "metadata": {
  "kernelspec": {
   "display_name": "Python 2",
   "language": "python",
   "name": "python2"
  },
  "language_info": {
   "codemirror_mode": {
    "name": "ipython",
    "version": 2
   },
   "file_extension": ".py",
   "mimetype": "text/x-python",
   "name": "python",
   "nbconvert_exporter": "python",
   "pygments_lexer": "ipython2",
   "version": "2.7.6"
  }
 },
 "nbformat": 4,
 "nbformat_minor": 0
}
