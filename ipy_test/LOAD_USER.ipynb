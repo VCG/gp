{
 "cells": [
  {
   "cell_type": "code",
   "execution_count": 1,
   "metadata": {
    "collapsed": false
   },
   "outputs": [
    {
     "name": "stderr",
     "output_type": "stream",
     "text": [
      "/home/d/nolearn/local/lib/python2.7/site-packages/matplotlib/font_manager.py:273: UserWarning: Matplotlib is building the font cache using fc-list. This may take a moment.\n",
      "  warnings.warn('Matplotlib is building the font cache using fc-list. This may take a moment.')\n",
      "Using gpu device 0: GeForce GTX TITAN (CNMeM is disabled, CuDNN 4007)\n",
      "/home/d/nolearn/local/lib/python2.7/site-packages/theano/tensor/signal/downsample.py:6: UserWarning: downsample module has been moved to the theano.tensor.signal.pool module.\n",
      "  \"downsample module has been moved to the theano.tensor.signal.pool module.\")\n"
     ]
    }
   ],
   "source": [
    "\n",
    "from matplotlib.pyplot import imshow\n",
    "import matplotlib.pyplot as plt\n",
    "\n",
    "%matplotlib inline\n",
    "import numpy as np\n",
    "import sys\n",
    "sys.path.append('../')\n",
    "import gp"
   ]
  },
  {
   "cell_type": "code",
   "execution_count": 2,
   "metadata": {
    "collapsed": true
   },
   "outputs": [],
   "source": [
    "import cPickle as pickle"
   ]
  },
  {
   "cell_type": "code",
   "execution_count": 28,
   "metadata": {
    "collapsed": true
   },
   "outputs": [],
   "source": [
    "FP_USERS = ['/tmp/tibor']\n",
    "GP_USERS = ['/tmp/tibor']"
   ]
  },
  {
   "cell_type": "code",
   "execution_count": 38,
   "metadata": {
    "collapsed": true
   },
   "outputs": [],
   "source": [
    "newrhoana = 'ui_results.p'\n",
    "times = 'times.p'\n",
    "corrections = 'corrections.p'\n",
    "correction_vis = 'correction_vis.p'"
   ]
  },
  {
   "cell_type": "code",
   "execution_count": 39,
   "metadata": {
    "collapsed": true
   },
   "outputs": [],
   "source": [
    "with open(FP_USERS[0]+'/'+newrhoana, 'rb') as f:\n",
    "    fp_newrhoana = pickle.load(f)\n",
    "with open(FP_USERS[0]+'/'+times, 'rb') as f:\n",
    "    fp_times = pickle.load(f)\n",
    "    fp_times = [int(v) for v in fp_times]\n",
    "with open(FP_USERS[0]+'/'+corrections, 'rb') as f:\n",
    "    fp_corrections = pickle.load(f)       \n",
    "with open(FP_USERS[0]+'/'+correction_vis, 'rb') as f:\n",
    "    fp_correction_vis = pickle.load(f)       "
   ]
  },
  {
   "cell_type": "code",
   "execution_count": 15,
   "metadata": {
    "collapsed": true
   },
   "outputs": [],
   "source": [
    "with open(GP_USERS[0]+'/'+newrhoana, 'rb') as f:\n",
    "    gp_newrhoana = pickle.load(f)\n",
    "with open(GP_USERS[0]+'/'+times, 'rb') as f:\n",
    "    gp_times = pickle.load(f)\n",
    "    gp_times = [int(v) for v in gp_times]\n",
    "with open(GP_USERS[0]+'/'+corrections, 'rb') as f:\n",
    "    gp_corrections = pickle.load(f)    "
   ]
  },
  {
   "cell_type": "code",
   "execution_count": 7,
   "metadata": {
    "collapsed": false
   },
   "outputs": [
    {
     "name": "stdout",
     "output_type": "stream",
     "text": [
      "a\n"
     ]
    }
   ],
   "source": [
    "image, prob, gold, rhoana, bb = gp.Legacy.read_dojo_data()"
   ]
  },
  {
   "cell_type": "code",
   "execution_count": 32,
   "metadata": {
    "collapsed": false
   },
   "outputs": [
    {
     "data": {
      "text/plain": [
       "0.51456962217066438"
      ]
     },
     "execution_count": 32,
     "metadata": {},
     "output_type": "execute_result"
    }
   ],
   "source": [
    "gp.Legacy.VI(gold, rhoana)[0]"
   ]
  },
  {
   "cell_type": "code",
   "execution_count": 31,
   "metadata": {
    "collapsed": false
   },
   "outputs": [
    {
     "data": {
      "text/plain": [
       "0.51728388760729882"
      ]
     },
     "execution_count": 31,
     "metadata": {},
     "output_type": "execute_result"
    }
   ],
   "source": [
    "gp.Legacy.VI(gold, fp_newrhoana)[0]"
   ]
  },
  {
   "cell_type": "code",
   "execution_count": 12,
   "metadata": {
    "collapsed": false
   },
   "outputs": [
    {
     "data": {
      "text/plain": [
       "0.46162534464714744"
      ]
     },
     "execution_count": 12,
     "metadata": {},
     "output_type": "execute_result"
    }
   ],
   "source": [
    "gp.Legacy.VI(gold, gp_newrhoana)[1]"
   ]
  },
  {
   "cell_type": "code",
   "execution_count": 33,
   "metadata": {
    "collapsed": false
   },
   "outputs": [
    {
     "data": {
      "text/plain": [
       "[['split', 'current'],\n",
       " ['split', 'current'],\n",
       " ['split', 'current'],\n",
       " ['split', 'current'],\n",
       " ['split', '1'],\n",
       " ['split', 'current'],\n",
       " ['split', 'current'],\n",
       " ['split', 'current'],\n",
       " ['split', 'current'],\n",
       " ['split', '1'],\n",
       " ['split', 'current'],\n",
       " ['split', 'current'],\n",
       " ['split', 'current'],\n",
       " ['split', '1'],\n",
       " ['split', 'current'],\n",
       " ['split', 'current'],\n",
       " ['split', 'current'],\n",
       " ['split', 'current'],\n",
       " ['split', 'current'],\n",
       " ['split', 'current'],\n",
       " ['split', 'current'],\n",
       " ['split', '1'],\n",
       " ['split', '1'],\n",
       " ['split', 'current'],\n",
       " ['split', 'current'],\n",
       " ['split', 'current'],\n",
       " ['split', 'current'],\n",
       " ['split', 'current'],\n",
       " ['split', 'current'],\n",
       " ['split', 'current'],\n",
       " ['split', 'current']]"
      ]
     },
     "execution_count": 33,
     "metadata": {},
     "output_type": "execute_result"
    }
   ],
   "source": [
    "fp_corrections"
   ]
  },
  {
   "cell_type": "code",
   "execution_count": 20,
   "metadata": {
    "collapsed": false
   },
   "outputs": [
    {
     "data": {
      "text/plain": [
       "[['merge', '1'],\n",
       " ['merge', 'current'],\n",
       " ['merge', '1'],\n",
       " ['merge', '1'],\n",
       " ['merge', '1'],\n",
       " ['merge', 'current'],\n",
       " ['merge', '1'],\n",
       " ['merge', 'current'],\n",
       " ['merge', 'current'],\n",
       " ['merge', 'current'],\n",
       " ['merge', 'current'],\n",
       " ['merge', 'current'],\n",
       " ['merge', 'current'],\n",
       " ['merge', '1'],\n",
       " ['merge', 'current'],\n",
       " ['merge', 'current'],\n",
       " ['merge', 'current'],\n",
       " ['merge', 'current'],\n",
       " ['merge', 'current'],\n",
       " ['split', '1'],\n",
       " ['split', '1'],\n",
       " ['split', '1'],\n",
       " ['split', '1'],\n",
       " ['split', '1'],\n",
       " ['split', '1'],\n",
       " ['split', '1'],\n",
       " ['split', '1'],\n",
       " ['split', 'current'],\n",
       " ['split', '1'],\n",
       " ['split', '1'],\n",
       " ['split', '1'],\n",
       " ['split', '1'],\n",
       " ['split', 'current'],\n",
       " ['split', '1'],\n",
       " ['split', 'current'],\n",
       " ['split', '1'],\n",
       " ['split', 'current'],\n",
       " ['split', '1'],\n",
       " ['split', 'current'],\n",
       " ['split', '1'],\n",
       " ['split', '1'],\n",
       " ['split', 'current'],\n",
       " ['split', '1'],\n",
       " ['split', '1'],\n",
       " ['split', 'current'],\n",
       " ['split', '1'],\n",
       " ['split', '1'],\n",
       " ['split', '1'],\n",
       " ['split', 'current'],\n",
       " ['split', '1']]"
      ]
     },
     "execution_count": 20,
     "metadata": {},
     "output_type": "execute_result"
    }
   ],
   "source": [
    "gp_corrections"
   ]
  },
  {
   "cell_type": "code",
   "execution_count": 21,
   "metadata": {
    "collapsed": false
   },
   "outputs": [
    {
     "data": {
      "text/plain": [
       "2023.5999999999999"
      ]
     },
     "execution_count": 21,
     "metadata": {},
     "output_type": "execute_result"
    }
   ],
   "source": [
    "np.mean(gp_times)"
   ]
  },
  {
   "cell_type": "code",
   "execution_count": 34,
   "metadata": {
    "collapsed": false
   },
   "outputs": [
    {
     "data": {
      "text/plain": [
       "9269.322580645161"
      ]
     },
     "execution_count": 34,
     "metadata": {},
     "output_type": "execute_result"
    }
   ],
   "source": [
    "np.mean(fp_times)"
   ]
  },
  {
   "cell_type": "code",
   "execution_count": 24,
   "metadata": {
    "collapsed": false
   },
   "outputs": [
    {
     "data": {
      "text/plain": [
       "50"
      ]
     },
     "execution_count": 24,
     "metadata": {},
     "output_type": "execute_result"
    }
   ],
   "source": [
    "len(gp_corrections)"
   ]
  },
  {
   "cell_type": "code",
   "execution_count": 41,
   "metadata": {
    "collapsed": true
   },
   "outputs": [],
   "source": [
    "data = []\n",
    "for vi in fp_correction_vis:\n",
    "    data.append(vi[0])"
   ]
  },
  {
   "cell_type": "code",
   "execution_count": 42,
   "metadata": {
    "collapsed": false
   },
   "outputs": [
    {
     "data": {
      "text/plain": [
       "[<matplotlib.lines.Line2D at 0x7f400171d7d0>]"
      ]
     },
     "execution_count": 42,
     "metadata": {},
     "output_type": "execute_result"
    },
    {
     "data": {
      "image/png": "[encoded data removed]",
      "text/plain": [
       "<matplotlib.figure.Figure at 0x7f40017f5e50>"
      ]
     },
     "metadata": {},
     "output_type": "display_data"
    }
   ],
   "source": [
    "plt.plot(data)"
   ]
  },
  {
   "cell_type": "code",
   "execution_count": 44,
   "metadata": {
    "collapsed": false
   },
   "outputs": [
    {
     "data": {
      "text/plain": [
       "5"
      ]
     },
     "execution_count": 44,
     "metadata": {},
     "output_type": "execute_result"
    }
   ],
   "source": [
    "len(fp_correction_vis)"
   ]
  },
  {
   "cell_type": "code",
   "execution_count": 45,
   "metadata": {
    "collapsed": false
   },
   "outputs": [
    {
     "data": {
      "text/plain": [
       "[[0.4564952264711417,\n",
       "  0.4293922557471461,\n",
       "  0.41812625771753,\n",
       "  0.4176715560855522,\n",
       "  0.49071969954324857,\n",
       "  0.46200276923857864,\n",
       "  0.5851840840738847,\n",
       "  0.6340148263120815,\n",
       "  0.6552543410401137,\n",
       "  0.5969316476257118],\n",
       " [0.4564952264711417,\n",
       "  0.4293922557471461,\n",
       "  0.41812625771753,\n",
       "  0.434362913440542,\n",
       "  0.49071969954324857,\n",
       "  0.46200276923857864,\n",
       "  0.5851840840738847,\n",
       "  0.6340148263120815,\n",
       "  0.6552543410401137,\n",
       "  0.5969316476257118],\n",
       " [0.4564952264711417,\n",
       "  0.4293922557471461,\n",
       "  0.41812625771753,\n",
       "  0.43761226289272237,\n",
       "  0.49071969954324857,\n",
       "  0.46200276923857864,\n",
       "  0.5851840840738847,\n",
       "  0.6340148263120815,\n",
       "  0.6552543410401137,\n",
       "  0.5969316476257118],\n",
       " [0.4564952264711417,\n",
       "  0.4293922557471461,\n",
       "  0.41812625771753,\n",
       "  0.43761226289272237,\n",
       "  0.49071969954324857,\n",
       "  0.46200276923857864,\n",
       "  0.5851840840738847,\n",
       "  0.6340148263120815,\n",
       "  0.6636033798976264,\n",
       "  0.5969316476257118],\n",
       " [0.4564952264711417,\n",
       "  0.4293922557471461,\n",
       "  0.41812625771753,\n",
       "  0.43761226289272237,\n",
       "  0.49071969954324857,\n",
       "  0.46200276923857864,\n",
       "  0.5851840840738847,\n",
       "  0.6340148263120815,\n",
       "  0.6636033798976264,\n",
       "  0.595688114179028]]"
      ]
     },
     "execution_count": 45,
     "metadata": {},
     "output_type": "execute_result"
    }
   ],
   "source": [
    "fp_correction_vis"
   ]
  },
  {
   "cell_type": "code",
   "execution_count": null,
   "metadata": {
    "collapsed": true
   },
   "outputs": [],
   "source": [
    "for vi in fp_correction_vis:\n",
    "    for vi2 in fp_correction_vis:\n",
    "        if check"
   ]
  },
  {
   "cell_type": "code",
   "execution_count": 46,
   "metadata": {
    "collapsed": true
   },
   "outputs": [],
   "source": [
    "def checkEqual1(iterator):\n",
    "    iterator = iter(iterator)\n",
    "    try:\n",
    "        first = next(iterator)\n",
    "    except StopIteration:\n",
    "        return True\n",
    "    return all(first == rest for rest in iterator)"
   ]
  },
  {
   "cell_type": "code",
   "execution_count": 47,
   "metadata": {
    "collapsed": true
   },
   "outputs": [],
   "source": [
    "t1 = 10\n",
    "t2 = 11\n",
    "t3 = 14\n",
    "t4 = 15"
   ]
  },
  {
   "cell_type": "code",
   "execution_count": 53,
   "metadata": {
    "collapsed": false
   },
   "outputs": [],
   "source": [
    "tt = t1+t2+t3+t4\n",
    "a = np.ones((tt, 4, 75,75), dtype=np.float32)"
   ]
  },
  {
   "cell_type": "code",
   "execution_count": 54,
   "metadata": {
    "collapsed": true
   },
   "outputs": [],
   "source": [
    "a[0:t1] = np.zeros((t1,4,75,75),dtype=np.float32)"
   ]
  },
  {
   "cell_type": "code",
   "execution_count": 55,
   "metadata": {
    "collapsed": false
   },
   "outputs": [],
   "source": [
    "a[t1:t1+t2] = np.zeros((t2,4,75,75),dtype=np.float32)\n",
    "a[t2:t2+t3] = np.zeros((t3,4,75,75),dtype=np.float32)\n",
    "a[t3:t3+t4] = np.zeros((t4,4,75,75),dtype=np.float32)\n"
   ]
  },
  {
   "cell_type": "code",
   "execution_count": 56,
   "metadata": {
    "collapsed": false
   },
   "outputs": [
    {
     "data": {
      "text/plain": [
       "array([[[ 1.,  1.,  1., ...,  1.,  1.,  1.],\n",
       "        [ 1.,  1.,  1., ...,  1.,  1.,  1.],\n",
       "        [ 1.,  1.,  1., ...,  1.,  1.,  1.],\n",
       "        ..., \n",
       "        [ 1.,  1.,  1., ...,  1.,  1.,  1.],\n",
       "        [ 1.,  1.,  1., ...,  1.,  1.,  1.],\n",
       "        [ 1.,  1.,  1., ...,  1.,  1.,  1.]],\n",
       "\n",
       "       [[ 1.,  1.,  1., ...,  1.,  1.,  1.],\n",
       "        [ 1.,  1.,  1., ...,  1.,  1.,  1.],\n",
       "        [ 1.,  1.,  1., ...,  1.,  1.,  1.],\n",
       "        ..., \n",
       "        [ 1.,  1.,  1., ...,  1.,  1.,  1.],\n",
       "        [ 1.,  1.,  1., ...,  1.,  1.,  1.],\n",
       "        [ 1.,  1.,  1., ...,  1.,  1.,  1.]],\n",
       "\n",
       "       [[ 1.,  1.,  1., ...,  1.,  1.,  1.],\n",
       "        [ 1.,  1.,  1., ...,  1.,  1.,  1.],\n",
       "        [ 1.,  1.,  1., ...,  1.,  1.,  1.],\n",
       "        ..., \n",
       "        [ 1.,  1.,  1., ...,  1.,  1.,  1.],\n",
       "        [ 1.,  1.,  1., ...,  1.,  1.,  1.],\n",
       "        [ 1.,  1.,  1., ...,  1.,  1.,  1.]],\n",
       "\n",
       "       [[ 1.,  1.,  1., ...,  1.,  1.,  1.],\n",
       "        [ 1.,  1.,  1., ...,  1.,  1.,  1.],\n",
       "        [ 1.,  1.,  1., ...,  1.,  1.,  1.],\n",
       "        ..., \n",
       "        [ 1.,  1.,  1., ...,  1.,  1.,  1.],\n",
       "        [ 1.,  1.,  1., ...,  1.,  1.,  1.],\n",
       "        [ 1.,  1.,  1., ...,  1.,  1.,  1.]]], dtype=float32)"
      ]
     },
     "execution_count": 56,
     "metadata": {},
     "output_type": "execute_result"
    }
   ],
   "source": [
    "a[-1]"
   ]
  },
  {
   "cell_type": "code",
   "execution_count": null,
   "metadata": {
    "collapsed": true
   },
   "outputs": [],
   "source": []
  }
 ],
 "metadata": {
  "kernelspec": {
   "display_name": "Python 2",
   "language": "python",
   "name": "python2"
  },
  "language_info": {
   "codemirror_mode": {
    "name": "ipython",
    "version": 2
   },
   "file_extension": ".py",
   "mimetype": "text/x-python",
   "name": "python",
   "nbconvert_exporter": "python",
   "pygments_lexer": "ipython2",
   "version": "2.7.6"
  }
 },
 "nbformat": 4,
 "nbformat_minor": 0
}
