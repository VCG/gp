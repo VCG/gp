{
 "cells": [
  {
   "cell_type": "code",
   "execution_count": 2,
   "metadata": {
    "collapsed": false
   },
   "outputs": [],
   "source": [
    "%load_ext autoreload\n",
    "%autoreload 2\n",
    "\n",
    "from matplotlib.pyplot import imshow\n",
    "import matplotlib.pyplot as plt\n",
    "\n",
    "%matplotlib inline\n",
    "import numpy as np\n",
    "import sys\n",
    "sys.path.append('../')\n",
    "import gp"
   ]
  },
  {
   "cell_type": "code",
   "execution_count": 3,
   "metadata": {
    "collapsed": true
   },
   "outputs": [],
   "source": [
    "import cPickle as pickle"
   ]
  },
  {
   "cell_type": "code",
   "execution_count": 4,
   "metadata": {
    "collapsed": false
   },
   "outputs": [
    {
     "name": "stdout",
     "output_type": "stream",
     "text": [
      "a\n"
     ]
    }
   ],
   "source": [
    "image, prob, gold, rhoana, bb = gp.Legacy.read_dojo_data()"
   ]
  },
  {
   "cell_type": "code",
   "execution_count": 5,
   "metadata": {
    "collapsed": true
   },
   "outputs": [],
   "source": [
    "\n"
   ]
  },
  {
   "cell_type": "code",
   "execution_count": 6,
   "metadata": {
    "collapsed": false
   },
   "outputs": [],
   "source": [
    "init_mean_vi = VI(gold, rhoana)[0]\n",
    "init_median_vi = VI(gold, rhoana)[1]\n",
    "init_vi_per_slice = VI(gold, rhoana)[2]"
   ]
  },
  {
   "cell_type": "code",
   "execution_count": null,
   "metadata": {
    "collapsed": true
   },
   "outputs": [],
   "source": []
  },
  {
   "cell_type": "code",
   "execution_count": 250,
   "metadata": {
    "collapsed": true
   },
   "outputs": [],
   "source": [
    "FP_USERS = ['/home/d/GPSTUDY/S21','/home/d/GPSTUDY/S9','/home/d/GPSTUDY/S32', '/home/d/GPSTUDY/S38', '/home/d/GPSTUDY/S6','/home/d/GPSTUDY/S24', '/home/d/GPSTUDY/S31',\n",
    "            '/home/d/GPSTUDY/S45','/home/d/GPSTUDY/E2']\n",
    "GP_USERS = ['/home/d/GPSTUDY/J', '/home/d/GPSTUDY/K', '/home/d/GPSTUDY/S25', '/home/d/GPSTUDY/S28', '/home/d/GPSTUDY/S36', '/home/d/GPSTUDY/S35', \n",
    " '/home/d/GPSTUDY/S99', '/home/d/GPSTUDY/E1']"
   ]
  },
  {
   "cell_type": "code",
   "execution_count": 15,
   "metadata": {
    "collapsed": false
   },
   "outputs": [],
   "source": [
    "FP_USERS = []\n",
    "GP_USERS = []\n",
    "FP_EXPERTS = []\n",
    "GP_EXPERTS = []\n",
    "with open('/home/d/GPSTUDY/study.csv', 'r') as f:\n",
    "    lines = f.readlines()\n",
    "for l in lines[1:]:\n",
    "    line = l.strip('\\n').split(',')\n",
    "    userid = line[3]\n",
    "    method = line[4]\n",
    "    if method == 'FP':\n",
    "        if userid.startswith('E'):\n",
    "            FP_EXPERTS.append(userid)\n",
    "        else:\n",
    "            FP_USERS.append(userid)\n",
    "    elif method == 'GP':\n",
    "        if userid.startswith('E'):\n",
    "            GP_EXPERTS.append(userid)\n",
    "        else:\n",
    "            GP_USERS.append(userid)"
   ]
  },
  {
   "cell_type": "code",
   "execution_count": 12,
   "metadata": {
    "collapsed": false
   },
   "outputs": [
    {
     "name": "stdout",
     "output_type": "stream",
     "text": [
      "No. users 10\n",
      "Avg. time 4909.45155238\n",
      "Avg. corrections 423.4\n",
      "Avg. accepted 45.8\n"
     ]
    },
    {
     "data": {
      "image/png": "[encoded data removed]",
      "text/plain": [
       "<matplotlib.figure.Figure at 0x7fdf9015a610>"
      ]
     },
     "metadata": {},
     "output_type": "display_data"
    }
   ],
   "source": [
    "fp_vi_per_slice = gp.Stats.analyze_users(FP_USERS, gold, rhoana)"
   ]
  },
  {
   "cell_type": "code",
   "execution_count": 38,
   "metadata": {
    "collapsed": false
   },
   "outputs": [
    {
     "name": "stdout",
     "output_type": "stream",
     "text": [
      "No. users 7\n",
      "Avg. time 6844.54407899\n",
      "Avg. corrections 310.857142857\n",
      "Avg. accepted 115.571428571\n"
     ]
    },
    {
     "data": {
      "image/png": "[encoded data removed]",
      "text/plain": [
       "<matplotlib.figure.Figure at 0x7fdf87609f50>"
      ]
     },
     "metadata": {},
     "output_type": "display_data"
    }
   ],
   "source": [
    "gp_vi_per_slice, gp_merge_vis, gp_split_vis = gp.Stats.analyze_users(GP_USERS, gold, rhoana)"
   ]
  },
  {
   "cell_type": "code",
   "execution_count": 35,
   "metadata": {
    "collapsed": false
   },
   "outputs": [
    {
     "data": {
      "text/plain": [
       "0.4763612343909136"
      ]
     },
     "execution_count": 35,
     "metadata": {},
     "output_type": "execute_result"
    }
   ],
   "source": [
    "init_mean_vi"
   ]
  },
  {
   "cell_type": "code",
   "execution_count": 17,
   "metadata": {
    "collapsed": false
   },
   "outputs": [
    {
     "name": "stdout",
     "output_type": "stream",
     "text": [
      "No. users 2\n",
      "Avg. time 2827.76391799\n",
      "Avg. corrections 593.5\n",
      "Avg. accepted 65.5\n"
     ]
    },
    {
     "data": {
      "image/png": "[encoded data removed]",
      "text/plain": [
       "<matplotlib.figure.Figure at 0x7fdf875ce5d0>"
      ]
     },
     "metadata": {},
     "output_type": "display_data"
    }
   ],
   "source": [
    "expert_fp_vi_per_slice = gp.Stats.analyze_users(FP_EXPERTS, gold, rhoana)\n"
   ]
  },
  {
   "cell_type": "code",
   "execution_count": 18,
   "metadata": {
    "collapsed": false
   },
   "outputs": [
    {
     "name": "stdout",
     "output_type": "stream",
     "text": [
      "No. users 2\n",
      "Avg. time 4960.00050347\n",
      "Avg. corrections 371.5\n",
      "Avg. accepted 90.0\n"
     ]
    },
    {
     "data": {
      "image/png": "[encoded data removed]",
      "text/plain": [
       "<matplotlib.figure.Figure at 0x7fdf87462e50>"
      ]
     },
     "metadata": {},
     "output_type": "display_data"
    }
   ],
   "source": [
    "expert_gp_vi_per_slice = gp.Stats.analyze_users(GP_EXPERTS, gold, rhoana)"
   ]
  },
  {
   "cell_type": "code",
   "execution_count": null,
   "metadata": {
    "collapsed": true
   },
   "outputs": [],
   "source": []
  },
  {
   "cell_type": "code",
   "execution_count": 14,
   "metadata": {
    "collapsed": false
   },
   "outputs": [
    {
     "data": {
      "image/png": "[encoded data removed]",
      "text/plain": [
       "<matplotlib.figure.Figure at 0x7fdf873f1790>"
      ]
     },
     "metadata": {},
     "output_type": "display_data"
    }
   ],
   "source": [
    "plt.subplots()\n",
    "objects = ['Init', 'FP', 'GP']\n",
    "data = [init_vi_per_slice, fp_vi_per_slice, gp_vi_per_slice]\n",
    "y_pos = range(1,len(objects)+1)\n",
    "\n",
    "bp = plt.boxplot(data)\n",
    "plt.xticks(y_pos, objects)\n",
    "plt.show()"
   ]
  },
  {
   "cell_type": "code",
   "execution_count": 19,
   "metadata": {
    "collapsed": false
   },
   "outputs": [
    {
     "data": {
      "image/png": "[encoded data removed]",
      "text/plain": [
       "<matplotlib.figure.Figure at 0x7fdf8758d710>"
      ]
     },
     "metadata": {},
     "output_type": "display_data"
    }
   ],
   "source": [
    "plt.subplots()\n",
    "objects = ['Init', 'FP Expert', 'GP Expert']\n",
    "data = [init_vi_per_slice, expert_fp_vi_per_slice, expert_gp_vi_per_slice]\n",
    "y_pos = range(1,len(objects)+1)\n",
    "\n",
    "bp = plt.boxplot(data)\n",
    "plt.xticks(y_pos, objects)\n",
    "plt.show()"
   ]
  },
  {
   "cell_type": "code",
   "execution_count": 49,
   "metadata": {
    "collapsed": false
   },
   "outputs": [],
   "source": [
    "averages_gp_merge_vis = [0]*10#len(gp_merge_vis)\n",
    "for u in range(len(gp_merge_vis)):\n",
    "    for z in range(10):\n",
    "        averages_gp_merge_vis[z] += gp_merge_vis[u][z]\n",
    "for z in range(10):\n",
    "    averages_gp_merge_vis[z] /= len(gp_merge_vis)"
   ]
  },
  {
   "cell_type": "code",
   "execution_count": 51,
   "metadata": {
    "collapsed": true
   },
   "outputs": [],
   "source": [
    "averages_gp_split_vis = [0]*10#len(gp_merge_vis)\n",
    "for u in range(len(gp_split_vis)):\n",
    "    for z in range(10):\n",
    "        averages_gp_split_vis[z] += gp_split_vis[u][z]\n",
    "for z in range(10):\n",
    "    averages_gp_split_vis[z] /= len(gp_split_vis)"
   ]
  },
  {
   "cell_type": "code",
   "execution_count": 50,
   "metadata": {
    "collapsed": false
   },
   "outputs": [
    {
     "data": {
      "text/plain": [
       "[0.42861096031621226,\n",
       " 0.42430413042212045,\n",
       " 0.41812625771753,\n",
       " 0.4176715560855522,\n",
       " 0.49071969954324857,\n",
       " 0.46200276923857864,\n",
       " 0.5856981754513095,\n",
       " 0.6207213628891566,\n",
       " 0.6371598634356328,\n",
       " 0.5968352054773662]"
      ]
     },
     "execution_count": 50,
     "metadata": {},
     "output_type": "execute_result"
    }
   ],
   "source": [
    "averages_gp_merge_vis"
   ]
  },
  {
   "cell_type": "code",
   "execution_count": 52,
   "metadata": {
    "collapsed": false
   },
   "outputs": [
    {
     "data": {
      "text/plain": [
       "[0.3943037068413377,\n",
       " 0.39363028570252584,\n",
       " 0.40094013926120187,\n",
       " 0.41896992776124414,\n",
       " 0.47924770028623226,\n",
       " 0.41383145725167025,\n",
       " 0.5075334998829454,\n",
       " 0.4796487375642542,\n",
       " 0.47989115393269405,\n",
       " 0.5102487180943059]"
      ]
     },
     "execution_count": 52,
     "metadata": {},
     "output_type": "execute_result"
    }
   ],
   "source": [
    "averages_gp_split_vis"
   ]
  },
  {
   "cell_type": "code",
   "execution_count": 53,
   "metadata": {
    "collapsed": false
   },
   "outputs": [
    {
     "data": {
      "text/plain": [
       "[0.4564952264711417,\n",
       " 0.4293922557471461,\n",
       " 0.41812625771753,\n",
       " 0.4176715560855522,\n",
       " 0.49071969954324857,\n",
       " 0.46200276923857864,\n",
       " 0.5851840840738847,\n",
       " 0.6340148263120815,\n",
       " 0.6552543410401137,\n",
       " 0.5968352054773662]"
      ]
     },
     "execution_count": 53,
     "metadata": {},
     "output_type": "execute_result"
    }
   ],
   "source": [
    "init_vi_per_slice"
   ]
  },
  {
   "cell_type": "code",
   "execution_count": 55,
   "metadata": {
    "collapsed": false
   },
   "outputs": [
    {
     "data": {
      "image/png": "[encoded data removed]",
      "text/plain": [
       "<matplotlib.figure.Figure at 0x7fdf86ecd810>"
      ]
     },
     "metadata": {},
     "output_type": "display_data"
    }
   ],
   "source": [
    "after_merge_after_split = plt.boxplot([init_vi_per_slice, averages_gp_merge_vis, averages_gp_split_vis])"
   ]
  },
  {
   "cell_type": "code",
   "execution_count": null,
   "metadata": {
    "collapsed": true
   },
   "outputs": [],
   "source": []
  },
  {
   "cell_type": "code",
   "execution_count": null,
   "metadata": {
    "collapsed": true
   },
   "outputs": [],
   "source": []
  },
  {
   "cell_type": "code",
   "execution_count": null,
   "metadata": {
    "collapsed": true
   },
   "outputs": [],
   "source": []
  },
  {
   "cell_type": "code",
   "execution_count": 290,
   "metadata": {
    "collapsed": false
   },
   "outputs": [
    {
     "data": {
      "text/plain": [
       "[0.4376894378238423,\n",
       " 0.42248790736115477,\n",
       " 0.418145124855108,\n",
       " 0.439276876746551,\n",
       " 0.4712588022861315,\n",
       " 0.4676127919023316,\n",
       " 0.5936543082466625,\n",
       " 0.6188201134113684,\n",
       " 0.661255030981917,\n",
       " 0.572448845896355]"
      ]
     },
     "execution_count": 290,
     "metadata": {},
     "output_type": "execute_result"
    }
   ],
   "source": [
    "fp_vi_per_slice"
   ]
  },
  {
   "cell_type": "code",
   "execution_count": 297,
   "metadata": {
    "collapsed": false
   },
   "outputs": [
    {
     "data": {
      "text/plain": [
       "0.45486023885611315"
      ]
     },
     "execution_count": 297,
     "metadata": {},
     "output_type": "execute_result"
    }
   ],
   "source": [
    "np.median(gp_vi_per_slice)"
   ]
  },
  {
   "cell_type": "code",
   "execution_count": 298,
   "metadata": {
    "collapsed": false
   },
   "outputs": [
    {
     "data": {
      "text/plain": [
       "0.46943579709423155"
      ]
     },
     "execution_count": 298,
     "metadata": {},
     "output_type": "execute_result"
    }
   ],
   "source": [
    "np.median(fp_vi_per_slice)"
   ]
  },
  {
   "cell_type": "code",
   "execution_count": 293,
   "metadata": {
    "collapsed": false
   },
   "outputs": [
    {
     "data": {
      "text/plain": [
       "0.4763612343909136"
      ]
     },
     "execution_count": 293,
     "metadata": {},
     "output_type": "execute_result"
    }
   ],
   "source": [
    "init_median_vi"
   ]
  },
  {
   "cell_type": "code",
   "execution_count": 299,
   "metadata": {
    "collapsed": false
   },
   "outputs": [
    {
     "data": {
      "text/plain": [
       "0.38365170296901363"
      ]
     },
     "execution_count": 299,
     "metadata": {},
     "output_type": "execute_result"
    }
   ],
   "source": [
    "init_median_vi - 0.0927095314219"
   ]
  },
  {
   "cell_type": "code",
   "execution_count": 206,
   "metadata": {
    "collapsed": true
   },
   "outputs": [],
   "source": [
    "#\n",
    "#"
   ]
  },
  {
   "cell_type": "code",
   "execution_count": null,
   "metadata": {
    "collapsed": true
   },
   "outputs": [],
   "source": [
    "#\n",
    "with open('/home/d/dojo_xp/data/bigM_fp.p', 'rb') as f:\n",
    "    bigM = pickle.load(f)\n",
    "\n",
    "corrections = []\n",
    "rhoana_copy = np.array(rhoana)\n",
    "for c in fp_corrections[3]:\n",
    "    bigM_max = -1\n",
    "    bigM_max_index = None\n",
    "    bigM_max_z = -1\n",
    "    for z,m in enumerate(bigM):\n",
    "        if m.max() > bigM_max:\n",
    "            bigM_max = m.max()\n",
    "            bigM_max_indices = np.where(m == bigM_max)\n",
    "            bigM_max_index = [bigM_max_indices[0][0], bigM_max_indices[1][0]]\n",
    "            bigM_max_z = z\n",
    "\n",
    "            \n",
    "    m = bigM[bigM_max_z]\n",
    "    new_m = np.array(m)\n",
    "\n",
    "    label1 = bigM_max_index[0]\n",
    "    label2 = bigM_max_index[1]\n",
    "    \n",
    "    c_rhoana = rhoana_copy[bigM_max_z].copy()\n",
    "\n",
    "    if c[1] == '1':\n",
    "        \n",
    "#         print 'merging', label1, label2\n",
    "        \n",
    "        corrections.append([bigM_max_z, label1, label2, gp.Util.view_labels(c_rhoana, [label1, label2], return_it=True)])\n",
    "        \n",
    "        c_rhoana[c_rhoana == label2] = label1\n",
    "\n",
    "        # grab old neighbors of label 2 which are now neighbors of label1\n",
    "        label2_neighbors = gp.Util.grab_neighbors(c_rhoana, label2)\n",
    "        for l_neighbor in label2_neighbors:\n",
    "\n",
    "            if l_neighbor == 0:\n",
    "                continue\n",
    "\n",
    "            if label1 == l_neighbor:\n",
    "                continue\n",
    "  \n",
    "            # get old score\n",
    "            old_score = new_m[label2, l_neighbor]\n",
    "\n",
    "            label1_neighbor_score = new_m[label1, l_neighbor]\n",
    "\n",
    "            # and now choose the max of these two\n",
    "            new_m[label1, l_neighbor] = max(label1_neighbor_score, old_score)\n",
    "            new_m[l_neighbor, label1] = max(label1_neighbor_score, old_score)\n",
    "\n",
    "\n",
    "        # label2 does not exist anymore\n",
    "        new_m[:,label2] = -2\n",
    "        new_m[label2, :] = -2      \n",
    "\n",
    "        bigM[bigM_max_z] = new_m\n",
    "        \n",
    "        rhoana_copy[bigM_max_z] = c_rhoana.copy()\n",
    "        \n",
    "    else:\n",
    "        pass\n",
    "#         print 'current'\n",
    "for c in corrections:\n",
    "\n",
    "    gp.Util.view(c[3], color=False)"
   ]
  },
  {
   "cell_type": "code",
   "execution_count": null,
   "metadata": {
    "collapsed": true
   },
   "outputs": [],
   "source": [
    "with open('/home/d/netstatsPAPER/')"
   ]
  },
  {
   "cell_type": "code",
   "execution_count": null,
   "metadata": {
    "collapsed": true
   },
   "outputs": [],
   "source": []
  },
  {
   "cell_type": "code",
   "execution_count": null,
   "metadata": {
    "collapsed": true
   },
   "outputs": [],
   "source": []
  },
  {
   "cell_type": "code",
   "execution_count": 208,
   "metadata": {
    "collapsed": true
   },
   "outputs": [],
   "source": [
    "aaa = '''#!/bin/bash\n",
    "#\n",
    "# add all other SBATCH directives here...\n",
    "#\n",
    "#SBATCH -p cox\n",
    "#SBATCH -n 1 # Number of cores\n",
    "#SBATCH -N 1 # Ensure that all cores are on one machine\n",
    "#SBATCH --gres=gpu\n",
    "#SBATCH --mem=8000\n",
    "#SBATCH -t 10-12:00\n",
    "#SBATCH --mail-type=ALL\n",
    "#SBATCH --mail-user=haehn@seas.harvard.edu\n",
    "#SBATCH -o /n/home05/haehn/SLURM/gp/out-me_{Z}.txt\n",
    "#SBATCH -e /n/home05/haehn/SLURM/gp/err-me_{Z}.txt\n",
    "\n",
    "source new-modules.sh\n",
    "module load Anaconda/2.5.0-fasrc01\n",
    "module load gcc/4.9.0-fasrc01\n",
    "\n",
    "module load cuda/7.5-fasrc01\n",
    "module load cudnn/7.0-fasrc01\n",
    "\n",
    "module load opencv/3.0.0-fasrc04\n",
    "\n",
    "# custom HDF5 lib\n",
    "export LIBRARY_PATH=/n/home05/haehn/nolearncox/src/hdf5-1.8.17/hdf5/lib:$LIBRARY_PATH\n",
    "export LD_LIBRARY_PATH=/n/home05/haehn/nolearncox/src/hdf5-1.8.17/hdf5/lib:$LD_LIBRARY_PATH\n",
    "export CPATH=/n/home05/haehn/nolearncox/src/hdf5-1.8.17/hdf5/include:$CPATH\n",
    "export FPATH=/n/home05/haehn/nolearncox/src/hdf5-1.8.17/hdf5/include:$FPATH\n",
    "\n",
    "source /n/home05/haehn/nolearncox/bin/activate\n",
    "\n",
    "# we are working in TEMP\n",
    "cd /n/home05/haehn/Projects/gp/\n",
    "python mergeerrors.py {Z}\n",
    "\n",
    "# end of program\n",
    "exit 0;\n",
    "'''"
   ]
  },
  {
   "cell_type": "code",
   "execution_count": 213,
   "metadata": {
    "collapsed": false
   },
   "outputs": [],
   "source": [
    "for yyy in range(250,300):\n",
    "    bbb = aaa.replace('{Z}', str(yyy))\n",
    "    with open('../slurm/mergeerrors/'+str(yyy)+'.slurm', 'w') as f:\n",
    "        f.write(bbb)"
   ]
  },
  {
   "cell_type": "code",
   "execution_count": 216,
   "metadata": {
    "collapsed": false
   },
   "outputs": [
    {
     "ename": "IOError",
     "evalue": "[Errno 9] Bad file descriptor",
     "output_type": "error",
     "traceback": [
      "\u001b[1;31m---------------------------------------------------------------------------\u001b[0m",
      "\u001b[1;31mIOError\u001b[0m                                   Traceback (most recent call last)",
      "\u001b[1;32m<ipython-input-216-0372e57446bd>\u001b[0m in \u001b[0;36m<module>\u001b[1;34m()\u001b[0m\n\u001b[0;32m      1\u001b[0m \u001b[1;32mwith\u001b[0m \u001b[0mopen\u001b[0m\u001b[1;33m(\u001b[0m\u001b[1;34m'/tmp/'\u001b[0m\u001b[1;33m+\u001b[0m\u001b[0mstr\u001b[0m\u001b[1;33m(\u001b[0m\u001b[0myyy\u001b[0m\u001b[1;33m)\u001b[0m\u001b[1;33m+\u001b[0m\u001b[1;34m'.slurm'\u001b[0m\u001b[1;33m)\u001b[0m \u001b[1;32mas\u001b[0m \u001b[0mf\u001b[0m\u001b[1;33m:\u001b[0m\u001b[1;33m\u001b[0m\u001b[0m\n\u001b[1;32m----> 2\u001b[1;33m         \u001b[0mpickle\u001b[0m\u001b[1;33m.\u001b[0m\u001b[0mdump\u001b[0m\u001b[1;33m(\u001b[0m\u001b[0mbbb\u001b[0m\u001b[1;33m,\u001b[0m\u001b[0mf\u001b[0m\u001b[1;33m)\u001b[0m\u001b[1;33m\u001b[0m\u001b[0m\n\u001b[0m",
      "\u001b[1;31mIOError\u001b[0m: [Errno 9] Bad file descriptor"
     ]
    }
   ],
   "source": [
    "with open('/tmp/'+str(yyy)+'.slurm') as f:\n",
    "        pickle.dump(bbb,f)"
   ]
  },
  {
   "cell_type": "code",
   "execution_count": 258,
   "metadata": {
    "collapsed": true
   },
   "outputs": [],
   "source": [
    "alist = '''\n",
    "          75192294       cox 271.slur    haehn PD       0:00      1 (Resources)\n",
    "          75192315       cox 272.slur    haehn PD       0:00      1 (Priority)\n",
    "          75192348       cox 273.slur    haehn PD       0:00      1 (Priority)\n",
    "          75192349       cox 274.slur    haehn PD       0:00      1 (Priority)\n",
    "          75192350       cox 275.slur    haehn PD       0:00      1 (Priority)\n",
    "          75192351       cox 276.slur    haehn PD       0:00      1 (Priority)\n",
    "          75192352       cox 277.slur    haehn PD       0:00      1 (Priority)\n",
    "          75192353       cox 278.slur    haehn PD       0:00      1 (Priority)\n",
    "          75192364       cox 279.slur    haehn PD       0:00      1 (Priority)\n",
    "          75192390       cox 280.slur    haehn PD       0:00      1 (Priority)\n",
    "          75192398       cox 281.slur    haehn PD       0:00      1 (Priority)\n",
    "          75192405       cox 282.slur    haehn PD       0:00      1 (Priority)\n",
    "          75192460       cox 283.slur    haehn PD       0:00      1 (Priority)\n",
    "          75192481       cox 284.slur    haehn PD       0:00      1 (Priority)\n",
    "          75192527       cox 285.slur    haehn PD       0:00      1 (Priority)\n",
    "          75192572       cox 286.slur    haehn PD       0:00      1 (Priority)\n",
    "          75192583       cox 287.slur    haehn PD       0:00      1 (Priority)\n",
    "          75192607       cox 288.slur    haehn PD       0:00      1 (Priority)\n",
    "          75192608       cox 289.slur    haehn PD       0:00      1 (Priority)\n",
    "          75192609       cox 290.slur    haehn PD       0:00      1 (Priority)\n",
    "          75192610       cox 291.slur    haehn PD       0:00      1 (Priority)\n",
    "          75192611       cox 292.slur    haehn PD       0:00      1 (Priority)\n",
    "          75192622       cox 293.slur    haehn PD       0:00      1 (Priority)\n",
    "          75192623       cox 294.slur    haehn PD       0:00      1 (Priority)\n",
    "          75192685       cox 295.slur    haehn PD       0:00      1 (Priority)\n",
    "          75192686       cox 296.slur    haehn PD       0:00      1 (Priority)\n",
    "          75192687       cox 297.slur    haehn PD       0:00      1 (Priority)\n",
    "          75192688       cox 298.slur    haehn PD       0:00      1 (Priority)\n",
    "          75192699       cox 299.slur    haehn PD       0:00      1 (Priority)\n",
    "          75192283       cox 270.slur    haehn  R    1:02:43      1 coxgpu01\n",
    "          75192271       cox 269.slur    haehn  R    1:19:46      1 coxgpu04\n",
    "          75192260       cox 268.slur    haehn  R    1:19:48      1 coxgpu03\n",
    "          75192257       cox 267.slur    haehn  R    1:19:49      1 coxgpu01\n",
    "          75192246       cox 266.slur    haehn  R    1:19:51      1 coxgpu04\n",
    "          75192235       cox 265.slur    haehn  R    1:19:54      1 coxgpu03\n",
    "          75192216       cox 264.slur    haehn  R    1:19:58      1 coxgpu01\n",
    "          75192210       cox 263.slur    haehn  R    1:19:59      1 coxgpu04\n",
    "          75192191       cox 262.slur    haehn  R    1:20:04      1 coxgpu03\n",
    "          75192179       cox 260.slur    haehn  R    1:20:07      1 coxgpu04\n",
    "          75192180       cox 261.slur    haehn  R    1:20:07      1 coxgpu01\n",
    "          75192122       cox 258.slur    haehn  R    1:20:17      1 coxgpu01\n",
    "          75192124       cox 259.slur    haehn  R    1:20:17      1 coxgpu03\n",
    "          75192105       cox 252.slur    haehn  R    1:20:21      1 coxgpu05\n",
    "          75192107       cox 253.slur    haehn  R    1:20:21      1 coxgpu01\n",
    "          75192108       cox 254.slur    haehn  R    1:20:21      1 coxgpu02\n",
    "          75192109       cox 255.slur    haehn  R    1:20:21      1 coxgpu03\n",
    "          75192110       cox 256.slur    haehn  R    1:20:21      1 coxgpu04\n",
    "          75192111       cox 257.slur    haehn  R    1:20:21      1 coxgpu05\n",
    "          75192104       cox 251.slur    haehn  R    1:20:22      1 coxgpu03\n",
    "          75192093       cox 250.slur    haehn  R    1:20:24      1 coxgpu01\n",
    "\n",
    "'''"
   ]
  },
  {
   "cell_type": "code",
   "execution_count": 259,
   "metadata": {
    "collapsed": false
   },
   "outputs": [],
   "source": [
    "ids = []\n",
    "nsplit = alist.split('\\n')\n",
    "for n in nsplit:\n",
    "    lsplit =  n.split(' ')\n",
    "    for l in lsplit:\n",
    "        if l =='':\n",
    "            continue\n",
    "        else:\n",
    "            ids.append(l)\n",
    "            break"
   ]
  },
  {
   "cell_type": "code",
   "execution_count": 260,
   "metadata": {
    "collapsed": false
   },
   "outputs": [
    {
     "name": "stdout",
     "output_type": "stream",
     "text": [
      "scancel 75192294\n",
      "scancel 75192315\n",
      "scancel 75192348\n",
      "scancel 75192349\n",
      "scancel 75192350\n",
      "scancel 75192351\n",
      "scancel 75192352\n",
      "scancel 75192353\n",
      "scancel 75192364\n",
      "scancel 75192390\n",
      "scancel 75192398\n",
      "scancel 75192405\n",
      "scancel 75192460\n",
      "scancel 75192481\n",
      "scancel 75192527\n",
      "scancel 75192572\n",
      "scancel 75192583\n",
      "scancel 75192607\n",
      "scancel 75192608\n",
      "scancel 75192609\n",
      "scancel 75192610\n",
      "scancel 75192611\n",
      "scancel 75192622\n",
      "scancel 75192623\n",
      "scancel 75192685\n",
      "scancel 75192686\n",
      "scancel 75192687\n",
      "scancel 75192688\n",
      "scancel 75192699\n",
      "scancel 75192283\n",
      "scancel 75192271\n",
      "scancel 75192260\n",
      "scancel 75192257\n",
      "scancel 75192246\n",
      "scancel 75192235\n",
      "scancel 75192216\n",
      "scancel 75192210\n",
      "scancel 75192191\n",
      "scancel 75192179\n",
      "scancel 75192180\n",
      "scancel 75192122\n",
      "scancel 75192124\n",
      "scancel 75192105\n",
      "scancel 75192107\n",
      "scancel 75192108\n",
      "scancel 75192109\n",
      "scancel 75192110\n",
      "scancel 75192111\n",
      "scancel 75192104\n",
      "scancel 75192093\n"
     ]
    }
   ],
   "source": [
    "for i in ids:\n",
    "    print 'scancel '+ i"
   ]
  },
  {
   "cell_type": "code",
   "execution_count": null,
   "metadata": {
    "collapsed": true
   },
   "outputs": [],
   "source": []
  }
 ],
 "metadata": {
  "kernelspec": {
   "display_name": "Python 2",
   "language": "python",
   "name": "python2"
  },
  "language_info": {
   "codemirror_mode": {
    "name": "ipython",
    "version": 2
   },
   "file_extension": ".py",
   "mimetype": "text/x-python",
   "name": "python",
   "nbconvert_exporter": "python",
   "pygments_lexer": "ipython2",
   "version": "2.7.6"
  }
 },
 "nbformat": 4,
 "nbformat_minor": 0
}
