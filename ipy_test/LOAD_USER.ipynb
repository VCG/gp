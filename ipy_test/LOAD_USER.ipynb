{
 "cells": [
  {
   "cell_type": "code",
   "execution_count": 1,
   "metadata": {
    "collapsed": false
   },
   "outputs": [
    {
     "name": "stderr",
     "output_type": "stream",
     "text": [
      "/home/d/nolearn/local/lib/python2.7/site-packages/matplotlib/font_manager.py:273: UserWarning: Matplotlib is building the font cache using fc-list. This may take a moment.\n",
      "  warnings.warn('Matplotlib is building the font cache using fc-list. This may take a moment.')\n",
      "Using gpu device 0: GeForce GTX TITAN (CNMeM is disabled, CuDNN 4007)\n",
      "/home/d/nolearn/local/lib/python2.7/site-packages/theano/tensor/signal/downsample.py:6: UserWarning: downsample module has been moved to the theano.tensor.signal.pool module.\n",
      "  \"downsample module has been moved to the theano.tensor.signal.pool module.\")\n"
     ]
    }
   ],
   "source": [
    "\n",
    "from matplotlib.pyplot import imshow\n",
    "import matplotlib.pyplot as plt\n",
    "\n",
    "%matplotlib inline\n",
    "import numpy as np\n",
    "import sys\n",
    "sys.path.append('../')\n",
    "import gp"
   ]
  },
  {
   "cell_type": "code",
   "execution_count": 2,
   "metadata": {
    "collapsed": true
   },
   "outputs": [],
   "source": [
    "import cPickle as pickle"
   ]
  },
  {
   "cell_type": "code",
   "execution_count": 25,
   "metadata": {
    "collapsed": true
   },
   "outputs": [],
   "source": [
    "FP_USERS = ['/tmp/456fp']\n",
    "GP_USERS = ['/tmp/456gp']"
   ]
  },
  {
   "cell_type": "code",
   "execution_count": 4,
   "metadata": {
    "collapsed": true
   },
   "outputs": [],
   "source": [
    "newrhoana = 'ui_results.p'\n",
    "times = 'times.p'\n",
    "corrections = 'corrections.p'"
   ]
  },
  {
   "cell_type": "code",
   "execution_count": 26,
   "metadata": {
    "collapsed": true
   },
   "outputs": [],
   "source": [
    "with open(FP_USERS[0]+'/'+newrhoana, 'rb') as f:\n",
    "    fp_newrhoana = pickle.load(f)\n",
    "with open(FP_USERS[0]+'/'+times, 'rb') as f:\n",
    "    fp_times = pickle.load(f)\n",
    "    fp_times = [int(v) for v in fp_times]\n",
    "with open(FP_USERS[0]+'/'+corrections, 'rb') as f:\n",
    "    fp_corrections = pickle.load(f)       "
   ]
  },
  {
   "cell_type": "code",
   "execution_count": 15,
   "metadata": {
    "collapsed": true
   },
   "outputs": [],
   "source": [
    "with open(GP_USERS[0]+'/'+newrhoana, 'rb') as f:\n",
    "    gp_newrhoana = pickle.load(f)\n",
    "with open(GP_USERS[0]+'/'+times, 'rb') as f:\n",
    "    gp_times = pickle.load(f)\n",
    "    gp_times = [int(v) for v in gp_times]\n",
    "with open(GP_USERS[0]+'/'+corrections, 'rb') as f:\n",
    "    gp_corrections = pickle.load(f)    "
   ]
  },
  {
   "cell_type": "code",
   "execution_count": 7,
   "metadata": {
    "collapsed": false
   },
   "outputs": [
    {
     "name": "stdout",
     "output_type": "stream",
     "text": [
      "a\n"
     ]
    }
   ],
   "source": [
    "image, prob, gold, rhoana, bb = gp.Legacy.read_dojo_data()"
   ]
  },
  {
   "cell_type": "code",
   "execution_count": 10,
   "metadata": {
    "collapsed": false
   },
   "outputs": [
    {
     "data": {
      "text/plain": [
       "0.4763612343909136"
      ]
     },
     "execution_count": 10,
     "metadata": {},
     "output_type": "execute_result"
    }
   ],
   "source": [
    "gp.Legacy.VI(gold, rhoana)[1]"
   ]
  },
  {
   "cell_type": "code",
   "execution_count": 27,
   "metadata": {
    "collapsed": false
   },
   "outputs": [
    {
     "data": {
      "text/plain": [
       "0.47111684614394322"
      ]
     },
     "execution_count": 27,
     "metadata": {},
     "output_type": "execute_result"
    }
   ],
   "source": [
    "gp.Legacy.VI(gold, fp_newrhoana)[1]"
   ]
  },
  {
   "cell_type": "code",
   "execution_count": 12,
   "metadata": {
    "collapsed": false
   },
   "outputs": [
    {
     "data": {
      "text/plain": [
       "0.46162534464714744"
      ]
     },
     "execution_count": 12,
     "metadata": {},
     "output_type": "execute_result"
    }
   ],
   "source": [
    "gp.Legacy.VI(gold, gp_newrhoana)[1]"
   ]
  },
  {
   "cell_type": "code",
   "execution_count": 19,
   "metadata": {
    "collapsed": false
   },
   "outputs": [
    {
     "data": {
      "text/plain": [
       "[['split', 'current'],\n",
       " ['split', 'current'],\n",
       " ['split', 'current'],\n",
       " ['split', 'current'],\n",
       " ['split', 'current'],\n",
       " ['split', 'current'],\n",
       " ['split', 'current'],\n",
       " ['split', 'current'],\n",
       " ['split', 'current'],\n",
       " ['split', 'current'],\n",
       " ['split', 'current'],\n",
       " ['split', 'current'],\n",
       " ['split', 'current'],\n",
       " ['split', 'current'],\n",
       " ['split', 'current'],\n",
       " ['split', 'current'],\n",
       " ['split', 'current'],\n",
       " ['split', '1'],\n",
       " ['split', 'current'],\n",
       " ['split', 'current'],\n",
       " ['split', 'current'],\n",
       " ['split', 'current'],\n",
       " ['split', '1'],\n",
       " ['split', 'current'],\n",
       " ['split', 'current'],\n",
       " ['split', '1'],\n",
       " ['split', 'current'],\n",
       " ['split', 'current'],\n",
       " ['split', 'current'],\n",
       " ['split', 'current'],\n",
       " ['split', 'current'],\n",
       " ['split', 'current'],\n",
       " ['split', 'current'],\n",
       " ['split', 'current'],\n",
       " ['split', 'current'],\n",
       " ['split', 'current'],\n",
       " ['split', 'current'],\n",
       " ['split', 'current'],\n",
       " ['split', 'current'],\n",
       " ['split', 'current'],\n",
       " ['split', 'current'],\n",
       " ['split', 'current'],\n",
       " ['split', 'current'],\n",
       " ['split', 'current'],\n",
       " ['split', 'current'],\n",
       " ['split', 'current'],\n",
       " ['split', 'current'],\n",
       " ['split', 'current']]"
      ]
     },
     "execution_count": 19,
     "metadata": {},
     "output_type": "execute_result"
    }
   ],
   "source": [
    "fp_corrections"
   ]
  },
  {
   "cell_type": "code",
   "execution_count": 20,
   "metadata": {
    "collapsed": false
   },
   "outputs": [
    {
     "data": {
      "text/plain": [
       "[['merge', '1'],\n",
       " ['merge', 'current'],\n",
       " ['merge', '1'],\n",
       " ['merge', '1'],\n",
       " ['merge', '1'],\n",
       " ['merge', 'current'],\n",
       " ['merge', '1'],\n",
       " ['merge', 'current'],\n",
       " ['merge', 'current'],\n",
       " ['merge', 'current'],\n",
       " ['merge', 'current'],\n",
       " ['merge', 'current'],\n",
       " ['merge', 'current'],\n",
       " ['merge', '1'],\n",
       " ['merge', 'current'],\n",
       " ['merge', 'current'],\n",
       " ['merge', 'current'],\n",
       " ['merge', 'current'],\n",
       " ['merge', 'current'],\n",
       " ['split', '1'],\n",
       " ['split', '1'],\n",
       " ['split', '1'],\n",
       " ['split', '1'],\n",
       " ['split', '1'],\n",
       " ['split', '1'],\n",
       " ['split', '1'],\n",
       " ['split', '1'],\n",
       " ['split', 'current'],\n",
       " ['split', '1'],\n",
       " ['split', '1'],\n",
       " ['split', '1'],\n",
       " ['split', '1'],\n",
       " ['split', 'current'],\n",
       " ['split', '1'],\n",
       " ['split', 'current'],\n",
       " ['split', '1'],\n",
       " ['split', 'current'],\n",
       " ['split', '1'],\n",
       " ['split', 'current'],\n",
       " ['split', '1'],\n",
       " ['split', '1'],\n",
       " ['split', 'current'],\n",
       " ['split', '1'],\n",
       " ['split', '1'],\n",
       " ['split', 'current'],\n",
       " ['split', '1'],\n",
       " ['split', '1'],\n",
       " ['split', '1'],\n",
       " ['split', 'current'],\n",
       " ['split', '1']]"
      ]
     },
     "execution_count": 20,
     "metadata": {},
     "output_type": "execute_result"
    }
   ],
   "source": [
    "gp_corrections"
   ]
  },
  {
   "cell_type": "code",
   "execution_count": 21,
   "metadata": {
    "collapsed": false
   },
   "outputs": [
    {
     "data": {
      "text/plain": [
       "2023.5999999999999"
      ]
     },
     "execution_count": 21,
     "metadata": {},
     "output_type": "execute_result"
    }
   ],
   "source": [
    "np.mean(gp_times)"
   ]
  },
  {
   "cell_type": "code",
   "execution_count": 22,
   "metadata": {
    "collapsed": false
   },
   "outputs": [
    {
     "data": {
      "text/plain": [
       "2245.3125"
      ]
     },
     "execution_count": 22,
     "metadata": {},
     "output_type": "execute_result"
    }
   ],
   "source": [
    "np.mean(fp_times)"
   ]
  },
  {
   "cell_type": "code",
   "execution_count": 24,
   "metadata": {
    "collapsed": false
   },
   "outputs": [
    {
     "data": {
      "text/plain": [
       "50"
      ]
     },
     "execution_count": 24,
     "metadata": {},
     "output_type": "execute_result"
    }
   ],
   "source": [
    "len(gp_corrections)"
   ]
  },
  {
   "cell_type": "code",
   "execution_count": null,
   "metadata": {
    "collapsed": true
   },
   "outputs": [],
   "source": []
  }
 ],
 "metadata": {
  "kernelspec": {
   "display_name": "Python 2",
   "language": "python",
   "name": "python2"
  },
  "language_info": {
   "codemirror_mode": {
    "name": "ipython",
    "version": 2
   },
   "file_extension": ".py",
   "mimetype": "text/x-python",
   "name": "python",
   "nbconvert_exporter": "python",
   "pygments_lexer": "ipython2",
   "version": "2.7.6"
  }
 },
 "nbformat": 4,
 "nbformat_minor": 0
}
