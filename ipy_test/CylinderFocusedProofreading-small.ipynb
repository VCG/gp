{
 "cells": [
  {
   "cell_type": "code",
   "execution_count": 1,
   "metadata": {
    "collapsed": true
   },
   "outputs": [],
   "source": [
    "\n",
    "from matplotlib.pyplot import imshow\n",
    "import matplotlib.pyplot as plt\n",
    "\n",
    "%matplotlib inline"
   ]
  },
  {
   "cell_type": "code",
   "execution_count": 2,
   "metadata": {
    "collapsed": false
   },
   "outputs": [
    {
     "name": "stderr",
     "output_type": "stream",
     "text": [
      "Using gpu device 0: GeForce GTX TITAN (CNMeM is disabled, CuDNN 4007)\n",
      "/home/d/nolearn/local/lib/python2.7/site-packages/theano/tensor/signal/downsample.py:6: UserWarning: downsample module has been moved to the theano.tensor.signal.pool module.\n",
      "  \"downsample module has been moved to the theano.tensor.signal.pool module.\")\n"
     ]
    }
   ],
   "source": [
    "import cPickle as pickle\n",
    "import os; import sys; sys.path.append('..')\n",
    "import gp\n",
    "import gp.nets as nets"
   ]
  },
  {
   "cell_type": "code",
   "execution_count": 3,
   "metadata": {
    "collapsed": true
   },
   "outputs": [],
   "source": [
    "import numpy as np\n",
    "import mahotas as mh\n",
    "import h5py"
   ]
  },
  {
   "cell_type": "code",
   "execution_count": 9,
   "metadata": {
    "collapsed": false
   },
   "outputs": [
    {
     "name": "stdout",
     "output_type": "stream",
     "text": [
      "generated transforms.\n"
     ]
    }
   ],
   "source": [
    "import glob\n",
    "golds = np.zeros((50,512,512), dtype=np.uint64)\n",
    "\n",
    "path = '/home/d/data/cylinderNEW/'\n",
    "for z in range(50,100):\n",
    "    gold = sorted(glob.glob(os.path.join(path, 'gold', '*'+str(z)+'.png')))\n",
    "    gold = mh.imread(gold[0])\n",
    "    gold_single = np.zeros((gold.shape[0], gold.shape[1]), dtype=np.uint64)\n",
    "    gold_single[:, :] = gold[:,:,0]*256*256 + gold[:,:,1]*256 + gold[:,:,2]\n",
    "    \n",
    "    golds[z-50] = gold_single[768:768+512,768:768+512]\n",
    "#\n",
    "# create gold h5 for neuroproof\n",
    "#\n",
    "all_labels = mh.fullhistogram(golds.astype(np.uint64))\n",
    "all_labels = np.where(all_labels!=0)\n",
    "\n",
    "transforms = np.zeros((all_labels[0].shape[0],2), dtype=np.uint64)\n",
    "transforms[:,0] = all_labels[0]\n",
    "transforms[:,1] = all_labels[0]\n",
    "print 'generated transforms.'\n",
    "\n",
    "with h5py.File('/home/d/fp_data/c_gold_small.h5', 'w') as hf:\n",
    "    hf.create_dataset('stack', data=golds)\n",
    "    hf.create_dataset('transforms', data=transforms)"
   ]
  },
  {
   "cell_type": "code",
   "execution_count": 7,
   "metadata": {
    "collapsed": true
   },
   "outputs": [],
   "source": [
    "import glob\n",
    "rhoanas = np.zeros((50,512,512), dtype=np.uint64)\n",
    "\n",
    "path = '/home/d/data/cylinderNEW/'\n",
    "for z in range(50,100):\n",
    "    rhoana = sorted(glob.glob(os.path.join(path, 'rhoana', '*'+str(z)+'.png')))\n",
    "    rhoana = mh.imread(rhoana[0])\n",
    "    rhoana_single = np.zeros((rhoana.shape[0], rhoana.shape[1]), dtype=np.uint64)\n",
    "    rhoana_single[:, :] = rhoana[:,:,0]*256*256 + rhoana[:,:,1]*256 + rhoana[:,:,2]\n",
    "    \n",
    "    rhoanas[z-50] = rhoana_single[768:768+512,768:768+512]\n",
    "    \n",
    "#\n",
    "# create rhoana h5 for neuroproof\n",
    "#\n",
    "all_labels = mh.fullhistogram(rhoanas.astype(np.uint64))\n",
    "all_labels = np.where(all_labels!=0)\n",
    "\n",
    "transforms = np.zeros((all_labels[0].shape[0],2), dtype=np.uint64)\n",
    "transforms[:,0] = all_labels[0]\n",
    "transforms[:,1] = all_labels[0]\n",
    "\n",
    "with h5py.File('/home/d/fp_data/training/c_rhoana_small.h5', 'w') as hf:\n",
    "    hf.create_dataset('stack', data=rhoanas)\n",
    "    hf.create_dataset('transforms', data=transforms)"
   ]
  },
  {
   "cell_type": "code",
   "execution_count": null,
   "metadata": {
    "collapsed": true
   },
   "outputs": [],
   "source": []
  },
  {
   "cell_type": "code",
   "execution_count": 8,
   "metadata": {
    "collapsed": false
   },
   "outputs": [],
   "source": [
    "import glob\n",
    "import tifffile as tif\n",
    "probs = np.zeros((50,512,512), dtype=np.uint64)\n",
    "\n",
    "path = '/home/d/data/cylinderNEW/'\n",
    "for z in range(50,100):\n",
    "    prob = sorted(glob.glob(os.path.join(path, 'prob', '*'+str(z)+'.tif')))\n",
    "    prob = tif.imread(prob[0])\n",
    "    mask = sorted(glob.glob(os.path.join(path, 'mask', '*'+str(z)+'.png')))\n",
    "    mask = mh.imread(mask[0]).astype(np.bool)\n",
    "    masked_prob = prob\n",
    "    masked_prob = 255 - masked_prob\n",
    "    masked_prob[mask==0] = 0\n",
    "    \n",
    "    probs[z-50] = masked_prob[768:768+512,768:768+512]\n",
    "    \n",
    "\n",
    "#\n",
    "# create prob h5 for neuroproof\n",
    "#\n",
    "p1 = probs\n",
    "# has to be x,y,z\n",
    "p1 = p1.swapaxes(0,2)\n",
    "p1 = p1.swapaxes(0,1)\n",
    "\n",
    "p2 = p1.copy()\n",
    "p2 = 255-p2\n",
    "p_2channels = np.zeros((probs.shape[2],probs.shape[1],probs.shape[0],2), dtype=np.float32)\n",
    "p_2channels[:,:,:,0] = p1 / 255.\n",
    "p_2channels[:,:,:,1] = p2 / 255.\n",
    "with h5py.File('/home/d/fp_data/training/c_prob_small.h5', 'w') as hf:\n",
    "    hf.create_dataset('volume/predictions', data=p_2channels)"
   ]
  },
  {
   "cell_type": "code",
   "execution_count": 4,
   "metadata": {
    "collapsed": true
   },
   "outputs": [],
   "source": [
    "sys.path.append('../gp/')"
   ]
  },
  {
   "cell_type": "code",
   "execution_count": null,
   "metadata": {
    "collapsed": true
   },
   "outputs": [],
   "source": []
  },
  {
   "cell_type": "code",
   "execution_count": null,
   "metadata": {
    "collapsed": true
   },
   "outputs": [],
   "source": []
  }
 ],
 "metadata": {
  "kernelspec": {
   "display_name": "Python 2",
   "language": "python",
   "name": "python2"
  },
  "language_info": {
   "codemirror_mode": {
    "name": "ipython",
    "version": 2
   },
   "file_extension": ".py",
   "mimetype": "text/x-python",
   "name": "python",
   "nbconvert_exporter": "python",
   "pygments_lexer": "ipython2",
   "version": "2.7.6"
  }
 },
 "nbformat": 4,
 "nbformat_minor": 0
}
