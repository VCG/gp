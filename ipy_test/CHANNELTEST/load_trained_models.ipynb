{
 "cells": [
  {
   "cell_type": "code",
   "execution_count": 1,
   "metadata": {
    "collapsed": false
   },
   "outputs": [
    {
     "name": "stderr",
     "output_type": "stream",
     "text": [
      "Using gpu device 0: GeForce GTX TITAN (CNMeM is disabled, CuDNN 4007)\n",
      "/home/d/nolearnNEW/local/lib/python2.7/site-packages/theano/tensor/signal/downsample.py:6: UserWarning: downsample module has been moved to the theano.tensor.signal.pool module.\n",
      "  \"downsample module has been moved to the theano.tensor.signal.pool module.\")\n"
     ]
    }
   ],
   "source": [
    "import matplotlib\n",
    "matplotlib.use('agg')\n",
    "import cPickle as pickle\n",
    "import os; import sys; sys.path.append('../../')\n",
    "import gp\n",
    "import gp.nets as nets\n"
   ]
  },
  {
   "cell_type": "code",
   "execution_count": 2,
   "metadata": {
    "collapsed": true
   },
   "outputs": [],
   "source": [
    "\n",
    "from sklearn.metrics import classification_report, accuracy_score, roc_curve, auc, precision_recall_fscore_support, f1_score, precision_recall_curve, average_precision_score, zero_one_loss\n",
    "import numpy as np\n",
    "import time"
   ]
  },
  {
   "cell_type": "code",
   "execution_count": 3,
   "metadata": {
    "collapsed": true
   },
   "outputs": [],
   "source": [
    "def r_d(cnn):\n",
    "    # load dojo data\n",
    "    input_image, input_prob, input_gold, input_rhoana, dojo_bbox = gp.Legacy.read_dojo_data()\n",
    "\n",
    "\n",
    "    original_mean_VI, original_median_VI, original_VI_s = gp.Legacy.VI(input_gold, input_rhoana)\n",
    "\n",
    "    # output folder for anything to store\n",
    "    output_folder = '/home/d/netstatsCVPR2018/'+cnn.uuid+'/'\n",
    "    if not os.path.exists(output_folder):\n",
    "      os.makedirs(output_folder)\n",
    "\n",
    "#     # find merge errors, if we did not generate them before\n",
    "#     merge_error_file = output_folder+'/merges_new_cnn.p'\n",
    "#     if os.path.exists(merge_error_file):\n",
    "#       print 'Loading merge errors from file..'\n",
    "#       with open(merge_error_file, 'rb') as f:\n",
    "#         merge_errors = pickle.load(f)\n",
    "#     else:\n",
    "#       print 'Finding Top 5 merge errors..'\n",
    "#       merge_errors = gp.Legacy.get_top5_merge_errors(cnn, input_image, input_prob, input_rhoana)\n",
    "#       with open(merge_error_file, 'wb') as f:\n",
    "#         pickle.dump(merge_errors, f)\n",
    "\n",
    "#     print len(merge_errors), ' merge errors found.'\n",
    "\n",
    "    # we need to create a bigM for the dojo volume\n",
    "    bigM_dojo_file = output_folder + '/bigM_dojo_test2.p'\n",
    "    if os.path.exists(bigM_dojo_file):\n",
    "      print 'Loading dojo bigM from file..'\n",
    "      with open(bigM_dojo_file, 'rb') as f:\n",
    "        bigM_dojo = pickle.load(f)\n",
    "    else:\n",
    "      print 'Creating dojo bigM..'\n",
    "      bigM_dojo = gp.Legacy.create_bigM_without_mask(cnn, input_image, input_prob, input_rhoana, verbose=False)\n",
    "      with open(bigM_dojo_file, 'wb') as f:\n",
    "        pickle.dump(bigM_dojo, f)    \n",
    "\n",
    "\n",
    "\n",
    "    print\n",
    "    dojo_vi_95_file = output_folder + '/dojo_vi_95_t6.p'\n",
    "\n",
    "    dojo_merge_vis = output_folder + '/dojo_merge_auto95_vis.p'\n",
    "    dojo_split_vis = output_folder + '/dojo_split_auto95_vis.p'\n",
    "\n",
    "    dojo_merge_fixes = output_folder + '/dojo_merge_auto95_fixes.p'\n",
    "    dojo_split_fixes = output_folder + '/dojo_split_auto95_fixes.p'\n",
    "\n",
    "    dojo_output_95 = output_folder + '/dojo_auto95_output.p'\n",
    "\n",
    "    if os.path.exists(dojo_vi_95_file):\n",
    "      print 'Loading merge errors p < .05 and split errors p > .95 from file..'\n",
    "      with open(dojo_vi_95_file, 'rb') as f:\n",
    "        dojo_vi_95 = pickle.load(f)\n",
    "    else:      \n",
    "#       #\n",
    "#       # perform merge correction with p < .05\n",
    "#       #\n",
    "#       print 'Correcting merge errors with p < .05'\n",
    "#       bigM_dojo_05, corrected_rhoana_05, dojo_auto_merge_fixes, vi_s_per_step = gp.Legacy.perform_auto_merge_correction(cnn, bigM_dojo, input_image, input_prob, input_rhoana, merge_errors, .05, input_gold=input_gold)\n",
    "\n",
    "#       print '   Mean VI improvement', original_mean_VI-gp.Legacy.VI(input_gold, corrected_rhoana_05)[0]\n",
    "#       print '   Median VI improvement', original_median_VI-gp.Legacy.VI(input_gold, corrected_rhoana_05)[1]\n",
    "\n",
    "#       with open(dojo_merge_vis, 'wb') as f:\n",
    "#         pickle.dump(vi_s_per_step, f)\n",
    "\n",
    "\n",
    "#       with open(dojo_merge_fixes, 'wb') as f:\n",
    "#         pickle.dump(dojo_auto_merge_fixes, f) \n",
    "\n",
    "      #\n",
    "      # perform split correction with p > .95\n",
    "      #\n",
    "      print 'Correcting split errors with p > .95'\n",
    "      bigM_dojo_after_95, out_dojo_volume_after_auto_95, dojo_auto_fixes_95, dojo_auto_vi_s_95, vi_s_per_step2 = gp.Legacy.splits_global_from_M_automatic(cnn, bigM_dojo, input_image, input_prob, input_rhoana, input_gold, sureness_threshold=.95)\n",
    "\n",
    "      dojo_vi_95 = gp.Legacy.VI(input_gold, out_dojo_volume_after_auto_95)\n",
    "\n",
    "      with open(dojo_vi_95_file, 'wb') as f:\n",
    "        pickle.dump(dojo_vi_95, f)\n",
    "\n",
    "      with open(dojo_split_vis, 'wb') as f:\n",
    "        pickle.dump(vi_s_per_step2, f)\n",
    "\n",
    "      with open(dojo_split_fixes, 'wb') as f:\n",
    "        pickle.dump(dojo_auto_fixes_95, f)       \n",
    "\n",
    "      with open(dojo_output_95, 'wb') as f:\n",
    "        pickle.dump(out_dojo_volume_after_auto_95, f) \n",
    "\n",
    "    print '   Mean VI improvement', original_mean_VI-dojo_vi_95[0]\n",
    "    print '   Median VI improvement', original_median_VI-dojo_vi_95[1]"
   ]
  },
  {
   "cell_type": "code",
   "execution_count": null,
   "metadata": {
    "collapsed": true
   },
   "outputs": [],
   "source": []
  },
  {
   "cell_type": "code",
   "execution_count": null,
   "metadata": {
    "collapsed": true
   },
   "outputs": [],
   "source": []
  },
  {
   "cell_type": "code",
   "execution_count": null,
   "metadata": {
    "collapsed": true
   },
   "outputs": [],
   "source": []
  },
  {
   "cell_type": "code",
   "execution_count": 4,
   "metadata": {
    "collapsed": false
   },
   "outputs": [
    {
     "name": "stdout",
     "output_type": "stream",
     "text": [
      "['../../nets/IP_FULL.p', '../../nets/IPLB_FULL.p', '../../nets/IPM_FULL.p', '../../nets/IPMB_FULL.p', '../../nets/IPMLB_FULL.p']\n"
     ]
    }
   ],
   "source": [
    "NETS = []\n",
    "NETS.append('../../nets/IP_FULL.p') # image + prob\n",
    "NETS.append('../../nets/IPLB_FULL.p') # image + prob + large border\n",
    "NETS.append('../../nets/IPM_FULL.p') # image + prob + binary\n",
    "NETS.append('../../nets/IPMB_FULL.p') # image + prob + binary + border\n",
    "NETS.append('../../nets/IPMLB_FULL.p') # image + prob + binary + large border\n",
    "print NETS"
   ]
  },
  {
   "cell_type": "code",
   "execution_count": 5,
   "metadata": {
    "collapsed": true
   },
   "outputs": [],
   "source": [
    "roc1 = []\n",
    "roc2 = []"
   ]
  },
  {
   "cell_type": "code",
   "execution_count": 6,
   "metadata": {
    "collapsed": false
   },
   "outputs": [
    {
     "name": "stdout",
     "output_type": "stream",
     "text": [
      "Loaded /home/d/patches//ipm/ in 0.000557899475098 seconds.\n",
      "\n",
      "Precision/Recall:\n",
      "             precision    recall  f1-score   support\n",
      "\n",
      "          0       0.93      0.93      0.93      8780\n",
      "          1       0.93      0.93      0.93      8780\n",
      "\n",
      "avg / total       0.93      0.93      0.93     17560\n",
      "\n",
      "Test Accuracy: 0.930751708428\n",
      "Accuracy Score: 0.930751708428\n",
      "AUC 0.930751708428\n",
      "AUC2 0.976341291297\n",
      "Loading dojo bigM from file..\n",
      "\n",
      "Loading merge errors p < .05 and split errors p > .95 from file..\n",
      "   Mean VI improvement -0.0525508655709\n",
      "   Median VI improvement -0.0940296057779\n",
      "0.524357795715 seconds\n"
     ]
    }
   ],
   "source": [
    "#\n",
    "# image + prob\n",
    "#\n",
    "network_path = NETS[0]\n",
    "\n",
    "with open(network_path, 'rb') as f:\n",
    "    net = pickle.load(f)\n",
    "X_test, y_test = gp.Patch.load_rgb_test_only('ipm')\n",
    "X_test = X_test[:,:2,:,:]\n",
    "test_prediction = net.predict(X_test)\n",
    "test_prediction_prob = net.predict_proba(X_test)\n",
    "print\n",
    "print 'Precision/Recall:'\n",
    "print classification_report(y_test, test_prediction)\n",
    "test_acc = net.score(X_test, y_test)\n",
    "acc_score = accuracy_score(y_test, test_prediction)\n",
    "print 'Test Accuracy:', test_acc\n",
    "print 'Accuracy Score:', acc_score\n",
    "\n",
    "fpr, tpr, thresholds = roc_curve(y_test, test_prediction)\n",
    "area = auc(fpr, tpr)\n",
    "print 'AUC', area\n",
    "\n",
    "fpr2, tpr2, thresholds = roc_curve(y_test, test_prediction_prob[:,1])\n",
    "area2 = auc(fpr2, tpr2)\n",
    "print 'AUC2', area2\n",
    "\n",
    "roc1.append({'ip':[fpr,tpr,area]})\n",
    "roc2.append({'ip':[fpr2,tpr2,area2]})\n",
    "\n",
    "t0 = time.time()\n",
    "net.uuid = 'IP'\n",
    "\n",
    "r_d(net)\n",
    "print time.time()-t0, 'seconds'"
   ]
  },
  {
   "cell_type": "code",
   "execution_count": 7,
   "metadata": {
    "collapsed": false
   },
   "outputs": [
    {
     "name": "stdout",
     "output_type": "stream",
     "text": [
      "Loaded /home/d/patches//ipmlb/ in 0.000622987747192 seconds.\n",
      "\n",
      "Precision/Recall:\n",
      "             precision    recall  f1-score   support\n",
      "\n",
      "          0       0.94      0.93      0.93      8780\n",
      "          1       0.93      0.94      0.93      8780\n",
      "\n",
      "avg / total       0.93      0.93      0.93     17560\n",
      "\n",
      "Test Accuracy: 0.93416856492\n",
      "Accuracy Score: 0.93416856492\n",
      "AUC 0.93416856492\n",
      "AUC2 0.977153423861\n",
      "Creating dojo bigM..\n",
      "\n",
      "Correcting split errors with p > .95\n",
      "0.949605703354\n",
      "   Mean VI improvement -0.0495787095106\n",
      "   Median VI improvement -0.0454378034722\n",
      "89.3720331192 seconds\n"
     ]
    }
   ],
   "source": [
    "#\n",
    "# image + prob + large border\n",
    "#\n",
    "network_path = NETS[1]\n",
    "\n",
    "with open(network_path, 'rb') as f:\n",
    "    net = pickle.load(f)\n",
    "X_test, y_test = gp.Patch.load_rgba_test_only('ipmlb')\n",
    "X_test = np.delete(X_test, [2], axis=1) ### Remove binary mask\n",
    "test_prediction = net.predict(X_test)\n",
    "test_prediction_prob = net.predict_proba(X_test)\n",
    "print\n",
    "print 'Precision/Recall:'\n",
    "print classification_report(y_test, test_prediction)\n",
    "test_acc = net.score(X_test, y_test)\n",
    "acc_score = accuracy_score(y_test, test_prediction)\n",
    "print 'Test Accuracy:', test_acc\n",
    "print 'Accuracy Score:', acc_score\n",
    "\n",
    "fpr, tpr, thresholds = roc_curve(y_test, test_prediction)\n",
    "area = auc(fpr, tpr)\n",
    "print 'AUC', area\n",
    "\n",
    "fpr2, tpr2, thresholds = roc_curve(y_test, test_prediction_prob[:,1])\n",
    "area2 = auc(fpr2, tpr2)\n",
    "print 'AUC2', area2\n",
    "\n",
    "roc1.append({'iplb':[fpr,tpr,area]})\n",
    "roc2.append({'iplb':[fpr2,tpr2,area2]})\n",
    "\n",
    "t0 = time.time()\n",
    "net.uuid = 'IPLB'\n",
    "\n",
    "r_d(net)\n",
    "print time.time()-t0, 'seconds'"
   ]
  },
  {
   "cell_type": "code",
   "execution_count": 8,
   "metadata": {
    "collapsed": false
   },
   "outputs": [
    {
     "name": "stdout",
     "output_type": "stream",
     "text": [
      "Loaded /home/d/patches//ipm/ in 0.000749111175537 seconds.\n",
      "\n",
      "Precision/Recall:\n",
      "             precision    recall  f1-score   support\n",
      "\n",
      "          0       0.96      0.93      0.95      8780\n",
      "          1       0.94      0.96      0.95      8780\n",
      "\n",
      "avg / total       0.95      0.95      0.95     17560\n",
      "\n",
      "Test Accuracy: 0.94589977221\n",
      "Accuracy Score: 0.94589977221\n",
      "AUC 0.94589977221\n",
      "AUC2 0.981611396786\n",
      "Creating dojo bigM..\n",
      "\n",
      "Correcting split errors with p > .95\n",
      "0.948920488358\n",
      "   Mean VI improvement 0.0674340722156\n",
      "   Median VI improvement 0.0375489327085\n",
      "80.0580239296 seconds\n"
     ]
    }
   ],
   "source": [
    "#\n",
    "# image + prob + binary\n",
    "#\n",
    "network_path = NETS[2]\n",
    "\n",
    "with open(network_path, 'rb') as f:\n",
    "    net = pickle.load(f)\n",
    "X_test, y_test = gp.Patch.load_rgb_test_only('ipm')\n",
    "test_prediction = net.predict(X_test)\n",
    "test_prediction_prob = net.predict_proba(X_test)\n",
    "print\n",
    "print 'Precision/Recall:'\n",
    "print classification_report(y_test, test_prediction)\n",
    "test_acc = net.score(X_test, y_test)\n",
    "acc_score = accuracy_score(y_test, test_prediction)\n",
    "print 'Test Accuracy:', test_acc\n",
    "print 'Accuracy Score:', acc_score\n",
    "\n",
    "fpr, tpr, thresholds = roc_curve(y_test, test_prediction)\n",
    "area = auc(fpr, tpr)\n",
    "print 'AUC', area\n",
    "\n",
    "fpr2, tpr2, thresholds = roc_curve(y_test, test_prediction_prob[:,1])\n",
    "area2 = auc(fpr2, tpr2)\n",
    "print 'AUC2', area2\n",
    "\n",
    "roc1.append({'ipm':[fpr,tpr,area]})\n",
    "roc2.append({'ipm':[fpr2,tpr2,area2]})\n",
    "\n",
    "t0 = time.time()\n",
    "net.uuid = 'IPM'\n",
    "\n",
    "r_d(net)\n",
    "print time.time()-t0, 'seconds'"
   ]
  },
  {
   "cell_type": "code",
   "execution_count": 9,
   "metadata": {
    "collapsed": false
   },
   "outputs": [
    {
     "name": "stdout",
     "output_type": "stream",
     "text": [
      "Loaded /home/d/patches//ipmb/ in 0.000653028488159 seconds.\n",
      "\n",
      "Precision/Recall:\n",
      "             precision    recall  f1-score   support\n",
      "\n",
      "          0       0.96      0.93      0.94      8780\n",
      "          1       0.93      0.96      0.94      8780\n",
      "\n",
      "avg / total       0.94      0.94      0.94     17560\n",
      "\n",
      "Test Accuracy: 0.941913439636\n",
      "Accuracy Score: 0.941913439636\n",
      "AUC 0.941913439636\n",
      "AUC2 0.980475713596\n",
      "Creating dojo bigM..\n",
      "\n",
      "Correcting split errors with p > .95\n",
      "0.948849976063\n",
      "   Mean VI improvement 0.0482445146756\n",
      "   Median VI improvement 0.0297952587975\n",
      "72.8156981468 seconds\n"
     ]
    }
   ],
   "source": [
    "#\n",
    "# image + prob + binary + border\n",
    "#\n",
    "network_path = NETS[3]\n",
    "\n",
    "with open(network_path, 'rb') as f:\n",
    "    net = pickle.load(f)\n",
    "X_test, y_test = gp.Patch.load_rgba_test_only('ipmb')\n",
    "test_prediction = net.predict(X_test)\n",
    "test_prediction_prob = net.predict_proba(X_test)\n",
    "print\n",
    "print 'Precision/Recall:'\n",
    "print classification_report(y_test, test_prediction)\n",
    "test_acc = net.score(X_test, y_test)\n",
    "acc_score = accuracy_score(y_test, test_prediction)\n",
    "print 'Test Accuracy:', test_acc\n",
    "print 'Accuracy Score:', acc_score\n",
    "\n",
    "fpr, tpr, thresholds = roc_curve(y_test, test_prediction)\n",
    "area = auc(fpr, tpr)\n",
    "print 'AUC', area\n",
    "\n",
    "fpr2, tpr2, thresholds = roc_curve(y_test, test_prediction_prob[:,1])\n",
    "area2 = auc(fpr2, tpr2)\n",
    "print 'AUC2', area2\n",
    "\n",
    "roc1.append({'ipmb':[fpr,tpr,area]})\n",
    "roc2.append({'ipmb':[fpr2,tpr2,area2]})\n",
    "\n",
    "t0 = time.time()\n",
    "net.uuid = 'IPMB'\n",
    "\n",
    "r_d(net)\n",
    "print time.time()-t0, 'seconds'"
   ]
  },
  {
   "cell_type": "code",
   "execution_count": 10,
   "metadata": {
    "collapsed": false
   },
   "outputs": [
    {
     "name": "stdout",
     "output_type": "stream",
     "text": [
      "Loaded /home/d/patches//ipmlb/ in 0.000657081604004 seconds.\n",
      "\n",
      "Precision/Recall:\n",
      "             precision    recall  f1-score   support\n",
      "\n",
      "          0       0.96      0.92      0.94      8780\n",
      "          1       0.92      0.96      0.94      8780\n",
      "\n",
      "avg / total       0.94      0.94      0.94     17560\n",
      "\n",
      "Test Accuracy: 0.940432801822\n",
      "Accuracy Score: 0.940432801822\n",
      "AUC 0.940432801822\n",
      "AUC2 0.981324116209\n",
      "Loading dojo bigM from file..\n",
      "\n",
      "Loading merge errors p < .05 and split errors p > .95 from file..\n",
      "   Mean VI improvement 0.068019259828\n",
      "   Median VI improvement 0.0645071604178\n",
      "0.503564119339 seconds\n"
     ]
    }
   ],
   "source": [
    "#\n",
    "# image + prob + binary + large border\n",
    "#\n",
    "network_path = NETS[4]\n",
    "\n",
    "with open(network_path, 'rb') as f:\n",
    "    net = pickle.load(f)\n",
    "X_test, y_test = gp.Patch.load_rgba_test_only('ipmlb')\n",
    "test_prediction = net.predict(X_test)\n",
    "test_prediction_prob = net.predict_proba(X_test)\n",
    "print\n",
    "print 'Precision/Recall:'\n",
    "print classification_report(y_test, test_prediction)\n",
    "test_acc = net.score(X_test, y_test)\n",
    "acc_score = accuracy_score(y_test, test_prediction)\n",
    "print 'Test Accuracy:', test_acc\n",
    "print 'Accuracy Score:', acc_score\n",
    "\n",
    "fpr, tpr, thresholds = roc_curve(y_test, test_prediction)\n",
    "area = auc(fpr, tpr)\n",
    "print 'AUC', area\n",
    "\n",
    "fpr2, tpr2, thresholds = roc_curve(y_test, test_prediction_prob[:,1])\n",
    "area2 = auc(fpr2, tpr2)\n",
    "print 'AUC2', area2\n",
    "\n",
    "roc1.append({'ipmlb':[fpr,tpr,area]})\n",
    "roc2.append({'ipmlb':[fpr2,tpr2,area2]})\n",
    "\n",
    "t0 = time.time()\n",
    "net.uuid = 'IPMLB'\n",
    "\n",
    "r_d(net)\n",
    "print time.time()-t0, 'seconds'"
   ]
  },
  {
   "cell_type": "code",
   "execution_count": 11,
   "metadata": {
    "collapsed": false
   },
   "outputs": [
    {
     "ename": "AttributeError",
     "evalue": "'NeuralNet' object has no attribute 'input_names'",
     "output_type": "error",
     "traceback": [
      "\u001b[1;31m---------------------------------------------------------------------------\u001b[0m",
      "\u001b[1;31mAttributeError\u001b[0m                            Traceback (most recent call last)",
      "\u001b[1;32m<ipython-input-11-b25f8037d147>\u001b[0m in \u001b[0;36m<module>\u001b[1;34m()\u001b[0m\n\u001b[1;32m----> 1\u001b[1;33m \u001b[0mnet\u001b[0m\u001b[1;33m.\u001b[0m\u001b[0minput_names\u001b[0m\u001b[1;33m\u001b[0m\u001b[0m\n\u001b[0m",
      "\u001b[1;31mAttributeError\u001b[0m: 'NeuralNet' object has no attribute 'input_names'"
     ]
    }
   ],
   "source": [
    "net.input_names"
   ]
  },
  {
   "cell_type": "code",
   "execution_count": null,
   "metadata": {
    "collapsed": false
   },
   "outputs": [],
   "source": [
    "\n",
    "%pylab inline\n",
    "import time"
   ]
  },
  {
   "cell_type": "code",
   "execution_count": null,
   "metadata": {
    "collapsed": false
   },
   "outputs": [],
   "source": []
  },
  {
   "cell_type": "code",
   "execution_count": null,
   "metadata": {
    "collapsed": true
   },
   "outputs": [],
   "source": []
  },
  {
   "cell_type": "code",
   "execution_count": null,
   "metadata": {
    "collapsed": false
   },
   "outputs": [],
   "source": []
  },
  {
   "cell_type": "code",
   "execution_count": null,
   "metadata": {
    "collapsed": true
   },
   "outputs": [],
   "source": []
  },
  {
   "cell_type": "code",
   "execution_count": null,
   "metadata": {
    "collapsed": true
   },
   "outputs": [],
   "source": []
  }
 ],
 "metadata": {
  "kernelspec": {
   "display_name": "Python 2",
   "language": "python",
   "name": "python2"
  },
  "language_info": {
   "codemirror_mode": {
    "name": "ipython",
    "version": 2
   },
   "file_extension": ".py",
   "mimetype": "text/x-python",
   "name": "python",
   "nbconvert_exporter": "python",
   "pygments_lexer": "ipython2",
   "version": "2.7.12"
  }
 },
 "nbformat": 4,
 "nbformat_minor": 0
}
