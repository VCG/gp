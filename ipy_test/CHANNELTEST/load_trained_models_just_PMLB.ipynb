{
 "cells": [
  {
   "cell_type": "code",
   "execution_count": 1,
   "metadata": {
    "collapsed": false
   },
   "outputs": [
    {
     "name": "stderr",
     "output_type": "stream",
     "text": [
      "Using gpu device 0: GeForce GTX TITAN (CNMeM is disabled, CuDNN 4007)\n",
      "/home/d/nolearnNEW/local/lib/python2.7/site-packages/theano/tensor/signal/downsample.py:6: UserWarning: downsample module has been moved to the theano.tensor.signal.pool module.\n",
      "  \"downsample module has been moved to the theano.tensor.signal.pool module.\")\n"
     ]
    }
   ],
   "source": [
    "import matplotlib\n",
    "matplotlib.use('agg')\n",
    "import cPickle as pickle\n",
    "import os; import sys; sys.path.append('../../')\n",
    "import gp\n",
    "import gp.nets as nets\n"
   ]
  },
  {
   "cell_type": "code",
   "execution_count": 2,
   "metadata": {
    "collapsed": true
   },
   "outputs": [],
   "source": [
    "\n",
    "from sklearn.metrics import classification_report, accuracy_score, roc_curve, auc, precision_recall_fscore_support, f1_score, precision_recall_curve, average_precision_score, zero_one_loss\n",
    "import numpy as np\n",
    "import time"
   ]
  },
  {
   "cell_type": "code",
   "execution_count": 3,
   "metadata": {
    "collapsed": true
   },
   "outputs": [],
   "source": [
    "def r_d(cnn):\n",
    "    # load dojo data\n",
    "    input_image, input_prob, input_gold, input_rhoana, dojo_bbox = gp.Legacy.read_dojo_data()\n",
    "\n",
    "\n",
    "    original_mean_VI, original_median_VI, original_VI_s = gp.Legacy.VI(input_gold, input_rhoana)\n",
    "\n",
    "    # output folder for anything to store\n",
    "    output_folder = '/home/d/netstatsCVPR2018/'+cnn.uuid+'/'\n",
    "    if not os.path.exists(output_folder):\n",
    "      os.makedirs(output_folder)\n",
    "\n",
    "#     # find merge errors, if we did not generate them before\n",
    "#     merge_error_file = output_folder+'/merges_new_cnn.p'\n",
    "#     if os.path.exists(merge_error_file):\n",
    "#       print 'Loading merge errors from file..'\n",
    "#       with open(merge_error_file, 'rb') as f:\n",
    "#         merge_errors = pickle.load(f)\n",
    "#     else:\n",
    "#       print 'Finding Top 5 merge errors..'\n",
    "#       merge_errors = gp.Legacy.get_top5_merge_errors(cnn, input_image, input_prob, input_rhoana)\n",
    "#       with open(merge_error_file, 'wb') as f:\n",
    "#         pickle.dump(merge_errors, f)\n",
    "\n",
    "#     print len(merge_errors), ' merge errors found.'\n",
    "\n",
    "    # we need to create a bigM for the dojo volume\n",
    "    bigM_dojo_file = output_folder + '/bigM_dojo_test2.p'\n",
    "    if os.path.exists(bigM_dojo_file):\n",
    "      print 'Loading dojo bigM from file..'\n",
    "      with open(bigM_dojo_file, 'rb') as f:\n",
    "        bigM_dojo = pickle.load(f)\n",
    "    else:\n",
    "      print 'Creating dojo bigM..'\n",
    "      bigM_dojo = gp.Legacy.create_bigM_without_mask(cnn, input_image, input_prob, input_rhoana, verbose=False)\n",
    "      with open(bigM_dojo_file, 'wb') as f:\n",
    "        pickle.dump(bigM_dojo, f)    \n",
    "\n",
    "\n",
    "\n",
    "    print\n",
    "    dojo_vi_95_file = output_folder + '/dojo_vi_95_t6.p'\n",
    "\n",
    "    dojo_merge_vis = output_folder + '/dojo_merge_auto95_vis.p'\n",
    "    dojo_split_vis = output_folder + '/dojo_split_auto95_vis.p'\n",
    "\n",
    "    dojo_merge_fixes = output_folder + '/dojo_merge_auto95_fixes.p'\n",
    "    dojo_split_fixes = output_folder + '/dojo_split_auto95_fixes.p'\n",
    "\n",
    "    dojo_output_95 = output_folder + '/dojo_auto95_output.p'\n",
    "\n",
    "    if os.path.exists(dojo_vi_95_file):\n",
    "      print 'Loading merge errors p < .05 and split errors p > .95 from file..'\n",
    "      with open(dojo_vi_95_file, 'rb') as f:\n",
    "        dojo_vi_95 = pickle.load(f)\n",
    "    else:      \n",
    "#       #\n",
    "#       # perform merge correction with p < .05\n",
    "#       #\n",
    "#       print 'Correcting merge errors with p < .05'\n",
    "#       bigM_dojo_05, corrected_rhoana_05, dojo_auto_merge_fixes, vi_s_per_step = gp.Legacy.perform_auto_merge_correction(cnn, bigM_dojo, input_image, input_prob, input_rhoana, merge_errors, .05, input_gold=input_gold)\n",
    "\n",
    "#       print '   Mean VI improvement', original_mean_VI-gp.Legacy.VI(input_gold, corrected_rhoana_05)[0]\n",
    "#       print '   Median VI improvement', original_median_VI-gp.Legacy.VI(input_gold, corrected_rhoana_05)[1]\n",
    "\n",
    "#       with open(dojo_merge_vis, 'wb') as f:\n",
    "#         pickle.dump(vi_s_per_step, f)\n",
    "\n",
    "\n",
    "#       with open(dojo_merge_fixes, 'wb') as f:\n",
    "#         pickle.dump(dojo_auto_merge_fixes, f) \n",
    "\n",
    "      #\n",
    "      # perform split correction with p > .95\n",
    "      #\n",
    "      print 'Correcting split errors with p > .95'\n",
    "      bigM_dojo_after_95, out_dojo_volume_after_auto_95, dojo_auto_fixes_95, dojo_auto_vi_s_95, vi_s_per_step2 = gp.Legacy.splits_global_from_M_automatic(cnn, bigM_dojo, input_image, input_prob, input_rhoana, input_gold, sureness_threshold=.95)\n",
    "\n",
    "      dojo_vi_95 = gp.Legacy.VI(input_gold, out_dojo_volume_after_auto_95)\n",
    "\n",
    "      with open(dojo_vi_95_file, 'wb') as f:\n",
    "        pickle.dump(dojo_vi_95, f)\n",
    "\n",
    "      with open(dojo_split_vis, 'wb') as f:\n",
    "        pickle.dump(vi_s_per_step2, f)\n",
    "\n",
    "      with open(dojo_split_fixes, 'wb') as f:\n",
    "        pickle.dump(dojo_auto_fixes_95, f)       \n",
    "\n",
    "      with open(dojo_output_95, 'wb') as f:\n",
    "        pickle.dump(out_dojo_volume_after_auto_95, f) \n",
    "\n",
    "    print '   Mean VI improvement', original_mean_VI-dojo_vi_95[0]\n",
    "    print '   Median VI improvement', original_median_VI-dojo_vi_95[1]"
   ]
  },
  {
   "cell_type": "code",
   "execution_count": null,
   "metadata": {
    "collapsed": true
   },
   "outputs": [],
   "source": []
  },
  {
   "cell_type": "code",
   "execution_count": null,
   "metadata": {
    "collapsed": true
   },
   "outputs": [],
   "source": []
  },
  {
   "cell_type": "code",
   "execution_count": null,
   "metadata": {
    "collapsed": true
   },
   "outputs": [],
   "source": []
  },
  {
   "cell_type": "code",
   "execution_count": 4,
   "metadata": {
    "collapsed": false
   },
   "outputs": [
    {
     "name": "stdout",
     "output_type": "stream",
     "text": [
      "['../../nets/PMLB_FULL.p']\n"
     ]
    }
   ],
   "source": [
    "NETS = []\n",
    "NETS.append('../../nets/PMLB_FULL.p')\n",
    "print NETS"
   ]
  },
  {
   "cell_type": "code",
   "execution_count": 5,
   "metadata": {
    "collapsed": true
   },
   "outputs": [],
   "source": [
    "roc1 = []\n",
    "roc2 = []"
   ]
  },
  {
   "cell_type": "code",
   "execution_count": 6,
   "metadata": {
    "collapsed": false
   },
   "outputs": [
    {
     "name": "stdout",
     "output_type": "stream",
     "text": [
      "Loaded /home/d/patches//ipmlb/ in 0.000555992126465 seconds.\n",
      "\n",
      "Precision/Recall:\n",
      "             precision    recall  f1-score   support\n",
      "\n",
      "          0       0.95      0.93      0.94      8780\n",
      "          1       0.93      0.95      0.94      8780\n",
      "\n",
      "avg / total       0.94      0.94      0.94     17560\n",
      "\n",
      "Test Accuracy: 0.938268792711\n",
      "Accuracy Score: 0.938268792711\n",
      "AUC 0.938268792711\n",
      "AUC2 0.977831632256\n",
      "Creating dojo bigM..\n",
      "\n",
      "Correcting split errors with p > .95\n",
      "0.949470698833\n",
      "   Mean VI improvement 0.0226423349125\n",
      "   Median VI improvement 0.0408714711491\n",
      "59.2725939751 seconds\n"
     ]
    }
   ],
   "source": [
    "#\n",
    "# binary + large_border\n",
    "#\n",
    "network_path = NETS[0]\n",
    "\n",
    "with open(network_path, 'rb') as f:\n",
    "    net = pickle.load(f)\n",
    "X_test, y_test = gp.Patch.load_rgba_test_only('ipmlb')\n",
    "X_test = np.delete(X_test, [0] , axis=1)\n",
    "test_prediction = net.predict(X_test)\n",
    "test_prediction_prob = net.predict_proba(X_test)\n",
    "print\n",
    "print 'Precision/Recall:'\n",
    "print classification_report(y_test, test_prediction)\n",
    "test_acc = net.score(X_test, y_test)\n",
    "acc_score = accuracy_score(y_test, test_prediction)\n",
    "print 'Test Accuracy:', test_acc\n",
    "print 'Accuracy Score:', acc_score\n",
    "\n",
    "fpr, tpr, thresholds = roc_curve(y_test, test_prediction)\n",
    "area = auc(fpr, tpr)\n",
    "print 'AUC', area\n",
    "\n",
    "fpr2, tpr2, thresholds = roc_curve(y_test, test_prediction_prob[:,1])\n",
    "area2 = auc(fpr2, tpr2)\n",
    "print 'AUC2', area2\n",
    "\n",
    "roc1.append({'ip':[fpr,tpr,area]})\n",
    "roc2.append({'ip':[fpr2,tpr2,area2]})\n",
    "\n",
    "t0 = time.time()\n",
    "net.uuid = 'PMLB'\n",
    "\n",
    "r_d(net)\n",
    "print time.time()-t0, 'seconds'"
   ]
  },
  {
   "cell_type": "code",
   "execution_count": null,
   "metadata": {
    "collapsed": false
   },
   "outputs": [],
   "source": []
  },
  {
   "cell_type": "code",
   "execution_count": null,
   "metadata": {
    "collapsed": true
   },
   "outputs": [],
   "source": []
  },
  {
   "cell_type": "code",
   "execution_count": null,
   "metadata": {
    "collapsed": false
   },
   "outputs": [],
   "source": []
  },
  {
   "cell_type": "code",
   "execution_count": null,
   "metadata": {
    "collapsed": true
   },
   "outputs": [],
   "source": []
  },
  {
   "cell_type": "code",
   "execution_count": null,
   "metadata": {
    "collapsed": true
   },
   "outputs": [],
   "source": []
  }
 ],
 "metadata": {
  "kernelspec": {
   "display_name": "Python 2",
   "language": "python",
   "name": "python2"
  },
  "language_info": {
   "codemirror_mode": {
    "name": "ipython",
    "version": 2
   },
   "file_extension": ".py",
   "mimetype": "text/x-python",
   "name": "python",
   "nbconvert_exporter": "python",
   "pygments_lexer": "ipython2",
   "version": "2.7.12"
  }
 },
 "nbformat": 4,
 "nbformat_minor": 0
}
