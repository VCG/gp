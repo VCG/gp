{
 "cells": [
  {
   "cell_type": "code",
   "execution_count": 1,
   "metadata": {
    "collapsed": false
   },
   "outputs": [
    {
     "name": "stderr",
     "output_type": "stream",
     "text": [
      "Using gpu device 0: GeForce GTX TITAN (CNMeM is disabled, CuDNN 4007)\n",
      "/home/d/nolearnNEW/local/lib/python2.7/site-packages/theano/tensor/signal/downsample.py:6: UserWarning: downsample module has been moved to the theano.tensor.signal.pool module.\n",
      "  \"downsample module has been moved to the theano.tensor.signal.pool module.\")\n"
     ]
    }
   ],
   "source": [
    "import matplotlib\n",
    "matplotlib.use('agg')\n",
    "import cPickle as pickle\n",
    "import os; import sys; sys.path.append('../../')\n",
    "import gp\n",
    "import gp.nets as nets\n"
   ]
  },
  {
   "cell_type": "code",
   "execution_count": 2,
   "metadata": {
    "collapsed": true
   },
   "outputs": [],
   "source": [
    "input_image, input_prob, input_gold, input_rhoana, dojo_bbox = gp.Legacy.read_dojo_data()"
   ]
  },
  {
   "cell_type": "code",
   "execution_count": 42,
   "metadata": {
    "collapsed": true
   },
   "outputs": [],
   "source": [
    "import cPickle as pickle\n",
    "import numpy as np"
   ]
  },
  {
   "cell_type": "code",
   "execution_count": 63,
   "metadata": {
    "collapsed": false
   },
   "outputs": [
    {
     "name": "stdout",
     "output_type": "stream",
     "text": [
      "Populating the interactive namespace from numpy and matplotlib\n"
     ]
    },
    {
     "name": "stderr",
     "output_type": "stream",
     "text": [
      "WARNING: pylab import has clobbered these variables: ['e', 'f']\n",
      "`%matplotlib` prevents importing * from pylab and numpy\n"
     ]
    }
   ],
   "source": [
    "%pylab inline"
   ]
  },
  {
   "cell_type": "code",
   "execution_count": 60,
   "metadata": {
    "collapsed": true
   },
   "outputs": [],
   "source": [
    "def aRE(gt, seg):\n",
    "  # total_vi = 0\n",
    "  slice_vi = []    \n",
    "\n",
    "  if type(gt) is list:\n",
    "    z_s = len(gt)\n",
    "  else:\n",
    "    z_s = gt.shape[0]\n",
    "\n",
    "  for i in range(z_s):\n",
    "      current_vi = gp.metrics.adapted_rand(seg[i].astype(np.int64), gt[i].astype(np.int64))\n",
    "      # total_vi += current_vi\n",
    "      slice_vi.append(current_vi)\n",
    "  # total_vi /= 10\n",
    "  return np.mean(slice_vi), np.median(slice_vi), slice_vi"
   ]
  },
  {
   "cell_type": "code",
   "execution_count": null,
   "metadata": {
    "collapsed": true
   },
   "outputs": [],
   "source": []
  },
  {
   "cell_type": "code",
   "execution_count": 68,
   "metadata": {
    "collapsed": false
   },
   "outputs": [],
   "source": [
    "#\n",
    "# baseline aRE\n",
    "#\n",
    "baseline = aRE(input_gold, input_rhoana)"
   ]
  },
  {
   "cell_type": "code",
   "execution_count": null,
   "metadata": {
    "collapsed": true
   },
   "outputs": [],
   "source": []
  },
  {
   "cell_type": "code",
   "execution_count": 87,
   "metadata": {
    "collapsed": true
   },
   "outputs": [],
   "source": [
    "gp_experts = ['E1', 'E3']\n",
    "gp_experts_results = []\n",
    "gp_experts_mean = [0]*10\n",
    "for e in gp_experts:\n",
    "    with open('/home/d/GPSTUDY/'+e+'/ui_results.p', 'r') as f:\n",
    "        result = pickle.load(f)  \n",
    "        \n",
    "    randerror = aRE(input_gold, result)\n",
    "    gp_experts_results.append(randerror[2])\n",
    "\n",
    "for i in range(10):\n",
    "    gp_experts_mean[i] = (gp_experts_results[0][i] + gp_experts_results[1][i]) / 2.\n",
    "    \n",
    "fp_experts = ['E2', 'E4']\n",
    "fp_experts_results = []\n",
    "fp_experts_mean = [0]*10\n",
    "for e in fp_experts:\n",
    "    with open('/home/d/GPSTUDY/'+e+'/ui_results.p', 'r') as f:\n",
    "        result = pickle.load(f)  \n",
    "        \n",
    "    randerror = aRE(input_gold, result)\n",
    "    fp_experts_results.append(randerror[2])\n",
    "\n",
    "for i in range(10):\n",
    "    fp_experts_mean[i] = (fp_experts_results[0][i] + fp_experts_results[1][i]) / 2.\n",
    "    "
   ]
  },
  {
   "cell_type": "code",
   "execution_count": 91,
   "metadata": {
    "collapsed": false
   },
   "outputs": [
    {
     "data": {
      "image/png": "[encoded data removed]",
      "text/plain": [
       "<matplotlib.figure.Figure at 0x7f7a37622110>"
      ]
     },
     "metadata": {},
     "output_type": "display_data"
    }
   ],
   "source": [
    "fig = plt.figure()\n",
    "boxplot = plt.boxplot([baseline[2], gp_experts_mean, fp_experts_mean], labels=['Initial\\nSegmentation', 'GP Experts', 'FP Experts'])"
   ]
  },
  {
   "cell_type": "code",
   "execution_count": 92,
   "metadata": {
    "collapsed": true
   },
   "outputs": [],
   "source": [
    "FP_USERS = []\n",
    "GP_USERS = []\n",
    "FP_EXPERTS = []\n",
    "GP_EXPERTS = []\n",
    "with open('/home/d/GPSTUDY/study.csv', 'r') as f:\n",
    "    lines = f.readlines()\n",
    "for l in lines[1:]:\n",
    "    line = l.strip('\\n').split(',')\n",
    "    userid = line[3]\n",
    "    method = line[4]\n",
    "    if method == 'FP':\n",
    "        if userid.startswith('E'):\n",
    "            FP_EXPERTS.append(userid)\n",
    "        else:\n",
    "            FP_USERS.append(userid)\n",
    "    elif method == 'GP':\n",
    "        if userid.startswith('E'):\n",
    "            GP_EXPERTS.append(userid)\n",
    "        else:\n",
    "            GP_USERS.append(userid)\n",
    "\n",
    "            \n",
    "            "
   ]
  },
  {
   "cell_type": "code",
   "execution_count": 97,
   "metadata": {
    "collapsed": false
   },
   "outputs": [],
   "source": [
    "gp_users_results = []\n",
    "gp_users_mean = [0]*10\n",
    "\n",
    "for u in GP_USERS:\n",
    "    with open('/home/d/GPSTUDY/'+u+'/ui_results.p', 'r') as f:\n",
    "        result = pickle.load(f)  \n",
    "        \n",
    "    randerror = aRE(input_gold, result)\n",
    "    gp_users_results.append(randerror[2])\n",
    "\n",
    "for cur_slice in range(10):\n",
    "    cur_mean = 0\n",
    "    for cur_user in range(len(gp_users_results)):\n",
    "        cur_mean += gp_users_results[cur_user][cur_slice]\n",
    "        \n",
    "    cur_mean /= len(gp_users_results)\n",
    "    gp_users_mean[cur_slice] = cur_mean\n",
    "    "
   ]
  },
  {
   "cell_type": "code",
   "execution_count": 98,
   "metadata": {
    "collapsed": true
   },
   "outputs": [],
   "source": [
    "fp_users_results = []\n",
    "fp_users_mean = [0]*10\n",
    "\n",
    "for u in FP_USERS:\n",
    "    with open('/home/d/GPSTUDY/'+u+'/ui_results.p', 'r') as f:\n",
    "        result = pickle.load(f)  \n",
    "        \n",
    "    randerror = aRE(input_gold, result)\n",
    "    fp_users_results.append(randerror[2])\n",
    "\n",
    "for cur_slice in range(10):\n",
    "    cur_mean = 0\n",
    "    for cur_user in range(len(fp_users_results)):\n",
    "        cur_mean += fp_users_results[cur_user][cur_slice]\n",
    "        \n",
    "    cur_mean /= len(fp_users_results)\n",
    "    fp_users_mean[cur_slice] = cur_mean\n",
    "    "
   ]
  },
  {
   "cell_type": "code",
   "execution_count": 104,
   "metadata": {
    "collapsed": false
   },
   "outputs": [
    {
     "data": {
      "image/png": "[encoded data removed]",
      "text/plain": [
       "<matplotlib.figure.Figure at 0x7f7a374db3d0>"
      ]
     },
     "metadata": {},
     "output_type": "display_data"
    }
   ],
   "source": [
    "fig = plt.figure()\n",
    "boxplot = plt.boxplot([baseline[2], gp_users_mean, fp_users_mean, gp_experts_mean, fp_experts_mean], labels=['Initial\\nSegmentation', 'GP Novices', 'FP Novices', 'GP Experts', 'FP Experts'])\n",
    "\n",
    "plt.savefig('/tmp/are_plot.pdf')"
   ]
  },
  {
   "cell_type": "code",
   "execution_count": 107,
   "metadata": {
    "collapsed": false
   },
   "outputs": [
    {
     "data": {
      "text/plain": [
       "(0.12787917918348729, 0.10234114562900262)"
      ]
     },
     "execution_count": 107,
     "metadata": {},
     "output_type": "execute_result"
    }
   ],
   "source": [
    "np.mean(fp_users_mean), np.median(fp_users_mean)"
   ]
  },
  {
   "cell_type": "code",
   "execution_count": 108,
   "metadata": {
    "collapsed": false
   },
   "outputs": [
    {
     "data": {
      "text/plain": [
       "(0.12630588260121997, 0.10059346243961259)"
      ]
     },
     "execution_count": 108,
     "metadata": {},
     "output_type": "execute_result"
    }
   ],
   "source": [
    "baseline[0], baseline[1]"
   ]
  },
  {
   "cell_type": "code",
   "execution_count": 109,
   "metadata": {
    "collapsed": false
   },
   "outputs": [
    {
     "data": {
      "text/plain": [
       "(0.089607997907397596, 0.090660123702937648)"
      ]
     },
     "execution_count": 109,
     "metadata": {},
     "output_type": "execute_result"
    }
   ],
   "source": [
    "np.mean(gp_users_mean), np.median(gp_users_mean)"
   ]
  },
  {
   "cell_type": "code",
   "execution_count": 111,
   "metadata": {
    "collapsed": false
   },
   "outputs": [
    {
     "data": {
      "text/plain": [
       "[0.05396899632110682,\n",
       " 0.073915879652360794,\n",
       " 0.082872883201478884,\n",
       " 0.080822622137614236,\n",
       " 0.10042536934549466,\n",
       " 0.086172313363165207,\n",
       " 0.12660995484971466,\n",
       " 0.095147934042710089,\n",
       " 0.10034961351331115,\n",
       " 0.095794412647019433]"
      ]
     },
     "execution_count": 111,
     "metadata": {},
     "output_type": "execute_result"
    }
   ],
   "source": [
    "gp_users_mean"
   ]
  },
  {
   "cell_type": "code",
   "execution_count": 114,
   "metadata": {
    "collapsed": false
   },
   "outputs": [
    {
     "data": {
      "text/plain": [
       "array([ 0.07,  0.08,  0.08,  0.08,  0.1 ,  0.1 ,  0.18,  0.19,  0.21,  0.17])"
      ]
     },
     "execution_count": 114,
     "metadata": {},
     "output_type": "execute_result"
    }
   ],
   "source": [
    "np.round(baseline[2],2)"
   ]
  },
  {
   "cell_type": "code",
   "execution_count": 115,
   "metadata": {
    "collapsed": false
   },
   "outputs": [
    {
     "data": {
      "text/plain": [
       "array([ 0.05,  0.07,  0.08,  0.08,  0.1 ,  0.09,  0.13,  0.1 ,  0.1 ,  0.1 ])"
      ]
     },
     "execution_count": 115,
     "metadata": {},
     "output_type": "execute_result"
    }
   ],
   "source": [
    "np.round(gp_users_mean,2)"
   ]
  },
  {
   "cell_type": "code",
   "execution_count": 116,
   "metadata": {
    "collapsed": false
   },
   "outputs": [
    {
     "data": {
      "text/plain": [
       "array([ 0.07,  0.08,  0.09,  0.09,  0.1 ,  0.1 ,  0.18,  0.18,  0.21,  0.17])"
      ]
     },
     "execution_count": 116,
     "metadata": {},
     "output_type": "execute_result"
    }
   ],
   "source": [
    "np.round(fp_users_mean,2)"
   ]
  },
  {
   "cell_type": "code",
   "execution_count": 117,
   "metadata": {
    "collapsed": false
   },
   "outputs": [
    {
     "data": {
      "text/plain": [
       "array([ 0.05,  0.07,  0.08,  0.07,  0.08,  0.07,  0.1 ,  0.09,  0.09,  0.07])"
      ]
     },
     "execution_count": 117,
     "metadata": {},
     "output_type": "execute_result"
    }
   ],
   "source": [
    "np.round(gp_experts_mean,2)"
   ]
  },
  {
   "cell_type": "code",
   "execution_count": 137,
   "metadata": {
    "collapsed": false
   },
   "outputs": [
    {
     "name": "stdout",
     "output_type": "stream",
     "text": [
      "0.074 & 0.081 & 0.085 & 0.079 & 0.103 & 0.098 & 0.176 & 0.188 & 0.206 & 0.174\n",
      "0.054 & 0.074 & 0.083 & 0.081 & 0.100 & 0.086 & 0.127 & 0.095 & 0.100 & 0.096\n",
      "0.073 & 0.082 & 0.086 & 0.091 & 0.102 & 0.103 & 0.182 & 0.184 & 0.209 & 0.167\n",
      "0.051 & 0.074 & 0.075 & 0.071 & 0.078 & 0.075 & 0.099 & 0.088 & 0.094 & 0.074\n",
      "0.066 & 0.080 & 0.078 & 0.087 & 0.083 & 0.096 & 0.163 & 0.174 & 0.202 & 0.155\n"
     ]
    }
   ],
   "source": [
    "print ' & '.join([\"{:.3f}\".format(float(v)) for v in np.round(baseline[2],3)])\n",
    "print ' & '.join([\"{:.3f}\".format(float(v)) for v in np.round(gp_users_mean,3)])\n",
    "print ' & '.join([\"{:.3f}\".format(float(v)) for v in np.round(fp_users_mean,3)])\n",
    "print ' & '.join([\"{:.3f}\".format(float(v)) for v in np.round(gp_experts_mean,3)])\n",
    "print ' & '.join([\"{:.3f}\".format(float(v)) for v in np.round(fp_experts_mean,3)])"
   ]
  },
  {
   "cell_type": "code",
   "execution_count": 132,
   "metadata": {
    "collapsed": false
   },
   "outputs": [
    {
     "name": "stdout",
     "output_type": "stream",
     "text": [
      "0.074 & 0.081 & 0.085 & 0.079 & 0.103 & 0.098 & 0.176 & 0.188 & 0.206 & 0.174\n",
      "0.020 & 0.007 & 0.002 & -0.002 & 0.003 & 0.012 & 0.049 & 0.093 & 0.106 & 0.078\n",
      "0.001 & -0.001 & -0.001 & -0.012 & 0.001 & -0.005 & -0.006 & 0.004 & -0.003 & 0.007\n",
      "0.023 & 0.007 & 0.010 & 0.008 & 0.025 & 0.023 & 0.077 & 0.100 & 0.112 & 0.100\n",
      "0.008 & 0.001 & 0.007 & -0.008 & 0.020 & 0.002 & 0.013 & 0.014 & 0.004 & 0.019\n"
     ]
    }
   ],
   "source": [
    "print ' & '.join([\"{:.3f}\".format(float(v)) for v in np.round(baseline[2],3)])\n",
    "print ' & '.join([\"{:.3f}\".format(baseline[2][i]-float(v)) for i,v in enumerate(np.round(gp_users_mean,3))])\n",
    "print ' & '.join([\"{:.3f}\".format(baseline[2][i]-float(v)) for i,v in enumerate(np.round(fp_users_mean,3))])\n",
    "print ' & '.join([\"{:.3f}\".format(baseline[2][i]-float(v)) for i,v in enumerate(np.round(gp_experts_mean,3))])\n",
    "print ' & '.join([\"{:.3f}\".format(baseline[2][i]-float(v)) for i,v in enumerate(np.round(fp_experts_mean,3))])"
   ]
  },
  {
   "cell_type": "code",
   "execution_count": null,
   "metadata": {
    "collapsed": true
   },
   "outputs": [],
   "source": []
  }
 ],
 "metadata": {
  "kernelspec": {
   "display_name": "Python 2",
   "language": "python",
   "name": "python2"
  },
  "language_info": {
   "codemirror_mode": {
    "name": "ipython",
    "version": 2
   },
   "file_extension": ".py",
   "mimetype": "text/x-python",
   "name": "python",
   "nbconvert_exporter": "python",
   "pygments_lexer": "ipython2",
   "version": "2.7.12"
  }
 },
 "nbformat": 4,
 "nbformat_minor": 0
}
