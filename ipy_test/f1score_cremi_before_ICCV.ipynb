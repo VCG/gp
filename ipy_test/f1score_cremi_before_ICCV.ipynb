{
 "cells": [
  {
   "cell_type": "code",
   "execution_count": 1,
   "metadata": {
    "collapsed": false
   },
   "outputs": [
    {
     "name": "stderr",
     "output_type": "stream",
     "text": [
      "Using gpu device 0: GeForce GTX TITAN (CNMeM is disabled, CuDNN 4007)\n",
      "/home/d/miniconda2/envs/NP/lib/python2.7/site-packages/theano/tensor/signal/downsample.py:6: UserWarning: downsample module has been moved to the theano.tensor.signal.pool module.\n",
      "  \"downsample module has been moved to the theano.tensor.signal.pool module.\")\n"
     ]
    }
   ],
   "source": [
    "%load_ext autoreload\n",
    "%autoreload 2\n",
    "\n",
    "from matplotlib.pyplot import imshow\n",
    "import matplotlib.pyplot as plt\n",
    "\n",
    "%matplotlib inline\n",
    "import numpy as np\n",
    "import sys\n",
    "sys.path.append('../')\n",
    "import gp"
   ]
  },
  {
   "cell_type": "code",
   "execution_count": 2,
   "metadata": {
    "collapsed": true
   },
   "outputs": [],
   "source": [
    "e_p = []\n",
    "p = []"
   ]
  },
  {
   "cell_type": "code",
   "execution_count": 3,
   "metadata": {
    "collapsed": false
   },
   "outputs": [],
   "source": [
    "import cPickle as pickle\n",
    "with open('../nets/IPMLB_FULL_CREMI_FINAL.p', 'rb') as f:\n",
    "    cnn = pickle.load(f)\n",
    "cnn.uuid = 'IPMLB'"
   ]
  },
  {
   "cell_type": "code",
   "execution_count": 3,
   "metadata": {
    "collapsed": false
   },
   "outputs": [],
   "source": [
    "# here we just load p, and e_p\n",
    "import cPickle as pickle\n",
    "with open('/home/d/CREMIBIG/test_e_p.p', 'rb') as f:\n",
    "    e_p = pickle.load(f)\n",
    "    \n",
    "with open('/home/d/CREMIBIG/test_p.p', 'rb') as f:\n",
    "    p = pickle.load(f)\n",
    "\n",
    "\n"
   ]
  },
  {
   "cell_type": "code",
   "execution_count": null,
   "metadata": {
    "collapsed": true
   },
   "outputs": [],
   "source": [
    "#\n",
    "# FOCUSED PROOFREADING\n",
    "#"
   ]
  },
  {
   "cell_type": "code",
   "execution_count": 2,
   "metadata": {
    "collapsed": true
   },
   "outputs": [],
   "source": [
    "# cconvert to FP format with target\n",
    "import neuroproof\n",
    "import neuroproof.FocusedProofreading as fp\n"
   ]
  },
  {
   "cell_type": "code",
   "execution_count": 4,
   "metadata": {
    "collapsed": false
   },
   "outputs": [],
   "source": [
    "graphs = []\n",
    "for z in range(0,75):\n",
    "    \n",
    "    g = fp.Graph('/home/d/FP/CREMITESTBIG/graph_'+str(z)+'.json')\n",
    "    graphs.append(g)"
   ]
  },
  {
   "cell_type": "code",
   "execution_count": 10,
   "metadata": {
    "collapsed": false
   },
   "outputs": [
    {
     "name": "stdout",
     "output_type": "stream",
     "text": [
      "next slice\n",
      "next slice\n",
      "next slice\n",
      "next slice\n",
      "next slice\n",
      "next slice\n",
      "next slice\n",
      "next slice\n",
      "next slice\n",
      "next slice\n",
      "next slice\n",
      "next slice\n",
      "next slice\n",
      "next slice\n",
      "next slice\n",
      "next slice\n",
      "next slice\n",
      "next slice\n",
      "next slice\n",
      "next slice\n",
      "next slice\n",
      "next slice\n",
      "next slice\n",
      "next slice\n",
      "next slice\n",
      "next slice\n",
      "next slice\n",
      "next slice\n",
      "next slice\n",
      "next slice\n",
      "next slice\n",
      "next slice\n",
      "next slice\n",
      "next slice\n",
      "next slice\n",
      "next slice\n",
      "next slice\n",
      "next slice\n",
      "next slice\n",
      "next slice\n",
      "next slice\n",
      "next slice\n",
      "next slice\n",
      "next slice\n",
      "next slice\n",
      "next slice\n",
      "next slice\n",
      "next slice\n",
      "next slice\n",
      "next slice\n",
      "next slice\n",
      "next slice\n",
      "next slice\n",
      "next slice\n",
      "next slice\n",
      "next slice\n",
      "next slice\n",
      "next slice\n",
      "next slice\n",
      "next slice\n",
      "next slice\n",
      "next slice\n",
      "next slice\n",
      "next slice\n",
      "next slice\n",
      "next slice\n",
      "next slice\n",
      "next slice\n",
      "next slice\n",
      "next slice\n",
      "next slice\n",
      "next slice\n",
      "next slice\n",
      "next slice\n"
     ]
    }
   ],
   "source": [
    "fp_y_test_proba = []\n",
    "fp_y_test = []\n",
    "gt_y_test = []\n",
    "\n",
    "z = 0\n",
    "j = 0\n",
    "for i in range(len(e_p)):\n",
    "    \n",
    "    cur_e_p = e_p[i]\n",
    "    cur_p = p[i]\n",
    "    \n",
    "    \n",
    "    # find z\n",
    "    if j >= patches_per_slice[z]:\n",
    "        # next slice\n",
    "        z += 1\n",
    "        j = 0\n",
    "        print 'next slice'\n",
    "        \n",
    "    \n",
    "    g = graphs[z]\n",
    "    \n",
    "#     for pa in cur_e_p:\n",
    "#         print pa['l'], pa['n']\n",
    "\n",
    "    pa = cur_e_p\n",
    "\n",
    "    label1 = pa['l']\n",
    "    label2 = pa['n']\n",
    "    \n",
    "\n",
    "    graph_neighbors = sorted(g.find_close_bodies(label1,0,0.))\n",
    "\n",
    "    pred = [ne[1] for ne in graph_neighbors if ne[0] == label2]\n",
    "\n",
    "    fp_y_test.append(np.round(pred))\n",
    "    fp_y_test_proba.append(pred)\n",
    "    gt_y_test.append(1)\n",
    "        \n",
    "        \n",
    "        \n",
    "        \n",
    "#     for pa in cur_p:\n",
    "#         print pa['l'], pa['n']\n",
    "\n",
    "    pa = cur_p\n",
    "\n",
    "    label1 = pa['l']\n",
    "    label2 = pa['n']\n",
    "\n",
    "    graph_neighbors = sorted(g.find_close_bodies(label1,0,0.))\n",
    "\n",
    "    pred = [ne[1] for ne in graph_neighbors if ne[0] == label2]\n",
    "\n",
    "    fp_y_test.append(np.round(pred))\n",
    "    fp_y_test_proba.append(pred)\n",
    "    gt_y_test.append(0)\n",
    "        \n",
    "    #print z\n",
    "\n",
    "    j += 1\n",
    "\n"
   ]
  },
  {
   "cell_type": "code",
   "execution_count": 11,
   "metadata": {
    "collapsed": false
   },
   "outputs": [],
   "source": [
    "from sklearn.metrics import classification_report, accuracy_score, roc_curve, auc, precision_recall_fscore_support, f1_score, precision_recall_curve, average_precision_score, zero_one_loss\n"
   ]
  },
  {
   "cell_type": "code",
   "execution_count": 12,
   "metadata": {
    "collapsed": false
   },
   "outputs": [
    {
     "name": "stdout",
     "output_type": "stream",
     "text": [
      "Precision/Recall:\n",
      "             precision    recall  f1-score   support\n",
      "\n",
      "          0       0.50      1.00      0.67     39896\n",
      "          1       0.74      0.00      0.00     39896\n",
      "\n",
      "avg / total       0.62      0.50      0.33     79792\n",
      "\n"
     ]
    }
   ],
   "source": [
    "print 'Precision/Recall:'\n",
    "print classification_report(np.array(gt_y_test), np.array(fp_y_test))"
   ]
  },
  {
   "cell_type": "code",
   "execution_count": 13,
   "metadata": {
    "collapsed": false
   },
   "outputs": [
    {
     "name": "stdout",
     "output_type": "stream",
     "text": [
      "Accuracy Score: 0.500325847203\n"
     ]
    }
   ],
   "source": [
    "acc_score = accuracy_score(np.array(gt_y_test), np.array(fp_y_test))\n",
    "print 'Accuracy Score:', acc_score"
   ]
  },
  {
   "cell_type": "code",
   "execution_count": 14,
   "metadata": {
    "collapsed": false
   },
   "outputs": [
    {
     "name": "stdout",
     "output_type": "stream",
     "text": [
      "stored\n"
     ]
    }
   ],
   "source": [
    "with open('/home/d/CREMIBIG/fp_y_test_proba.p','wb') as f:\n",
    "    pickle.dump(fp_y_test_proba, f)\n",
    "print 'stored'"
   ]
  },
  {
   "cell_type": "code",
   "execution_count": 30,
   "metadata": {
    "collapsed": false
   },
   "outputs": [
    {
     "data": {
      "text/plain": [
       "39896"
      ]
     },
     "execution_count": 30,
     "metadata": {},
     "output_type": "execute_result"
    }
   ],
   "source": [
    "len(e_p)"
   ]
  },
  {
   "cell_type": "code",
   "execution_count": null,
   "metadata": {
    "collapsed": true
   },
   "outputs": [],
   "source": [
    "#\n",
    "# GUIDED PROOFREADING\n",
    "#"
   ]
  },
  {
   "cell_type": "code",
   "execution_count": 22,
   "metadata": {
    "collapsed": false
   },
   "outputs": [
    {
     "name": "stdout",
     "output_type": "stream",
     "text": [
      "0\n",
      "1000\n",
      "2000\n",
      "3000\n",
      "4000\n",
      "5000\n",
      "6000\n",
      "7000\n",
      "8000\n",
      "9000\n",
      "10000\n",
      "11000\n",
      "12000\n",
      "13000\n",
      "14000\n",
      "15000\n",
      "16000\n",
      "17000\n",
      "18000\n",
      "19000\n",
      "20000\n",
      "21000\n",
      "22000\n",
      "23000\n",
      "24000\n",
      "25000\n",
      "26000\n",
      "27000\n",
      "28000\n",
      "29000\n",
      "30000\n",
      "31000\n",
      "32000\n",
      "33000\n",
      "34000\n",
      "35000\n",
      "36000\n",
      "37000\n",
      "38000\n",
      "39000\n"
     ]
    }
   ],
   "source": [
    "gp_y_test_proba = []\n",
    "gp_y_test = []\n",
    "gt_y_test = []\n",
    "for z in range(len(e_p)):\n",
    "    \n",
    "    cur_e_p = e_p[z]\n",
    "    cur_p = p[z]\n",
    "    \n",
    "    pa = cur_e_p\n",
    "        \n",
    "    label1 = pa['l']\n",
    "    label2 = pa['n']\n",
    "    pa['prob'] = 1.-pa['prob']\n",
    "    pred = gp.Patch.test_and_unify([pa], cnn)\n",
    "\n",
    "    gp_y_test.append(np.round(pred))\n",
    "    gp_y_test_proba.append(pred)\n",
    "    gt_y_test.append(1)\n",
    "\n",
    "    pa = cur_p\n",
    "    \n",
    "    label1 = pa['l']\n",
    "    label2 = pa['n']\n",
    "    pa['prob'] = 1.-pa['prob']\n",
    "    pred = gp.Patch.test_and_unify([pa], cnn)        \n",
    "\n",
    "    gp_y_test.append(np.round(pred))\n",
    "    gp_y_test_proba.append(pred)\n",
    "    gt_y_test.append(0)\n",
    "        \n",
    "    if z % 1000 == 0:\n",
    "        print z"
   ]
  },
  {
   "cell_type": "code",
   "execution_count": 23,
   "metadata": {
    "collapsed": true
   },
   "outputs": [],
   "source": [
    "from sklearn.metrics import classification_report, accuracy_score, roc_curve, auc, precision_recall_fscore_support, f1_score, precision_recall_curve, average_precision_score, zero_one_loss\n"
   ]
  },
  {
   "cell_type": "code",
   "execution_count": 24,
   "metadata": {
    "collapsed": false
   },
   "outputs": [
    {
     "name": "stdout",
     "output_type": "stream",
     "text": [
      "             precision    recall  f1-score   support\n",
      "\n",
      "          0       0.91      0.81      0.86     39896\n",
      "          1       0.83      0.92      0.87     39896\n",
      "\n",
      "avg / total       0.87      0.87      0.86     79792\n",
      "\n"
     ]
    }
   ],
   "source": [
    "print classification_report(np.array(gt_y_test), np.array(gp_y_test))"
   ]
  },
  {
   "cell_type": "code",
   "execution_count": 25,
   "metadata": {
    "collapsed": false
   },
   "outputs": [
    {
     "name": "stdout",
     "output_type": "stream",
     "text": [
      "Accuracy Score: 0.86512432324\n"
     ]
    }
   ],
   "source": [
    "acc_score = accuracy_score(np.array(gt_y_test), np.array(gp_y_test))\n",
    "print 'Accuracy Score:', acc_score"
   ]
  },
  {
   "cell_type": "code",
   "execution_count": 26,
   "metadata": {
    "collapsed": true
   },
   "outputs": [],
   "source": [
    "with open('/home/d/CREMIBIG/gp_y_test_proba.p','wb') as f:\n",
    "    pickle.dump(gp_y_test_proba, f)"
   ]
  },
  {
   "cell_type": "code",
   "execution_count": 27,
   "metadata": {
    "collapsed": true
   },
   "outputs": [],
   "source": [
    "with open('/home/d/CREMIBIG/gt_y_test.p','wb') as f:\n",
    "    pickle.dump(gt_y_test, f)"
   ]
  },
  {
   "cell_type": "code",
   "execution_count": null,
   "metadata": {
    "collapsed": true
   },
   "outputs": [],
   "source": []
  },
  {
   "cell_type": "code",
   "execution_count": null,
   "metadata": {
    "collapsed": true
   },
   "outputs": [],
   "source": []
  },
  {
   "cell_type": "code",
   "execution_count": null,
   "metadata": {
    "collapsed": true
   },
   "outputs": [],
   "source": [
    "#\n",
    "# combined plots\n",
    "#\n"
   ]
  },
  {
   "cell_type": "code",
   "execution_count": 15,
   "metadata": {
    "collapsed": false
   },
   "outputs": [],
   "source": [
    "# load fp and gp\n",
    "with open('/home/d/CREMIBIG/gp_y_test_proba.p', 'rb') as f:\n",
    "    gp_y_test_proba = pickle.load(f)\n",
    "with open('/home/d/CREMIBIG/fp_y_test_proba.p', 'rb') as f:\n",
    "    fp_y_test_proba = pickle.load(f)\n",
    "with open('/home/d/CREMIBIG/gt_y_test.p', 'rb') as f:\n",
    "    gt_y_test = pickle.load(f)"
   ]
  },
  {
   "cell_type": "code",
   "execution_count": 16,
   "metadata": {
    "collapsed": false
   },
   "outputs": [
    {
     "data": {
      "text/plain": [
       "[<matplotlib.lines.Line2D at 0x7fc18d3a6710>]"
      ]
     },
     "execution_count": 16,
     "metadata": {},
     "output_type": "execute_result"
    },
    {
     "data": {
      "image/png": "[encoded data removed]",
      "text/plain": [
       "<matplotlib.figure.Figure at 0x7fc18d3a6c10>"
      ]
     },
     "metadata": {},
     "output_type": "display_data"
    }
   ],
   "source": [
    "gp_precision, gp_recall, gp_thresholds = precision_recall_curve(gt_y_test, gp_y_test_proba, pos_label=1)\n",
    "fp_precision, fp_recall, fp_thresholds = precision_recall_curve(gt_y_test, fp_y_test_proba, pos_label=1)\n",
    "plt.plot(gp_recall, gp_precision, color='blue')\n",
    "plt.plot(fp_recall, fp_precision, color='red')"
   ]
  },
  {
   "cell_type": "code",
   "execution_count": 20,
   "metadata": {
    "collapsed": false
   },
   "outputs": [
    {
     "data": {
      "text/plain": [
       "[[0.8196078389883041],\n",
       " [0.8196078389883041],\n",
       " [0.5511418576822149],\n",
       " [0.5511418576822149],\n",
       " [0.7098039090633392],\n",
       " [0.7098039090633392],\n",
       " [0.5511418576822149],\n",
       " [0.5511418576822149],\n",
       " [0.3513725279943616],\n",
       " [0.3513725279943616],\n",
       " [0.7411764562129974],\n",
       " [0.7411764562129974],\n",
       " [0.8784313723444939],\n",
       " [0.8784313723444939],\n",
       " [0.3647058606147766],\n",
       " [0.3647058606147766],\n",
       " [0.37647056579589844],\n",
       " [0.37647056579589844],\n",
       " [0.4470587968826294],\n",
       " [0.4470587968826294]]"
      ]
     },
     "execution_count": 20,
     "metadata": {},
     "output_type": "execute_result"
    }
   ],
   "source": [
    "fp_y_test_proba[0:20]"
   ]
  },
  {
   "cell_type": "code",
   "execution_count": 29,
   "metadata": {
    "collapsed": false
   },
   "outputs": [
    {
     "data": {
      "text/plain": [
       "[1, 0, 1, 0, 1, 0, 1, 0, 1, 0, 1, 0, 1, 0, 1, 0, 1, 0, 1, 0]"
      ]
     },
     "execution_count": 29,
     "metadata": {},
     "output_type": "execute_result"
    }
   ],
   "source": [
    "gt_y_test[0:20]"
   ]
  },
  {
   "cell_type": "code",
   "execution_count": 28,
   "metadata": {
    "collapsed": false
   },
   "outputs": [
    {
     "data": {
      "text/plain": [
       "[5.430905002867803e-05,\n",
       " 0.014433564618229866,\n",
       " 0.75495779514312744,\n",
       " 0.014433564618229866,\n",
       " 0.96915876865386963,\n",
       " 0.050547275692224503,\n",
       " 0.96915876865386963,\n",
       " 0.050547275692224503,\n",
       " 0.96799391508102417,\n",
       " 0.0068419207818806171,\n",
       " 0.96799391508102417,\n",
       " 0.0068419207818806171,\n",
       " 0.93709903955459595,\n",
       " 0.81448686122894287,\n",
       " 0.93709903955459595,\n",
       " 0.81448686122894287,\n",
       " 0.60147333145141602,\n",
       " 0.01183809619396925,\n",
       " 0.60147333145141602,\n",
       " 0.01183809619396925]"
      ]
     },
     "execution_count": 28,
     "metadata": {},
     "output_type": "execute_result"
    }
   ],
   "source": [
    "gp_y_test_proba[0:20]"
   ]
  },
  {
   "cell_type": "code",
   "execution_count": 5,
   "metadata": {
    "collapsed": false
   },
   "outputs": [],
   "source": [
    "aaa='''\n",
    "working on slice 0\n",
    "no mask\n",
    "Generated 864 split error patches and 864  correct patches in 88.7517929077 seconds.\n",
    "working on slice 1\n",
    "no mask\n",
    "Generated 644 split error patches and 644  correct patches in 77.0009469986 seconds.\n",
    "working on slice 2\n",
    "no mask\n",
    "Generated 412 split error patches and 412  correct patches in 64.2233221531 seconds.\n",
    "working on slice 3\n",
    "no mask\n",
    "Generated 408 split error patches and 408  correct patches in 60.1068799496 seconds.\n",
    "working on slice 4\n",
    "no mask\n",
    "Generated 392 split error patches and 392  correct patches in 61.5711750984 seconds.\n",
    "working on slice 5\n",
    "no mask\n",
    "Generated 456 split error patches and 456  correct patches in 67.9314539433 seconds.\n",
    "working on slice 6\n",
    "no mask\n",
    "Generated 584 split error patches and 584  correct patches in 72.199368 seconds.\n",
    "working on slice 7\n",
    "no mask\n",
    "Generated 516 split error patches and 516  correct patches in 74.4610579014 seconds.\n",
    "working on slice 8\n",
    "no mask\n",
    "Generated 600 split error patches and 600  correct patches in 79.8463599682 seconds.\n",
    "working on slice 9\n",
    "no mask\n",
    "Generated 536 split error patches and 536  correct patches in 73.4399859905 seconds.\n",
    "working on slice 10\n",
    "no mask\n",
    "Generated 660 split error patches and 660  correct patches in 80.8224570751 seconds.\n",
    "working on slice 11\n",
    "no mask\n",
    "Generated 516 split error patches and 516  correct patches in 73.8577289581 seconds.\n",
    "working on slice 12\n",
    "no mask\n",
    "Generated 568 split error patches and 568  correct patches in 72.4297659397 seconds.\n",
    "working on slice 13\n",
    "no mask\n",
    "Generated 748 split error patches and 748  correct patches in 81.5840780735 seconds.\n",
    "working on slice 14\n",
    "no mask\n",
    "Generated 548 split error patches and 548  correct patches in 72.7623548508 seconds.\n",
    "working on slice 15\n",
    "no mask\n",
    "Generated 440 split error patches and 440  correct patches in 65.453111887 seconds.\n",
    "working on slice 16\n",
    "no mask\n",
    "Generated 448 split error patches and 448  correct patches in 67.6617920399 seconds.\n",
    "working on slice 17\n",
    "no mask\n",
    "Generated 676 split error patches and 676  correct patches in 78.8249759674 seconds.\n",
    "working on slice 18\n",
    "no mask\n",
    "Generated 712 split error patches and 712  correct patches in 81.3622560501 seconds.\n",
    "working on slice 19\n",
    "no mask\n",
    "Generated 588 split error patches and 588  correct patches in 76.3714969158 seconds.\n",
    "working on slice 20\n",
    "no mask\n",
    "Generated 640 split error patches and 640  correct patches in 75.4619441032 seconds.\n",
    "working on slice 21\n",
    "no mask\n",
    "Generated 568 split error patches and 568  correct patches in 75.369535923 seconds.\n",
    "working on slice 22\n",
    "no mask\n",
    "Generated 564 split error patches and 564  correct patches in 74.2786240578 seconds.\n",
    "working on slice 23\n",
    "no mask\n",
    "Generated 620 split error patches and 620  correct patches in 76.340389967 seconds.\n",
    "working on slice 24\n",
    "no mask\n",
    "Generated 412 split error patches and 412  correct patches in 64.9502279758 seconds.\n",
    "working on slice 25\n",
    "no mask\n",
    "Generated 560 split error patches and 560  correct patches in 49.6370921135 seconds.\n",
    "working on slice 26\n",
    "no mask\n",
    "Generated 456 split error patches and 456  correct patches in 45.1472828388 seconds.\n",
    "working on slice 27\n",
    "no mask\n",
    "Generated 432 split error patches and 432  correct patches in 45.1168401241 seconds.\n",
    "working on slice 28\n",
    "no mask\n",
    "Generated 444 split error patches and 444  correct patches in 43.5215339661 seconds.\n",
    "working on slice 29\n",
    "no mask\n",
    "Generated 588 split error patches and 588  correct patches in 48.6778891087 seconds.\n",
    "working on slice 30\n",
    "no mask\n",
    "Generated 496 split error patches and 496  correct patches in 49.1675620079 seconds.\n",
    "working on slice 31\n",
    "no mask\n",
    "Generated 520 split error patches and 520  correct patches in 42.579144001 seconds.\n",
    "working on slice 32\n",
    "no mask\n",
    "Generated 452 split error patches and 452  correct patches in 35.224063158 seconds.\n",
    "working on slice 33\n",
    "no mask\n",
    "Generated 372 split error patches and 372  correct patches in 31.4410500526 seconds.\n",
    "working on slice 34\n",
    "no mask\n",
    "Generated 428 split error patches and 428  correct patches in 35.9716060162 seconds.\n",
    "working on slice 35\n",
    "no mask\n",
    "Generated 400 split error patches and 400  correct patches in 37.2554290295 seconds.\n",
    "working on slice 36\n",
    "no mask\n",
    "Generated 372 split error patches and 372  correct patches in 35.0172948837 seconds.\n",
    "working on slice 37\n",
    "no mask\n",
    "Generated 412 split error patches and 412  correct patches in 35.0888030529 seconds.\n",
    "working on slice 38\n",
    "no mask\n",
    "Generated 324 split error patches and 324  correct patches in 32.1475739479 seconds.\n",
    "working on slice 39\n",
    "no mask\n",
    "Generated 292 split error patches and 292  correct patches in 33.4721031189 seconds.\n",
    "working on slice 40\n",
    "no mask\n",
    "Generated 292 split error patches and 292  correct patches in 32.145138979 seconds.\n",
    "working on slice 41\n",
    "no mask\n",
    "Generated 356 split error patches and 356  correct patches in 37.1747980118 seconds.\n",
    "working on slice 42\n",
    "no mask\n",
    "Generated 432 split error patches and 432  correct patches in 39.0164089203 seconds.\n",
    "working on slice 43\n",
    "no mask\n",
    "Generated 408 split error patches and 408  correct patches in 37.8132679462 seconds.\n",
    "working on slice 44\n",
    "no mask\n",
    "Generated 412 split error patches and 412  correct patches in 34.8254818916 seconds.\n",
    "working on slice 45\n",
    "no mask\n",
    "Generated 412 split error patches and 412  correct patches in 36.1974160671 seconds.\n",
    "working on slice 46\n",
    "no mask\n",
    "Generated 396 split error patches and 396  correct patches in 34.8207061291 seconds.\n",
    "working on slice 47\n",
    "no mask\n",
    "Generated 332 split error patches and 332  correct patches in 29.9883439541 seconds.\n",
    "working on slice 48\n",
    "no mask\n",
    "Generated 304 split error patches and 304  correct patches in 27.8007190228 seconds.\n",
    "working on slice 49\n",
    "no mask\n",
    "Generated 260 split error patches and 260  correct patches in 25.1326870918 seconds.\n",
    "working on slice 50\n",
    "no mask\n",
    "Generated 656 split error patches and 656  correct patches in 67.8867759705 seconds.\n",
    "working on slice 51\n",
    "no mask\n",
    "Generated 708 split error patches and 708  correct patches in 64.5013170242 seconds.\n",
    "working on slice 52\n",
    "no mask\n",
    "Generated 520 split error patches and 520  correct patches in 59.3628590107 seconds.\n",
    "working on slice 53\n",
    "no mask\n",
    "Generated 612 split error patches and 612  correct patches in 64.0020170212 seconds.\n",
    "working on slice 54\n",
    "no mask\n",
    "Generated 860 split error patches and 860  correct patches in 69.3872699738 seconds.\n",
    "working on slice 55\n",
    "no mask\n",
    "Generated 892 split error patches and 892  correct patches in 67.2891058922 seconds.\n",
    "working on slice 56\n",
    "no mask\n",
    "Generated 696 split error patches and 696  correct patches in 60.5339829922 seconds.\n",
    "working on slice 57\n",
    "no mask\n",
    "Generated 792 split error patches and 792  correct patches in 64.5792591572 seconds.\n",
    "working on slice 58\n",
    "no mask\n",
    "Generated 844 split error patches and 844  correct patches in 67.5466179848 seconds.\n",
    "working on slice 59\n",
    "no mask\n",
    "Generated 760 split error patches and 760  correct patches in 71.1473760605 seconds.\n",
    "working on slice 60\n",
    "no mask\n",
    "Generated 816 split error patches and 816  correct patches in 72.0629360676 seconds.\n",
    "working on slice 61\n",
    "no mask\n",
    "Generated 680 split error patches and 680  correct patches in 68.313035965 seconds.\n",
    "working on slice 62\n",
    "no mask\n",
    "Generated 672 split error patches and 672  correct patches in 68.6422839165 seconds.\n",
    "working on slice 63\n",
    "no mask\n",
    "Generated 828 split error patches and 828  correct patches in 75.3140921593 seconds.\n",
    "working on slice 64\n",
    "no mask\n",
    "Generated 776 split error patches and 776  correct patches in 66.7116239071 seconds.\n",
    "working on slice 65\n",
    "no mask\n",
    "Generated 644 split error patches and 644  correct patches in 58.7857379913 seconds.\n",
    "working on slice 66\n",
    "no mask\n",
    "Generated 608 split error patches and 608  correct patches in 59.1434319019 seconds.\n",
    "working on slice 67\n",
    "no mask\n",
    "Generated 628 split error patches and 628  correct patches in 59.5656120777 seconds.\n",
    "working on slice 68\n",
    "no mask\n",
    "Generated 492 split error patches and 492  correct patches in 50.8020510674 seconds.\n",
    "working on slice 69\n",
    "no mask\n",
    "Generated 348 split error patches and 348  correct patches in 47.0378401279 seconds.\n",
    "working on slice 70\n",
    "no mask\n",
    "Generated 516 split error patches and 516  correct patches in 55.1166660786 seconds.\n",
    "working on slice 71\n",
    "no mask\n",
    "Generated 352 split error patches and 352  correct patches in 48.1190011501 seconds.\n",
    "working on slice 72\n",
    "no mask\n",
    "Generated 320 split error patches and 320  correct patches in 44.1336331367 seconds.\n",
    "working on slice 73\n",
    "no mask\n",
    "Generated 320 split error patches and 320  correct patches in 41.7422299385 seconds.\n",
    "working on slice 74\n",
    "no mask\n",
    "Generated 284 split error patches and 284  correct patches in 40.7786231041 seconds.\n",
    "'''\n",
    "patches_per_slice = []\n",
    "for a in aaa.split('\\n'):\n",
    "    if a.startswith('Generated'):\n",
    "        nom = a.split(' ')[1]\n",
    "        patches_per_slice.append(int(nom))"
   ]
  },
  {
   "cell_type": "code",
   "execution_count": 6,
   "metadata": {
    "collapsed": false
   },
   "outputs": [
    {
     "data": {
      "text/plain": [
       "[864,\n",
       " 644,\n",
       " 412,\n",
       " 408,\n",
       " 392,\n",
       " 456,\n",
       " 584,\n",
       " 516,\n",
       " 600,\n",
       " 536,\n",
       " 660,\n",
       " 516,\n",
       " 568,\n",
       " 748,\n",
       " 548,\n",
       " 440,\n",
       " 448,\n",
       " 676,\n",
       " 712,\n",
       " 588,\n",
       " 640,\n",
       " 568,\n",
       " 564,\n",
       " 620,\n",
       " 412,\n",
       " 560,\n",
       " 456,\n",
       " 432,\n",
       " 444,\n",
       " 588,\n",
       " 496,\n",
       " 520,\n",
       " 452,\n",
       " 372,\n",
       " 428,\n",
       " 400,\n",
       " 372,\n",
       " 412,\n",
       " 324,\n",
       " 292,\n",
       " 292,\n",
       " 356,\n",
       " 432,\n",
       " 408,\n",
       " 412,\n",
       " 412,\n",
       " 396,\n",
       " 332,\n",
       " 304,\n",
       " 260,\n",
       " 656,\n",
       " 708,\n",
       " 520,\n",
       " 612,\n",
       " 860,\n",
       " 892,\n",
       " 696,\n",
       " 792,\n",
       " 844,\n",
       " 760,\n",
       " 816,\n",
       " 680,\n",
       " 672,\n",
       " 828,\n",
       " 776,\n",
       " 644,\n",
       " 608,\n",
       " 628,\n",
       " 492,\n",
       " 348,\n",
       " 516,\n",
       " 352,\n",
       " 320,\n",
       " 320,\n",
       " 284]"
      ]
     },
     "execution_count": 6,
     "metadata": {},
     "output_type": "execute_result"
    }
   ],
   "source": [
    "patches_per_slice"
   ]
  },
  {
   "cell_type": "code",
   "execution_count": 37,
   "metadata": {
    "collapsed": false
   },
   "outputs": [
    {
     "data": {
      "text/plain": [
       "75"
      ]
     },
     "execution_count": 37,
     "metadata": {},
     "output_type": "execute_result"
    }
   ],
   "source": [
    "len(patches_per_slice)"
   ]
  },
  {
   "cell_type": "code",
   "execution_count": null,
   "metadata": {
    "collapsed": true
   },
   "outputs": [],
   "source": []
  }
 ],
 "metadata": {
  "kernelspec": {
   "display_name": "Python 2",
   "language": "python",
   "name": "python2"
  },
  "language_info": {
   "codemirror_mode": {
    "name": "ipython",
    "version": 2
   },
   "file_extension": ".py",
   "mimetype": "text/x-python",
   "name": "python",
   "nbconvert_exporter": "python",
   "pygments_lexer": "ipython2",
   "version": "2.7.12"
  }
 },
 "nbformat": 4,
 "nbformat_minor": 0
}
