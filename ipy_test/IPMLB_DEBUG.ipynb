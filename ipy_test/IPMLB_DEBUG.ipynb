{
 "cells": [
  {
   "cell_type": "code",
   "execution_count": 1,
   "metadata": {
    "collapsed": false
   },
   "outputs": [
    {
     "name": "stderr",
     "output_type": "stream",
     "text": [
      "/home/d/nolearn/local/lib/python2.7/site-packages/matplotlib/font_manager.py:273: UserWarning: Matplotlib is building the font cache using fc-list. This may take a moment.\n",
      "  warnings.warn('Matplotlib is building the font cache using fc-list. This may take a moment.')\n",
      "Using gpu device 0: GeForce GTX TITAN (CNMeM is disabled, CuDNN 4007)\n",
      "/home/d/nolearn/local/lib/python2.7/site-packages/theano/tensor/signal/downsample.py:6: UserWarning: downsample module has been moved to the theano.tensor.signal.pool module.\n",
      "  \"downsample module has been moved to the theano.tensor.signal.pool module.\")\n"
     ]
    }
   ],
   "source": [
    "%load_ext autoreload\n",
    "%autoreload 2\n",
    "\n",
    "import cPickle as pickle\n",
    "import os; import sys; sys.path.append('..')\n",
    "import gp\n",
    "import gp.nets as nets\n",
    "\n",
    "from nolearn.lasagne.visualize import plot_loss\n",
    "from nolearn.lasagne.visualize import plot_conv_weights\n",
    "from nolearn.lasagne.visualize import plot_conv_activity\n",
    "from nolearn.lasagne.visualize import plot_occlusion\n",
    "\n",
    "from sklearn.metrics import classification_report, accuracy_score, roc_curve, auc, precision_recall_fscore_support, f1_score, precision_recall_curve, average_precision_score, zero_one_loss\n",
    "\n",
    "\n",
    "from matplotlib.pyplot import imshow\n",
    "import matplotlib.pyplot as plt\n",
    "\n",
    "%matplotlib inline"
   ]
  },
  {
   "cell_type": "code",
   "execution_count": 2,
   "metadata": {
    "collapsed": true
   },
   "outputs": [],
   "source": [
    "NETS = []\n",
    "NETS.append('../nets/IP_FULL.p') # image + prob\n",
    "NETS.append('../nets/IPLB_FULL.p') # image + large border\n",
    "NETS.append('../nets/IPM_FULL.p') # image + prob + binary\n",
    "NETS.append('../nets/IPMB_FULL.p') # image + prob + binary + border\n",
    "NETS.append('../nets/IPMLB_FULL.p') # image + prob + binary + large border\n",
    "\n",
    "network_path = NETS[-1]\n",
    "\n",
    "with open(network_path, 'rb') as f:\n",
    "    net = pickle.load(f)\n"
   ]
  },
  {
   "cell_type": "code",
   "execution_count": 4,
   "metadata": {
    "collapsed": true
   },
   "outputs": [],
   "source": [
    "    input_image, input_prob, input_gold, input_rhoana, dojo_bbox = gp.Legacy.read_dojo_data()\n",
    "    original_mean_VI, original_median_VI, original_VI_s = gp.Legacy.VI(input_gold, input_rhoana)\n"
   ]
  },
  {
   "cell_type": "code",
   "execution_count": 5,
   "metadata": {
    "collapsed": true
   },
   "outputs": [],
   "source": [
    "net.uuid = 'IPMLB'"
   ]
  },
  {
   "cell_type": "code",
   "execution_count": null,
   "metadata": {
    "collapsed": true
   },
   "outputs": [],
   "source": []
  },
  {
   "cell_type": "code",
   "execution_count": 41,
   "metadata": {
    "collapsed": false
   },
   "outputs": [],
   "source": [
    "bigM_dojo = gp.Legacy.create_bigM_without_mask(net, input_image[2:3], input_prob[2:3], input_rhoana[2:3], verbose=False, oversampling=True)"
   ]
  },
  {
   "cell_type": "code",
   "execution_count": null,
   "metadata": {
    "collapsed": true
   },
   "outputs": [],
   "source": []
  },
  {
   "cell_type": "code",
   "execution_count": null,
   "metadata": {
    "collapsed": true
   },
   "outputs": [],
   "source": []
  },
  {
   "cell_type": "code",
   "execution_count": 43,
   "metadata": {
    "collapsed": false
   },
   "outputs": [
    {
     "data": {
      "text/plain": [
       "0.94007781893014908"
      ]
     },
     "execution_count": 43,
     "metadata": {},
     "output_type": "execute_result"
    }
   ],
   "source": [
    "bigM_dojo[0][5,6]"
   ]
  },
  {
   "cell_type": "code",
   "execution_count": 46,
   "metadata": {
    "collapsed": false
   },
   "outputs": [
    {
     "name": "stdout",
     "output_type": "stream",
     "text": [
      "done\n"
     ]
    }
   ],
   "source": [
    "bigM_dojo_after, out_dojo_volume_after_sim_user, dojo_sim_user_fixes, dojo_sim_user_vi_s, vi_s_per_step2 = gp.Legacy.splits_global_from_M(\n",
    "    net, bigM_dojo, input_image[2:3], input_prob[2:3], input_rhoana[2:3], input_gold[2:3], hours=.5)"
   ]
  },
  {
   "cell_type": "code",
   "execution_count": 47,
   "metadata": {
    "collapsed": false
   },
   "outputs": [
    {
     "data": {
      "text/plain": [
       "[(0.41596147559619201, 0.41596147559619201, [0.415961475596192]),\n",
       " (0.41550662413970052, 0.41550662413970052, [0.4155066241397005]),\n",
       " (0.41386227988968738, 0.41386227988968738, [0.4138622798896874]),\n",
       " (0.40783529127954399, 0.40783529127954399, [0.407835291279544]),\n",
       " (0.39681246325197428, 0.39681246325197428, [0.3968124632519743]),\n",
       " (0.38285135487078303, 0.38285135487078303, [0.38285135487078303]),\n",
       " (0.37640030542634673, 0.37640030542634673, [0.3764003054263467]),\n",
       " (0.37620673464582932, 0.37620673464582932, [0.3762067346458293]),\n",
       " (0.37617726387055139, 0.37617726387055139, [0.3761772638705514]),\n",
       " (0.3591082780815551, 0.3591082780815551, [0.3591082780815551]),\n",
       " (0.35841175297326799, 0.35841175297326799, [0.358411752973268]),\n",
       " (0.35752486408339301, 0.35752486408339301, [0.357524864083393]),\n",
       " (0.3568546487170341, 0.3568546487170341, [0.3568546487170341]),\n",
       " (0.35560799564815149, 0.35560799564815149, [0.3556079956481515]),\n",
       " (0.35546754595211283, 0.35546754595211283, [0.35546754595211283]),\n",
       " (0.35533534776649489, 0.35533534776649489, [0.3553353477664949]),\n",
       " (0.33504233898673164, 0.33504233898673164, [0.33504233898673164])]"
      ]
     },
     "execution_count": 47,
     "metadata": {},
     "output_type": "execute_result"
    }
   ],
   "source": [
    "vi_s_per_step2"
   ]
  },
  {
   "cell_type": "code",
   "execution_count": null,
   "metadata": {
    "collapsed": true
   },
   "outputs": [],
   "source": []
  }
 ],
 "metadata": {
  "kernelspec": {
   "display_name": "Python 2",
   "language": "python",
   "name": "python2"
  },
  "language_info": {
   "codemirror_mode": {
    "name": "ipython",
    "version": 2
   },
   "file_extension": ".py",
   "mimetype": "text/x-python",
   "name": "python",
   "nbconvert_exporter": "python",
   "pygments_lexer": "ipython2",
   "version": "2.7.6"
  }
 },
 "nbformat": 4,
 "nbformat_minor": 0
}
