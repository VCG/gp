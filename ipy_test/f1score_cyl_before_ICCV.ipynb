{
 "cells": [
  {
   "cell_type": "code",
   "execution_count": 1,
   "metadata": {
    "collapsed": false
   },
   "outputs": [
    {
     "name": "stderr",
     "output_type": "stream",
     "text": [
      "Using gpu device 0: GeForce GTX TITAN (CNMeM is disabled, CuDNN 4007)\n",
      "/home/d/nolearn/local/lib/python2.7/site-packages/theano/tensor/signal/downsample.py:6: UserWarning: downsample module has been moved to the theano.tensor.signal.pool module.\n",
      "  \"downsample module has been moved to the theano.tensor.signal.pool module.\")\n"
     ]
    }
   ],
   "source": [
    "%load_ext autoreload\n",
    "%autoreload 2\n",
    "\n",
    "from matplotlib.pyplot import imshow\n",
    "import matplotlib.pyplot as plt\n",
    "\n",
    "%matplotlib inline\n",
    "import numpy as np\n",
    "import sys\n",
    "sys.path.append('../')\n",
    "import gp"
   ]
  },
  {
   "cell_type": "code",
   "execution_count": 2,
   "metadata": {
    "collapsed": true
   },
   "outputs": [],
   "source": [
    "e_p = []\n",
    "p = []"
   ]
  },
  {
   "cell_type": "code",
   "execution_count": 3,
   "metadata": {
    "collapsed": false
   },
   "outputs": [],
   "source": [
    "import cPickle as pickle\n",
    "with open('../nets/IPMLB_FULL.p', 'rb') as f:\n",
    "    cnn = pickle.load(f)\n",
    "cnn.uuid = 'IPMLB'"
   ]
  },
  {
   "cell_type": "code",
   "execution_count": 4,
   "metadata": {
    "collapsed": false
   },
   "outputs": [],
   "source": [
    "# here we just load p, and e_p\n",
    "import cPickle as pickle\n",
    "with open('/home/d/data/CYLPATCHES/e_p.p', 'rb') as f:\n",
    "    e_p = pickle.load(f)\n",
    "    \n",
    "with open('/home/d/data/CYLPATCHES/p.p', 'rb') as f:\n",
    "    p = pickle.load(f)\n",
    "\n",
    "\n"
   ]
  },
  {
   "cell_type": "code",
   "execution_count": null,
   "metadata": {
    "collapsed": true
   },
   "outputs": [],
   "source": [
    "#\n",
    "# FOCUSED PROOFREADING\n",
    "#"
   ]
  },
  {
   "cell_type": "code",
   "execution_count": 3,
   "metadata": {
    "collapsed": true
   },
   "outputs": [],
   "source": [
    "# cconvert to FP format with target\n",
    "import neuroproof\n",
    "import neuroproof.FocusedProofreading as fp\n"
   ]
  },
  {
   "cell_type": "code",
   "execution_count": 4,
   "metadata": {
    "collapsed": false
   },
   "outputs": [],
   "source": [
    "graphs = []\n",
    "for z in range(250,299):\n",
    "    \n",
    "    g = fp.Graph('/home/d/FP/cylinder/graph_'+str(z)+'.json')\n",
    "    graphs.append(g)"
   ]
  },
  {
   "cell_type": "code",
   "execution_count": 5,
   "metadata": {
    "collapsed": false
   },
   "outputs": [
    {
     "name": "stdout",
     "output_type": "stream",
     "text": [
      "0\n",
      "1\n",
      "2\n",
      "3\n",
      "4\n",
      "5\n",
      "6\n",
      "7\n",
      "8\n",
      "9\n",
      "10\n",
      "11\n",
      "12\n",
      "13\n",
      "14\n",
      "15\n",
      "16\n",
      "17\n",
      "18\n",
      "19\n",
      "20\n",
      "21\n",
      "22\n",
      "23\n",
      "24\n",
      "25\n",
      "26\n",
      "27\n",
      "28\n",
      "29\n",
      "30\n",
      "31\n",
      "32\n",
      "33\n",
      "34\n",
      "35\n",
      "36\n",
      "37\n",
      "38\n",
      "39\n",
      "40\n",
      "41\n",
      "42\n",
      "43\n",
      "44\n",
      "45\n",
      "46\n",
      "47\n",
      "48\n"
     ]
    }
   ],
   "source": [
    "fp_y_test_proba = []\n",
    "fp_y_test = []\n",
    "gt_y_test = []\n",
    "for z in range(49):\n",
    "    \n",
    "    cur_e_p = e_p[z]\n",
    "    cur_p = p[z]\n",
    "    \n",
    "    g = graphs[z]\n",
    "    \n",
    "    for pa in cur_e_p:\n",
    "#         print pa['l'], pa['n']\n",
    "        \n",
    "        label1 = pa['l']\n",
    "        label2 = pa['n']\n",
    "\n",
    "        graph_neighbors = sorted(g.find_close_bodies(label1,0,0.))\n",
    "\n",
    "        pred = [ne[1] for ne in graph_neighbors if ne[0] == label2]\n",
    "        \n",
    "        fp_y_test.append(np.round(pred))\n",
    "        fp_y_test_proba.append(pred)\n",
    "        gt_y_test.append(1)\n",
    "        \n",
    "    for pa in cur_p:\n",
    "#         print pa['l'], pa['n']\n",
    "        \n",
    "        label1 = pa['l']\n",
    "        label2 = pa['n']\n",
    "\n",
    "        graph_neighbors = sorted(g.find_close_bodies(label1,0,0.))\n",
    "\n",
    "        pred = [ne[1] for ne in graph_neighbors if ne[0] == label2]\n",
    "        \n",
    "        fp_y_test.append(np.round(pred))\n",
    "        fp_y_test_proba.append(pred)\n",
    "        gt_y_test.append(0)\n",
    "        \n",
    "    print z\n",
    "\n",
    "    \n",
    "\n"
   ]
  },
  {
   "cell_type": "code",
   "execution_count": 7,
   "metadata": {
    "collapsed": false
   },
   "outputs": [],
   "source": [
    "from sklearn.metrics import classification_report, accuracy_score, roc_curve, auc, precision_recall_fscore_support, f1_score, precision_recall_curve, average_precision_score, zero_one_loss\n"
   ]
  },
  {
   "cell_type": "code",
   "execution_count": 8,
   "metadata": {
    "collapsed": false
   },
   "outputs": [
    {
     "name": "stdout",
     "output_type": "stream",
     "text": [
      "Precision/Recall:\n",
      "             precision    recall  f1-score   support\n",
      "\n",
      "          0       0.93      0.31      0.47     81184\n",
      "          1       0.11      0.78      0.19      8780\n",
      "\n",
      "avg / total       0.85      0.36      0.44     89964\n",
      "\n"
     ]
    }
   ],
   "source": [
    "print 'Precision/Recall:'\n",
    "print classification_report(np.array(gt_y_test), np.array(fp_y_test))"
   ]
  },
  {
   "cell_type": "code",
   "execution_count": 9,
   "metadata": {
    "collapsed": false
   },
   "outputs": [
    {
     "name": "stdout",
     "output_type": "stream",
     "text": [
      "Accuracy Score: 0.356942777111\n"
     ]
    }
   ],
   "source": [
    "acc_score = accuracy_score(np.array(gt_y_test), np.array(fp_y_test))\n",
    "print 'Accuracy Score:', acc_score"
   ]
  },
  {
   "cell_type": "code",
   "execution_count": 11,
   "metadata": {
    "collapsed": true
   },
   "outputs": [],
   "source": [
    "with open('/home/d/GPSTUDY/fp_y_test_proba_cyl.p','wb') as f:\n",
    "    pickle.dump(fp_y_test_proba, f)"
   ]
  },
  {
   "cell_type": "code",
   "execution_count": null,
   "metadata": {
    "collapsed": true
   },
   "outputs": [],
   "source": []
  },
  {
   "cell_type": "code",
   "execution_count": null,
   "metadata": {
    "collapsed": true
   },
   "outputs": [],
   "source": [
    "#\n",
    "# GUIDED PROOFREADING\n",
    "#"
   ]
  },
  {
   "cell_type": "code",
   "execution_count": 5,
   "metadata": {
    "collapsed": false
   },
   "outputs": [
    {
     "name": "stdout",
     "output_type": "stream",
     "text": [
      "0\n",
      "1\n",
      "2\n",
      "3\n",
      "4\n",
      "5\n",
      "6\n",
      "7\n",
      "8\n",
      "9\n",
      "10\n",
      "11\n",
      "12\n",
      "13\n",
      "14\n",
      "15\n",
      "16\n",
      "17\n",
      "18\n",
      "19\n",
      "20\n",
      "21\n",
      "22\n",
      "23\n",
      "24\n",
      "25\n",
      "26\n",
      "27\n",
      "28\n",
      "29\n",
      "30\n",
      "31\n",
      "32\n",
      "33\n",
      "34\n",
      "35\n",
      "36\n",
      "37\n",
      "38\n",
      "39\n",
      "40\n",
      "41\n",
      "42\n",
      "43\n",
      "44\n",
      "45\n",
      "46\n",
      "47\n",
      "48\n",
      "49\n"
     ]
    }
   ],
   "source": [
    "gp_y_test_proba = []\n",
    "gp_y_test = []\n",
    "gt_y_test = []\n",
    "for z in range(len(e_p)):\n",
    "    \n",
    "    cur_e_p = e_p[z]\n",
    "    cur_p = p[z]\n",
    "    \n",
    "    for pa in cur_e_p:\n",
    "#         print pa['l'], pa['n']\n",
    "        \n",
    "        label1 = pa['l']\n",
    "        label2 = pa['n']\n",
    "        pa['prob'] = 1.-pa['prob']\n",
    "        pred = gp.Patch.test_and_unify([pa], cnn)\n",
    "        \n",
    "        gp_y_test.append(np.round(pred))\n",
    "        gp_y_test_proba.append(pred)\n",
    "        gt_y_test.append(1)\n",
    "        \n",
    "    for pa in cur_p:\n",
    "#         print pa['l'], pa['n']\n",
    "        \n",
    "        label1 = pa['l']\n",
    "        label2 = pa['n']\n",
    "        pa['prob'] = 1.-pa['prob']\n",
    "        pred = gp.Patch.test_and_unify([pa], cnn)        \n",
    "        \n",
    "        gp_y_test.append(np.round(pred))\n",
    "        gp_y_test_proba.append(pred)\n",
    "        gt_y_test.append(0)\n",
    "        \n",
    "    print z"
   ]
  },
  {
   "cell_type": "code",
   "execution_count": 6,
   "metadata": {
    "collapsed": true
   },
   "outputs": [],
   "source": [
    "from sklearn.metrics import classification_report, accuracy_score, roc_curve, auc, precision_recall_fscore_support, f1_score, precision_recall_curve, average_precision_score, zero_one_loss\n"
   ]
  },
  {
   "cell_type": "code",
   "execution_count": 7,
   "metadata": {
    "collapsed": false
   },
   "outputs": [
    {
     "name": "stdout",
     "output_type": "stream",
     "text": [
      "             precision    recall  f1-score   support\n",
      "\n",
      "          0       1.00      0.93      0.96     81184\n",
      "          1       0.61      0.96      0.74      8780\n",
      "\n",
      "avg / total       0.96      0.94      0.94     89964\n",
      "\n"
     ]
    }
   ],
   "source": [
    "print classification_report(np.array(gt_y_test), np.array(gp_y_test))"
   ]
  },
  {
   "cell_type": "code",
   "execution_count": 8,
   "metadata": {
    "collapsed": false
   },
   "outputs": [
    {
     "name": "stdout",
     "output_type": "stream",
     "text": [
      "Accuracy Score: 0.935262994087\n"
     ]
    }
   ],
   "source": [
    "acc_score = accuracy_score(np.array(gt_y_test), np.array(gp_y_test))\n",
    "print 'Accuracy Score:', acc_score"
   ]
  },
  {
   "cell_type": "code",
   "execution_count": 9,
   "metadata": {
    "collapsed": true
   },
   "outputs": [],
   "source": [
    "with open('/home/d/GPSTUDY/gp_y_test_proba_cyl.p','wb') as f:\n",
    "    pickle.dump(gp_y_test_proba, f)"
   ]
  },
  {
   "cell_type": "code",
   "execution_count": 10,
   "metadata": {
    "collapsed": true
   },
   "outputs": [],
   "source": [
    "with open('/home/d/GPSTUDY/gt_y_test_cyl.p','wb') as f:\n",
    "    pickle.dump(gt_y_test, f)"
   ]
  },
  {
   "cell_type": "code",
   "execution_count": null,
   "metadata": {
    "collapsed": true
   },
   "outputs": [],
   "source": []
  },
  {
   "cell_type": "code",
   "execution_count": null,
   "metadata": {
    "collapsed": true
   },
   "outputs": [],
   "source": []
  },
  {
   "cell_type": "code",
   "execution_count": null,
   "metadata": {
    "collapsed": true
   },
   "outputs": [],
   "source": [
    "#\n",
    "# combined plots\n",
    "#\n"
   ]
  },
  {
   "cell_type": "code",
   "execution_count": 15,
   "metadata": {
    "collapsed": false
   },
   "outputs": [],
   "source": [
    "# load fp and gp\n",
    "with open('/home/d/GPSTUDY/gp_y_test_proba_cyl.p', 'rb') as f:\n",
    "    gp_y_test_proba = pickle.load(f)\n",
    "with open('/home/d/GPSTUDY/fp_y_test_proba_cyl.p', 'rb') as f:\n",
    "    fp_y_test_proba = pickle.load(f)\n",
    "with open('/home/d/GPSTUDY/gt_y_test_cyl.p', 'rb') as f:\n",
    "    gt_y_test = pickle.load(f)"
   ]
  },
  {
   "cell_type": "code",
   "execution_count": 16,
   "metadata": {
    "collapsed": false
   },
   "outputs": [
    {
     "data": {
      "text/plain": [
       "[<matplotlib.lines.Line2D at 0x7fa621c75890>]"
      ]
     },
     "execution_count": 16,
     "metadata": {},
     "output_type": "execute_result"
    },
    {
     "data": {
      "image/png": "[encoded data removed]",
      "text/plain": [
       "<matplotlib.figure.Figure at 0x7fa627782650>"
      ]
     },
     "metadata": {},
     "output_type": "display_data"
    }
   ],
   "source": [
    "gp_precision, gp_recall, gp_thresholds = precision_recall_curve(gt_y_test, gp_y_test_proba, pos_label=1)\n",
    "fp_precision, fp_recall, fp_thresholds = precision_recall_curve(gt_y_test, fp_y_test_proba, pos_label=1)\n",
    "plt.plot(gp_recall, gp_precision, color='blue')\n",
    "plt.plot(fp_recall, fp_precision, color='red')"
   ]
  },
  {
   "cell_type": "code",
   "execution_count": 20,
   "metadata": {
    "collapsed": false
   },
   "outputs": [
    {
     "data": {
      "text/plain": [
       "[[0.8196078389883041],\n",
       " [0.8196078389883041],\n",
       " [0.5511418576822149],\n",
       " [0.5511418576822149],\n",
       " [0.7098039090633392],\n",
       " [0.7098039090633392],\n",
       " [0.5511418576822149],\n",
       " [0.5511418576822149],\n",
       " [0.3513725279943616],\n",
       " [0.3513725279943616],\n",
       " [0.7411764562129974],\n",
       " [0.7411764562129974],\n",
       " [0.8784313723444939],\n",
       " [0.8784313723444939],\n",
       " [0.3647058606147766],\n",
       " [0.3647058606147766],\n",
       " [0.37647056579589844],\n",
       " [0.37647056579589844],\n",
       " [0.4470587968826294],\n",
       " [0.4470587968826294]]"
      ]
     },
     "execution_count": 20,
     "metadata": {},
     "output_type": "execute_result"
    }
   ],
   "source": [
    "fp_y_test_proba[0:20]"
   ]
  },
  {
   "cell_type": "code",
   "execution_count": 21,
   "metadata": {
    "collapsed": false
   },
   "outputs": [
    {
     "data": {
      "text/plain": [
       "[1, 1, 1, 1, 1, 1, 1, 1, 1, 1, 1, 1, 1, 1, 1, 1, 1, 1, 1, 1]"
      ]
     },
     "execution_count": 21,
     "metadata": {},
     "output_type": "execute_result"
    }
   ],
   "source": [
    "gt_y_test[0:20]"
   ]
  },
  {
   "cell_type": "code",
   "execution_count": 22,
   "metadata": {
    "collapsed": false
   },
   "outputs": [
    {
     "data": {
      "text/plain": [
       "[0.82309329509735107,\n",
       " 0.82309329509735107,\n",
       " 0.85707062482833862,\n",
       " 0.85707062482833862,\n",
       " 0.99994933605194092,\n",
       " 0.99994933605194092,\n",
       " 0.85707062482833862,\n",
       " 0.85707062482833862,\n",
       " 0.9991874098777771,\n",
       " 0.9991874098777771,\n",
       " 0.99998998641967773,\n",
       " 0.99998998641967773,\n",
       " 0.99999856948852539,\n",
       " 0.99999856948852539,\n",
       " 0.91307896375656128,\n",
       " 0.91307896375656128,\n",
       " 0.9999924898147583,\n",
       " 0.9999924898147583,\n",
       " 0.37725311517715454,\n",
       " 0.37725311517715454]"
      ]
     },
     "execution_count": 22,
     "metadata": {},
     "output_type": "execute_result"
    }
   ],
   "source": [
    "gp_y_test_proba[0:20]"
   ]
  },
  {
   "cell_type": "code",
   "execution_count": null,
   "metadata": {
    "collapsed": true
   },
   "outputs": [],
   "source": []
  }
 ],
 "metadata": {
  "kernelspec": {
   "display_name": "Python 2",
   "language": "python",
   "name": "python2"
  },
  "language_info": {
   "codemirror_mode": {
    "name": "ipython",
    "version": 2
   },
   "file_extension": ".py",
   "mimetype": "text/x-python",
   "name": "python",
   "nbconvert_exporter": "python",
   "pygments_lexer": "ipython2",
   "version": "2.7.6"
  }
 },
 "nbformat": 4,
 "nbformat_minor": 0
}
