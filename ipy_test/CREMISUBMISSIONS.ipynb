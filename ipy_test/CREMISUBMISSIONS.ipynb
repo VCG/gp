{
 "cells": [
  {
   "cell_type": "code",
   "execution_count": 2,
   "metadata": {
    "collapsed": false
   },
   "outputs": [],
   "source": [
    "\n",
    "from cremi import Annotations, Volume\n",
    "from cremi.io import CremiFile\n",
    "import numpy as np"
   ]
  },
  {
   "cell_type": "code",
   "execution_count": 12,
   "metadata": {
    "collapsed": true
   },
   "outputs": [],
   "source": []
  },
  {
   "cell_type": "code",
   "execution_count": 4,
   "metadata": {
    "collapsed": true
   },
   "outputs": [],
   "source": [
    "import mahotas as mh"
   ]
  },
  {
   "cell_type": "code",
   "execution_count": 5,
   "metadata": {
    "collapsed": true
   },
   "outputs": [],
   "source": [
    "seg = np.zeros((125,1250,1250), dtype=np.uint64)\n",
    "for z in range(125):\n",
    "    \n",
    "    i = mh.imread('/tmp/creminew/test/Aplus/raw/0/0/0/neuroproof/000000000_000000000_000000'+str(z).zfill(3)+'_neuroproof.png')\n",
    "    \n",
    "    rhoana_single = np.zeros((i.shape[0], i.shape[1]), dtype=np.uint64)\n",
    "    rhoana_single[:, :] = i[:,:,0]*256*256 + i[:,:,1]*256 + i[:,:,2]\n",
    "    \n",
    "    seg[z] = rhoana_single"
   ]
  },
  {
   "cell_type": "code",
   "execution_count": 16,
   "metadata": {
    "collapsed": false
   },
   "outputs": [],
   "source": [
    "segB = np.zeros((125,1250,1250), dtype=np.uint64)\n",
    "for z in range(125):\n",
    "    \n",
    "    i = mh.imread('/tmp/creminewB/test/Bplus/raw/0/0/0/neuroproof/000000000_000000000_000000'+str(z).zfill(3)+'_neuroproof.png')\n",
    "    \n",
    "    rhoana_single = np.zeros((i.shape[0], i.shape[1]), dtype=np.uint64)\n",
    "    rhoana_single[:, :] = i[:,:,0]*256*256 + i[:,:,1]*256 + i[:,:,2]\n",
    "    \n",
    "    segB[z] = rhoana_single"
   ]
  },
  {
   "cell_type": "code",
   "execution_count": 19,
   "metadata": {
    "collapsed": true
   },
   "outputs": [],
   "source": [
    "segC = np.zeros((125,1250,1250), dtype=np.uint64)\n",
    "for z in range(125):\n",
    "    \n",
    "    i = mh.imread('/tmp/creminewC/test/Cplus/raw/0/0/0/neuroproof/000000000_000000000_000000'+str(z).zfill(3)+'_neuroproof.png')\n",
    "    \n",
    "    rhoana_single = np.zeros((i.shape[0], i.shape[1]), dtype=np.uint64)\n",
    "    rhoana_single[:, :] = i[:,:,0]*256*256 + i[:,:,1]*256 + i[:,:,2]\n",
    "    \n",
    "    segC[z] = rhoana_single"
   ]
  },
  {
   "cell_type": "code",
   "execution_count": 13,
   "metadata": {
    "collapsed": false
   },
   "outputs": [],
   "source": [
    "file = CremiFile(\"/home/d/data/cremiA+.hdf\", \"w\")\n",
    "\n",
    "file.write_neuron_ids(Volume(seg, resolution=(40.0,4.0,4.0)))\n",
    "\n",
    "file.close()"
   ]
  },
  {
   "cell_type": "code",
   "execution_count": 18,
   "metadata": {
    "collapsed": true
   },
   "outputs": [],
   "source": [
    "file = CremiFile(\"/home/d/data/cremiB+.hdf\", \"w\")\n",
    "\n",
    "file.write_neuron_ids(Volume(segB, resolution=(40.0,4.0,4.0)))\n",
    "\n",
    "file.close()"
   ]
  },
  {
   "cell_type": "code",
   "execution_count": 20,
   "metadata": {
    "collapsed": true
   },
   "outputs": [],
   "source": [
    "file = CremiFile(\"/home/d/data/cremiC+.hdf\", \"w\")\n",
    "\n",
    "file.write_neuron_ids(Volume(segC, resolution=(40.0,4.0,4.0)))\n",
    "\n",
    "file.close()"
   ]
  },
  {
   "cell_type": "code",
   "execution_count": 15,
   "metadata": {
    "collapsed": false
   },
   "outputs": [
    {
     "name": "stdout",
     "output_type": "stream",
     "text": [
      "a\n"
     ]
    }
   ],
   "source": [
    "print 'a'"
   ]
  },
  {
   "cell_type": "code",
   "execution_count": null,
   "metadata": {
    "collapsed": true
   },
   "outputs": [],
   "source": []
  }
 ],
 "metadata": {
  "kernelspec": {
   "display_name": "Python 2",
   "language": "python",
   "name": "python2"
  },
  "language_info": {
   "codemirror_mode": {
    "name": "ipython",
    "version": 2
   },
   "file_extension": ".py",
   "mimetype": "text/x-python",
   "name": "python",
   "nbconvert_exporter": "python",
   "pygments_lexer": "ipython2",
   "version": "2.7.6"
  }
 },
 "nbformat": 4,
 "nbformat_minor": 0
}
