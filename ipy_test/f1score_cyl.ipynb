{
 "cells": [
  {
   "cell_type": "code",
   "execution_count": 1,
   "metadata": {
    "collapsed": false
   },
   "outputs": [
    {
     "name": "stderr",
     "output_type": "stream",
     "text": [
      "/home/d/nolearn/local/lib/python2.7/site-packages/matplotlib/font_manager.py:273: UserWarning: Matplotlib is building the font cache using fc-list. This may take a moment.\n",
      "  warnings.warn('Matplotlib is building the font cache using fc-list. This may take a moment.')\n",
      "Using gpu device 0: GeForce GTX TITAN (CNMeM is disabled, CuDNN 4007)\n",
      "/home/d/nolearn/local/lib/python2.7/site-packages/theano/tensor/signal/downsample.py:6: UserWarning: downsample module has been moved to the theano.tensor.signal.pool module.\n",
      "  \"downsample module has been moved to the theano.tensor.signal.pool module.\")\n"
     ]
    }
   ],
   "source": [
    "%load_ext autoreload\n",
    "%autoreload 2\n",
    "\n",
    "from matplotlib.pyplot import imshow\n",
    "import matplotlib.pyplot as plt\n",
    "\n",
    "%matplotlib inline\n",
    "import numpy as np\n",
    "import sys\n",
    "sys.path.append('../')\n",
    "import gp"
   ]
  },
  {
   "cell_type": "code",
   "execution_count": 2,
   "metadata": {
    "collapsed": true
   },
   "outputs": [],
   "source": [
    "e_p = []\n",
    "p = []"
   ]
  },
  {
   "cell_type": "code",
   "execution_count": 3,
   "metadata": {
    "collapsed": false
   },
   "outputs": [],
   "source": [
    "import cPickle as pickle\n",
    "with open('../nets/IPMLB_FULL.p', 'rb') as f:\n",
    "    cnn = pickle.load(f)\n",
    "cnn.uuid = 'IPMLB'"
   ]
  },
  {
   "cell_type": "code",
   "execution_count": 4,
   "metadata": {
    "collapsed": false
   },
   "outputs": [],
   "source": [
    "# here we just load p, and e_p\n",
    "\n",
    "with open('/home/d/data/CYLPATCHES/e_p.p', 'rb') as f:\n",
    "    e_p = pickle.load(f)\n",
    "    \n",
    "with open('/home/d/data/CYLPATCHES/p.p', 'rb') as f:\n",
    "    p = pickle.load(f)\n",
    "\n",
    "\n"
   ]
  },
  {
   "cell_type": "code",
   "execution_count": 5,
   "metadata": {
    "collapsed": true
   },
   "outputs": [],
   "source": [
    "# cconvert to FP format with target\n",
    "import neuroproof\n",
    "import neuroproof.FocusedProofreading as fp\n"
   ]
  },
  {
   "cell_type": "code",
   "execution_count": 6,
   "metadata": {
    "collapsed": false
   },
   "outputs": [],
   "source": [
    "graphs = []\n",
    "for z in range(250,299):\n",
    "    \n",
    "    g = fp.Graph('/home/d/FP/cylinder/graph_'+str(z)+'.json')\n",
    "    graphs.append(g)"
   ]
  },
  {
   "cell_type": "code",
   "execution_count": 8,
   "metadata": {
    "collapsed": false
   },
   "outputs": [
    {
     "name": "stdout",
     "output_type": "stream",
     "text": [
      "0\n",
      "1\n",
      "2\n",
      "3\n",
      "4\n",
      "5\n",
      "6\n",
      "7\n",
      "8\n",
      "9\n",
      "10\n",
      "11\n",
      "12\n",
      "13\n",
      "14\n",
      "15\n",
      "16\n",
      "17\n",
      "18\n",
      "19\n",
      "20\n",
      "21\n",
      "22\n",
      "23\n",
      "24\n",
      "25\n",
      "26\n",
      "27\n",
      "28\n",
      "29\n",
      "30\n",
      "31\n",
      "32\n",
      "33\n",
      "34\n",
      "35\n",
      "36\n",
      "37\n",
      "38\n",
      "39\n",
      "40\n",
      "41\n",
      "42\n",
      "43\n",
      "44\n",
      "45\n",
      "46\n",
      "47\n",
      "48\n"
     ]
    }
   ],
   "source": [
    "fp_y_test_proba = []\n",
    "fp_y_test = []\n",
    "gt_y_test = []\n",
    "for z in range(49):\n",
    "    \n",
    "    cur_e_p = e_p[z]\n",
    "    cur_p = p[z]\n",
    "    \n",
    "    g = graphs[z]\n",
    "    \n",
    "    for pa in cur_e_p:\n",
    "#         print pa['l'], pa['n']\n",
    "        \n",
    "        label1 = pa['l']\n",
    "        label2 = pa['n']\n",
    "\n",
    "        graph_neighbors = sorted(g.find_close_bodies(label1,0,0.))\n",
    "\n",
    "        pred = [ne[1] for ne in graph_neighbors if ne[0] == label2]\n",
    "        \n",
    "        fp_y_test.append(np.round(pred))\n",
    "        fp_y_test_proba.append(pred)\n",
    "        gt_y_test.append(1)\n",
    "        \n",
    "    for pa in cur_p:\n",
    "#         print pa['l'], pa['n']\n",
    "        \n",
    "        label1 = pa['l']\n",
    "        label2 = pa['n']\n",
    "\n",
    "        graph_neighbors = sorted(g.find_close_bodies(label1,0,0.))\n",
    "\n",
    "        pred = [ne[1] for ne in graph_neighbors if ne[0] == label2]\n",
    "        \n",
    "        fp_y_test.append(np.round(pred))\n",
    "        fp_y_test_proba.append(pred)\n",
    "        gt_y_test.append(0)\n",
    "        \n",
    "    print z\n",
    "\n",
    "    \n",
    "\n"
   ]
  },
  {
   "cell_type": "code",
   "execution_count": 5,
   "metadata": {
    "collapsed": false
   },
   "outputs": [],
   "source": [
    "from sklearn.metrics import classification_report, accuracy_score, roc_curve, auc, precision_recall_fscore_support, f1_score, precision_recall_curve, average_precision_score, zero_one_loss\n"
   ]
  },
  {
   "cell_type": "code",
   "execution_count": 10,
   "metadata": {
    "collapsed": false
   },
   "outputs": [
    {
     "name": "stdout",
     "output_type": "stream",
     "text": [
      "Precision/Recall:\n",
      "             precision    recall  f1-score   support\n",
      "\n",
      "          0       0.93      0.31      0.47     81184\n",
      "          1       0.11      0.78      0.19      8780\n",
      "\n",
      "avg / total       0.85      0.36      0.44     89964\n",
      "\n"
     ]
    }
   ],
   "source": [
    "print 'Precision/Recall:'\n",
    "print classification_report(np.array(gt_y_test), np.array(fp_y_test))"
   ]
  },
  {
   "cell_type": "code",
   "execution_count": 11,
   "metadata": {
    "collapsed": false
   },
   "outputs": [
    {
     "name": "stdout",
     "output_type": "stream",
     "text": [
      "Accuracy Score: 0.356942777111\n"
     ]
    }
   ],
   "source": [
    "acc_score = accuracy_score(np.array(gt_y_test), np.array(fp_y_test))\n",
    "print 'Accuracy Score:', acc_score"
   ]
  },
  {
   "cell_type": "code",
   "execution_count": null,
   "metadata": {
    "collapsed": true
   },
   "outputs": [],
   "source": []
  },
  {
   "cell_type": "code",
   "execution_count": null,
   "metadata": {
    "collapsed": true
   },
   "outputs": [],
   "source": []
  },
  {
   "cell_type": "code",
   "execution_count": 45,
   "metadata": {
    "collapsed": false
   },
   "outputs": [
    {
     "data": {
      "text/plain": [
       "4"
      ]
     },
     "execution_count": 45,
     "metadata": {},
     "output_type": "execute_result"
    }
   ],
   "source": [
    "len(p)"
   ]
  },
  {
   "cell_type": "code",
   "execution_count": 14,
   "metadata": {
    "collapsed": false
   },
   "outputs": [
    {
     "name": "stdout",
     "output_type": "stream",
     "text": [
      "0\n",
      "1\n",
      "2\n",
      "3\n",
      "4\n",
      "5\n",
      "6\n",
      "7\n",
      "8\n",
      "9\n",
      "10\n",
      "11\n",
      "12\n",
      "13\n",
      "14\n",
      "15\n",
      "16\n",
      "17\n",
      "18\n",
      "19\n",
      "20\n",
      "21\n",
      "22\n",
      "23\n",
      "24\n",
      "25\n",
      "26\n",
      "27\n",
      "28\n",
      "29\n",
      "30\n",
      "31\n",
      "32\n",
      "33\n",
      "34\n",
      "35\n",
      "36\n",
      "37\n",
      "38\n",
      "39\n",
      "40\n",
      "41\n",
      "42\n",
      "43\n",
      "44\n",
      "45\n",
      "46\n",
      "47\n",
      "48\n",
      "49\n"
     ]
    }
   ],
   "source": [
    "gp_y_test_proba = []\n",
    "gp_y_test = []\n",
    "gt_y_test = []\n",
    "for z in range(len(e_p)):\n",
    "    \n",
    "    cur_e_p = e_p[z]\n",
    "    cur_p = p[z]\n",
    "    \n",
    "    for pa in cur_e_p:\n",
    "#         print pa['l'], pa['n']\n",
    "        \n",
    "        label1 = pa['l']\n",
    "        label2 = pa['n']\n",
    "        pa['prob'] = 1.-pa['prob']\n",
    "        pred = gp.Patch.test_and_unify([pa], cnn)\n",
    "        \n",
    "        gp_y_test.append(np.round(pred))\n",
    "        gp_y_test_proba.append(pred)\n",
    "        gt_y_test.append(1)\n",
    "        \n",
    "    for pa in cur_p:\n",
    "#         print pa['l'], pa['n']\n",
    "        \n",
    "        label1 = pa['l']\n",
    "        label2 = pa['n']\n",
    "        pa['prob'] = 1.-pa['prob']\n",
    "        pred = gp.Patch.test_and_unify([pa], cnn)        \n",
    "        \n",
    "        gp_y_test.append(np.round(pred))\n",
    "        gp_y_test_proba.append(pred)\n",
    "        gt_y_test.append(0)\n",
    "        \n",
    "    print z"
   ]
  },
  {
   "cell_type": "code",
   "execution_count": 15,
   "metadata": {
    "collapsed": false
   },
   "outputs": [
    {
     "name": "stdout",
     "output_type": "stream",
     "text": [
      "             precision    recall  f1-score   support\n",
      "\n",
      "          0       1.00      0.93      0.96     81184\n",
      "          1       0.61      0.96      0.74      8780\n",
      "\n",
      "avg / total       0.96      0.94      0.94     89964\n",
      "\n"
     ]
    }
   ],
   "source": [
    "print classification_report(np.array(gt_y_test), np.array(gp_y_test))"
   ]
  },
  {
   "cell_type": "code",
   "execution_count": 16,
   "metadata": {
    "collapsed": false
   },
   "outputs": [
    {
     "name": "stdout",
     "output_type": "stream",
     "text": [
      "Accuracy Score: 0.935262994087\n"
     ]
    }
   ],
   "source": [
    "acc_score = accuracy_score(np.array(gt_y_test), np.array(gp_y_test))\n",
    "print 'Accuracy Score:', acc_score"
   ]
  },
  {
   "cell_type": "code",
   "execution_count": 13,
   "metadata": {
    "collapsed": false
   },
   "outputs": [
    {
     "data": {
      "text/plain": [
       "<matplotlib.image.AxesImage at 0x7f2b796a1d90>"
      ]
     },
     "execution_count": 13,
     "metadata": {},
     "output_type": "execute_result"
    },
    {
     "data": {
      "image/png": "[encoded data removed]",
      "text/plain": [
       "<matplotlib.figure.Figure at 0x7f2b74d90ed0>"
      ]
     },
     "metadata": {},
     "output_type": "display_data"
    }
   ],
   "source": [
    "    imshow(e_p[0][0]['prob'],cmap='gray')"
   ]
  },
  {
   "cell_type": "code",
   "execution_count": 12,
   "metadata": {
    "collapsed": false
   },
   "outputs": [
    {
     "data": {
      "text/plain": [
       "0.99607843"
      ]
     },
     "execution_count": 12,
     "metadata": {},
     "output_type": "execute_result"
    }
   ],
   "source": [
    "e_p[0][0]['prob'].max()"
   ]
  },
  {
   "cell_type": "code",
   "execution_count": null,
   "metadata": {
    "collapsed": true
   },
   "outputs": [],
   "source": []
  }
 ],
 "metadata": {
  "kernelspec": {
   "display_name": "Python 2",
   "language": "python",
   "name": "python2"
  },
  "language_info": {
   "codemirror_mode": {
    "name": "ipython",
    "version": 2
   },
   "file_extension": ".py",
   "mimetype": "text/x-python",
   "name": "python",
   "nbconvert_exporter": "python",
   "pygments_lexer": "ipython2",
   "version": "2.7.12"
  }
 },
 "nbformat": 4,
 "nbformat_minor": 0
}
