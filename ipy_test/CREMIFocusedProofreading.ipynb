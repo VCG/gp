{
 "cells": [
  {
   "cell_type": "code",
   "execution_count": 1,
   "metadata": {
    "collapsed": false
   },
   "outputs": [
    {
     "name": "stderr",
     "output_type": "stream",
     "text": [
      "/home/d/nolearn/local/lib/python2.7/site-packages/matplotlib/font_manager.py:273: UserWarning: Matplotlib is building the font cache using fc-list. This may take a moment.\n",
      "  warnings.warn('Matplotlib is building the font cache using fc-list. This may take a moment.')\n"
     ]
    }
   ],
   "source": [
    "\n",
    "from matplotlib.pyplot import imshow\n",
    "import matplotlib.pyplot as plt\n",
    "\n",
    "%matplotlib inline"
   ]
  },
  {
   "cell_type": "code",
   "execution_count": 2,
   "metadata": {
    "collapsed": false
   },
   "outputs": [
    {
     "name": "stderr",
     "output_type": "stream",
     "text": [
      "Using gpu device 0: GeForce GTX TITAN (CNMeM is disabled, CuDNN 4007)\n",
      "/home/d/nolearn/local/lib/python2.7/site-packages/theano/tensor/signal/downsample.py:6: UserWarning: downsample module has been moved to the theano.tensor.signal.pool module.\n",
      "  \"downsample module has been moved to the theano.tensor.signal.pool module.\")\n"
     ]
    }
   ],
   "source": [
    "import cPickle as pickle\n",
    "import os; import sys; sys.path.append('..')\n",
    "import gp\n",
    "import gp.nets as nets"
   ]
  },
  {
   "cell_type": "code",
   "execution_count": 4,
   "metadata": {
    "collapsed": true
   },
   "outputs": [],
   "source": [
    "import numpy as np\n",
    "import mahotas as mh\n",
    "import h5py"
   ]
  },
  {
   "cell_type": "code",
   "execution_count": null,
   "metadata": {
    "collapsed": true
   },
   "outputs": [],
   "source": []
  },
  {
   "cell_type": "code",
   "execution_count": null,
   "metadata": {
    "collapsed": true
   },
   "outputs": [],
   "source": []
  },
  {
   "cell_type": "code",
   "execution_count": 7,
   "metadata": {
    "collapsed": true
   },
   "outputs": [],
   "source": [
    "sys.path.append('../gp/')\n",
    "import tifffile as tif"
   ]
  },
  {
   "cell_type": "code",
   "execution_count": 17,
   "metadata": {
    "collapsed": false
   },
   "outputs": [],
   "source": [
    "### TRAINING\n",
    "import glob\n",
    "golds = np.zeros((17*3,1250,1250), dtype=np.uint64)\n",
    "probs = np.zeros((17*3,1250,1250), dtype=np.uint8)\n",
    "rhoanas = np.zeros((17*3,1250,1250), dtype=np.uint64)\n",
    "\n",
    "training_slices = range(17) + range(25,25+17) + range(50,50+17)\n",
    "test_slices = range(17,25) + range(25+17,50) + range(50+17,75)\n",
    "for i,z in enumerate(training_slices):\n",
    "    DATADIR = '/home/d/data/CREMIGP/TEST/'\n",
    "\n",
    "    prob = sorted(glob.glob(DATADIR+'prob/*'))\n",
    "    gold = sorted(glob.glob(DATADIR+'gold/*'))\n",
    "    rhoana = sorted(glob.glob(DATADIR+'segmentation/*'))\n",
    "    \n",
    "    prob = tif.imread(prob[z])\n",
    "    gold = tif.imread(gold[z])\n",
    "    rhoana = mh.imread(rhoana[z])\n",
    "    \n",
    "    rhoana_single = np.zeros((rhoana.shape[0], rhoana.shape[1]), dtype=np.uint64)\n",
    "    rhoana_single[:, :] = rhoana[:,:,0]*256*256 + rhoana[:,:,1]*256 + rhoana[:,:,2]    \n",
    "    \n",
    "    golds[i] = gold\n",
    "    probs[i] = prob\n",
    "    rhoanas[i] = rhoana_single\n",
    "    \n",
    "    "
   ]
  },
  {
   "cell_type": "code",
   "execution_count": 21,
   "metadata": {
    "collapsed": false
   },
   "outputs": [
    {
     "data": {
      "text/plain": [
       "7229"
      ]
     },
     "execution_count": 21,
     "metadata": {},
     "output_type": "execute_result"
    }
   ],
   "source": [
    "rhoanas.max()"
   ]
  },
  {
   "cell_type": "code",
   "execution_count": 23,
   "metadata": {
    "collapsed": false
   },
   "outputs": [
    {
     "name": "stdout",
     "output_type": "stream",
     "text": [
      "generated transforms.\n"
     ]
    }
   ],
   "source": [
    "#\n",
    "# create gold h5 for neuroproof\n",
    "#\n",
    "all_labels = mh.fullhistogram(golds.astype(np.uint32))\n",
    "all_labels = np.where(all_labels!=0)\n",
    "\n",
    "transforms = np.zeros((all_labels[0].shape[0],2), dtype=np.uint32)\n",
    "transforms[:,0] = all_labels[0]\n",
    "transforms[:,1] = all_labels[0]\n",
    "print 'generated transforms.'\n",
    "\n",
    "with h5py.File('/home/d/FP/CREMI/gold.h5', 'w') as hf:\n",
    "    hf.create_dataset('stack', data=golds.astype(np.uint32))\n",
    "    hf.create_dataset('transforms', data=transforms)\n",
    "    \n",
    "#\n",
    "# create rhoana h5 for neuroproof\n",
    "#\n",
    "all_labels = mh.fullhistogram(rhoanas.astype(np.uint32))\n",
    "all_labels = np.where(all_labels!=0)\n",
    "\n",
    "transforms = np.zeros((all_labels[0].shape[0],2), dtype=np.uint32)\n",
    "transforms[:,0] = all_labels[0]\n",
    "transforms[:,1] = all_labels[0]\n",
    "\n",
    "with h5py.File('/home/d/FP/CREMI/rhoana.h5', 'w') as hf:\n",
    "    hf.create_dataset('stack', data=rhoanas.astype(np.uint32))\n",
    "    hf.create_dataset('transforms', data=transforms)\n",
    "    \n",
    "#\n",
    "# probs for neuroproof\n",
    "#\n",
    "p1 = probs.copy()\n",
    "# has to be x,y,z\n",
    "p1 = p1.swapaxes(0,2)\n",
    "p1 = p1.swapaxes(0,1)\n",
    "\n",
    "p2 = p1.copy()\n",
    "p2 = 255-p2\n",
    "p_2channels = np.zeros((probs.shape[2],probs.shape[1],probs.shape[0],2), dtype=np.float32)\n",
    "p_2channels[:,:,:,0] = p1 / 255.\n",
    "p_2channels[:,:,:,1] = p2 / 255.\n",
    "with h5py.File('/home/d/FP/CREMI/prob.h5', 'w') as hf:\n",
    "    hf.create_dataset('volume/predictions', data=p_2channels)"
   ]
  },
  {
   "cell_type": "code",
   "execution_count": null,
   "metadata": {
    "collapsed": true
   },
   "outputs": [],
   "source": []
  },
  {
   "cell_type": "code",
   "execution_count": 5,
   "metadata": {
    "collapsed": false
   },
   "outputs": [
    {
     "name": "stdout",
     "output_type": "stream",
     "text": [
      "generated transforms.\n"
     ]
    }
   ],
   "source": [
    "import glob\n",
    "golds = np.zeros((250,2048,2048), dtype=np.uint32)\n",
    "\n",
    "path = '/home/d/data/cylinderNEW/'\n",
    "for z in range(0,250):\n",
    "    gold = sorted(glob.glob(os.path.join(path, 'gold', '*'+str(z)+'.png')))\n",
    "    gold = mh.imread(gold[0])\n",
    "    gold_single = np.zeros((gold.shape[0], gold.shape[1]), dtype=np.uint32)\n",
    "    gold_single[:, :] = gold[:,:,0]*256*256 + gold[:,:,1]*256 + gold[:,:,2]\n",
    "    \n",
    "    golds[z] = gold_single\n",
    "#\n",
    "# create gold h5 for neuroproof\n",
    "#\n",
    "all_labels = mh.fullhistogram(golds.astype(np.uint64))\n",
    "all_labels = np.where(all_labels!=0)\n",
    "\n",
    "transforms = np.zeros((all_labels[0].shape[0],2), dtype=np.uint32)\n",
    "transforms[:,0] = all_labels[0]\n",
    "transforms[:,1] = all_labels[0]\n",
    "print 'generated transforms.'\n",
    "\n",
    "with h5py.File('/home/d/fp_data/c_gold2.h5', 'w') as hf:\n",
    "    hf.create_dataset('stack', data=golds)\n",
    "    hf.create_dataset('transforms', data=transforms)"
   ]
  },
  {
   "cell_type": "code",
   "execution_count": 6,
   "metadata": {
    "collapsed": true
   },
   "outputs": [],
   "source": [
    "import glob\n",
    "rhoanas = np.zeros((250,2048,2048), dtype=np.uint32)\n",
    "\n",
    "path = '/home/d/data/cylinderNEW/'\n",
    "for z in range(0,250):\n",
    "    rhoana = sorted(glob.glob(os.path.join(path, 'rhoana', '*'+str(z)+'.png')))\n",
    "    rhoana = mh.imread(rhoana[0])\n",
    "    rhoana_single = np.zeros((rhoana.shape[0], rhoana.shape[1]), dtype=np.uint32)\n",
    "    rhoana_single[:, :] = rhoana[:,:,0]*256*256 + rhoana[:,:,1]*256 + rhoana[:,:,2]\n",
    "    \n",
    "    rhoanas[z] = rhoana_single\n",
    "    \n",
    "#\n",
    "# create rhoana h5 for neuroproof\n",
    "#\n",
    "all_labels = mh.fullhistogram(rhoanas.astype(np.uint64))\n",
    "all_labels = np.where(all_labels!=0)\n",
    "\n",
    "transforms = np.zeros((all_labels[0].shape[0],2), dtype=np.uint32)\n",
    "transforms[:,0] = all_labels[0]\n",
    "transforms[:,1] = all_labels[0]\n",
    "\n",
    "with h5py.File('/home/d/fp_data/training/c_rhoana2.h5', 'w') as hf:\n",
    "    hf.create_dataset('stack', data=rhoanas)\n",
    "    hf.create_dataset('transforms', data=transforms)"
   ]
  },
  {
   "cell_type": "code",
   "execution_count": null,
   "metadata": {
    "collapsed": true
   },
   "outputs": [],
   "source": []
  },
  {
   "cell_type": "code",
   "execution_count": 6,
   "metadata": {
    "collapsed": false
   },
   "outputs": [],
   "source": [
    "import glob\n",
    "import tifffile as tif\n",
    "probs = np.zeros((250,2048,2048), dtype=np.uint8)\n",
    "\n",
    "path = '/home/d/data/cylinderNEW/'\n",
    "for z in range(0,250):\n",
    "    prob = sorted(glob.glob(os.path.join(path, 'prob', '*'+str(z)+'.tif')))\n",
    "    prob = tif.imread(prob[0])\n",
    "    mask = sorted(glob.glob(os.path.join(path, 'mask', '*'+str(z)+'.png')))\n",
    "    mask = mh.imread(mask[0]).astype(np.bool)\n",
    "    masked_prob = prob\n",
    "    masked_prob = 255 - masked_prob\n",
    "    masked_prob[mask==0] = 0\n",
    "    \n",
    "    probs[z] = masked_prob\n",
    "    \n",
    "\n",
    "#\n",
    "# create prob h5 for neuroproof\n",
    "#\n",
    "p1 = probs\n",
    "# has to be x,y,z\n",
    "p1 = p1.swapaxes(0,2)\n",
    "p1 = p1.swapaxes(0,1)\n",
    "\n",
    "p2 = p1.copy()\n",
    "p2 = 255-p2\n",
    "p_2channels = np.zeros((probs.shape[2],probs.shape[1],probs.shape[0],2), dtype=np.float32)\n",
    "p_2channels[:,:,:,0] = p1 / 255.\n",
    "p_2channels[:,:,:,1] = p2 / 255.\n",
    "with h5py.File('/home/d/fp_data/training/c_prob2.h5', 'w') as hf:\n",
    "    hf.create_dataset('volume/predictions', data=p_2channels)"
   ]
  },
  {
   "cell_type": "code",
   "execution_count": 19,
   "metadata": {
    "collapsed": true
   },
   "outputs": [],
   "source": [
    "sys.path.append('../gp/')"
   ]
  },
  {
   "cell_type": "code",
   "execution_count": 2,
   "metadata": {
    "collapsed": true
   },
   "outputs": [],
   "source": [
    "import h5py"
   ]
  },
  {
   "cell_type": "code",
   "execution_count": 7,
   "metadata": {
    "collapsed": false
   },
   "outputs": [
    {
     "name": "stdout",
     "output_type": "stream",
     "text": [
      "(2048, 2048, 250, 2)\n"
     ]
    }
   ],
   "source": [
    "hf = h5py.File('/home/d/FP/c_prob.h5', 'r')\n",
    "print hf['volume/predictions'].value.shape"
   ]
  },
  {
   "cell_type": "code",
   "execution_count": 12,
   "metadata": {
    "collapsed": false
   },
   "outputs": [
    {
     "data": {
      "text/plain": [
       "<matplotlib.image.AxesImage at 0x7f28ad4c5290>"
      ]
     },
     "execution_count": 12,
     "metadata": {},
     "output_type": "execute_result"
    },
    {
     "data": {
      "image/png": "[encoded data removed]",
      "text/plain": [
       "<matplotlib.figure.Figure at 0x7f28ad55ef90>"
      ]
     },
     "metadata": {},
     "output_type": "display_data"
    }
   ],
   "source": [
    "imshow(hf['volume/predictions'][:,:,20,1])"
   ]
  },
  {
   "cell_type": "code",
   "execution_count": 10,
   "metadata": {
    "collapsed": false
   },
   "outputs": [
    {
     "data": {
      "text/plain": [
       "1.0"
      ]
     },
     "execution_count": 10,
     "metadata": {},
     "output_type": "execute_result"
    }
   ],
   "source": [
    "hf['volume/predictions'][:,:,20,0].max()"
   ]
  },
  {
   "cell_type": "code",
   "execution_count": 15,
   "metadata": {
    "collapsed": false
   },
   "outputs": [],
   "source": [
    "import glob, os\n",
    "rhoanas = np.zeros((250,2048,2048), dtype=np.uint32)\n",
    "\n",
    "path = '/home/d/cylinder/'\n",
    "for z in range(0,250):\n",
    "    rhoana = sorted(glob.glob(os.path.join(path, 'segmentation', '*_'+str(z).zfill(9)+'_segmentation.png')))\n",
    "    rhoana = mh.imread(rhoana[0])\n",
    "    rhoana_single = np.zeros((rhoana.shape[0], rhoana.shape[1]), dtype=np.uint32)\n",
    "    rhoana_single[:, :] = rhoana[:,:,0]*256*256 + rhoana[:,:,1]*256 + rhoana[:,:,2]\n",
    "    \n",
    "    rhoanas[z] = rhoana_single\n",
    "    \n",
    "#\n",
    "# create rhoana h5 for neuroproof\n",
    "#\n",
    "all_labels = mh.fullhistogram(rhoanas.astype(np.uint64))\n",
    "all_labels = np.where(all_labels!=0)\n",
    "\n",
    "transforms = np.zeros((all_labels[0].shape[0],2), dtype=np.uint32)\n",
    "transforms[:,0] = all_labels[0]\n",
    "transforms[:,1] = all_labels[0]\n",
    "\n",
    "with h5py.File('/home/d/FP/c_rhoana.h5', 'w') as hf:\n",
    "    hf.create_dataset('stack', data=rhoanas)\n",
    "    hf.create_dataset('transforms', data=transforms)"
   ]
  },
  {
   "cell_type": "code",
   "execution_count": null,
   "metadata": {
    "collapsed": true
   },
   "outputs": [],
   "source": [
    "# TEST DATA (LAST 50 slices)"
   ]
  },
  {
   "cell_type": "code",
   "execution_count": 16,
   "metadata": {
    "collapsed": true
   },
   "outputs": [],
   "source": [
    "import glob, os\n",
    "rhoanas = np.zeros((50,2048,2048), dtype=np.uint32)\n",
    "\n",
    "path = '/home/d/cylinder/'\n",
    "for i,z in enumerate(range(250,300)):\n",
    "    rhoana = sorted(glob.glob(os.path.join(path, 'segmentation', '*_'+str(z).zfill(9)+'_segmentation.png')))\n",
    "    rhoana = mh.imread(rhoana[0])\n",
    "    rhoana_single = np.zeros((rhoana.shape[0], rhoana.shape[1]), dtype=np.uint32)\n",
    "    rhoana_single[:, :] = rhoana[:,:,0]*256*256 + rhoana[:,:,1]*256 + rhoana[:,:,2]\n",
    "    \n",
    "    rhoanas[i] = rhoana_single\n",
    "    \n",
    "#\n",
    "# create rhoana h5 for neuroproof\n",
    "#\n",
    "all_labels = mh.fullhistogram(rhoanas.astype(np.uint64))\n",
    "all_labels = np.where(all_labels!=0)\n",
    "\n",
    "transforms = np.zeros((all_labels[0].shape[0],2), dtype=np.uint32)\n",
    "transforms[:,0] = all_labels[0]\n",
    "transforms[:,1] = all_labels[0]\n",
    "\n",
    "with h5py.File('/home/d/FP/test/c_rhoana.h5', 'w') as hf:\n",
    "    hf.create_dataset('stack', data=rhoanas)\n",
    "    hf.create_dataset('transforms', data=transforms)"
   ]
  },
  {
   "cell_type": "code",
   "execution_count": 20,
   "metadata": {
    "collapsed": false
   },
   "outputs": [],
   "source": [
    "import glob\n",
    "import tifffile as tif\n",
    "probs = np.zeros((50,2048,2048), dtype=np.uint8)\n",
    "\n",
    "path = '/home/d/data/cylinderNEW/'\n",
    "for i,z in enumerate(range(250,300)):\n",
    "    prob = sorted(glob.glob(os.path.join(path, 'prob', '*'+str(z)+'.tif')))\n",
    "    prob = tif.imread(prob[0])\n",
    "    mask = sorted(glob.glob(os.path.join(path, 'mask', '*'+str(z)+'.png')))\n",
    "    mask = mh.imread(mask[0]).astype(np.bool)\n",
    "    masked_prob = prob\n",
    "    masked_prob = 255 - masked_prob\n",
    "    masked_prob[mask==0] = 0\n",
    "    \n",
    "    probs[i] = masked_prob\n",
    "    \n",
    "\n",
    "#\n",
    "# create prob h5 for neuroproof\n",
    "#\n",
    "p1 = probs\n",
    "# has to be x,y,z\n",
    "p1 = p1.swapaxes(0,2)\n",
    "p1 = p1.swapaxes(0,1)\n",
    "\n",
    "p2 = p1.copy()\n",
    "p2 = 255-p2\n",
    "p_2channels = np.zeros((probs.shape[2],probs.shape[1],probs.shape[0],2), dtype=np.float32)\n",
    "p_2channels[:,:,:,0] = p1 / 255.\n",
    "p_2channels[:,:,:,1] = p2 / 255.\n",
    "with h5py.File('/home/d/FP/test/c_prob.h5', 'w') as hf:\n",
    "    hf.create_dataset('volume/predictions', data=p_2channels)"
   ]
  },
  {
   "cell_type": "code",
   "execution_count": 21,
   "metadata": {
    "collapsed": false
   },
   "outputs": [
    {
     "name": "stdout",
     "output_type": "stream",
     "text": [
      "generated transforms.\n"
     ]
    }
   ],
   "source": [
    "import glob\n",
    "golds = np.zeros((50,2048,2048), dtype=np.uint32)\n",
    "\n",
    "path = '/home/d/data/cylinderNEW/'\n",
    "for i,z in enumerate(range(250,300)):\n",
    "    gold = sorted(glob.glob(os.path.join(path, 'gold', '*'+str(z)+'.png')))\n",
    "    gold = mh.imread(gold[0])\n",
    "    gold_single = np.zeros((gold.shape[0], gold.shape[1]), dtype=np.uint32)\n",
    "    gold_single[:, :] = gold[:,:,0]*256*256 + gold[:,:,1]*256 + gold[:,:,2]\n",
    "    \n",
    "    golds[i] = gold_single\n",
    "#\n",
    "# create gold h5 for neuroproof\n",
    "#\n",
    "all_labels = mh.fullhistogram(golds.astype(np.uint64))\n",
    "all_labels = np.where(all_labels!=0)\n",
    "\n",
    "transforms = np.zeros((all_labels[0].shape[0],2), dtype=np.uint32)\n",
    "transforms[:,0] = all_labels[0]\n",
    "transforms[:,1] = all_labels[0]\n",
    "print 'generated transforms.'\n",
    "\n",
    "with h5py.File('/home/d/FP/test/c_gold.h5', 'w') as hf:\n",
    "    hf.create_dataset('stack', data=golds)\n",
    "    hf.create_dataset('transforms', data=transforms)"
   ]
  },
  {
   "cell_type": "code",
   "execution_count": null,
   "metadata": {
    "collapsed": true
   },
   "outputs": [],
   "source": []
  }
 ],
 "metadata": {
  "kernelspec": {
   "display_name": "Python 2",
   "language": "python",
   "name": "python2"
  },
  "language_info": {
   "codemirror_mode": {
    "name": "ipython",
    "version": 2
   },
   "file_extension": ".py",
   "mimetype": "text/x-python",
   "name": "python",
   "nbconvert_exporter": "python",
   "pygments_lexer": "ipython2",
   "version": "2.7.6"
  }
 },
 "nbformat": 4,
 "nbformat_minor": 0
}
