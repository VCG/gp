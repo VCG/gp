{
 "cells": [
  {
   "cell_type": "code",
   "execution_count": 3,
   "metadata": {
    "collapsed": true
   },
   "outputs": [],
   "source": [
    "\n",
    "from matplotlib.pyplot import imshow\n",
    "import matplotlib.pyplot as plt\n",
    "\n",
    "%matplotlib inline"
   ]
  },
  {
   "cell_type": "code",
   "execution_count": 2,
   "metadata": {
    "collapsed": false
   },
   "outputs": [
    {
     "name": "stderr",
     "output_type": "stream",
     "text": [
      "Using gpu device 0: GeForce GTX TITAN (CNMeM is disabled, CuDNN 4007)\n",
      "/home/d/nolearn/local/lib/python2.7/site-packages/theano/tensor/signal/downsample.py:6: UserWarning: downsample module has been moved to the theano.tensor.signal.pool module.\n",
      "  \"downsample module has been moved to the theano.tensor.signal.pool module.\")\n"
     ]
    }
   ],
   "source": [
    "import cPickle as pickle\n",
    "import os; import sys; sys.path.append('..')\n",
    "import gp\n",
    "import gp.nets as nets"
   ]
  },
  {
   "cell_type": "code",
   "execution_count": 61,
   "metadata": {
    "collapsed": true
   },
   "outputs": [],
   "source": [
    "import numpy as np\n",
    "import mahotas as mh"
   ]
  },
  {
   "cell_type": "code",
   "execution_count": 4,
   "metadata": {
    "collapsed": false
   },
   "outputs": [],
   "source": [
    "image, prob, gold, rhoana, bb = gp.Legacy.read_dojo_data()"
   ]
  },
  {
   "cell_type": "code",
   "execution_count": null,
   "metadata": {
    "collapsed": true
   },
   "outputs": [],
   "source": []
  },
  {
   "cell_type": "code",
   "execution_count": 73,
   "metadata": {
    "collapsed": false
   },
   "outputs": [],
   "source": [
    "#\n",
    "# create gold h5 for neuroproof\n",
    "#\n",
    "all_labels = mh.fullhistogram(gold.astype(np.uint64))\n",
    "all_labels = np.where(all_labels!=0)\n",
    "\n",
    "transforms = np.zeros((all_labels[0].shape[0],2), dtype=np.uint64)\n",
    "transforms[:,0] = all_labels[0]\n",
    "transforms[:,1] = all_labels[0]\n",
    "\n",
    "with h5py.File('/tmp/gold.h5', 'w') as hf:\n",
    "    hf.create_dataset('stack', data=gold)\n",
    "    hf.create_dataset('transforms', data=transforms)"
   ]
  },
  {
   "cell_type": "code",
   "execution_count": 74,
   "metadata": {
    "collapsed": true
   },
   "outputs": [],
   "source": [
    "#\n",
    "# create rhoana h5 for neuroproof\n",
    "#\n",
    "all_labels = mh.fullhistogram(rhoana.astype(np.uint64))\n",
    "all_labels = np.where(all_labels!=0)\n",
    "\n",
    "transforms = np.zeros((all_labels[0].shape[0],2), dtype=np.uint64)\n",
    "transforms[:,0] = all_labels[0]\n",
    "transforms[:,1] = all_labels[0]\n",
    "\n",
    "with h5py.File('/tmp/rhoana.h5', 'w') as hf:\n",
    "    hf.create_dataset('stack', data=rhoana)\n",
    "    hf.create_dataset('transforms', data=transforms)"
   ]
  },
  {
   "cell_type": "code",
   "execution_count": 97,
   "metadata": {
    "collapsed": true
   },
   "outputs": [],
   "source": [
    "#\n",
    "# create prob h5 for neuroproof\n",
    "#\n",
    "p1 = prob.copy()\n",
    "# has to be x,y,z\n",
    "p1 = p1.swapaxes(0,2)\n",
    "p1 = p1.swapaxes(0,1)\n",
    "\n",
    "p2 = p1.copy()\n",
    "p2 = 255-p2\n",
    "p_2channels = np.zeros((prob.shape[2],prob.shape[1],prob.shape[0],2), dtype=np.float32)\n",
    "p_2channels[:,:,:,0] = p1 / 255.\n",
    "p_2channels[:,:,:,1] = p2 / 255.\n",
    "with h5py.File('/tmp/prob.h5', 'w') as hf:\n",
    "    hf.create_dataset('volume/predictions', data=p_2channels)"
   ]
  },
  {
   "cell_type": "code",
   "execution_count": null,
   "metadata": {
    "collapsed": true
   },
   "outputs": [],
   "source": []
  },
  {
   "cell_type": "code",
   "execution_count": null,
   "metadata": {
    "collapsed": true
   },
   "outputs": [],
   "source": []
  },
  {
   "cell_type": "code",
   "execution_count": null,
   "metadata": {
    "collapsed": true
   },
   "outputs": [],
   "source": []
  }
 ],
 "metadata": {
  "kernelspec": {
   "display_name": "Python 2",
   "language": "python",
   "name": "python2"
  },
  "language_info": {
   "codemirror_mode": {
    "name": "ipython",
    "version": 2
   },
   "file_extension": ".py",
   "mimetype": "text/x-python",
   "name": "python",
   "nbconvert_exporter": "python",
   "pygments_lexer": "ipython2",
   "version": "2.7.6"
  }
 },
 "nbformat": 4,
 "nbformat_minor": 0
}
