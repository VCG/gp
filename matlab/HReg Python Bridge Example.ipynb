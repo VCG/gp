{
 "cells": [
  {
   "cell_type": "code",
   "execution_count": 1,
   "metadata": {
    "collapsed": false
   },
   "outputs": [],
   "source": [
    "# 1. SETTING UP THE MATLAB<->PYTHON BRIDGE\n",
    "#\n",
    "# First, we need to install MATLAB\n",
    "# http://www.mathworks.com/ or at Harvard http://huit.harvard.edu/services/campus-licensed-software\n",
    "#\n",
    "# Then, we need to install the Python libraries\n",
    "# https://www.mathworks.com/help/matlab/matlab_external/install-the-matlab-engine-for-python.html\n",
    "#\n",
    "# Then run this:\n",
    "# cd matlabdir/extern/engines/python\n",
    "# python setup.py install\n",
    "#\n",
    "# Ready to go!\n",
    "\n",
    "import matlab.engine\n",
    "import numpy as np\n",
    "eng = matlab.engine.start_matlab()\n",
    "\n",
    "# Python supports MATLAB arrays\n",
    "# These can be passed into MATLAB functions called by the engine as arguments \n",
    "# matlab.single(initializer=None, size=None, is_complex=False)\n",
    "# a = matlab.double( size=[100,50] )\n",
    "#\n",
    "\n",
    "# Call a function like so:\n",
    "# return = eng.function( parameters )\n",
    "\n",
    "# MATLAB engine must know the number of output arguments for a function.\n",
    "# Set this before calling the function with:\n",
    "# eng.function( parameters, nargout=n ) # e.g., n = 3\n",
    "\n",
    "# MATLAB engine hiccups if a function does not return an argument\n",
    "# If so, declare:\n",
    "# eng.function( nargout=0 )\n",
    "# before calling the function, otherwise the engine will error.\n",
    "# Be sure to set it back to 1...n afterwards, though! \n",
    "    \n",
    "    \n",
    "# Asynchronous callback is possible (amazing.)\n",
    "#\n",
    "# Just add another parameter, like so:\n",
    "# funcHandle = eng.function( parameters, async=True )\n",
    "#\n",
    "# To check whether the function is done, call:\n",
    "# isDone = funcHandle.done()\n",
    "#\n",
    "# To collect the result, call:\n",
    "# result = funcHandle.result()\n",
    "#\n",
    "# To cancel\n",
    "# funcHandle.cancel()\n",
    "#\n",
    "# How easy is that?!\n",
    "\n",
    "\n",
    "# We can also add workspace variables directly\n",
    "# x = 4.0\n",
    "# eng.workspace['y'] = x\n",
    "#\n",
    "# And evaluate strings with workspace parameters\n",
    "# a = eng.eval('sqrt(y)')   \n",
    "\n",
    "# BUT there's a slight issue\n",
    "# MATLAB Python engine doesn't support numpy arrays directly as a datatype.\n",
    "# This means we have to copy them to a regular python array first.\n",
    "# a = matlab.double( cols, rows )\n",
    "# for i in cols\n",
    "#     for j in rows\n",
    "#         a[i][j] = np.array\n"
   ]
  },
  {
   "cell_type": "code",
   "execution_count": 2,
   "metadata": {
    "collapsed": false,
    "scrolled": true
   },
   "outputs": [
    {
     "name": "stdout",
     "output_type": "stream",
     "text": [
      "True\n"
     ]
    }
   ],
   "source": [
    "# 1a. TESTING THE MATLAB<->PYTHON BRIDGE\n",
    "#\n",
    "# Test code to see if the MATLAB engine is working\n",
    "tf = eng.isprime(37)\n",
    "print(tf)"
   ]
  },
  {
   "cell_type": "code",
   "execution_count": 77,
   "metadata": {
    "collapsed": false
   },
   "outputs": [],
   "source": [
    "# 1b. DEBUGGING THE MATLAB<->PYTHON BRIDGE\n",
    "#\n",
    "# Start the desktop version of MATLAB associated with the engine 'eng' for debug\n",
    "eng.desktop(nargout=0)"
   ]
  },
  {
   "cell_type": "code",
   "execution_count": null,
   "metadata": {
    "collapsed": true
   },
   "outputs": [],
   "source": [
    "# PROCESS\n",
    "\n",
    "# 1. SETTING UP THE MATLAB<->PYTHON BRIDGE\n",
    "# 2. SETUP FOR ACTIVE LABEL SUGGESTION\n",
    "# Ask user to begin labeling\n",
    "# Once two labels are achieved:\n",
    "    # 3. INITIALIZE ACTIVE LABEL SUGGESTION -> returns ordered list of item indices for user to rank.\n",
    "    # This will 'maximize' learning in system if retrained\n",
    "# Every new label given by the user:\n",
    "    # 4. UPDATE ACTIVE LABEL SUGGESTION\n",
    "    \n",
    "# NOTES:\n",
    "    # Replace x with your own data\n",
    "    # Parameters might need tweaking\n",
    "    # Indexes in labelFlags start at 1, NOT 0 !!! MATLAB is 1 indexed."
   ]
  },
  {
   "cell_type": "code",
   "execution_count": 3,
   "metadata": {
    "collapsed": false
   },
   "outputs": [],
   "source": [
    "# 2. SETUP FOR ACTIVE LABEL SUGGESTION\n",
    "#\n",
    "# So, let's get to work.\n",
    "\n",
    "# I have a set of data items each with a corresponding feature representation\n",
    "# This is a matrix\n",
    "# Let's say we have 20 items each with a 100-dimensional feature vector\n",
    "nItems = 20; #\n",
    "nFeatures = 100;\n",
    "x = np.random.rand( nItems, nFeatures );\n",
    "\n",
    "# Now, we need to represent the distance between each of these items using the graph Laplacian matrix 'LGReg'.\n",
    "# We're going to build this now using a MATLAB function - 'BuildLGRegularizer.m'\n",
    "\n",
    "# First, we need to set two parameters, as this is an approximation of the true graph laplacian to allow us to\n",
    "# use this on very large datasets\n",
    "manifoldDim = 17;\n",
    "kNNSize = 20;\n",
    "# Second, we set the regularization strength of this graph Laplacian\n",
    "lambdaRP = 0.005;\n",
    "\n",
    "# Next, we call the function\n",
    "#LGReg = eng.BuildLGRegularizer( x, manifoldDim, kNNSize, nargout=1 );\n",
    "# ...but, two problems:\n",
    "# 1) We need to transform our numpy array x into something MATLAB can handle\n",
    "\n",
    "xM = matlab.double( size=[nItems, nFeatures] )\n",
    "for j in range(0, nFeatures-1):\n",
    "    for i in range(0, nItems-1):\n",
    "        xM[i][j] = x[i][j];\n",
    "\n",
    "# 2) LGReg is a 'sparse' matrix type, and python doesn't support that. \n",
    "# Let's leave the output variable in the MATLAB workspace, and until we need to use it.\n",
    "eng.workspace['xM'] = xM;\n",
    "# We also need to pass our function variables\n",
    "eng.workspace['nItems'] = nItems;\n",
    "eng.workspace['nFeatures'] = nFeatures;\n",
    "eng.workspace['lambdaRP'] = lambdaRP;\n",
    "eng.workspace['manifoldDim'] = manifoldDim;\n",
    "eng.workspace['kNNSize'] = kNNSize;\n",
    "\n",
    "# OK, now let's call our function\n",
    "eng.eval( \"LGReg = BuildLGRegularizer( xM, manifoldDim, kNNSize )\", nargout=0 )\n",
    "\n",
    "# Done.\n"
   ]
  },
  {
   "cell_type": "code",
   "execution_count": 4,
   "metadata": {
    "collapsed": false
   },
   "outputs": [
    {
     "name": "stdout",
     "output_type": "stream",
     "text": [
      "[[9,12,7,19,11,20,4,10,5,8,14,3,15,13,16,17,18,6]]\n"
     ]
    }
   ],
   "source": [
    "# INITIALIZE ACTIVE LABEL SUGGESTION (AFTER FIRST TWO USER LABELS)\n",
    "#\n",
    "# Now, let's initialize the active label suggestion\n",
    "# We can only do this when we've labeled at least two items\n",
    "# But, once we have, let's store them in 'labelFlags'\n",
    "# labelFlags is '1' wherever a user has labeled an item, and '0' everywhere else\n",
    "labelFlags = matlab.double( size=[nItems, 1] )\n",
    "labelFlags[0][0] = 1;\n",
    "labelFlags[1][0] = 1;\n",
    "eng.workspace['labelFlags'] = labelFlags;\n",
    "\n",
    "# We also need a convenience variable which gives the ordering of the items in the database\n",
    "# CAREFUL: 1 indexing, not 0 indexing\n",
    "eng.eval( \"labelIndices = [1:nItems];\", nargout=0 )\n",
    "\n",
    "eng.eval( \"ALSApprox = BuildALSApproximation( LGReg, lambdaRP, labelFlags );\", nargout=0 )\n",
    "eng.eval( \"SLabels = ActiveLabelSuggestion( ALSApprox, labelIndices, labelFlags );\", nargout=0 )\n",
    "\n",
    "# SLabels now contains the suggested labels in the order that they should be presented to the user\n",
    "# This uses the labels specified in labelIndices\n",
    "# Note: Some pythons can't handle int64, so let's just convert it to something more manageable\n",
    "eng.eval( 'SLabelsInt32 = int32(SLabels);', nargout=0 );\n",
    "SLabels = eng.workspace['SLabelsInt32'];\n",
    "print( SLabels )"
   ]
  },
  {
   "cell_type": "code",
   "execution_count": 6,
   "metadata": {
    "collapsed": false
   },
   "outputs": [
    {
     "name": "stdout",
     "output_type": "stream",
     "text": [
      "[[9,12,7,19,11,4,10,5,8,14,3,15,13,16,17,18,6]]\n"
     ]
    }
   ],
   "source": [
    "# UPDATE ACTIVE LABEL SUGGESTION (AFTER EVERY NEW INTERACTION BEYOND FIRST TWO)\n",
    "#\n",
    "# The user provides a new label for an item!\n",
    "# CAREFUL: 1 indexing, not 0 indexing\n",
    "# So, if item 20 was labeled, its index would be 19 in an array in python, but 20 in an array in MATLAB\n",
    "labeledItemIndex = 20;\n",
    "eng.workspace['newLabel'] = labeledItemIndex; # Item index\n",
    "eng.eval( \"ALSApprox = UpdateALSApproximation( ALSApprox, newLabel );\", nargout=0 )\n",
    "\n",
    "# Update labelFlags with the index\n",
    "# CAREFUL: 1 indexing, not 0 indexing\n",
    "labelFlags[labeledItemIndex-1][0] = 1;\n",
    "eng.workspace['labelFlags'] = labelFlags;\n",
    "\n",
    "eng.eval( \"labelIndices = [1:nItems];\", nargout=0 )\n",
    "eng.eval( \"SLabels = ActiveLabelSuggestion( ALSApprox, labelIndices, labelFlags );\", nargout=0 )\n",
    "\n",
    "# SLabels now contains the suggested labels in the order that they should be presented to the user\n",
    "# This uses the labels specified in labelIndices\n",
    "# Note: Some pythons can't handle int64, so let's just convert it to something more manageable\n",
    "eng.eval( 'SLabelsInt32 = int32(SLabels);', nargout=0 );\n",
    "SLabels = eng.workspace['SLabelsInt32'];\n",
    "print( SLabels )"
   ]
  },
  {
   "cell_type": "code",
   "execution_count": null,
   "metadata": {
    "collapsed": true
   },
   "outputs": [],
   "source": []
  }
 ],
 "metadata": {
  "kernelspec": {
   "display_name": "Python 2",
   "language": "python",
   "name": "python2"
  },
  "language_info": {
   "codemirror_mode": {
    "name": "ipython",
    "version": 2
   },
   "file_extension": ".py",
   "mimetype": "text/x-python",
   "name": "python",
   "nbconvert_exporter": "python",
   "pygments_lexer": "ipython2",
   "version": "2.7.6"
  }
 },
 "nbformat": 4,
 "nbformat_minor": 1
}
