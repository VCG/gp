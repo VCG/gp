{
 "cells": [
  {
   "cell_type": "code",
   "execution_count": 2,
   "metadata": {
    "collapsed": false
   },
   "outputs": [
    {
     "name": "stdout",
     "output_type": "stream",
     "text": [
      "The autoreload extension is already loaded. To reload it, use:\n",
      "  %reload_ext autoreload\n"
     ]
    }
   ],
   "source": [
    "%load_ext autoreload\n",
    "%autoreload 2\n",
    "\n",
    "import cPickle as pickle\n",
    "import os; import sys; sys.path.append('..')\n",
    "import gp\n",
    "import gp.nets as nets\n",
    "\n",
    "from nolearn.lasagne.visualize import plot_loss\n",
    "from nolearn.lasagne.visualize import plot_conv_weights\n",
    "from nolearn.lasagne.visualize import plot_conv_activity\n",
    "from nolearn.lasagne.visualize import plot_occlusion\n",
    "\n",
    "from matplotlib.pyplot import imshow\n",
    "import matplotlib.pyplot as plt\n",
    "%matplotlib inline"
   ]
  },
  {
   "cell_type": "code",
   "execution_count": 3,
   "metadata": {
    "collapsed": false
   },
   "outputs": [],
   "source": [
    "PATCH_PATH = ('cylinder2_rgba_small')"
   ]
  },
  {
   "cell_type": "code",
   "execution_count": 4,
   "metadata": {
    "collapsed": false
   },
   "outputs": [
    {
     "name": "stdout",
     "output_type": "stream",
     "text": [
      "Loaded /home/d/patches//cylinder2_rgba_small/ in 0.000566005706787 seconds.\n"
     ]
    }
   ],
   "source": [
    "X_train, y_train, X_test, y_test = gp.Patch.load_rgba(PATCH_PATH)"
   ]
  },
  {
   "cell_type": "code",
   "execution_count": 5,
   "metadata": {
    "collapsed": false
   },
   "outputs": [
    {
     "data": {
      "image/png": "[encoded data removed]",
      "text/plain": [
       "<matplotlib.figure.Figure at 0x7ff5dc33d790>"
      ]
     },
     "metadata": {},
     "output_type": "display_data"
    }
   ],
   "source": [
    "gp.Util.view_rgba(X_train[100], y_train[100])"
   ]
  },
  {
   "cell_type": "code",
   "execution_count": 7,
   "metadata": {
    "collapsed": false
   },
   "outputs": [
    {
     "name": "stdout",
     "output_type": "stream",
     "text": [
      "CNN configuration: \n",
      "    Our CNN with image, prob, merged_array and border overlap as RGBA.\n",
      "\n",
      "    This includes dropout.\n",
      "    \n"
     ]
    }
   ],
   "source": [
    "cnn = nets.RGBANetPlus()"
   ]
  },
  {
   "cell_type": "code",
   "execution_count": null,
   "metadata": {
    "collapsed": false
   },
   "outputs": [
    {
     "name": "stdout",
     "output_type": "stream",
     "text": [
      "# Neural Network with 171474 learnable parameters\n",
      "\n",
      "## Layer information\n",
      "\n",
      "  #  name      size\n",
      "---  --------  --------\n",
      "  0  input     4x75x75\n",
      "  1  conv1     64x73x73\n",
      "  2  pool1     64x36x36\n",
      "  3  dropout1  64x36x36\n",
      "  4  conv2     48x34x34\n",
      "  5  pool2     48x17x17\n",
      "  6  dropout2  48x17x17\n",
      "  7  conv3     48x15x15\n",
      "  8  pool3     48x7x7\n",
      "  9  dropout3  48x7x7\n",
      " 10  conv4     48x5x5\n",
      " 11  pool4     48x2x2\n",
      " 12  dropout4  48x2x2\n",
      " 13  hidden5   512\n",
      " 14  dropout5  512\n",
      " 15  output    2\n",
      "\n",
      "  epoch    train loss    valid loss    train/val    valid acc  dur\n",
      "-------  ------------  ------------  -----------  -----------  ------\n",
      "      1       \u001b[36m0.46396\u001b[0m       \u001b[32m0.31323\u001b[0m      1.48122      0.87315  27.51s\n",
      "      2       \u001b[36m0.28116\u001b[0m       \u001b[32m0.25516\u001b[0m      1.10193      0.90459  26.38s\n",
      "      3       \u001b[36m0.23199\u001b[0m       \u001b[32m0.21672\u001b[0m      1.07049      0.91938  26.42s\n",
      "      4       \u001b[36m0.21736\u001b[0m       \u001b[32m0.19727\u001b[0m      1.10185      0.92764  26.37s\n",
      "      5       \u001b[36m0.20625\u001b[0m       \u001b[32m0.19145\u001b[0m      1.07729      0.92794  26.63s\n",
      "      6       \u001b[36m0.20049\u001b[0m       \u001b[32m0.17983\u001b[0m      1.11486      0.93309  26.48s\n",
      "      7       \u001b[36m0.19307\u001b[0m       0.18020      1.07142      0.93352  26.34s\n",
      "      8       \u001b[36m0.18663\u001b[0m       \u001b[32m0.17094\u001b[0m      1.09178      0.93674  26.54s\n",
      "      9       \u001b[36m0.18074\u001b[0m       \u001b[32m0.16797\u001b[0m      1.07601      0.93854  26.32s\n",
      "     10       \u001b[36m0.17738\u001b[0m       \u001b[32m0.16302\u001b[0m      1.08810      0.93997  26.65s\n",
      "     11       \u001b[36m0.17079\u001b[0m       \u001b[32m0.15933\u001b[0m      1.07190      0.93970  26.87s\n",
      "     12       \u001b[36m0.16659\u001b[0m       \u001b[32m0.15155\u001b[0m      1.09922      0.94380  26.94s\n",
      "     13       \u001b[36m0.16236\u001b[0m       \u001b[32m0.15016\u001b[0m      1.08120      0.94476  27.00s\n"
     ]
    }
   ],
   "source": [
    "cnn = cnn.fit(X_train, y_train)"
   ]
  },
  {
   "cell_type": "code",
   "execution_count": 33,
   "metadata": {
    "collapsed": true
   },
   "outputs": [],
   "source": [
    "test_accuracy = cnn.score(X_test, y_test)"
   ]
  },
  {
   "cell_type": "code",
   "execution_count": 34,
   "metadata": {
    "collapsed": false
   },
   "outputs": [
    {
     "data": {
      "text/plain": [
       "0.9254780652418447"
      ]
     },
     "execution_count": 34,
     "metadata": {},
     "output_type": "execute_result"
    }
   ],
   "source": [
    "test_accuracy"
   ]
  },
  {
   "cell_type": "code",
   "execution_count": 35,
   "metadata": {
    "collapsed": false
   },
   "outputs": [
    {
     "data": {
      "text/plain": [
       "<module 'matplotlib.pyplot' from '/home/d/nolearn/local/lib/python2.7/site-packages/matplotlib/pyplot.pyc'>"
      ]
     },
     "execution_count": 35,
     "metadata": {},
     "output_type": "execute_result"
    },
    {
     "data": {
      "image/png": "[encoded data removed]",
      "text/plain": [
       "<matplotlib.figure.Figure at 0x7f19a00ed4d0>"
      ]
     },
     "metadata": {},
     "output_type": "display_data"
    }
   ],
   "source": [
    "plot_loss(cnn)"
   ]
  },
  {
   "cell_type": "code",
   "execution_count": null,
   "metadata": {
    "collapsed": true
   },
   "outputs": [],
   "source": [
    "plot_conv_weights"
   ]
  },
  {
   "cell_type": "code",
   "execution_count": null,
   "metadata": {
    "collapsed": true
   },
   "outputs": [],
   "source": []
  }
 ],
 "metadata": {
  "kernelspec": {
   "display_name": "Python 2",
   "language": "python",
   "name": "python2"
  },
  "language_info": {
   "codemirror_mode": {
    "name": "ipython",
    "version": 2
   },
   "file_extension": ".py",
   "mimetype": "text/x-python",
   "name": "python",
   "nbconvert_exporter": "python",
   "pygments_lexer": "ipython2",
   "version": "2.7.6"
  }
 },
 "nbformat": 4,
 "nbformat_minor": 0
}
