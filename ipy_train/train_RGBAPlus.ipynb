{
 "cells": [
  {
   "cell_type": "code",
   "execution_count": 2,
   "metadata": {
    "collapsed": false
   },
   "outputs": [
    {
     "name": "stdout",
     "output_type": "stream",
     "text": [
      "The autoreload extension is already loaded. To reload it, use:\n",
      "  %reload_ext autoreload\n"
     ]
    }
   ],
   "source": [
    "%load_ext autoreload\n",
    "%autoreload 2\n",
    "\n",
    "import cPickle as pickle\n",
    "import os; import sys; sys.path.append('..')\n",
    "import gp\n",
    "import gp.nets as nets\n",
    "\n",
    "from nolearn.lasagne.visualize import plot_loss\n",
    "from nolearn.lasagne.visualize import plot_conv_weights\n",
    "from nolearn.lasagne.visualize import plot_conv_activity\n",
    "from nolearn.lasagne.visualize import plot_occlusion\n",
    "\n",
    "from matplotlib.pyplot import imshow\n",
    "import matplotlib.pyplot as plt\n",
    "%matplotlib inline"
   ]
  },
  {
   "cell_type": "code",
   "execution_count": 3,
   "metadata": {
    "collapsed": false
   },
   "outputs": [],
   "source": [
    "PATCH_PATH = ('cylinder2_rgba_small')"
   ]
  },
  {
   "cell_type": "code",
   "execution_count": 4,
   "metadata": {
    "collapsed": false
   },
   "outputs": [
    {
     "name": "stdout",
     "output_type": "stream",
     "text": [
      "Loaded /home/d/patches//cylinder2_rgba_small/ in 0.000566005706787 seconds.\n"
     ]
    }
   ],
   "source": [
    "X_train, y_train, X_test, y_test = gp.Patch.load_rgba(PATCH_PATH)"
   ]
  },
  {
   "cell_type": "code",
   "execution_count": 5,
   "metadata": {
    "collapsed": false
   },
   "outputs": [
    {
     "data": {
      "image/png": "[encoded data removed]",
      "text/plain": [
       "<matplotlib.figure.Figure at 0x7ff5dc33d790>"
      ]
     },
     "metadata": {},
     "output_type": "display_data"
    }
   ],
   "source": [
    "gp.Util.view_rgba(X_train[100], y_train[100])"
   ]
  },
  {
   "cell_type": "code",
   "execution_count": 7,
   "metadata": {
    "collapsed": false
   },
   "outputs": [
    {
     "name": "stdout",
     "output_type": "stream",
     "text": [
      "CNN configuration: \n",
      "    Our CNN with image, prob, merged_array and border overlap as RGBA.\n",
      "\n",
      "    This includes dropout.\n",
      "    \n"
     ]
    }
   ],
   "source": [
    "cnn = nets.RGBANetPlus()"
   ]
  },
  {
   "cell_type": "code",
   "execution_count": 8,
   "metadata": {
    "collapsed": false,
    "scrolled": false
   },
   "outputs": [
    {
     "name": "stdout",
     "output_type": "stream",
     "text": [
      "# Neural Network with 171474 learnable parameters\n",
      "\n",
      "## Layer information\n",
      "\n",
      "  #  name      size\n",
      "---  --------  --------\n",
      "  0  input     4x75x75\n",
      "  1  conv1     64x73x73\n",
      "  2  pool1     64x36x36\n",
      "  3  dropout1  64x36x36\n",
      "  4  conv2     48x34x34\n",
      "  5  pool2     48x17x17\n",
      "  6  dropout2  48x17x17\n",
      "  7  conv3     48x15x15\n",
      "  8  pool3     48x7x7\n",
      "  9  dropout3  48x7x7\n",
      " 10  conv4     48x5x5\n",
      " 11  pool4     48x2x2\n",
      " 12  dropout4  48x2x2\n",
      " 13  hidden5   512\n",
      " 14  dropout5  512\n",
      " 15  output    2\n",
      "\n",
      "  epoch    train loss    valid loss    train/val    valid acc  dur\n",
      "-------  ------------  ------------  -----------  -----------  ------\n",
      "      1       \u001b[36m0.46396\u001b[0m       \u001b[32m0.31323\u001b[0m      1.48122      0.87315  27.51s\n",
      "      2       \u001b[36m0.28116\u001b[0m       \u001b[32m0.25516\u001b[0m      1.10193      0.90459  26.38s\n",
      "      3       \u001b[36m0.23199\u001b[0m       \u001b[32m0.21672\u001b[0m      1.07049      0.91938  26.42s\n",
      "      4       \u001b[36m0.21736\u001b[0m       \u001b[32m0.19727\u001b[0m      1.10185      0.92764  26.37s\n",
      "      5       \u001b[36m0.20625\u001b[0m       \u001b[32m0.19145\u001b[0m      1.07729      0.92794  26.63s\n",
      "      6       \u001b[36m0.20049\u001b[0m       \u001b[32m0.17983\u001b[0m      1.11486      0.93309  26.48s\n",
      "      7       \u001b[36m0.19307\u001b[0m       0.18020      1.07142      0.93352  26.34s\n",
      "      8       \u001b[36m0.18663\u001b[0m       \u001b[32m0.17094\u001b[0m      1.09178      0.93674  26.54s\n",
      "      9       \u001b[36m0.18074\u001b[0m       \u001b[32m0.16797\u001b[0m      1.07601      0.93854  26.32s\n",
      "     10       \u001b[36m0.17738\u001b[0m       \u001b[32m0.16302\u001b[0m      1.08810      0.93997  26.65s\n",
      "     11       \u001b[36m0.17079\u001b[0m       \u001b[32m0.15933\u001b[0m      1.07190      0.93970  26.87s\n",
      "     12       \u001b[36m0.16659\u001b[0m       \u001b[32m0.15155\u001b[0m      1.09922      0.94380  26.94s\n",
      "     13       \u001b[36m0.16236\u001b[0m       \u001b[32m0.15016\u001b[0m      1.08120      0.94476  27.00s\n",
      "     14       \u001b[36m0.16143\u001b[0m       \u001b[32m0.14958\u001b[0m      1.07924      0.94290  27.01s\n",
      "     15       \u001b[36m0.15620\u001b[0m       0.15028      1.03939      0.94416  27.11s\n",
      "     16       \u001b[36m0.15424\u001b[0m       \u001b[32m0.13842\u001b[0m      1.11435      0.94919  27.16s\n",
      "     17       \u001b[36m0.15031\u001b[0m       \u001b[32m0.13640\u001b[0m      1.10194      0.95083  27.10s\n",
      "     18       \u001b[36m0.14824\u001b[0m       0.13696      1.08238      0.94764  26.76s\n",
      "     19       \u001b[36m0.14474\u001b[0m       \u001b[32m0.13327\u001b[0m      1.08607      0.95182  26.44s\n",
      "     20       \u001b[36m0.14093\u001b[0m       \u001b[32m0.12454\u001b[0m      1.13161      0.95608  26.75s\n",
      "     21       \u001b[36m0.13745\u001b[0m       \u001b[32m0.12440\u001b[0m      1.10489      0.95721  26.64s\n",
      "     22       0.13957       0.13246      1.05370      0.95353  26.41s\n",
      "     23       \u001b[36m0.13481\u001b[0m       0.12786      1.05433      0.95350  26.36s\n",
      "     24       \u001b[36m0.13137\u001b[0m       \u001b[32m0.12323\u001b[0m      1.06599      0.95595  26.68s\n",
      "     25       \u001b[36m0.12879\u001b[0m       \u001b[32m0.11473\u001b[0m      1.12255      0.95811  26.61s\n",
      "     26       \u001b[36m0.12662\u001b[0m       0.11592      1.09229      0.95604  26.41s\n",
      "     27       \u001b[36m0.12597\u001b[0m       \u001b[32m0.11199\u001b[0m      1.12487      0.96074  26.49s\n",
      "     28       \u001b[36m0.12393\u001b[0m       0.11511      1.07667      0.95966  26.49s\n",
      "     29       \u001b[36m0.12202\u001b[0m       \u001b[32m0.10726\u001b[0m      1.13763      0.96394  26.47s\n",
      "     30       \u001b[36m0.11996\u001b[0m       0.11250      1.06634      0.95954  26.41s\n",
      "     31       \u001b[36m0.11926\u001b[0m       \u001b[32m0.10426\u001b[0m      1.14388      0.96215  26.47s\n",
      "     32       0.11959       \u001b[32m0.10287\u001b[0m      1.16254      0.96490  26.66s\n",
      "     33       \u001b[36m0.11385\u001b[0m       0.10363      1.09864      0.96472  26.40s\n",
      "     34       0.11508       \u001b[32m0.09946\u001b[0m      1.15706      0.96457  26.52s\n",
      "     35       \u001b[36m0.11264\u001b[0m       \u001b[32m0.09801\u001b[0m      1.14933      0.96496  26.78s\n",
      "     36       0.11324       0.09997      1.13271      0.96523  26.52s\n",
      "     37       \u001b[36m0.10929\u001b[0m       0.10371      1.05379      0.96307  26.53s\n",
      "     38       \u001b[36m0.10705\u001b[0m       \u001b[32m0.08843\u001b[0m      1.21058      0.96864  26.51s\n",
      "     39       \u001b[36m0.10456\u001b[0m       \u001b[32m0.08753\u001b[0m      1.19462      0.97142  26.60s\n",
      "     40       0.10477       \u001b[32m0.08260\u001b[0m      1.26849      0.97163  26.49s\n",
      "     41       \u001b[36m0.10092\u001b[0m       0.08893      1.13483      0.97082  26.29s\n",
      "     42       0.10447       0.08779      1.18998      0.97118  26.71s\n",
      "     43       \u001b[36m0.10000\u001b[0m       0.08519      1.17386      0.97064  26.44s\n",
      "     44       \u001b[36m0.09689\u001b[0m       0.09274      1.04467      0.97148  26.29s\n",
      "     45       \u001b[36m0.09681\u001b[0m       0.08784      1.10211      0.97163  26.30s\n",
      "     46       0.09942       \u001b[32m0.08171\u001b[0m      1.21675      0.97475  26.29s\n",
      "     47       \u001b[36m0.09331\u001b[0m       \u001b[32m0.07842\u001b[0m      1.18992      0.97253  26.31s\n",
      "     48       0.09591       \u001b[32m0.07644\u001b[0m      1.25471      0.97549  26.28s\n",
      "     49       0.09349       0.07944      1.17687      0.97495  26.31s\n",
      "     50       \u001b[36m0.08891\u001b[0m       0.07957      1.11736      0.97624  26.31s\n",
      "     51       0.09256       \u001b[32m0.07443\u001b[0m      1.24352      0.97573  26.28s\n",
      "     52       \u001b[36m0.08758\u001b[0m       0.07789      1.12437      0.97594  26.33s\n",
      "     53       0.08811       0.07704      1.14368      0.97603  26.28s\n",
      "     54       \u001b[36m0.08462\u001b[0m       0.07675      1.10250      0.97666  26.30s\n",
      "     55       0.08769       0.07503      1.16877      0.97890  26.29s\n",
      "     56       \u001b[36m0.08377\u001b[0m       \u001b[32m0.07316\u001b[0m      1.14491      0.97588  26.30s\n",
      "     57       \u001b[36m0.08259\u001b[0m       \u001b[32m0.07020\u001b[0m      1.17647      0.97857  26.35s\n",
      "     58       \u001b[36m0.08124\u001b[0m       \u001b[32m0.06977\u001b[0m      1.16445      0.97866  26.34s\n",
      "     59       0.08401       \u001b[32m0.06799\u001b[0m      1.23570      0.97983  26.31s\n",
      "     60       \u001b[36m0.07829\u001b[0m       \u001b[32m0.06392\u001b[0m      1.22491      0.98277  26.30s\n",
      "     61       0.08232       0.06532      1.26034      0.98163  26.33s\n",
      "     62       0.07830       0.06494      1.20583      0.98064  26.34s\n",
      "     63       \u001b[36m0.07829\u001b[0m       0.06971      1.12304      0.98076  26.33s\n",
      "     64       \u001b[36m0.07817\u001b[0m       \u001b[32m0.05916\u001b[0m      1.32126      0.98064  26.30s\n",
      "     65       0.07838       \u001b[32m0.05895\u001b[0m      1.32967      0.98214  26.27s\n",
      "     66       \u001b[36m0.07292\u001b[0m       \u001b[32m0.05830\u001b[0m      1.25073      0.98522  26.32s\n",
      "     67       0.07737       0.07235      1.06929      0.97738  26.30s\n",
      "     68       0.07723       \u001b[32m0.05566\u001b[0m      1.38758      0.98540  26.31s\n",
      "     69       \u001b[36m0.07216\u001b[0m       0.06140      1.17523      0.98396  26.35s\n",
      "     70       0.07566       0.06992      1.08200      0.97848  26.31s\n",
      "     71       \u001b[36m0.07206\u001b[0m       0.05881      1.22526      0.98187  26.31s\n",
      "     72       \u001b[36m0.07201\u001b[0m       \u001b[32m0.05337\u001b[0m      1.34930      0.98375  26.32s\n",
      "     73       \u001b[36m0.06839\u001b[0m       \u001b[32m0.05230\u001b[0m      1.30760      0.98621  26.28s\n",
      "     74       \u001b[36m0.06570\u001b[0m       0.05553      1.18314      0.98567  26.30s\n",
      "     75       0.07405       0.05347      1.38481      0.98459  26.34s\n",
      "     76       0.06862       0.05588      1.22799      0.98551  26.33s\n",
      "     77       0.06765       0.05787      1.16907      0.98504  26.31s\n",
      "     78       0.06869       \u001b[32m0.05185\u001b[0m      1.32461      0.98594  26.32s\n",
      "     79       0.06587       \u001b[32m0.04930\u001b[0m      1.33602      0.98773  26.35s\n",
      "     80       0.06698       0.05176      1.29399      0.98794  26.31s\n",
      "     81       0.06597       \u001b[32m0.04702\u001b[0m      1.40295      0.98755  26.30s\n",
      "     82       \u001b[36m0.06315\u001b[0m       0.04732      1.33454      0.98728  26.28s\n",
      "     83       0.06510       \u001b[32m0.04631\u001b[0m      1.40566      0.98854  26.32s\n",
      "     84       \u001b[36m0.06219\u001b[0m       0.05105      1.21803      0.98552  26.34s\n",
      "     85       0.06437       \u001b[32m0.04627\u001b[0m      1.39106      0.98881  26.35s\n",
      "     86       0.06254       0.04743      1.31846      0.98681  26.33s\n",
      "     87       0.06302       \u001b[32m0.04470\u001b[0m      1.40997      0.98785  26.29s\n",
      "     88       0.06253       0.04871      1.28370      0.98722  26.32s\n",
      "     89       0.06276       0.04584      1.36909      0.98875  26.35s\n",
      "     90       \u001b[36m0.06089\u001b[0m       0.04711      1.29263      0.98737  26.31s\n",
      "     91       \u001b[36m0.05677\u001b[0m       \u001b[32m0.03941\u001b[0m      1.44058      0.98917  26.31s\n",
      "     92       0.05842       0.04389      1.33119      0.98989  26.32s\n",
      "     93       0.06032       0.04117      1.46530      0.98809  26.34s\n",
      "     94       0.05829       0.05155      1.13081      0.98432  26.33s\n",
      "     95       0.05716       0.04658      1.22717      0.98785  26.36s\n",
      "     96       \u001b[36m0.05601\u001b[0m       0.04170      1.34321      0.98881  26.33s\n",
      "     97       0.05709       0.04193      1.36174      0.98944  26.41s\n",
      "     98       \u001b[36m0.05568\u001b[0m       0.04646      1.19845      0.98857  26.34s\n",
      "     99       0.05730       0.04170      1.37396      0.99025  26.31s\n",
      "    100       \u001b[36m0.05336\u001b[0m       0.04759      1.12130      0.98782  26.29s\n",
      "    101       0.05468       0.04105      1.33206      0.98944  26.32s\n",
      "    102       0.05375       0.04114      1.30649      0.98746  26.30s\n",
      "    103       0.05463       0.04457      1.22568      0.98902  26.30s\n",
      "    104       \u001b[36m0.05086\u001b[0m       0.04214      1.20678      0.99043  26.32s\n",
      "    105       0.05372       0.04105      1.30862      0.98971  26.36s\n",
      "    106       0.05264       \u001b[32m0.03898\u001b[0m      1.35030      0.99079  26.30s\n",
      "    107       0.05347       0.04014      1.33219      0.98890  26.29s\n",
      "    108       0.05313       0.03927      1.35290      0.98917  26.29s\n",
      "    109       0.05145       0.04787      1.07469      0.98710  26.38s\n",
      "    110       0.05213       0.04004      1.30189      0.99123  26.33s\n",
      "    111       \u001b[36m0.04976\u001b[0m       \u001b[32m0.03533\u001b[0m      1.40860      0.99213  26.29s\n",
      "    112       0.05133       0.03750      1.36889      0.99046  26.31s\n",
      "    113       \u001b[36m0.04824\u001b[0m       0.03842      1.25544      0.98998  26.31s\n",
      "    114       0.04835       \u001b[32m0.03483\u001b[0m      1.38822      0.98998  26.29s\n",
      "    115       0.04986       0.03573      1.39548      0.99070  26.29s\n",
      "    116       0.05027       0.03571      1.40789      0.99159  26.33s\n",
      "    117       0.04824       0.03604      1.33835      0.99159  26.28s\n",
      "    118       \u001b[36m0.04674\u001b[0m       0.03487      1.34031      0.99105  26.29s\n",
      "    119       \u001b[36m0.04608\u001b[0m       \u001b[32m0.03465\u001b[0m      1.33006      0.99180  26.30s\n",
      "    120       \u001b[36m0.04606\u001b[0m       \u001b[32m0.03456\u001b[0m      1.33291      0.99222  26.30s\n",
      "    121       0.04809       0.03694      1.30169      0.99150  26.30s\n",
      "    122       0.04636       \u001b[32m0.03283\u001b[0m      1.41228      0.99240  26.31s\n",
      "    123       \u001b[36m0.04550\u001b[0m       0.03690      1.23319      0.99231  26.30s\n",
      "    124       0.05004       0.03521      1.42115      0.99204  26.29s\n",
      "    125       0.04707       0.03385      1.39071      0.99312  26.29s\n",
      "    126       0.04572       0.03548      1.28865      0.99132  26.30s\n",
      "    127       0.04719       0.04356      1.08337      0.98890  26.30s\n",
      "    128       0.04724       0.03943      1.19805      0.99123  26.37s\n",
      "    129       0.04835       0.03911      1.23616      0.99052  26.32s\n",
      "    130       0.04680       \u001b[32m0.03225\u001b[0m      1.45118      0.99330  26.31s\n",
      "    131       0.04585       0.03585      1.27881      0.99150  26.30s\n",
      "    132       \u001b[36m0.04544\u001b[0m       0.03415      1.33066      0.99249  26.32s\n",
      "    133       0.04655       0.03477      1.33879      0.99375  26.30s\n",
      "    134       \u001b[36m0.04208\u001b[0m       \u001b[32m0.03097\u001b[0m      1.35847      0.99369  26.38s\n",
      "    135       \u001b[36m0.04138\u001b[0m       0.03286      1.25954      0.99267  26.30s\n",
      "    136       0.04766       0.03291      1.44794      0.99312  26.31s\n",
      "    137       0.04210       0.03811      1.10454      0.99061  26.34s\n",
      "    138       0.04484       0.03585      1.25081      0.99195  26.33s\n",
      "    139       0.04529       0.03321      1.36374      0.99267  26.31s\n",
      "    140       \u001b[36m0.04123\u001b[0m       0.03215      1.28251      0.99267  26.30s\n",
      "    141       0.04441       0.03360      1.32182      0.99276  26.31s\n",
      "    142       0.04147       0.03182      1.30325      0.99276  26.31s\n",
      "    143       \u001b[36m0.04013\u001b[0m       0.03493      1.14900      0.99123  26.36s\n",
      "    144       0.04500       0.03542      1.27052      0.99258  26.30s\n",
      "    145       0.04346       0.03929      1.10616      0.99061  26.55s\n",
      "    146       0.04604       0.03638      1.26563      0.99249  26.46s\n",
      "    147       0.04440       0.03422      1.29748      0.99195  26.51s\n",
      "    148       0.04157       0.03348      1.24175      0.99141  26.53s\n",
      "    149       \u001b[36m0.03899\u001b[0m       0.03099      1.25826      0.99285  26.57s\n",
      "    150       0.04042       0.03215      1.25745      0.99330  26.62s\n",
      "    151       0.04068       \u001b[32m0.02940\u001b[0m      1.38336      0.99222  26.64s\n",
      "    152       \u001b[36m0.03820\u001b[0m       0.03082      1.23925      0.99177  26.60s\n",
      "    153       0.04044       0.03208      1.26077      0.99348  26.47s\n",
      "    154       0.04189       0.03222      1.30037      0.99231  26.76s\n",
      "    155       0.04157       0.03438      1.20910      0.99105  26.32s\n",
      "    156       0.04059       0.03342      1.21443      0.99222  26.30s\n",
      "    157       \u001b[36m0.03698\u001b[0m       0.03034      1.21915      0.99348  26.30s\n",
      "    158       0.04171       0.02968      1.40546      0.99321  26.29s\n",
      "    159       0.04232       0.03157      1.34051      0.99231  26.33s\n",
      "    160       0.04036       0.03285      1.22867      0.99186  26.35s\n",
      "    161       0.03781       0.03150      1.20015      0.99267  26.31s\n",
      "    162       0.03797       0.03187      1.19172      0.99150  26.29s\n",
      "    163       0.04102       0.02993      1.37037      0.99303  26.30s\n",
      "    164       0.03833       \u001b[32m0.02921\u001b[0m      1.31222      0.99312  26.29s\n",
      "    165       0.03909       0.02921      1.33840      0.99294  26.31s\n",
      "    166       0.03702       \u001b[32m0.02782\u001b[0m      1.33041      0.99285  26.30s\n",
      "    167       0.03892       0.03106      1.25302      0.99249  26.31s\n",
      "    168       0.04091       0.02855      1.43309      0.99357  26.29s\n",
      "    169       0.03808       0.03228      1.17955      0.99222  26.30s\n",
      "    170       \u001b[36m0.03648\u001b[0m       0.03130      1.16551      0.99330  26.29s\n",
      "    171       0.03741       0.02932      1.27590      0.99270  26.30s\n",
      "    172       0.04100       \u001b[32m0.02762\u001b[0m      1.48444      0.99312  26.30s\n",
      "    173       0.03983       0.03004      1.32586      0.99333  26.29s\n",
      "    174       0.03712       0.03106      1.19484      0.99429  26.30s\n",
      "    175       \u001b[36m0.03632\u001b[0m       0.03107      1.16881      0.99312  26.42s\n",
      "    176       0.03789       0.03538      1.07096      0.99105  26.27s\n",
      "    177       \u001b[36m0.03572\u001b[0m       \u001b[32m0.02752\u001b[0m      1.29826      0.99285  26.32s\n",
      "    178       0.03725       0.03069      1.21374      0.99270  26.33s\n",
      "    179       \u001b[36m0.03506\u001b[0m       0.03088      1.13525      0.99321  26.29s\n",
      "    180       0.03709       0.03017      1.22943      0.99339  26.52s\n",
      "    181       0.03802       0.02792      1.36187      0.99396  26.36s\n",
      "    182       0.03595       0.02758      1.30352      0.99420  26.31s\n",
      "    183       0.03693       0.02815      1.31195      0.99420  26.35s\n",
      "    184       0.03646       \u001b[32m0.02674\u001b[0m      1.36359      0.99375  26.31s\n",
      "    185       0.03574       0.03043      1.17447      0.99375  26.48s\n",
      "    186       0.03695       0.02732      1.35226      0.99402  26.51s\n",
      "    187       0.03540       \u001b[32m0.02544\u001b[0m      1.39175      0.99411  26.74s\n",
      "    188       \u001b[36m0.03307\u001b[0m       \u001b[32m0.02366\u001b[0m      1.39743      0.99420  26.43s\n",
      "    189       0.03388       0.02947      1.14986      0.99360  26.68s\n",
      "    190       0.03590       0.02766      1.29789      0.99339  26.43s\n",
      "    191       0.03377       0.02795      1.20817      0.99384  26.49s\n",
      "    192       \u001b[36m0.03218\u001b[0m       0.03227      0.99723      0.99312  26.67s\n",
      "    193       0.03509       0.02968      1.18257      0.99195  26.64s\n",
      "    194       0.03844       0.02991      1.28519      0.99339  26.32s\n",
      "    195       0.03512       0.02889      1.21581      0.99267  26.49s\n",
      "    196       0.03520       0.02772      1.26970      0.99378  26.50s\n",
      "    197       0.03518       0.03063      1.14835      0.99375  26.51s\n",
      "    198       0.03439       0.03418      1.00605      0.99276  26.54s\n",
      "    199       0.03656       0.02930      1.24781      0.99315  26.56s\n",
      "    200       0.03342       0.03025      1.10489      0.99267  26.46s\n",
      "    201       0.03431       0.03064      1.11969      0.99303  26.55s\n",
      "    202       0.03271       0.03359      0.97377      0.99267  26.56s\n",
      "    203       0.03291       0.03283      1.00237      0.99294  26.56s\n",
      "    204       \u001b[36m0.03145\u001b[0m       0.03389      0.92780      0.99366  26.50s\n",
      "    205       0.03504       0.03060      1.14509      0.99402  26.65s\n",
      "    206       0.03191       0.02800      1.13972      0.99440  26.66s\n",
      "    207       0.03391       0.03067      1.10569      0.99276  26.47s\n",
      "    208       \u001b[36m0.02986\u001b[0m       0.03119      0.95748      0.99375  26.31s\n",
      "    209       0.03605       0.02906      1.24035      0.99330  26.53s\n",
      "    210       0.03290       0.03426      0.96016      0.99339  26.54s\n",
      "    211       0.03434       0.03105      1.10587      0.99357  26.55s\n",
      "    212       0.03670       0.02937      1.24930      0.99315  26.60s\n",
      "    213       0.03349       0.03194      1.04865      0.99369  26.50s\n",
      "    214       0.03469       0.03249      1.06786      0.99360  26.61s\n",
      "    215       0.03227       0.03132      1.03024      0.99375  26.42s\n",
      "    216       0.03249       0.03271      0.99337      0.99378  26.37s\n",
      "    217       0.03282       0.02746      1.19507      0.99369  26.56s\n",
      "    218       0.03155       0.02842      1.10988      0.99369  26.82s\n",
      "    219       0.03384       0.02629      1.28717      0.99396  26.33s\n",
      "    220       0.03078       0.02914      1.05640      0.99402  26.36s\n",
      "    221       0.03101       0.02811      1.10338      0.99432  26.34s\n",
      "    222       0.03438       0.03292      1.04425      0.99330  26.29s\n",
      "    223       0.03019       0.03262      0.92552      0.99276  26.39s\n",
      "    224       0.03308       0.02721      1.21565      0.99393  26.33s\n",
      "    225       0.03051       0.02614      1.16730      0.99420  26.28s\n",
      "    226       0.03275       0.03107      1.05390      0.99348  26.31s\n",
      "    227       \u001b[36m0.02918\u001b[0m       0.02796      1.04361      0.99414  26.30s\n",
      "    228       0.03250       0.03464      0.93834      0.99258  26.41s\n",
      "    229       0.03146       0.03096      1.01629      0.99339  26.30s\n",
      "    230       0.03335       0.03079      1.08310      0.99312  26.27s\n",
      "    231       0.03154       0.02619      1.20437      0.99432  26.30s\n",
      "    232       0.03071       0.03089      0.99404      0.99405  26.30s\n",
      "    233       0.03168       0.03336      0.94948      0.99432  26.29s\n",
      "    234       0.03150       0.02956      1.06533      0.99402  26.32s\n",
      "    235       0.02952       0.03742      0.78875      0.99270  26.32s\n",
      "    236       0.03411       0.03142      1.08560      0.99252  26.29s\n",
      "    237       0.02956       0.03469      0.85235      0.99369  26.31s\n",
      "    238       0.03063       0.03021      1.01384      0.99438  26.37s\n",
      "Early stopping.\n",
      "Best valid loss was 0.023663 at epoch 188.\n",
      "Loaded parameters to layer 'conv1' (shape 64x4x3x3).\n",
      "Loaded parameters to layer 'conv1' (shape 64).\n",
      "Loaded parameters to layer 'conv2' (shape 48x64x3x3).\n",
      "Loaded parameters to layer 'conv2' (shape 48).\n",
      "Loaded parameters to layer 'conv3' (shape 48x48x3x3).\n",
      "Loaded parameters to layer 'conv3' (shape 48).\n",
      "Loaded parameters to layer 'conv4' (shape 48x48x3x3).\n",
      "Loaded parameters to layer 'conv4' (shape 48).\n",
      "Loaded parameters to layer 'hidden5' (shape 192x512).\n",
      "Loaded parameters to layer 'hidden5' (shape 512).\n",
      "Loaded parameters to layer 'output' (shape 512x2).\n",
      "Loaded parameters to layer 'output' (shape 2).\n"
     ]
    }
   ],
   "source": [
    "cnn = cnn.fit(X_train, y_train)"
   ]
  },
  {
   "cell_type": "code",
   "execution_count": 10,
   "metadata": {
    "collapsed": true
   },
   "outputs": [],
   "source": [
    "test_accuracy = cnn.score(X_test, y_test)"
   ]
  },
  {
   "cell_type": "code",
   "execution_count": 11,
   "metadata": {
    "collapsed": false
   },
   "outputs": [
    {
     "data": {
      "text/plain": [
       "0.9294150731158605"
      ]
     },
     "execution_count": 11,
     "metadata": {},
     "output_type": "execute_result"
    }
   ],
   "source": [
    "test_accuracy"
   ]
  },
  {
   "cell_type": "code",
   "execution_count": 12,
   "metadata": {
    "collapsed": false,
    "scrolled": true
   },
   "outputs": [
    {
     "data": {
      "text/plain": [
       "<module 'matplotlib.pyplot' from '/home/d/nolearn/local/lib/python2.7/site-packages/matplotlib/pyplot.pyc'>"
      ]
     },
     "execution_count": 12,
     "metadata": {},
     "output_type": "execute_result"
    },
    {
     "data": {
      "image/png": "[encoded data removed]",
      "text/plain": [
       "<matplotlib.figure.Figure at 0x7ff4b298acd0>"
      ]
     },
     "metadata": {},
     "output_type": "display_data"
    }
   ],
   "source": [
    "plot_loss(cnn)"
   ]
  },
  {
   "cell_type": "code",
   "execution_count": 16,
   "metadata": {
    "collapsed": false
   },
   "outputs": [],
   "source": [
    "# store CNN\n",
    "sys.setrecursionlimit(1000000000)\n",
    "with open(os.path.expanduser('~/Projects/gp/nets/RGBAPlus.p'), 'wb') as f:\n",
    "  pickle.dump(cnn, f, -1)"
   ]
  },
  {
   "cell_type": "code",
   "execution_count": null,
   "metadata": {
    "collapsed": true
   },
   "outputs": [],
   "source": []
  },
  {
   "cell_type": "code",
   "execution_count": null,
   "metadata": {
    "collapsed": true
   },
   "outputs": [],
   "source": []
  }
 ],
 "metadata": {
  "kernelspec": {
   "display_name": "Python 2",
   "language": "python",
   "name": "python2"
  },
  "language_info": {
   "codemirror_mode": {
    "name": "ipython",
    "version": 2
   },
   "file_extension": ".py",
   "mimetype": "text/x-python",
   "name": "python",
   "nbconvert_exporter": "python",
   "pygments_lexer": "ipython2",
   "version": "2.7.6"
  }
 },
 "nbformat": 4,
 "nbformat_minor": 0
}
