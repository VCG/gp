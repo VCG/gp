{
 "cells": [
  {
   "cell_type": "code",
   "execution_count": 11,
   "metadata": {
    "collapsed": false
   },
   "outputs": [
    {
     "name": "stdout",
     "output_type": "stream",
     "text": [
      "The autoreload extension is already loaded. To reload it, use:\n",
      "  %reload_ext autoreload\n"
     ]
    }
   ],
   "source": [
    "%load_ext autoreload\n",
    "%autoreload 2\n",
    "\n",
    "import os; import sys; sys.path.append('..')\n",
    "import gp\n",
    "import gp.nets as nets\n",
    "\n",
    "from nolearn.lasagne.visualize import plot_loss\n",
    "from nolearn.lasagne.visualize import plot_conv_weights\n",
    "from nolearn.lasagne.visualize import plot_conv_activity\n",
    "from nolearn.lasagne.visualize import plot_occlusion\n",
    "\n",
    "from matplotlib.pyplot import imshow\n",
    "import matplotlib.pyplot as plt\n",
    "%matplotlib inline"
   ]
  },
  {
   "cell_type": "code",
   "execution_count": 2,
   "metadata": {
    "collapsed": false
   },
   "outputs": [],
   "source": [
    "PATCH_PATH = ('cylinder2_rgb_small')"
   ]
  },
  {
   "cell_type": "code",
   "execution_count": 3,
   "metadata": {
    "collapsed": false
   },
   "outputs": [
    {
     "name": "stdout",
     "output_type": "stream",
     "text": [
      "Loaded /n/home05/haehn/patches_local//cylinder2_rgb_small/ in 0.363067865372 seconds.\n"
     ]
    }
   ],
   "source": [
    "X_train, y_train, X_test, y_test = gp.Patch.load_rgb(PATCH_PATH)"
   ]
  },
  {
   "cell_type": "code",
   "execution_count": 4,
   "metadata": {
    "collapsed": false
   },
   "outputs": [
    {
     "ename": "IndexError",
     "evalue": "index 3 is out of bounds for axis 0 with size 3",
     "output_type": "error",
     "traceback": [
      "\u001b[1;31m---------------------------------------------------------------------------\u001b[0m",
      "\u001b[1;31mIndexError\u001b[0m                                Traceback (most recent call last)",
      "\u001b[1;32m<ipython-input-4-70e621d6e8ce>\u001b[0m in \u001b[0;36m<module>\u001b[1;34m()\u001b[0m\n\u001b[1;32m----> 1\u001b[1;33m \u001b[0mgp\u001b[0m\u001b[1;33m.\u001b[0m\u001b[0mUtil\u001b[0m\u001b[1;33m.\u001b[0m\u001b[0mview_rgba\u001b[0m\u001b[1;33m(\u001b[0m\u001b[0mX_train\u001b[0m\u001b[1;33m[\u001b[0m\u001b[1;36m100\u001b[0m\u001b[1;33m]\u001b[0m\u001b[1;33m,\u001b[0m \u001b[0my_train\u001b[0m\u001b[1;33m[\u001b[0m\u001b[1;36m100\u001b[0m\u001b[1;33m]\u001b[0m\u001b[1;33m)\u001b[0m\u001b[1;33m\u001b[0m\u001b[0m\n\u001b[0m",
      "\u001b[1;32m/n/home05/haehn/Projects/gp/gp/util.py\u001b[0m in \u001b[0;36mview_rgba\u001b[1;34m(patch, text)\u001b[0m\n\u001b[0;32m    144\u001b[0m     \u001b[0mprob\u001b[0m \u001b[1;33m=\u001b[0m \u001b[0mpatch\u001b[0m\u001b[1;33m[\u001b[0m\u001b[1;36m1\u001b[0m\u001b[1;33m]\u001b[0m\u001b[1;33m\u001b[0m\u001b[0m\n\u001b[0;32m    145\u001b[0m     \u001b[0mbinary\u001b[0m \u001b[1;33m=\u001b[0m \u001b[0mpatch\u001b[0m\u001b[1;33m[\u001b[0m\u001b[1;36m2\u001b[0m\u001b[1;33m]\u001b[0m\u001b[1;33m\u001b[0m\u001b[0m\n\u001b[1;32m--> 146\u001b[1;33m     \u001b[0mborder\u001b[0m \u001b[1;33m=\u001b[0m \u001b[0mpatch\u001b[0m\u001b[1;33m[\u001b[0m\u001b[1;36m3\u001b[0m\u001b[1;33m]\u001b[0m\u001b[1;33m\u001b[0m\u001b[0m\n\u001b[0m\u001b[0;32m    147\u001b[0m \u001b[1;33m\u001b[0m\u001b[0m\n\u001b[0;32m    148\u001b[0m     \u001b[0max1\u001b[0m\u001b[1;33m.\u001b[0m\u001b[0maxis\u001b[0m\u001b[1;33m(\u001b[0m\u001b[1;34m'off'\u001b[0m\u001b[1;33m)\u001b[0m\u001b[1;33m\u001b[0m\u001b[0m\n",
      "\u001b[1;31mIndexError\u001b[0m: index 3 is out of bounds for axis 0 with size 3"
     ]
    },
    {
     "data": {
      "image/png": "[encoded data removed]",
      "text/plain": [
       "<matplotlib.figure.Figure at 0x2b3cf2e3f150>"
      ]
     },
     "metadata": {},
     "output_type": "display_data"
    }
   ],
   "source": [
    "gp.Util.view_rgba(X_train[100], y_train[100])"
   ]
  },
  {
   "cell_type": "code",
   "execution_count": 5,
   "metadata": {
    "collapsed": false
   },
   "outputs": [
    {
     "name": "stdout",
     "output_type": "stream",
     "text": [
      "CNN configuration: \n",
      "    Our CNN with image, prob, merged_array as RGB.\n",
      "\n",
      "    This includes dropout.\n",
      "    \n"
     ]
    }
   ],
   "source": [
    "cnn = nets.RGBNet()"
   ]
  },
  {
   "cell_type": "code",
   "execution_count": 6,
   "metadata": {
    "collapsed": false
   },
   "outputs": [
    {
     "name": "stdout",
     "output_type": "stream",
     "text": [
      "# Neural Network with 7133490 learnable parameters\n",
      "\n",
      "## Layer information\n",
      "\n",
      "  #  name      size\n",
      "---  --------  --------\n",
      "  0  input     3x75x75\n",
      "  1  conv1     64x73x73\n",
      "  2  pool1     64x36x36\n",
      "  3  dropout1  64x36x36\n",
      "  4  conv2     48x34x34\n",
      "  5  pool2     48x17x17\n",
      "  6  dropout2  48x17x17\n",
      "  7  hidden3   512\n",
      "  8  dropout3  512\n",
      "  9  output    2\n",
      "\n",
      "  epoch    trn loss    val loss    trn/val    valid acc  dur\n",
      "-------  ----------  ----------  ---------  -----------  ------\n",
      "      1     \u001b[36m0.29937\u001b[0m     \u001b[32m0.21259\u001b[0m    1.40821      0.92022  15.90s\n",
      "      2     \u001b[36m0.20038\u001b[0m     \u001b[32m0.17638\u001b[0m    1.13608      0.93562  15.75s\n",
      "      3     \u001b[36m0.15791\u001b[0m     \u001b[32m0.14031\u001b[0m    1.12545      0.94796  15.76s\n",
      "      4     \u001b[36m0.12245\u001b[0m     \u001b[32m0.10854\u001b[0m    1.12817      0.96173  15.76s\n",
      "      5     \u001b[36m0.09646\u001b[0m     \u001b[32m0.08579\u001b[0m    1.12430      0.97200  15.79s\n",
      "      6     \u001b[36m0.07258\u001b[0m     \u001b[32m0.07912\u001b[0m    0.91729      0.97452  15.86s\n",
      "      7     \u001b[36m0.05239\u001b[0m     \u001b[32m0.06379\u001b[0m    0.82127      0.98145  15.86s\n",
      "      8     \u001b[36m0.04547\u001b[0m     \u001b[32m0.05172\u001b[0m    0.87917      0.98559  15.86s\n",
      "      9     \u001b[36m0.03323\u001b[0m     \u001b[32m0.04989\u001b[0m    0.66613      0.98514  15.86s\n",
      "     10     \u001b[36m0.02975\u001b[0m     \u001b[32m0.04372\u001b[0m    0.68057      0.98938  15.87s\n",
      "     11     \u001b[36m0.02608\u001b[0m     \u001b[32m0.04134\u001b[0m    0.63080      0.99028  15.90s\n",
      "     12     \u001b[36m0.01858\u001b[0m     0.05568    0.33368      0.98847  15.87s\n",
      "     13     \u001b[36m0.01710\u001b[0m     0.04162    0.41092      0.99208  15.87s\n",
      "     14     \u001b[36m0.01654\u001b[0m     0.04136    0.40003      0.99163  15.93s\n",
      "     15     \u001b[36m0.01311\u001b[0m     \u001b[32m0.03858\u001b[0m    0.33990      0.99352  15.94s\n",
      "     16     0.01402     0.05295    0.26477      0.99001  15.89s\n",
      "     17     \u001b[36m0.01176\u001b[0m     0.03891    0.30218      0.99316  15.91s\n",
      "     18     \u001b[36m0.01012\u001b[0m     0.05242    0.19314      0.99064  15.87s\n",
      "     19     0.01094     0.03951    0.27677      0.99370  15.88s\n",
      "     20     \u001b[36m0.00863\u001b[0m     0.04539    0.19019      0.99235  15.86s\n",
      "     21     0.01090     0.05353    0.20355      0.99100  15.90s\n",
      "     22     \u001b[36m0.00819\u001b[0m     0.05317    0.15398      0.99001  15.86s\n",
      "     23     0.00853     0.05060    0.16862      0.99208  15.89s\n",
      "     24     \u001b[36m0.00588\u001b[0m     0.05640    0.10427      0.99253  15.88s\n",
      "     25     \u001b[36m0.00569\u001b[0m     0.05531    0.10293      0.99154  15.89s\n",
      "     26     0.00587     0.07140    0.08228      0.99073  15.86s\n",
      "     27     0.00709     0.05651    0.12555      0.99181  15.89s\n",
      "     28     0.00596     0.05082    0.11728      0.99037  15.89s\n",
      "     29     0.00612     0.05019    0.12183      0.99244  15.86s\n",
      "     30     \u001b[36m0.00484\u001b[0m     0.05454    0.08867      0.99136  15.89s\n",
      "     31     0.00555     0.05473    0.10137      0.99118  15.86s\n",
      "     32     0.00520     0.05487    0.09480      0.99262  15.90s\n",
      "     33     \u001b[36m0.00399\u001b[0m     0.04745    0.08399      0.99226  15.86s\n",
      "     34     0.00400     0.06617    0.06038      0.99028  15.91s\n",
      "     35     \u001b[36m0.00372\u001b[0m     0.05087    0.07312      0.99262  15.87s\n",
      "     36     0.00455     0.06931    0.06566      0.99046  15.87s\n",
      "     37     \u001b[36m0.00358\u001b[0m     0.04773    0.07495      0.99280  15.86s\n",
      "     38     0.00394     0.06474    0.06090      0.99091  16.10s\n",
      "     39     0.00468     0.06436    0.07264      0.99082  15.86s\n",
      "     40     \u001b[36m0.00335\u001b[0m     0.05129    0.06539      0.99244  16.08s\n",
      "     41     \u001b[36m0.00325\u001b[0m     0.06404    0.05073      0.99118  15.88s\n",
      "     42     0.00550     0.07417    0.07413      0.98938  16.05s\n",
      "     43     0.00394     0.05609    0.07018      0.99262  15.91s\n",
      "     44     \u001b[36m0.00228\u001b[0m     0.06334    0.03603      0.99028  16.05s\n",
      "     45     0.00236     0.05546    0.04248      0.99316  15.92s\n",
      "     46     0.00357     0.06844    0.05210      0.99064  16.00s\n",
      "     47     0.00430     0.07451    0.05777      0.99028  15.97s\n",
      "     48     0.00273     0.06735    0.04056      0.99172  15.92s\n",
      "     49     0.00269     0.06786    0.03960      0.99046  16.05s\n",
      "     50     0.00364     0.07324    0.04969      0.99082  15.88s\n",
      "     51     0.00297     0.06718    0.04423      0.99190  16.09s\n",
      "     52     0.00345     0.08094    0.04263      0.99100  15.88s\n",
      "     53     0.00281     0.06642    0.04232      0.99244  16.10s\n",
      "     54     0.00344     0.06943    0.04951      0.99082  15.87s\n",
      "     55     0.00316     0.07488    0.04222      0.99172  16.10s\n",
      "     56     \u001b[36m0.00214\u001b[0m     0.07204    0.02977      0.99172  15.87s\n",
      "     57     \u001b[36m0.00160\u001b[0m     0.06594    0.02433      0.99226  16.10s\n",
      "     58     \u001b[36m0.00138\u001b[0m     0.07606    0.01816      0.99154  15.87s\n",
      "     59     0.00266     0.04879    0.05458      0.99388  16.10s\n",
      "     60     0.00244     0.07398    0.03304      0.99082  15.86s\n",
      "     61     0.00167     0.06409    0.02609      0.99280  16.10s\n",
      "     62     0.00312     0.05823    0.05356      0.99388  15.88s\n",
      "     63     0.00262     0.07875    0.03330      0.98901  16.10s\n",
      "     64     0.00183     0.06961    0.02628      0.99208  15.87s\n",
      "     65     0.00149     0.06934    0.02144      0.99208  16.08s\n",
      "Early stopping.\n",
      "Best valid loss was 0.038577 at epoch 15.\n",
      "Loaded parameters to layer 'conv1' (shape 64x3x3x3).\n",
      "Loaded parameters to layer 'conv1' (shape 64).\n",
      "Loaded parameters to layer 'conv2' (shape 48x64x3x3).\n",
      "Loaded parameters to layer 'conv2' (shape 48).\n",
      "Loaded parameters to layer 'hidden3' (shape 13872x512).\n",
      "Loaded parameters to layer 'hidden3' (shape 512).\n",
      "Loaded parameters to layer 'output' (shape 512x2).\n",
      "Loaded parameters to layer 'output' (shape 2).\n"
     ]
    }
   ],
   "source": [
    "cnn = cnn.fit(X_train, y_train)"
   ]
  },
  {
   "cell_type": "code",
   "execution_count": 7,
   "metadata": {
    "collapsed": true
   },
   "outputs": [],
   "source": [
    "test_accuracy = cnn.score(X_test, y_test)"
   ]
  },
  {
   "cell_type": "code",
   "execution_count": 8,
   "metadata": {
    "collapsed": false
   },
   "outputs": [
    {
     "data": {
      "text/plain": [
       "0.905511811023622"
      ]
     },
     "execution_count": 8,
     "metadata": {},
     "output_type": "execute_result"
    }
   ],
   "source": [
    "test_accuracy"
   ]
  },
  {
   "cell_type": "code",
   "execution_count": 12,
   "metadata": {
    "collapsed": false
   },
   "outputs": [
    {
     "data": {
      "text/plain": [
       "<module 'matplotlib.pyplot' from '/n/home05/haehn/nolearncox/lib/python2.7/site-packages/matplotlib-1.5.2-py2.7-linux-x86_64.egg/matplotlib/pyplot.pyc'>"
      ]
     },
     "execution_count": 12,
     "metadata": {},
     "output_type": "execute_result"
    },
    {
     "data": {
      "image/png": "[encoded data removed]",
      "text/plain": [
       "<matplotlib.figure.Figure at 0x2b3d106d6e50>"
      ]
     },
     "metadata": {},
     "output_type": "display_data"
    }
   ],
   "source": [
    "plot_loss(cnn)"
   ]
  },
  {
   "cell_type": "code",
   "execution_count": null,
   "metadata": {
    "collapsed": true
   },
   "outputs": [],
   "source": []
  }
 ],
 "metadata": {
  "kernelspec": {
   "display_name": "Python 2",
   "language": "python",
   "name": "python2"
  },
  "language_info": {
   "codemirror_mode": {
    "name": "ipython",
    "version": 2
   },
   "file_extension": ".py",
   "mimetype": "text/x-python",
   "name": "python",
   "nbconvert_exporter": "python",
   "pygments_lexer": "ipython2",
   "version": "2.7.6"
  }
 },
 "nbformat": 4,
 "nbformat_minor": 0
}
