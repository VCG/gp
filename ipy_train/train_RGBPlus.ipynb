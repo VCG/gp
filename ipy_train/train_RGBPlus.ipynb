{
 "cells": [
  {
   "cell_type": "code",
   "execution_count": 1,
   "metadata": {
    "collapsed": false
   },
   "outputs": [
    {
     "name": "stderr",
     "output_type": "stream",
     "text": [
      "Using gpu device 0: GeForce GTX TITAN X (CNMeM is disabled, CuDNN 4007)\n",
      "/n/home05/haehn/nolearncox/lib/python2.7/site-packages/theano/tensor/signal/downsample.py:6: UserWarning: downsample module has been moved to the theano.tensor.signal.pool module.\n",
      "  \"downsample module has been moved to the theano.tensor.signal.pool module.\")\n"
     ]
    }
   ],
   "source": [
    "%load_ext autoreload\n",
    "%autoreload 2\n",
    "\n",
    "import cPickle as pickle\n",
    "import os; import sys; sys.path.append('..')\n",
    "import gp\n",
    "import gp.nets as nets\n",
    "\n",
    "from nolearn.lasagne.visualize import plot_loss\n",
    "from nolearn.lasagne.visualize import plot_conv_weights\n",
    "from nolearn.lasagne.visualize import plot_conv_activity\n",
    "from nolearn.lasagne.visualize import plot_occlusion\n",
    "\n",
    "from matplotlib.pyplot import imshow\n",
    "import matplotlib.pyplot as plt\n",
    "%matplotlib inline"
   ]
  },
  {
   "cell_type": "code",
   "execution_count": 2,
   "metadata": {
    "collapsed": false
   },
   "outputs": [],
   "source": [
    "PATCH_PATH = ('cylinder2_rgb_small')"
   ]
  },
  {
   "cell_type": "code",
   "execution_count": 3,
   "metadata": {
    "collapsed": false
   },
   "outputs": [
    {
     "name": "stdout",
     "output_type": "stream",
     "text": [
      "Loaded /n/home05/haehn/patches_local//cylinder2_rgb_small/ in 0.00415086746216 seconds.\n"
     ]
    }
   ],
   "source": [
    "X_train, y_train, X_test, y_test = gp.Patch.load_rgb(PATCH_PATH)"
   ]
  },
  {
   "cell_type": "code",
   "execution_count": 4,
   "metadata": {
    "collapsed": false
   },
   "outputs": [
    {
     "data": {
      "image/png": "[encoded data removed]",
      "text/plain": [
       "<matplotlib.figure.Figure at 0x2aff6cea9410>"
      ]
     },
     "metadata": {},
     "output_type": "display_data"
    }
   ],
   "source": [
    "gp.Util.view_rgba(X_train[100], y_train[100])"
   ]
  },
  {
   "cell_type": "code",
   "execution_count": 5,
   "metadata": {
    "collapsed": false
   },
   "outputs": [
    {
     "name": "stdout",
     "output_type": "stream",
     "text": [
      "CNN configuration: \n",
      "    Our CNN with image, prob, merged_array as RGB.\n",
      "\n",
      "    This includes dropout. This also includes more layers.\n",
      "    \n"
     ]
    }
   ],
   "source": [
    "cnn = nets.RGBNetPlus()"
   ]
  },
  {
   "cell_type": "code",
   "execution_count": 6,
   "metadata": {
    "collapsed": false,
    "scrolled": false
   },
   "outputs": [
    {
     "name": "stdout",
     "output_type": "stream",
     "text": [
      "# Neural Network with 170898 learnable parameters\n",
      "\n",
      "## Layer information\n",
      "\n",
      "  #  name      size\n",
      "---  --------  --------\n",
      "  0  input     3x75x75\n",
      "  1  conv1     64x73x73\n",
      "  2  pool1     64x36x36\n",
      "  3  dropout1  64x36x36\n",
      "  4  conv2     48x34x34\n",
      "  5  pool2     48x17x17\n",
      "  6  dropout2  48x17x17\n",
      "  7  conv3     48x15x15\n",
      "  8  pool3     48x7x7\n",
      "  9  dropout3  48x7x7\n",
      " 10  conv4     48x5x5\n",
      " 11  pool4     48x2x2\n",
      " 12  dropout4  48x2x2\n",
      " 13  hidden5   512\n",
      " 14  dropout5  512\n",
      " 15  output    2\n",
      "\n",
      "  epoch    trn loss    val loss    trn/val    valid acc  dur\n",
      "-------  ----------  ----------  ---------  -----------  ------\n",
      "      1     \u001b[36m0.35907\u001b[0m     \u001b[32m0.27164\u001b[0m    1.32185      0.90086  16.79s\n",
      "      2     \u001b[36m0.23818\u001b[0m     \u001b[32m0.23006\u001b[0m    1.03528      0.91086  16.71s\n",
      "      3     \u001b[36m0.21420\u001b[0m     \u001b[32m0.20216\u001b[0m    1.05954      0.92392  16.73s\n",
      "      4     \u001b[36m0.20568\u001b[0m     \u001b[32m0.19130\u001b[0m    1.07521      0.92914  16.73s\n",
      "      5     \u001b[36m0.19666\u001b[0m     \u001b[32m0.18994\u001b[0m    1.03538      0.92941  16.78s\n",
      "      6     \u001b[36m0.18830\u001b[0m     0.19670    0.95729      0.92256  16.82s\n",
      "      7     \u001b[36m0.17907\u001b[0m     \u001b[32m0.17843\u001b[0m    1.00359      0.93733  16.82s\n",
      "      8     \u001b[36m0.17531\u001b[0m     0.18581    0.94351      0.93031  16.83s\n",
      "      9     \u001b[36m0.16684\u001b[0m     \u001b[32m0.15658\u001b[0m    1.06552      0.94192  16.84s\n",
      "     10     \u001b[36m0.16091\u001b[0m     0.15927    1.01031      0.94003  16.84s\n",
      "     11     \u001b[36m0.15783\u001b[0m     \u001b[32m0.15120\u001b[0m    1.04388      0.94507  16.89s\n",
      "     12     \u001b[36m0.14923\u001b[0m     \u001b[32m0.14641\u001b[0m    1.01930      0.94769  16.91s\n",
      "     13     \u001b[36m0.14590\u001b[0m     \u001b[32m0.13803\u001b[0m    1.05702      0.95093  16.91s\n",
      "     14     \u001b[36m0.14074\u001b[0m     \u001b[32m0.13239\u001b[0m    1.06307      0.95210  16.90s\n",
      "     15     \u001b[36m0.13380\u001b[0m     0.13970    0.95776      0.94841  16.91s\n",
      "     16     \u001b[36m0.13282\u001b[0m     \u001b[32m0.12554\u001b[0m    1.05804      0.95732  16.91s\n",
      "     17     \u001b[36m0.12575\u001b[0m     \u001b[32m0.12066\u001b[0m    1.04216      0.95489  16.90s\n",
      "     18     \u001b[36m0.12554\u001b[0m     0.12431    1.00990      0.95534  16.92s\n",
      "     19     \u001b[36m0.11948\u001b[0m     \u001b[32m0.11605\u001b[0m    1.02956      0.96092  16.91s\n",
      "     20     \u001b[36m0.11644\u001b[0m     \u001b[32m0.11147\u001b[0m    1.04460      0.96380  16.92s\n",
      "     21     \u001b[36m0.11208\u001b[0m     0.11267    0.99475      0.96038  16.91s\n",
      "     22     \u001b[36m0.10789\u001b[0m     0.11551    0.93405      0.95795  16.90s\n",
      "     23     0.10817     \u001b[32m0.11000\u001b[0m    0.98344      0.96236  16.90s\n",
      "     24     \u001b[36m0.10499\u001b[0m     \u001b[32m0.09585\u001b[0m    1.09531      0.96759  16.90s\n",
      "     25     \u001b[36m0.10411\u001b[0m     \u001b[32m0.09017\u001b[0m    1.15457      0.96957  16.90s\n",
      "     26     \u001b[36m0.09723\u001b[0m     0.09729    0.99935      0.96677  16.90s\n",
      "     27     \u001b[36m0.09703\u001b[0m     0.09926    0.97756      0.96596  16.89s\n",
      "     28     \u001b[36m0.09322\u001b[0m     0.09865    0.94495      0.96623  16.91s\n",
      "     29     0.09483     0.09618    0.98595      0.96804  16.89s\n",
      "     30     \u001b[36m0.08995\u001b[0m     \u001b[32m0.08449\u001b[0m    1.06465      0.97335  16.90s\n",
      "     31     \u001b[36m0.08950\u001b[0m     \u001b[32m0.08385\u001b[0m    1.06730      0.97416  16.88s\n",
      "     32     \u001b[36m0.08604\u001b[0m     \u001b[32m0.08195\u001b[0m    1.04996      0.97335  16.89s\n",
      "     33     \u001b[36m0.08268\u001b[0m     0.08217    1.00623      0.97353  16.88s\n",
      "     34     0.08470     \u001b[32m0.07941\u001b[0m    1.06659      0.97389  16.89s\n",
      "     35     0.08425     \u001b[32m0.07910\u001b[0m    1.06510      0.97479  16.88s\n",
      "     36     \u001b[36m0.07652\u001b[0m     \u001b[32m0.07337\u001b[0m    1.04289      0.97650  16.89s\n",
      "     37     0.07779     \u001b[32m0.07073\u001b[0m    1.09981      0.97893  16.89s\n",
      "     38     0.07671     0.07825    0.98032      0.97659  16.90s\n",
      "     39     \u001b[36m0.07470\u001b[0m     0.07190    1.03893      0.97776  16.90s\n",
      "     40     \u001b[36m0.07096\u001b[0m     \u001b[32m0.06797\u001b[0m    1.04396      0.97938  16.91s\n",
      "     41     0.07152     \u001b[32m0.06560\u001b[0m    1.09026      0.97992  16.90s\n",
      "     42     \u001b[36m0.06900\u001b[0m     0.06714    1.02780      0.97983  16.91s\n",
      "     43     0.07036     \u001b[32m0.06532\u001b[0m    1.07709      0.98100  16.91s\n",
      "     44     \u001b[36m0.06866\u001b[0m     0.06749    1.01728      0.97911  16.90s\n",
      "     45     \u001b[36m0.06758\u001b[0m     0.06636    1.01833      0.97866  16.90s\n",
      "     46     \u001b[36m0.06621\u001b[0m     \u001b[32m0.06277\u001b[0m    1.05472      0.98019  16.91s\n",
      "     47     0.06748     0.07434    0.90761      0.97488  16.90s\n",
      "     48     \u001b[36m0.06196\u001b[0m     \u001b[32m0.05428\u001b[0m    1.14140      0.98415  16.90s\n",
      "     49     0.06563     0.06494    1.01053      0.98019  16.89s\n",
      "     50     0.06613     0.05811    1.13793      0.98379  16.90s\n",
      "     51     \u001b[36m0.06085\u001b[0m     0.06448    0.94372      0.97848  16.90s\n",
      "     52     \u001b[36m0.06018\u001b[0m     0.06325    0.95152      0.97938  16.89s\n",
      "     53     0.06030     \u001b[32m0.05190\u001b[0m    1.16175      0.98415  16.90s\n",
      "     54     \u001b[36m0.05897\u001b[0m     0.06341    0.92999      0.98100  16.91s\n",
      "     55     \u001b[36m0.05858\u001b[0m     0.06215    0.94258      0.98064  16.89s\n",
      "     56     \u001b[36m0.05563\u001b[0m     0.05647    0.98510      0.98361  16.90s\n",
      "     57     0.05802     0.06159    0.94192      0.98127  16.91s\n",
      "     58     \u001b[36m0.05528\u001b[0m     0.05557    0.99468      0.98361  16.91s\n",
      "     59     0.05775     0.05529    1.04452      0.98235  16.90s\n",
      "     60     0.05889     0.05524    1.06609      0.98361  16.90s\n",
      "     61     \u001b[36m0.05263\u001b[0m     \u001b[32m0.04933\u001b[0m    1.06701      0.98586  16.90s\n",
      "     62     0.05416     0.05686    0.95255      0.98325  16.91s\n",
      "     63     0.05362     0.05606    0.95658      0.98388  16.90s\n",
      "     64     \u001b[36m0.05079\u001b[0m     0.06002    0.84629      0.98190  16.90s\n",
      "     65     0.05269     \u001b[32m0.04889\u001b[0m    1.07776      0.98496  16.90s\n",
      "     66     0.05372     0.05547    0.96851      0.98226  16.90s\n",
      "     67     \u001b[36m0.04968\u001b[0m     0.05179    0.95932      0.98424  16.90s\n",
      "     68     \u001b[36m0.04813\u001b[0m     0.05547    0.86768      0.98379  16.90s\n",
      "     69     0.05022     0.05019    1.00065      0.98532  16.90s\n",
      "     70     0.04942     0.05300    0.93239      0.98469  16.90s\n",
      "     71     0.04943     0.05424    0.91141      0.98262  16.91s\n",
      "     72     \u001b[36m0.04788\u001b[0m     0.05358    0.89355      0.98505  16.91s\n",
      "     73     0.04825     0.05537    0.87139      0.98235  16.91s\n",
      "     74     \u001b[36m0.04456\u001b[0m     \u001b[32m0.04543\u001b[0m    0.98075      0.98784  16.91s\n",
      "     75     0.04877     0.05316    0.91743      0.98568  16.92s\n",
      "     76     \u001b[36m0.04439\u001b[0m     0.04577    0.96978      0.98721  16.92s\n",
      "     77     0.04745     0.04573    1.03757      0.98730  16.91s\n",
      "     78     0.04775     0.05274    0.90533      0.98469  16.91s\n",
      "     79     0.04481     0.06363    0.70432      0.98118  16.90s\n",
      "     80     0.04604     0.05342    0.86181      0.98577  16.91s\n",
      "     81     0.04585     0.05229    0.87672      0.98550  16.91s\n",
      "     82     0.04812     0.05190    0.92728      0.98550  16.90s\n",
      "     83     0.04559     0.05015    0.90919      0.98640  16.91s\n",
      "     84     0.04470     0.04700    0.95113      0.98685  16.91s\n",
      "     85     \u001b[36m0.04039\u001b[0m     0.04882    0.82733      0.98550  16.91s\n",
      "     86     0.04333     0.04883    0.88742      0.98442  16.91s\n",
      "     87     0.04432     0.04694    0.94427      0.98811  16.91s\n",
      "     88     0.04144     0.05768    0.71849      0.98478  16.91s\n",
      "     89     0.04185     0.05600    0.74735      0.98442  16.91s\n",
      "     90     \u001b[36m0.03998\u001b[0m     \u001b[32m0.04491\u001b[0m    0.89005      0.98811  16.91s\n",
      "     91     \u001b[36m0.03874\u001b[0m     0.05094    0.76052      0.98676  16.91s\n",
      "     92     0.04023     \u001b[32m0.04240\u001b[0m    0.94880      0.98829  16.90s\n",
      "     93     0.04279     0.05177    0.82667      0.98658  16.92s\n",
      "     94     0.03938     0.05313    0.74109      0.98568  16.92s\n",
      "     95     0.04132     0.05807    0.71164      0.98379  16.90s\n",
      "     96     0.03899     0.04701    0.82943      0.98685  16.92s\n",
      "     97     0.04133     0.05198    0.79498      0.98559  16.91s\n",
      "     98     0.03998     0.04789    0.83467      0.98910  16.90s\n",
      "     99     0.04122     0.05087    0.81029      0.98613  16.92s\n",
      "    100     \u001b[36m0.03683\u001b[0m     0.05104    0.72154      0.98640  16.91s\n",
      "    101     0.04023     0.04340    0.92700      0.98802  16.91s\n",
      "    102     0.03871     0.05131    0.75453      0.98748  16.91s\n",
      "    103     0.03700     0.05438    0.68036      0.98622  16.91s\n",
      "    104     0.03949     0.05719    0.69041      0.98541  16.91s\n",
      "    105     0.03738     0.04718    0.79236      0.98793  16.91s\n",
      "    106     \u001b[36m0.03485\u001b[0m     0.05103    0.68282      0.98739  16.91s\n",
      "    107     0.03740     0.05788    0.64616      0.98532  16.91s\n",
      "    108     0.03738     0.05382    0.69450      0.98703  16.91s\n",
      "    109     \u001b[36m0.03452\u001b[0m     0.05019    0.68774      0.98874  16.90s\n",
      "    110     0.03600     0.06529    0.55144      0.98460  16.90s\n",
      "    111     0.03540     0.05446    0.65009      0.98739  16.89s\n",
      "    112     0.03773     0.05332    0.70750      0.98658  16.90s\n",
      "    113     \u001b[36m0.03422\u001b[0m     0.06353    0.53867      0.98487  16.90s\n",
      "    114     0.03604     0.05904    0.61034      0.98631  16.90s\n",
      "    115     0.03713     0.04555    0.81507      0.98865  16.90s\n",
      "    116     0.03682     0.05547    0.66367      0.98658  16.90s\n",
      "    117     \u001b[36m0.03295\u001b[0m     0.05391    0.61123      0.98739  16.90s\n",
      "    118     0.03564     0.05779    0.61674      0.98586  16.90s\n",
      "    119     0.03534     0.04903    0.72077      0.98920  16.90s\n",
      "    120     0.03662     0.05949    0.61564      0.98523  16.91s\n",
      "    121     0.03579     0.04620    0.77468      0.98658  16.89s\n",
      "    122     0.03687     0.04388    0.84034      0.98757  16.90s\n",
      "    123     \u001b[36m0.03199\u001b[0m     \u001b[32m0.04083\u001b[0m    0.78334      0.98956  16.90s\n",
      "    124     0.03429     0.05442    0.63001      0.98559  16.91s\n",
      "    125     0.03533     \u001b[32m0.03956\u001b[0m    0.89303      0.98965  16.91s\n",
      "    126     0.03236     0.05060    0.63959      0.98775  16.89s\n",
      "    127     0.03306     0.04551    0.72644      0.98920  16.89s\n",
      "    128     0.03414     0.05368    0.63596      0.98721  16.90s\n",
      "    129     \u001b[36m0.03170\u001b[0m     0.06362    0.49835      0.98505  16.90s\n",
      "    130     0.03342     0.04983    0.67061      0.98739  16.90s\n",
      "    131     0.03471     0.05127    0.67700      0.98748  16.90s\n",
      "    132     0.03280     0.05516    0.59470      0.98595  16.90s\n",
      "    133     0.03269     0.05760    0.56751      0.98532  16.89s\n",
      "    134     0.03706     0.04881    0.75916      0.98793  16.89s\n",
      "    135     0.03327     0.04655    0.71459      0.98929  16.90s\n",
      "    136     \u001b[36m0.03009\u001b[0m     0.04519    0.66575      0.98947  16.90s\n",
      "    137     \u001b[36m0.02972\u001b[0m     0.05638    0.52720      0.98811  16.90s\n",
      "    138     0.03136     0.04839    0.64804      0.98883  16.90s\n",
      "    139     0.03246     0.05271    0.61578      0.98784  16.91s\n",
      "    140     0.03421     0.04283    0.79868      0.98983  16.90s\n",
      "    141     \u001b[36m0.02843\u001b[0m     0.04799    0.59243      0.98938  16.92s\n",
      "    142     0.03330     0.05237    0.63592      0.98901  16.89s\n",
      "    143     0.03421     0.05659    0.60448      0.98667  16.89s\n",
      "    144     0.03106     0.04603    0.67477      0.98739  16.90s\n",
      "    145     0.03035     \u001b[32m0.03719\u001b[0m    0.81604      0.99109  16.90s\n",
      "    146     0.03039     0.04672    0.65050      0.98766  16.91s\n",
      "    147     0.02885     0.04781    0.60343      0.98865  16.92s\n",
      "    148     0.03009     0.05008    0.60071      0.98730  16.90s\n",
      "    149     0.03039     0.04181    0.72694      0.98983  16.90s\n",
      "    150     0.03004     0.04937    0.60851      0.98793  16.90s\n",
      "    151     0.03086     0.05139    0.60059      0.98793  16.89s\n",
      "    152     0.03115     0.05099    0.61095      0.98865  16.90s\n",
      "    153     0.02948     0.05301    0.55618      0.98865  16.91s\n",
      "    154     0.02900     0.04592    0.63162      0.98983  16.90s\n",
      "    155     0.02907     0.04346    0.66877      0.99073  16.90s\n",
      "    156     0.02982     0.04861    0.61351      0.98883  16.90s\n",
      "    157     0.02993     0.05154    0.58069      0.98739  16.89s\n",
      "    158     0.03041     0.05694    0.53413      0.98694  16.90s\n",
      "    159     0.03189     0.06130    0.52029      0.98541  16.90s\n",
      "    160     0.02906     0.06067    0.47905      0.98622  16.89s\n",
      "    161     0.03232     0.05348    0.60429      0.98947  16.90s\n",
      "    162     0.02920     0.05066    0.57638      0.98929  16.90s\n",
      "    163     0.02924     0.05857    0.49926      0.98784  16.90s\n",
      "    164     \u001b[36m0.02617\u001b[0m     0.05508    0.47505      0.98703  16.90s\n",
      "    165     0.03115     0.04722    0.65972      0.98920  16.90s\n",
      "    166     0.02807     0.04529    0.61987      0.98901  16.90s\n",
      "    167     0.02908     0.04506    0.64547      0.98874  16.90s\n",
      "    168     0.02948     0.04968    0.59338      0.98766  16.89s\n",
      "    169     0.02823     0.04722    0.59782      0.98847  16.92s\n",
      "    170     0.03042     0.05159    0.58964      0.98775  16.90s\n",
      "    171     0.02894     0.04226    0.68483      0.98956  16.90s\n",
      "    172     0.02828     0.04817    0.58708      0.98766  16.90s\n",
      "    173     0.02942     0.05413    0.54349      0.98721  16.89s\n",
      "    174     \u001b[36m0.02551\u001b[0m     0.05017    0.50851      0.98901  16.89s\n",
      "    175     0.03126     0.04555    0.68635      0.99001  16.89s\n",
      "    176     0.02767     0.05217    0.53039      0.98956  16.90s\n",
      "    177     0.02707     0.04628    0.58499      0.98965  16.90s\n",
      "    178     \u001b[36m0.02508\u001b[0m     0.04235    0.59229      0.99109  16.90s\n",
      "    179     0.03145     0.04671    0.67320      0.98983  16.88s\n",
      "    180     0.02544     0.06000    0.42406      0.98820  16.89s\n",
      "    181     0.02719     0.06617    0.41093      0.98415  16.89s\n",
      "    182     0.02708     0.05175    0.52326      0.98721  16.90s\n",
      "    183     0.02615     0.04828    0.54165      0.98856  16.89s\n",
      "    184     0.02648     0.04425    0.59834      0.99001  16.89s\n",
      "    185     0.02902     0.05346    0.54288      0.98757  16.89s\n",
      "    186     0.02859     0.05057    0.56545      0.98838  16.90s\n",
      "    187     0.02733     0.05420    0.50415      0.98865  16.88s\n",
      "    188     0.02620     0.05425    0.48297      0.98811  16.89s\n",
      "    189     \u001b[36m0.02502\u001b[0m     0.04190    0.59708      0.99064  16.89s\n",
      "    190     0.02858     0.04849    0.58944      0.98947  16.89s\n",
      "    191     0.02982     0.04680    0.63709      0.98856  16.89s\n",
      "    192     0.02554     0.04829    0.52893      0.98901  16.89s\n",
      "    193     0.02522     0.04863    0.51856      0.98947  16.88s\n",
      "    194     0.02569     0.04843    0.53038      0.98775  16.91s\n",
      "    195     0.02640     0.04595    0.57451      0.98910  16.88s\n",
      "Early stopping.\n",
      "Best valid loss was 0.037194 at epoch 145.\n",
      "Loaded parameters to layer 'conv1' (shape 64x3x3x3).\n",
      "Loaded parameters to layer 'conv1' (shape 64).\n",
      "Loaded parameters to layer 'conv2' (shape 48x64x3x3).\n",
      "Loaded parameters to layer 'conv2' (shape 48).\n",
      "Loaded parameters to layer 'conv3' (shape 48x48x3x3).\n",
      "Loaded parameters to layer 'conv3' (shape 48).\n",
      "Loaded parameters to layer 'conv4' (shape 48x48x3x3).\n",
      "Loaded parameters to layer 'conv4' (shape 48).\n",
      "Loaded parameters to layer 'hidden5' (shape 192x512).\n",
      "Loaded parameters to layer 'hidden5' (shape 512).\n",
      "Loaded parameters to layer 'output' (shape 512x2).\n",
      "Loaded parameters to layer 'output' (shape 2).\n"
     ]
    }
   ],
   "source": [
    "cnn = cnn.fit(X_train, y_train)"
   ]
  },
  {
   "cell_type": "code",
   "execution_count": 7,
   "metadata": {
    "collapsed": true
   },
   "outputs": [],
   "source": [
    "test_accuracy = cnn.score(X_test, y_test)"
   ]
  },
  {
   "cell_type": "code",
   "execution_count": 8,
   "metadata": {
    "collapsed": false
   },
   "outputs": [
    {
     "data": {
      "text/plain": [
       "0.9195725534308211"
      ]
     },
     "execution_count": 8,
     "metadata": {},
     "output_type": "execute_result"
    }
   ],
   "source": [
    "test_accuracy"
   ]
  },
  {
   "cell_type": "code",
   "execution_count": 8,
   "metadata": {
    "collapsed": false
   },
   "outputs": [
    {
     "data": {
      "text/plain": [
       "<module 'matplotlib.pyplot' from '/n/home05/haehn/nolearncox/lib/python2.7/site-packages/matplotlib-1.5.2-py2.7-linux-x86_64.egg/matplotlib/pyplot.pyc'>"
      ]
     },
     "execution_count": 8,
     "metadata": {},
     "output_type": "execute_result"
    },
    {
     "data": {
      "image/png": "[encoded data removed]",
      "text/plain": [
       "<matplotlib.figure.Figure at 0x2aff83359c50>"
      ]
     },
     "metadata": {},
     "output_type": "display_data"
    }
   ],
   "source": [
    "plot_loss(cnn)"
   ]
  },
  {
   "cell_type": "code",
   "execution_count": 9,
   "metadata": {
    "collapsed": false
   },
   "outputs": [],
   "source": [
    "# store CNN\n",
    "sys.setrecursionlimit(1000000000)\n",
    "with open(os.path.expanduser('~/Projects/gp/nets/RGBPlus.p'), 'wb') as f:\n",
    "  pickle.dump(cnn, f, -1)"
   ]
  },
  {
   "cell_type": "code",
   "execution_count": null,
   "metadata": {
    "collapsed": true
   },
   "outputs": [],
   "source": []
  }
 ],
 "metadata": {
  "kernelspec": {
   "display_name": "Python 2",
   "language": "python",
   "name": "python2"
  },
  "language_info": {
   "codemirror_mode": {
    "name": "ipython",
    "version": 2
   },
   "file_extension": ".py",
   "mimetype": "text/x-python",
   "name": "python",
   "nbconvert_exporter": "python",
   "pygments_lexer": "ipython2",
   "version": "2.7.11"
  }
 },
 "nbformat": 4,
 "nbformat_minor": 0
}
