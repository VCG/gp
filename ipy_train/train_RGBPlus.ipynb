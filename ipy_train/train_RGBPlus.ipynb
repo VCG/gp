{
 "cells": [
  {
   "cell_type": "code",
   "execution_count": 11,
   "metadata": {
    "collapsed": false
   },
   "outputs": [
    {
     "name": "stdout",
     "output_type": "stream",
     "text": [
      "The autoreload extension is already loaded. To reload it, use:\n",
      "  %reload_ext autoreload\n"
     ]
    }
   ],
   "source": [
    "%load_ext autoreload\n",
    "%autoreload 2\n",
    "\n",
    "import cPickle as pickle\n",
    "import os; import sys; sys.path.append('..')\n",
    "import gp\n",
    "import gp.nets as nets\n",
    "\n",
    "from nolearn.lasagne.visualize import plot_loss\n",
    "from nolearn.lasagne.visualize import plot_conv_weights\n",
    "from nolearn.lasagne.visualize import plot_conv_activity\n",
    "from nolearn.lasagne.visualize import plot_occlusion\n",
    "\n",
    "from matplotlib.pyplot import imshow\n",
    "import matplotlib.pyplot as plt\n",
    "%matplotlib inline"
   ]
  },
  {
   "cell_type": "code",
   "execution_count": 2,
   "metadata": {
    "collapsed": false
   },
   "outputs": [],
   "source": [
    "PATCH_PATH = ('cylinder2_rgb_small')"
   ]
  },
  {
   "cell_type": "code",
   "execution_count": 3,
   "metadata": {
    "collapsed": false
   },
   "outputs": [
    {
     "name": "stdout",
     "output_type": "stream",
     "text": [
      "Loaded /n/home05/haehn/patches_local//cylinder2_rgb_small/ in 0.0659239292145 seconds.\n"
     ]
    }
   ],
   "source": [
    "X_train, y_train, X_test, y_test = gp.Patch.load_rgb(PATCH_PATH)"
   ]
  },
  {
   "cell_type": "code",
   "execution_count": 4,
   "metadata": {
    "collapsed": false
   },
   "outputs": [
    {
     "data": {
      "image/png": "[encoded data removed]",
      "text/plain": [
       "<matplotlib.figure.Figure at 0x2b58803ea390>"
      ]
     },
     "metadata": {},
     "output_type": "display_data"
    }
   ],
   "source": [
    "gp.Util.view_rgba(X_train[100], y_train[100])"
   ]
  },
  {
   "cell_type": "code",
   "execution_count": 5,
   "metadata": {
    "collapsed": false
   },
   "outputs": [
    {
     "name": "stdout",
     "output_type": "stream",
     "text": [
      "CNN configuration: \n",
      "    Our CNN with image, prob, merged_array as RGB.\n",
      "\n",
      "    This includes dropout. This also includes more layers. And more filters.\n",
      "    \n"
     ]
    }
   ],
   "source": [
    "cnn = nets.RGBNetPlus()"
   ]
  },
  {
   "cell_type": "code",
   "execution_count": 6,
   "metadata": {
    "collapsed": false,
    "scrolled": false
   },
   "outputs": [
    {
     "name": "stdout",
     "output_type": "stream",
     "text": [
      "# Neural Network with 478498 learnable parameters\n",
      "\n",
      "## Layer information\n",
      "\n",
      "  #  name      size\n",
      "---  --------  ---------\n",
      "  0  input     3x75x75\n",
      "  1  conv1     128x73x73\n",
      "  2  pool1     128x36x36\n",
      "  3  dropout1  128x36x36\n",
      "  4  conv2     96x34x34\n",
      "  5  pool2     96x17x17\n",
      "  6  dropout2  96x17x17\n",
      "  7  conv3     96x15x15\n",
      "  8  pool3     96x7x7\n",
      "  9  dropout3  96x7x7\n",
      " 10  conv4     96x5x5\n",
      " 11  pool4     96x2x2\n",
      " 12  dropout4  96x2x2\n",
      " 13  hidden5   512\n",
      " 14  dropout5  512\n",
      " 15  output    2\n",
      "\n",
      "  epoch    trn loss    val loss    trn/val    valid acc  dur\n",
      "-------  ----------  ----------  ---------  -----------  ------\n",
      "      1     \u001b[36m0.34724\u001b[0m     \u001b[32m0.23231\u001b[0m    1.49473      0.91779  32.17s\n",
      "      2     \u001b[36m0.22757\u001b[0m     \u001b[32m0.21035\u001b[0m    1.08186      0.92428  32.02s\n",
      "      3     \u001b[36m0.20607\u001b[0m     \u001b[32m0.19018\u001b[0m    1.08355      0.93472  32.22s\n",
      "      4     \u001b[36m0.19355\u001b[0m     \u001b[32m0.18425\u001b[0m    1.05046      0.93310  32.21s\n",
      "      5     \u001b[36m0.18282\u001b[0m     \u001b[32m0.17397\u001b[0m    1.05089      0.93751  32.23s\n",
      "      6     \u001b[36m0.17313\u001b[0m     \u001b[32m0.16317\u001b[0m    1.06108      0.94030  32.32s\n",
      "      7     \u001b[36m0.16548\u001b[0m     \u001b[32m0.15759\u001b[0m    1.05011      0.94066  32.39s\n",
      "      8     \u001b[36m0.15674\u001b[0m     0.15997    0.97984      0.94039  32.40s\n",
      "      9     \u001b[36m0.14793\u001b[0m     \u001b[32m0.14345\u001b[0m    1.03122      0.94904  32.38s\n",
      "     10     \u001b[36m0.13865\u001b[0m     \u001b[32m0.14026\u001b[0m    0.98856      0.95111  32.40s\n",
      "     11     \u001b[36m0.13161\u001b[0m     \u001b[32m0.13405\u001b[0m    0.98182      0.95147  32.41s\n",
      "     12     \u001b[36m0.12057\u001b[0m     \u001b[32m0.11318\u001b[0m    1.06527      0.96056  32.43s\n",
      "     13     \u001b[36m0.11597\u001b[0m     \u001b[32m0.11274\u001b[0m    1.02865      0.96020  32.42s\n",
      "     14     \u001b[36m0.10810\u001b[0m     0.11611    0.93102      0.95957  32.40s\n",
      "     15     \u001b[36m0.10192\u001b[0m     \u001b[32m0.09989\u001b[0m    1.02037      0.96569  32.39s\n",
      "     16     \u001b[36m0.09848\u001b[0m     0.10062    0.97874      0.96425  32.39s\n",
      "     17     \u001b[36m0.08961\u001b[0m     \u001b[32m0.08264\u001b[0m    1.08429      0.97155  32.39s\n",
      "     18     \u001b[36m0.08743\u001b[0m     \u001b[32m0.07923\u001b[0m    1.10352      0.97443  32.38s\n",
      "     19     \u001b[36m0.08011\u001b[0m     0.08244    0.97176      0.97137  32.40s\n",
      "     20     \u001b[36m0.07804\u001b[0m     \u001b[32m0.07530\u001b[0m    1.03640      0.97578  32.41s\n",
      "     21     \u001b[36m0.07157\u001b[0m     \u001b[32m0.07159\u001b[0m    0.99966      0.97704  32.42s\n",
      "     22     \u001b[36m0.06809\u001b[0m     \u001b[32m0.06528\u001b[0m    1.04304      0.98010  32.40s\n",
      "     23     \u001b[36m0.06396\u001b[0m     0.06707    0.95361      0.97884  32.38s\n",
      "     24     \u001b[36m0.06306\u001b[0m     \u001b[32m0.05864\u001b[0m    1.07531      0.98136  32.40s\n",
      "     25     \u001b[36m0.05751\u001b[0m     0.05966    0.96398      0.98226  32.41s\n",
      "     26     \u001b[36m0.05598\u001b[0m     \u001b[32m0.05491\u001b[0m    1.01939      0.98271  32.41s\n",
      "     27     \u001b[36m0.05071\u001b[0m     \u001b[32m0.04682\u001b[0m    1.08318      0.98550  32.39s\n",
      "     28     \u001b[36m0.05017\u001b[0m     0.04827    1.03941      0.98640  32.39s\n",
      "     29     \u001b[36m0.04527\u001b[0m     0.05199    0.87063      0.98271  32.40s\n",
      "     30     \u001b[36m0.04504\u001b[0m     \u001b[32m0.04657\u001b[0m    0.96714      0.98676  32.39s\n",
      "     31     \u001b[36m0.04129\u001b[0m     0.05452    0.75735      0.98379  32.36s\n",
      "     32     0.04446     0.06587    0.67504      0.97947  32.39s\n",
      "     33     \u001b[36m0.04079\u001b[0m     \u001b[32m0.04345\u001b[0m    0.93877      0.98784  32.41s\n",
      "     34     \u001b[36m0.03881\u001b[0m     0.04447    0.87280      0.98802  32.40s\n",
      "     35     \u001b[36m0.03681\u001b[0m     0.04596    0.80095      0.98811  32.39s\n",
      "     36     \u001b[36m0.03619\u001b[0m     \u001b[32m0.04112\u001b[0m    0.87994      0.98992  32.40s\n",
      "     37     0.03652     \u001b[32m0.03990\u001b[0m    0.91537      0.98856  32.38s\n",
      "     38     \u001b[36m0.03290\u001b[0m     \u001b[32m0.03522\u001b[0m    0.93422      0.99163  32.37s\n",
      "     39     \u001b[36m0.02806\u001b[0m     0.04176    0.67201      0.98910  32.36s\n",
      "     40     0.03131     0.04148    0.75480      0.98874  32.37s\n",
      "     41     0.03328     0.04181    0.79581      0.98865  32.41s\n",
      "     42     0.02961     0.04808    0.61587      0.98802  32.39s\n",
      "     43     0.02939     0.04011    0.73277      0.99091  32.38s\n",
      "     44     0.02883     0.04754    0.60642      0.98784  32.36s\n",
      "     45     \u001b[36m0.02720\u001b[0m     0.03899    0.69776      0.99019  32.39s\n",
      "     46     0.02920     0.04870    0.59960      0.98703  32.37s\n",
      "     47     \u001b[36m0.02411\u001b[0m     0.04434    0.54379      0.99118  32.35s\n",
      "     48     0.02550     0.04570    0.55798      0.98965  32.37s\n",
      "     49     \u001b[36m0.02351\u001b[0m     0.04428    0.53083      0.99127  32.39s\n",
      "     50     \u001b[36m0.02107\u001b[0m     0.04453    0.47319      0.99037  32.38s\n",
      "     51     0.02455     0.04411    0.55660      0.99046  32.38s\n",
      "     52     0.02341     0.03924    0.59644      0.99109  32.40s\n",
      "     53     \u001b[36m0.02093\u001b[0m     0.04848    0.43165      0.99100  32.38s\n",
      "     54     0.02215     0.04193    0.52818      0.99208  32.38s\n",
      "     55     0.02144     0.04479    0.47873      0.99046  32.38s\n",
      "     56     0.02137     0.04438    0.48150      0.99055  32.38s\n",
      "     57     \u001b[36m0.02066\u001b[0m     0.04473    0.46197      0.99163  32.36s\n",
      "     58     \u001b[36m0.02037\u001b[0m     0.04369    0.46619      0.99154  32.35s\n",
      "     59     0.02103     0.04135    0.50863      0.99163  32.35s\n",
      "     60     \u001b[36m0.01889\u001b[0m     0.04578    0.41268      0.99244  32.38s\n",
      "     61     \u001b[36m0.01587\u001b[0m     0.04716    0.33645      0.99145  32.39s\n",
      "     62     0.01901     0.04829    0.39362      0.99064  32.39s\n",
      "     63     0.01790     0.04812    0.37198      0.99136  32.39s\n",
      "     64     0.01752     0.04103    0.42692      0.99190  32.39s\n",
      "     65     0.01800     0.04867    0.36993      0.99082  32.36s\n",
      "     66     0.01783     0.04230    0.42149      0.99190  32.37s\n",
      "     67     \u001b[36m0.01577\u001b[0m     0.04869    0.32386      0.99055  32.38s\n",
      "     68     \u001b[36m0.01398\u001b[0m     0.04266    0.32771      0.99154  32.38s\n",
      "     69     0.01623     0.04443    0.36527      0.99217  32.37s\n",
      "     70     0.01481     0.04351    0.34031      0.99361  32.38s\n",
      "     71     0.01420     0.04087    0.34748      0.99226  32.39s\n",
      "     72     0.01672     0.04704    0.35542      0.99199  32.40s\n",
      "     73     0.01449     0.04124    0.35131      0.99172  32.37s\n",
      "     74     \u001b[36m0.01217\u001b[0m     0.04368    0.27869      0.99280  32.38s\n",
      "     75     0.01523     0.04076    0.37361      0.99190  32.36s\n",
      "     76     0.01515     0.04059    0.37330      0.99253  32.35s\n",
      "     77     0.01576     0.04478    0.35197      0.99271  32.37s\n",
      "     78     \u001b[36m0.01179\u001b[0m     0.04707    0.25049      0.99055  32.35s\n",
      "     79     0.01695     0.05102    0.33226      0.99118  32.37s\n",
      "     80     0.01235     0.05326    0.23195      0.99001  32.38s\n",
      "     81     0.01329     0.04139    0.32112      0.99262  32.38s\n",
      "     82     0.01202     0.05046    0.23817      0.99028  32.39s\n",
      "     83     \u001b[36m0.01159\u001b[0m     0.05002    0.23170      0.99082  32.41s\n",
      "     84     0.01368     0.04273    0.32008      0.99208  32.37s\n",
      "     85     0.01349     0.04137    0.32603      0.99316  32.35s\n",
      "     86     0.01227     0.05880    0.20872      0.99046  32.35s\n",
      "     87     \u001b[36m0.01076\u001b[0m     0.04834    0.22251      0.99055  32.37s\n",
      "     88     0.01076     0.04295    0.25061      0.99280  32.38s\n",
      "Early stopping.\n",
      "Best valid loss was 0.035216 at epoch 38.\n",
      "Loaded parameters to layer 'conv1' (shape 128x3x3x3).\n",
      "Loaded parameters to layer 'conv1' (shape 128).\n",
      "Loaded parameters to layer 'conv2' (shape 96x128x3x3).\n",
      "Loaded parameters to layer 'conv2' (shape 96).\n",
      "Loaded parameters to layer 'conv3' (shape 96x96x3x3).\n",
      "Loaded parameters to layer 'conv3' (shape 96).\n",
      "Loaded parameters to layer 'conv4' (shape 96x96x3x3).\n",
      "Loaded parameters to layer 'conv4' (shape 96).\n",
      "Loaded parameters to layer 'hidden5' (shape 384x512).\n",
      "Loaded parameters to layer 'hidden5' (shape 512).\n",
      "Loaded parameters to layer 'output' (shape 512x2).\n",
      "Loaded parameters to layer 'output' (shape 2).\n"
     ]
    }
   ],
   "source": [
    "cnn = cnn.fit(X_train, y_train)"
   ]
  },
  {
   "cell_type": "code",
   "execution_count": 7,
   "metadata": {
    "collapsed": true
   },
   "outputs": [],
   "source": [
    "test_accuracy = cnn.score(X_test, y_test)"
   ]
  },
  {
   "cell_type": "code",
   "execution_count": 8,
   "metadata": {
    "collapsed": false
   },
   "outputs": [
    {
     "data": {
      "text/plain": [
       "0.9195725534308211"
      ]
     },
     "execution_count": 8,
     "metadata": {},
     "output_type": "execute_result"
    }
   ],
   "source": [
    "test_accuracy"
   ]
  },
  {
   "cell_type": "code",
   "execution_count": 9,
   "metadata": {
    "collapsed": false
   },
   "outputs": [
    {
     "data": {
      "text/plain": [
       "<module 'matplotlib.pyplot' from '/n/home05/haehn/nolearncox/lib/python2.7/site-packages/matplotlib-1.5.2-py2.7-linux-x86_64.egg/matplotlib/pyplot.pyc'>"
      ]
     },
     "execution_count": 9,
     "metadata": {},
     "output_type": "execute_result"
    },
    {
     "data": {
      "image/png": "[encoded data removed]",
      "text/plain": [
       "<matplotlib.figure.Figure at 0x2b596de4b590>"
      ]
     },
     "metadata": {},
     "output_type": "display_data"
    }
   ],
   "source": [
    "plot_loss(cnn)"
   ]
  },
  {
   "cell_type": "code",
   "execution_count": 12,
   "metadata": {
    "collapsed": false
   },
   "outputs": [],
   "source": [
    "# store CNN\n",
    "sys.setrecursionlimit(1000000000)\n",
    "with open(os.path.expanduser('~/Projects/gp/nets/RGBPlusPlus.p'), 'wb') as f:\n",
    "  pickle.dump(cnn, f, -1)"
   ]
  },
  {
   "cell_type": "code",
   "execution_count": null,
   "metadata": {
    "collapsed": true
   },
   "outputs": [],
   "source": []
  }
 ],
 "metadata": {
  "kernelspec": {
   "display_name": "Python 2",
   "language": "python",
   "name": "python2"
  },
  "language_info": {
   "codemirror_mode": {
    "name": "ipython",
    "version": 2
   },
   "file_extension": ".py",
   "mimetype": "text/x-python",
   "name": "python",
   "nbconvert_exporter": "python",
   "pygments_lexer": "ipython2",
   "version": "2.7.11"
  }
 },
 "nbformat": 4,
 "nbformat_minor": 0
}
