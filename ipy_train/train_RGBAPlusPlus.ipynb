{
 "cells": [
  {
   "cell_type": "code",
   "execution_count": 1,
   "metadata": {
    "collapsed": false
   },
   "outputs": [
    {
     "name": "stderr",
     "output_type": "stream",
     "text": [
      "Using gpu device 0: GeForce GTX TITAN (CNMeM is disabled, CuDNN 4007)\n",
      "/home/d/nolearn/local/lib/python2.7/site-packages/theano/tensor/signal/downsample.py:6: UserWarning: downsample module has been moved to the theano.tensor.signal.pool module.\n",
      "  \"downsample module has been moved to the theano.tensor.signal.pool module.\")\n"
     ]
    }
   ],
   "source": [
    "%load_ext autoreload\n",
    "%autoreload 2\n",
    "\n",
    "import cPickle as pickle\n",
    "import os; import sys; sys.path.append('..')\n",
    "import gp\n",
    "import gp.nets as nets\n",
    "\n",
    "from nolearn.lasagne.visualize import plot_loss\n",
    "from nolearn.lasagne.visualize import plot_conv_weights\n",
    "from nolearn.lasagne.visualize import plot_conv_activity\n",
    "from nolearn.lasagne.visualize import plot_occlusion\n",
    "\n",
    "from matplotlib.pyplot import imshow\n",
    "import matplotlib.pyplot as plt\n",
    "%matplotlib inline"
   ]
  },
  {
   "cell_type": "code",
   "execution_count": 2,
   "metadata": {
    "collapsed": false
   },
   "outputs": [],
   "source": [
    "PATCH_PATH = ('cylinder2_rgba_small')"
   ]
  },
  {
   "cell_type": "code",
   "execution_count": 3,
   "metadata": {
    "collapsed": false
   },
   "outputs": [
    {
     "name": "stdout",
     "output_type": "stream",
     "text": [
      "Loaded /home/d/patches//cylinder2_rgba_small/ in 0.152738809586 seconds.\n"
     ]
    }
   ],
   "source": [
    "X_train, y_train, X_test, y_test = gp.Patch.load_rgba(PATCH_PATH)"
   ]
  },
  {
   "cell_type": "code",
   "execution_count": 4,
   "metadata": {
    "collapsed": false
   },
   "outputs": [
    {
     "data": {
      "image/png": "[encoded data removed]",
      "text/plain": [
       "<matplotlib.figure.Figure at 0x7fbcb85b66d0>"
      ]
     },
     "metadata": {},
     "output_type": "display_data"
    }
   ],
   "source": [
    "gp.Util.view_rgba(X_train[100], y_train[100])"
   ]
  },
  {
   "cell_type": "code",
   "execution_count": 7,
   "metadata": {
    "collapsed": false
   },
   "outputs": [
    {
     "name": "stdout",
     "output_type": "stream",
     "text": [
      "CNN configuration: \n",
      "    Our CNN with image, prob, merged_array and border overlap as RGBA.\n",
      "\n",
      "    This includes dropout. This also includes more layers. And more filters.\n",
      "    \n"
     ]
    }
   ],
   "source": [
    "cnn = nets.RGBANetPlusPlus()"
   ]
  },
  {
   "cell_type": "code",
   "execution_count": 8,
   "metadata": {
    "collapsed": false,
    "scrolled": false
   },
   "outputs": [
    {
     "name": "stdout",
     "output_type": "stream",
     "text": [
      "# Neural Network with 479650 learnable parameters\n",
      "\n",
      "## Layer information\n",
      "\n",
      "  #  name      size\n",
      "---  --------  ---------\n",
      "  0  input     4x75x75\n",
      "  1  conv1     128x73x73\n",
      "  2  pool1     128x36x36\n",
      "  3  dropout1  128x36x36\n",
      "  4  conv2     96x34x34\n",
      "  5  pool2     96x17x17\n",
      "  6  dropout2  96x17x17\n",
      "  7  conv3     96x15x15\n",
      "  8  pool3     96x7x7\n",
      "  9  dropout3  96x7x7\n",
      " 10  conv4     96x5x5\n",
      " 11  pool4     96x2x2\n",
      " 12  dropout4  96x2x2\n",
      " 13  hidden5   512\n",
      " 14  dropout5  512\n",
      " 15  output    2\n",
      "\n",
      "  epoch    train loss    valid loss    train/val    valid acc  dur\n",
      "-------  ------------  ------------  -----------  -----------  ------\n",
      "      1       \u001b[36m0.33431\u001b[0m       \u001b[32m0.22689\u001b[0m      1.47346      0.91620  48.19s\n",
      "      2       \u001b[36m0.21704\u001b[0m       \u001b[32m0.19538\u001b[0m      1.11083      0.92938  47.97s\n",
      "      3       \u001b[36m0.20027\u001b[0m       \u001b[32m0.18151\u001b[0m      1.10331      0.93111  48.42s\n",
      "      4       \u001b[36m0.18937\u001b[0m       \u001b[32m0.17595\u001b[0m      1.07624      0.93617  48.42s\n",
      "      5       \u001b[36m0.17883\u001b[0m       \u001b[32m0.16980\u001b[0m      1.05318      0.93839  48.46s\n",
      "      6       \u001b[36m0.17106\u001b[0m       \u001b[32m0.16112\u001b[0m      1.06175      0.94218  49.33s\n",
      "      7       \u001b[36m0.16242\u001b[0m       \u001b[32m0.15207\u001b[0m      1.06810      0.94503  49.34s\n",
      "      8       \u001b[36m0.15390\u001b[0m       0.15342      1.00313      0.94647  49.39s\n",
      "      9       \u001b[36m0.14533\u001b[0m       \u001b[32m0.13853\u001b[0m      1.04911      0.94769  49.49s\n",
      "     10       \u001b[36m0.13931\u001b[0m       \u001b[32m0.12539\u001b[0m      1.11098      0.95439  49.81s\n",
      "     11       \u001b[36m0.13162\u001b[0m       0.12577      1.04652      0.95353  49.96s\n",
      "     12       \u001b[36m0.12593\u001b[0m       \u001b[32m0.12388\u001b[0m      1.01659      0.95685  49.84s\n",
      "     13       \u001b[36m0.11831\u001b[0m       \u001b[32m0.10363\u001b[0m      1.14169      0.96403  49.75s\n",
      "     14       \u001b[36m0.10899\u001b[0m       0.10540      1.03409      0.96292  49.78s\n",
      "     15       \u001b[36m0.10309\u001b[0m       \u001b[32m0.10306\u001b[0m      1.00035      0.96438  49.78s\n",
      "     16       \u001b[36m0.09788\u001b[0m       \u001b[32m0.09109\u001b[0m      1.07456      0.96852  49.67s\n",
      "     17       \u001b[36m0.09398\u001b[0m       \u001b[32m0.08441\u001b[0m      1.11347      0.97008  49.66s\n",
      "     18       \u001b[36m0.08779\u001b[0m       \u001b[32m0.08150\u001b[0m      1.07715      0.97399  49.97s\n",
      "     19       \u001b[36m0.08164\u001b[0m       \u001b[32m0.07443\u001b[0m      1.09678      0.97408  50.18s\n",
      "     20       \u001b[36m0.07852\u001b[0m       0.07580      1.03597      0.97205  50.17s\n",
      "     21       \u001b[36m0.07580\u001b[0m       \u001b[32m0.06618\u001b[0m      1.14539      0.97684  50.18s\n",
      "     22       \u001b[36m0.06998\u001b[0m       \u001b[32m0.06041\u001b[0m      1.15851      0.97998  50.23s\n",
      "     23       \u001b[36m0.06659\u001b[0m       \u001b[32m0.05958\u001b[0m      1.11758      0.98120  50.19s\n",
      "     24       \u001b[36m0.06583\u001b[0m       \u001b[32m0.05669\u001b[0m      1.16121      0.98273  50.18s\n",
      "     25       \u001b[36m0.06293\u001b[0m       \u001b[32m0.05255\u001b[0m      1.19759      0.98351  50.17s\n",
      "     26       \u001b[36m0.05770\u001b[0m       \u001b[32m0.05111\u001b[0m      1.12878      0.98399  50.21s\n",
      "     27       \u001b[36m0.05203\u001b[0m       \u001b[32m0.04877\u001b[0m      1.06691      0.98560  50.19s\n",
      "     28       0.05347       0.05067      1.05535      0.98423  50.20s\n",
      "     29       \u001b[36m0.05104\u001b[0m       \u001b[32m0.04848\u001b[0m      1.05276      0.98297  50.19s\n",
      "     30       \u001b[36m0.04694\u001b[0m       \u001b[32m0.04444\u001b[0m      1.05622      0.98731  50.19s\n",
      "     31       \u001b[36m0.04681\u001b[0m       \u001b[32m0.04111\u001b[0m      1.13876      0.98776  50.21s\n",
      "     32       \u001b[36m0.04323\u001b[0m       0.04366      0.99031      0.98767  50.20s\n",
      "     33       \u001b[36m0.04248\u001b[0m       \u001b[32m0.03791\u001b[0m      1.12047      0.98839  50.17s\n",
      "     34       \u001b[36m0.04003\u001b[0m       \u001b[32m0.03544\u001b[0m      1.12947      0.99000  50.21s\n",
      "     35       \u001b[36m0.03658\u001b[0m       0.03883      0.94208      0.98977  50.18s\n",
      "     36       0.04040       \u001b[32m0.03458\u001b[0m      1.16819      0.99198  50.19s\n",
      "     37       \u001b[36m0.03455\u001b[0m       \u001b[32m0.03425\u001b[0m      1.00865      0.99141  50.22s\n",
      "     38       0.03708       \u001b[32m0.02946\u001b[0m      1.25855      0.99297  50.18s\n",
      "     39       \u001b[36m0.03378\u001b[0m       0.03351      1.00821      0.99099  50.21s\n",
      "     40       \u001b[36m0.03260\u001b[0m       0.03149      1.03531      0.99252  50.19s\n",
      "     41       \u001b[36m0.03191\u001b[0m       0.03075      1.03775      0.99234  50.20s\n",
      "     42       \u001b[36m0.02732\u001b[0m       0.03014      0.90620      0.99261  50.22s\n",
      "     43       0.03092       0.03078      1.00469      0.99195  50.18s\n",
      "     44       \u001b[36m0.02703\u001b[0m       0.03389      0.79767      0.99189  50.18s\n",
      "     45       \u001b[36m0.02638\u001b[0m       0.03587      0.73549      0.99252  50.18s\n",
      "     46       \u001b[36m0.02591\u001b[0m       0.03059      0.84689      0.99342  50.22s\n",
      "     47       \u001b[36m0.02248\u001b[0m       0.03434      0.65468      0.99189  50.20s\n",
      "     48       0.02364       0.03853      0.61355      0.99000  50.18s\n",
      "     49       \u001b[36m0.02166\u001b[0m       0.03317      0.65298      0.99180  50.17s\n",
      "     50       0.02283       0.03327      0.68623      0.99288  50.18s\n",
      "     51       0.02210       0.03133      0.70520      0.99252  50.17s\n",
      "     52       0.02453       \u001b[32m0.02811\u001b[0m      0.87249      0.99285  50.19s\n",
      "     53       \u001b[36m0.02017\u001b[0m       0.03223      0.62579      0.99252  50.20s\n",
      "     54       0.02638       0.03012      0.87575      0.99378  50.14s\n",
      "     55       \u001b[36m0.01967\u001b[0m       \u001b[32m0.02571\u001b[0m      0.76501      0.99414  50.10s\n",
      "     56       0.01974       0.03251      0.60722      0.99351  50.13s\n",
      "     57       \u001b[36m0.01801\u001b[0m       0.02944      0.61162      0.99279  50.13s\n",
      "     58       0.02112       0.03566      0.59211      0.99270  50.14s\n",
      "     59       0.02049       0.04467      0.45867      0.99153  50.14s\n",
      "     60       \u001b[36m0.01742\u001b[0m       0.03600      0.48373      0.99315  50.13s\n",
      "     61       0.01889       0.03262      0.57897      0.99360  50.13s\n",
      "     62       0.01871       0.03760      0.49753      0.99279  50.10s\n",
      "     63       0.01777       0.03799      0.46781      0.99288  50.11s\n",
      "     64       0.01842       0.03367      0.54714      0.99261  50.12s\n",
      "     65       \u001b[36m0.01607\u001b[0m       0.03482      0.46142      0.99324  50.11s\n",
      "     66       0.01785       0.03465      0.51505      0.99234  50.12s\n",
      "     67       0.01684       0.03043      0.55332      0.99432  50.13s\n",
      "     68       \u001b[36m0.01464\u001b[0m       0.03188      0.45914      0.99387  50.14s\n",
      "     69       0.01753       0.02925      0.59934      0.99270  50.13s\n",
      "     70       \u001b[36m0.01324\u001b[0m       0.03369      0.39288      0.99330  50.12s\n",
      "     71       0.01463       0.03610      0.40524      0.99249  50.14s\n",
      "     72       0.01611       0.03519      0.45771      0.99414  50.13s\n",
      "     73       0.01498       0.02922      0.51254      0.99432  50.13s\n",
      "     74       0.01388       0.03822      0.36325      0.99324  50.11s\n",
      "     75       0.01500       0.03399      0.44128      0.99297  50.19s\n",
      "     76       0.01567       0.04126      0.37978      0.99252  50.13s\n",
      "     77       0.01425       0.04064      0.35056      0.99261  50.13s\n",
      "     78       \u001b[36m0.01304\u001b[0m       0.03837      0.33995      0.99315  50.12s\n",
      "     79       0.01329       0.03101      0.42872      0.99414  50.14s\n",
      "     80       \u001b[36m0.01046\u001b[0m       0.03631      0.28822      0.99432  50.11s\n",
      "     81       0.01391       0.03964      0.35093      0.99270  50.13s\n",
      "     82       0.01049       0.03244      0.32340      0.99414  50.12s\n",
      "     83       0.01095       0.03935      0.27833      0.99270  50.11s\n",
      "     84       0.01364       0.03110      0.43842      0.99414  50.12s\n",
      "     85       0.01352       0.04523      0.29887      0.99243  50.10s\n",
      "     86       0.01209       0.04643      0.26039      0.99171  50.08s\n",
      "     87       0.01244       0.03370      0.36924      0.99432  50.28s\n",
      "     88       0.01256       0.04060      0.30934      0.99234  50.28s\n",
      "     89       0.01156       0.02951      0.39165      0.99378  50.39s\n",
      "     90       0.01306       0.03555      0.36741      0.99396  50.23s\n",
      "     91       0.01086       0.03781      0.28710      0.99285  50.25s\n",
      "     92       0.01110       0.03192      0.34772      0.99548  50.29s\n",
      "     93       0.01113       0.02933      0.37936      0.99503  50.36s\n",
      "     94       0.01202       0.03787      0.31733      0.99360  50.41s\n",
      "     95       0.01068       0.03624      0.29464      0.99467  50.38s\n",
      "     96       \u001b[36m0.00829\u001b[0m       0.03616      0.22912      0.99432  50.37s\n",
      "     97       0.00909       0.03199      0.28410      0.99503  50.15s\n",
      "     98       0.01131       0.03966      0.28525      0.99342  50.13s\n",
      "     99       0.00904       0.03635      0.24867      0.99449  50.13s\n",
      "    100       0.01015       0.03425      0.29642      0.99369  50.13s\n",
      "    101       0.01003       0.03207      0.31276      0.99458  50.17s\n",
      "    102       0.00952       0.04026      0.23651      0.99243  50.12s\n",
      "    103       0.01126       0.04044      0.27844      0.99333  50.16s\n",
      "    104       0.00965       0.03784      0.25510      0.99369  50.11s\n",
      "    105       0.00926       0.03443      0.26889      0.99423  50.20s\n",
      "Early stopping.\n",
      "Best valid loss was 0.025711 at epoch 55.\n",
      "Loaded parameters to layer 'conv1' (shape 128x4x3x3).\n",
      "Loaded parameters to layer 'conv1' (shape 128).\n",
      "Loaded parameters to layer 'conv2' (shape 96x128x3x3).\n",
      "Loaded parameters to layer 'conv2' (shape 96).\n",
      "Loaded parameters to layer 'conv3' (shape 96x96x3x3).\n",
      "Loaded parameters to layer 'conv3' (shape 96).\n",
      "Loaded parameters to layer 'conv4' (shape 96x96x3x3).\n",
      "Loaded parameters to layer 'conv4' (shape 96).\n",
      "Loaded parameters to layer 'hidden5' (shape 384x512).\n",
      "Loaded parameters to layer 'hidden5' (shape 512).\n",
      "Loaded parameters to layer 'output' (shape 512x2).\n",
      "Loaded parameters to layer 'output' (shape 2).\n"
     ]
    }
   ],
   "source": [
    "cnn = cnn.fit(X_train, y_train)"
   ]
  },
  {
   "cell_type": "code",
   "execution_count": 13,
   "metadata": {
    "collapsed": true
   },
   "outputs": [],
   "source": [
    "test_accuracy = cnn.score(X_test, y_test)"
   ]
  },
  {
   "cell_type": "code",
   "execution_count": 14,
   "metadata": {
    "collapsed": false
   },
   "outputs": [
    {
     "data": {
      "text/plain": [
       "0.9285714285714286"
      ]
     },
     "execution_count": 14,
     "metadata": {},
     "output_type": "execute_result"
    }
   ],
   "source": [
    "test_accuracy"
   ]
  },
  {
   "cell_type": "code",
   "execution_count": 15,
   "metadata": {
    "collapsed": false,
    "scrolled": true
   },
   "outputs": [
    {
     "data": {
      "text/plain": [
       "<module 'matplotlib.pyplot' from '/home/d/nolearn/local/lib/python2.7/site-packages/matplotlib/pyplot.pyc'>"
      ]
     },
     "execution_count": 15,
     "metadata": {},
     "output_type": "execute_result"
    },
    {
     "data": {
      "image/png": "[encoded data removed]",
      "text/plain": [
       "<matplotlib.figure.Figure at 0x7fbaa33aa710>"
      ]
     },
     "metadata": {},
     "output_type": "display_data"
    }
   ],
   "source": [
    "plot_loss(cnn)"
   ]
  },
  {
   "cell_type": "code",
   "execution_count": 12,
   "metadata": {
    "collapsed": false
   },
   "outputs": [],
   "source": [
    "# store CNN\n",
    "sys.setrecursionlimit(1000000000)\n",
    "with open(os.path.expanduser('~/Projects/gp/nets/RGBAPlusPlus.p'), 'wb') as f:\n",
    "  pickle.dump(cnn, f, -1)"
   ]
  },
  {
   "cell_type": "code",
   "execution_count": null,
   "metadata": {
    "collapsed": true
   },
   "outputs": [],
   "source": []
  },
  {
   "cell_type": "code",
   "execution_count": null,
   "metadata": {
    "collapsed": true
   },
   "outputs": [],
   "source": []
  }
 ],
 "metadata": {
  "kernelspec": {
   "display_name": "Python 2",
   "language": "python",
   "name": "python2"
  },
  "language_info": {
   "codemirror_mode": {
    "name": "ipython",
    "version": 2
   },
   "file_extension": ".py",
   "mimetype": "text/x-python",
   "name": "python",
   "nbconvert_exporter": "python",
   "pygments_lexer": "ipython2",
   "version": "2.7.6"
  }
 },
 "nbformat": 4,
 "nbformat_minor": 0
}
