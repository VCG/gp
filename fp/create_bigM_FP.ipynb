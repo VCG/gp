{
 "cells": [
  {
   "cell_type": "code",
   "execution_count": 1,
   "metadata": {
    "collapsed": false
   },
   "outputs": [],
   "source": [
    "import neuroproof\n",
    "import neuroproof.FocusedProofreading as fp\n",
    "import numpy as np\n",
    "import sys\n",
    "sys.path.append('../')\n",
    "sys.path.append('../gp/')\n",
    "\n",
    "# import gp\n"
   ]
  },
  {
   "cell_type": "code",
   "execution_count": 2,
   "metadata": {
    "collapsed": true
   },
   "outputs": [],
   "source": [
    "import mahotas as mh"
   ]
  },
  {
   "cell_type": "code",
   "execution_count": 3,
   "metadata": {
    "collapsed": true
   },
   "outputs": [],
   "source": [
    "  def grab_neighbors(array, label):\n",
    "\n",
    "      thresholded_array = threshold(array, label)\n",
    "      thresholded_array_dilated = mh.dilate(thresholded_array.astype(np.uint64))\n",
    "\n",
    "      copy = np.array(array)\n",
    "      copy[thresholded_array_dilated != thresholded_array_dilated.max()] = 0\n",
    "      copy[thresholded_array == 1] = 0\n",
    "\n",
    "      copy_hist = mh.fullhistogram(copy.astype(np.uint64))\n",
    "\n",
    "      copy_hist[0] = 0 # ignore zeros\n",
    "      # copy_hist[label] = 0 # ignore ourselves\n",
    "      return np.where(copy_hist>0)[0]\n",
    "\n",
    "  def threshold(array, value):\n",
    "    '''\n",
    "    '''\n",
    "    output_array = np.zeros(array.shape)\n",
    "\n",
    "    output_array[array == value] = 1\n",
    "\n",
    "    return output_array"
   ]
  },
  {
   "cell_type": "code",
   "execution_count": 4,
   "metadata": {
    "collapsed": true
   },
   "outputs": [],
   "source": [
    "  def generate_M(graph, rhoana, z, min_pixels=100, max=1000, ignore_zero_neighbor=True):\n",
    "    '''\n",
    "    '''\n",
    "\n",
    "    hist = mh.fullhistogram(rhoana.astype(np.uint64))#gp.Util.get_histogram(rhoana.astype(np.uint64))\n",
    "\n",
    "    \n",
    "    batch_count = 0\n",
    "\n",
    "    minlabel = z*100\n",
    "#     print hist\n",
    "#     print hist[minlabel:]\n",
    "\n",
    "    labels = len(list(hist[minlabel:]))\n",
    "#     print list(labels)\n",
    "    M = np.zeros((labels,labels), dtype=np.float32)\n",
    "\n",
    "    for l in range(labels):\n",
    "\n",
    "        \n",
    "      if l == 0:\n",
    "        continue\n",
    "\n",
    "      if hist[l+minlabel] < min_pixels:\n",
    "        continue\n",
    "\n",
    "#       print l\n",
    "        \n",
    "      neighbors = sorted(grab_neighbors(rhoana, l+minlabel))\n",
    "\n",
    "      graph_neighbors = sorted(graph.find_close_bodies(l+minlabel,0,0.))\n",
    "\n",
    "      pred = [ne[1] for ne in graph_neighbors if ne[0] in neighbors]\n",
    "        \n",
    "    \n",
    "      for i,n in enumerate(neighbors):\n",
    "            \n",
    "        if ignore_zero_neighbor and n-minlabel == 0:\n",
    "          continue\n",
    "\n",
    "        if hist[n] < min_pixels:\n",
    "          continue\n",
    "        n = n-minlabel\n",
    "#         print l,n,minlabel\n",
    "        M[l,n] = pred[i]\n",
    "        M[n,l] = pred[i]\n",
    "\n",
    "    return M"
   ]
  },
  {
   "cell_type": "code",
   "execution_count": 5,
   "metadata": {
    "collapsed": false
   },
   "outputs": [
    {
     "name": "stderr",
     "output_type": "stream",
     "text": [
      "/home/d/miniconda2/envs/NP/lib/python2.7/site-packages/matplotlib/font_manager.py:273: UserWarning: Matplotlib is building the font cache using fc-list. This may take a moment.\n",
      "  warnings.warn('Matplotlib is building the font cache using fc-list. This may take a moment.')\n"
     ]
    }
   ],
   "source": [
    "# from util import Util\n",
    "from legacy import Legacy"
   ]
  },
  {
   "cell_type": "code",
   "execution_count": 169,
   "metadata": {
    "collapsed": false
   },
   "outputs": [
    {
     "name": "stdout",
     "output_type": "stream",
     "text": [
      "a\n"
     ]
    }
   ],
   "source": [
    "image, prob, gold, rhoana, bb = Legacy.read_dojo_data()\n",
    "\n",
    "\n",
    "min_pixels = 100\n",
    "ignore_zero_neighbor = True\n",
    "\n",
    "bigM = [0]*10\n",
    "for z in range(10):\n",
    "    \n",
    "    rhoana_slice = rhoana[z]\n",
    "    \n",
    "    # load graph\n",
    "    graph = fp.Graph('/home/d/FP/dojoNEW/graph_'+str(z)+'.json')\n",
    "    \n",
    "    hist = mh.fullhistogram(rhoana_slice.astype(np.uint64))\n",
    "    labels = len(hist)\n",
    "    \n",
    "    M = np.zeros((labels,labels), dtype=np.float32)\n",
    "    \n",
    "\n",
    "    for l in range(labels):\n",
    "\n",
    "        \n",
    "        if l == 0:\n",
    "            continue\n",
    "\n",
    "        if hist[l] < min_pixels:\n",
    "            continue\n",
    "\n",
    "        neighbors = sorted(grab_neighbors(rhoana_slice, l))\n",
    "\n",
    "        graph_neighbors = sorted(graph.find_close_bodies(l,0,0.))\n",
    "        pred = [ne[1] for ne in graph_neighbors if ne[0] in neighbors]\n",
    "\n",
    "        for i,n in enumerate(neighbors):\n",
    "            \n",
    "            if ignore_zero_neighbor and n == 0:\n",
    "                continue\n",
    "\n",
    "            if hist[n] < min_pixels:\n",
    "                continue\n",
    "                \n",
    "            if pred[i] == 0:\n",
    "                print 'zeeeero'\n",
    "            M[l,n] = pred[i]\n",
    "            M[n,l] = pred[i]\n",
    "        \n",
    "    bigM[z] = M"
   ]
  },
  {
   "cell_type": "code",
   "execution_count": 6,
   "metadata": {
    "collapsed": false
   },
   "outputs": [],
   "source": [
    "from util import Util"
   ]
  },
  {
   "cell_type": "code",
   "execution_count": 7,
   "metadata": {
    "collapsed": false
   },
   "outputs": [],
   "source": [
    "#\n",
    "# CREMI\n",
    "#\n",
    "import os\n",
    "golds = np.zeros((75,1250,1250), dtype=np.uint64)\n",
    "probs = np.zeros((75,1250,1250), dtype=np.uint8)\n",
    "rhoanas = np.zeros((75,1250,1250), dtype=np.uint64)\n",
    "\n",
    "# for z in range(0,50):\n",
    "# test_slices = range(15,25) + range(40,50) + range(65,75)\n",
    "test_slices = range(75)\n",
    "for i,z in enumerate(test_slices):\n",
    "    image, prob, gold, rhoana = Util.read_cremi_section(os.path.expanduser('/home/d/data/CREMIGP/TEST/'), z)\n",
    "#     input_image.append(image[0:500,0:500])\n",
    "#     input_prob.append(255.-prob[0:500,0:500])\n",
    "#     input_gold.append(gold[0:500,0:500])\n",
    "#     input_rhoana.append(rhoana[0:500,0:500])    \n",
    "    golds[i] = gold#[0:500,0:500]\n",
    "    probs[i] = 255.-prob#[0:500,0:500]\n",
    "    rhoanas[i] = rhoana#[0:500,0:500]"
   ]
  },
  {
   "cell_type": "code",
   "execution_count": null,
   "metadata": {
    "collapsed": false
   },
   "outputs": [],
   "source": [
    "\n",
    "min_pixels = 100\n",
    "ignore_zero_neighbor = True\n",
    "\n",
    "bigM = [0]*75\n",
    "for z in range(75):\n",
    "    \n",
    "    rhoana_slice = rhoanas[z]\n",
    "#     print rhoana_slice.min()\n",
    "    \n",
    "    # load graph\n",
    "    graph = fp.Graph('/home/d/FP/CREMITESTBIG/graph_'+str(z)+'.json')\n",
    "    \n",
    "    hist = mh.fullhistogram(rhoana_slice.astype(np.uint64))\n",
    "    labels = len(hist)\n",
    "    \n",
    "    M = np.zeros((labels,labels), dtype=np.float32)\n",
    "    \n",
    "\n",
    "    for l in range(labels):\n",
    "        \n",
    "        if l == 0:\n",
    "            continue\n",
    "\n",
    "        if hist[l] < min_pixels:\n",
    "            continue\n",
    "\n",
    "        neighbors = sorted(grab_neighbors(rhoana_slice, l))\n",
    "\n",
    "        graph_neighbors = sorted(graph.find_close_bodies(l,0,0.))\n",
    "        pred = [ne[1] for ne in graph_neighbors if ne[0] in neighbors]\n",
    "\n",
    "        for i,n in enumerate(neighbors):\n",
    "            \n",
    "            if ignore_zero_neighbor and n == 0:\n",
    "                continue\n",
    "\n",
    "            if hist[n] < min_pixels:\n",
    "                continue\n",
    "                \n",
    "            if pred[i] == 0:\n",
    "                print 'zeeeero'\n",
    "            M[l,n] = pred[i]\n",
    "            M[n,l] = pred[i]\n",
    "        \n",
    "    bigM[z] = M"
   ]
  },
  {
   "cell_type": "code",
   "execution_count": null,
   "metadata": {
    "collapsed": true
   },
   "outputs": [],
   "source": []
  },
  {
   "cell_type": "code",
   "execution_count": null,
   "metadata": {
    "collapsed": true
   },
   "outputs": [],
   "source": []
  },
  {
   "cell_type": "code",
   "execution_count": null,
   "metadata": {
    "collapsed": true
   },
   "outputs": [],
   "source": []
  },
  {
   "cell_type": "code",
   "execution_count": 11,
   "metadata": {
    "collapsed": true
   },
   "outputs": [],
   "source": [
    "import cPickle as pickle"
   ]
  },
  {
   "cell_type": "code",
   "execution_count": 12,
   "metadata": {
    "collapsed": false
   },
   "outputs": [],
   "source": [
    "with open('/home/d/FP/CREMITEST/bigM_fp_2D.p', 'wb') as f:\n",
    "    pickle.dump(bigM, f)"
   ]
  },
  {
   "cell_type": "code",
   "execution_count": 13,
   "metadata": {
    "collapsed": false
   },
   "outputs": [
    {
     "data": {
      "text/plain": [
       "array([[ 0.,  0.,  0., ...,  0.,  0.,  0.],\n",
       "       [ 0.,  0.,  0., ...,  0.,  0.,  0.],\n",
       "       [ 0.,  0.,  0., ...,  0.,  0.,  0.],\n",
       "       ..., \n",
       "       [ 0.,  0.,  0., ...,  0.,  0.,  0.],\n",
       "       [ 0.,  0.,  0., ...,  0.,  0.,  0.],\n",
       "       [ 0.,  0.,  0., ...,  0.,  0.,  0.]], dtype=float32)"
      ]
     },
     "execution_count": 13,
     "metadata": {},
     "output_type": "execute_result"
    }
   ],
   "source": [
    "bigM[0]"
   ]
  },
  {
   "cell_type": "code",
   "execution_count": 17,
   "metadata": {
    "collapsed": false
   },
   "outputs": [
    {
     "data": {
      "image/png": "[encoded data removed]",
      "text/plain": [
       "<matplotlib.figure.Figure at 0x7f0ab7576f50>"
      ]
     },
     "metadata": {},
     "output_type": "display_data"
    }
   ],
   "source": [
    "\n",
    "from matplotlib.pyplot import imshow\n",
    "import matplotlib.pyplot as plt\n",
    "\n",
    "%matplotlib inline\n",
    "Util.view(bigM[0], color=False)"
   ]
  },
  {
   "cell_type": "code",
   "execution_count": 166,
   "metadata": {
    "collapsed": true
   },
   "outputs": [],
   "source": [
    "with open('/home/d/dojo_xp/data/bigM_new_cnn.p', 'rb') as f:\n",
    "    gp_bigM = pickle.load(f)"
   ]
  },
  {
   "cell_type": "code",
   "execution_count": 168,
   "metadata": {
    "collapsed": false
   },
   "outputs": [
    {
     "data": {
      "text/plain": [
       "<matplotlib.image.AxesImage at 0x7f5ca41a5350>"
      ]
     },
     "execution_count": 168,
     "metadata": {},
     "output_type": "execute_result"
    },
    {
     "data": {
      "image/png": "[encoded data removed]",
      "text/plain": [
       "<matplotlib.figure.Figure at 0x7f5ca4235950>"
      ]
     },
     "metadata": {},
     "output_type": "display_data"
    }
   ],
   "source": [
    "imshow(gp_bigM[1])"
   ]
  },
  {
   "cell_type": "code",
   "execution_count": null,
   "metadata": {
    "collapsed": true
   },
   "outputs": [],
   "source": []
  },
  {
   "cell_type": "code",
   "execution_count": 106,
   "metadata": {
    "collapsed": false
   },
   "outputs": [],
   "source": [
    "M = generate_M(graph, fpseg[1], 1)\n"
   ]
  },
  {
   "cell_type": "code",
   "execution_count": 102,
   "metadata": {
    "collapsed": false
   },
   "outputs": [
    {
     "data": {
      "text/plain": [
       "0.8392157"
      ]
     },
     "execution_count": 102,
     "metadata": {},
     "output_type": "execute_result"
    }
   ],
   "source": [
    "M.max()"
   ]
  },
  {
   "cell_type": "code",
   "execution_count": 5,
   "metadata": {
    "collapsed": true
   },
   "outputs": [],
   "source": [
    "import h5py"
   ]
  },
  {
   "cell_type": "code",
   "execution_count": 6,
   "metadata": {
    "collapsed": true
   },
   "outputs": [],
   "source": [
    "with h5py.File('/home/d/FP/dojo_test_NEW/rhoana.h5', 'r') as hf:\n",
    "    list_of_names = []\n",
    "    \n",
    "    hf.visit(list_of_names.append)\n",
    "    fpseg = hf['stack'].value"
   ]
  },
  {
   "cell_type": "code",
   "execution_count": 7,
   "metadata": {
    "collapsed": true
   },
   "outputs": [],
   "source": [
    "with h5py.File('/home/d/FP/dojo_test_NEW/segmentation.h5', 'r') as hf:\n",
    "    list_of_names = []\n",
    "    \n",
    "    hf.visit(list_of_names.append)\n",
    "    fpseg2 = hf['stack'].value"
   ]
  },
  {
   "cell_type": "code",
   "execution_count": 132,
   "metadata": {
    "collapsed": true
   },
   "outputs": [],
   "source": [
    "with h5py.File('/home/d/FP/dojo_test/rhoana.h5', 'r') as hf:\n",
    "    list_of_names = []\n",
    "    \n",
    "    hf.visit(list_of_names.append)\n",
    "    fpsega = hf['stack'].value"
   ]
  },
  {
   "cell_type": "code",
   "execution_count": 11,
   "metadata": {
    "collapsed": true
   },
   "outputs": [],
   "source": [
    "\n",
    "from matplotlib.pyplot import imshow\n",
    "import matplotlib.pyplot as plt\n",
    "%matplotlib inline"
   ]
  },
  {
   "cell_type": "code",
   "execution_count": null,
   "metadata": {
    "collapsed": true
   },
   "outputs": [],
   "source": []
  },
  {
   "cell_type": "code",
   "execution_count": null,
   "metadata": {
    "collapsed": true
   },
   "outputs": [],
   "source": []
  },
  {
   "cell_type": "code",
   "execution_count": 107,
   "metadata": {
    "collapsed": false
   },
   "outputs": [
    {
     "name": "stdout",
     "output_type": "stream",
     "text": [
      "stored z= 0\n",
      "stored z= 1\n",
      "stored z= 2\n",
      "stored z= 3\n",
      "stored z= 4\n",
      "stored z= 5\n",
      "stored z= 6\n",
      "stored z= 7\n",
      "stored z= 8\n",
      "stored z= 9\n"
     ]
    }
   ],
   "source": [
    "bigM = []\n",
    "for z in range(fpseg.shape[0]):\n",
    "    M = generate_M(graph, fpseg[z], z)\n",
    "    bigM.append(M)\n",
    "    print 'stored z=',z"
   ]
  },
  {
   "cell_type": "code",
   "execution_count": 36,
   "metadata": {
    "collapsed": false
   },
   "outputs": [],
   "source": [
    "import cPickle as pickle"
   ]
  },
  {
   "cell_type": "code",
   "execution_count": 109,
   "metadata": {
    "collapsed": false
   },
   "outputs": [],
   "source": [
    "with open('/home/d/dojo_xp/data/bigM_fp_NEW.p', 'wb') as f:\n",
    "    pickle.dump(bigM, f)"
   ]
  },
  {
   "cell_type": "code",
   "execution_count": 33,
   "metadata": {
    "collapsed": false
   },
   "outputs": [],
   "source": [
    "zmax = -1\n",
    "for z in range(10):\n",
    "    \n",
    "    zmax = max(zmax, bigM[z].max())"
   ]
  },
  {
   "cell_type": "code",
   "execution_count": 34,
   "metadata": {
    "collapsed": false
   },
   "outputs": [
    {
     "data": {
      "text/plain": [
       "0.8509804"
      ]
     },
     "execution_count": 34,
     "metadata": {},
     "output_type": "execute_result"
    }
   ],
   "source": [
    "zmax"
   ]
  },
  {
   "cell_type": "code",
   "execution_count": 108,
   "metadata": {
    "collapsed": false
   },
   "outputs": [
    {
     "data": {
      "text/plain": [
       "0.85490197"
      ]
     },
     "execution_count": 108,
     "metadata": {},
     "output_type": "execute_result"
    }
   ],
   "source": [
    "bigM[9].max()"
   ]
  },
  {
   "cell_type": "code",
   "execution_count": 177,
   "metadata": {
    "collapsed": false
   },
   "outputs": [
    {
     "name": "stdout",
     "output_type": "stream",
     "text": [
      "250\n",
      "251\n",
      "252\n",
      "253\n",
      "254\n",
      "255\n",
      "256\n",
      "257\n",
      "258\n",
      "259\n",
      "260\n",
      "261\n",
      "262\n",
      "263\n",
      "264\n",
      "265\n",
      "266\n",
      "267\n",
      "268\n",
      "269\n",
      "270\n",
      "271\n",
      "272\n",
      "273\n",
      "274\n",
      "275\n",
      "276\n",
      "277\n",
      "278\n",
      "279\n",
      "280\n",
      "281\n",
      "282\n",
      "283\n",
      "284\n",
      "285\n",
      "286\n",
      "287\n",
      "288\n",
      "289\n",
      "290\n",
      "291\n",
      "292\n",
      "293\n",
      "294\n",
      "295\n",
      "296\n",
      "297\n",
      "298\n"
     ]
    }
   ],
   "source": [
    "#\n",
    "# create bigM for the cylinder\n",
    "#\n",
    "\n",
    "import glob, os, skimage\n",
    "\n",
    "\n",
    "def normalize_labels(array):\n",
    "    '''\n",
    "    '''\n",
    "    return mh.labeled.relabel(array)\n",
    "\n",
    "\n",
    "def relabel(array):\n",
    "\n",
    "    relabeled_array = np.array(array)\n",
    "\n",
    "    relabeled_array = skimage.measure.label(array).astype(np.uint64)\n",
    "    # relabeled_array[relabeled_array==0] = relabeled_array.max()\n",
    "\n",
    "    return normalize_labels(relabeled_array)[0]\n",
    "\n",
    "min_pixels = 100\n",
    "ignore_zero_neighbor = True\n",
    "\n",
    "bigM = [0]*50\n",
    "for z in range(250,299):\n",
    "    \n",
    "    mask = sorted(glob.glob(os.path.join('/home/d/data/cylinderNEW', 'mask', '*'+str(z)+'.png')))   \n",
    "    mask = mh.imread(mask[0]).astype(np.bool)\n",
    "    \n",
    "    rhoana = sorted(glob.glob(os.path.join('/home/d/data/cylinderNEW', 'rhoana', '*'+str(z)+'.png')))\n",
    "    rhoana = mh.imread(rhoana[0])\n",
    "    rhoana_single = np.zeros((rhoana.shape[0], rhoana.shape[1]), dtype=np.uint64)\n",
    "    rhoana_single[:, :] = rhoana[:,:,0]*256*256 + rhoana[:,:,1]*256 + rhoana[:,:,2]    \n",
    "    \n",
    "    rhoana_single = relabel(rhoana_single)\n",
    "    \n",
    "    rhoana_single[mask==0] = 0\n",
    "    \n",
    "    rhoana_slice = rhoana_single\n",
    "    \n",
    "    # load graph\n",
    "    graph = fp.Graph('/home/d/FP/cylinder/graph_'+str(z)+'.json')\n",
    "    \n",
    "    hist = mh.fullhistogram(rhoana_slice.astype(np.uint64))\n",
    "    labels = len(hist)\n",
    "    \n",
    "    M = np.zeros((labels,labels), dtype=np.float32)\n",
    "    \n",
    "\n",
    "    for l in range(labels):\n",
    "\n",
    "        \n",
    "        if l == 0:\n",
    "            continue\n",
    "\n",
    "        if hist[l] < min_pixels:\n",
    "            continue\n",
    "\n",
    "        neighbors = sorted(grab_neighbors(rhoana_slice, l))\n",
    "\n",
    "        graph_neighbors = sorted(graph.find_close_bodies(l,0,0.))\n",
    "        pred = [ne[1] for ne in graph_neighbors if ne[0] in neighbors]\n",
    "\n",
    "        for i,n in enumerate(neighbors):\n",
    "            \n",
    "            if ignore_zero_neighbor and n == 0:\n",
    "                continue\n",
    "\n",
    "            if hist[n] < min_pixels:\n",
    "                continue\n",
    "                \n",
    "            if pred[i] == 0:\n",
    "                print 'zeeeero'\n",
    "            M[l,n] = pred[i]\n",
    "            M[n,l] = pred[i]\n",
    "        \n",
    "    bigM[z-250] = M\n",
    "    print z"
   ]
  },
  {
   "cell_type": "code",
   "execution_count": 178,
   "metadata": {
    "collapsed": true
   },
   "outputs": [],
   "source": [
    "bigM[-1] = np.zeros((1,1))\n",
    "with open('/home/d/FP/cylinder/bigM_fp.p', 'wb') as f:\n",
    "    pickle.dump(bigM, f)"
   ]
  },
  {
   "cell_type": "code",
   "execution_count": null,
   "metadata": {
    "collapsed": true
   },
   "outputs": [],
   "source": []
  }
 ],
 "metadata": {
  "kernelspec": {
   "display_name": "Python 2",
   "language": "python",
   "name": "python2"
  },
  "language_info": {
   "codemirror_mode": {
    "name": "ipython",
    "version": 2
   },
   "file_extension": ".py",
   "mimetype": "text/x-python",
   "name": "python",
   "nbconvert_exporter": "python",
   "pygments_lexer": "ipython2",
   "version": "2.7.12"
  }
 },
 "nbformat": 4,
 "nbformat_minor": 1
}
