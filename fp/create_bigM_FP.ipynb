{
 "cells": [
  {
   "cell_type": "code",
   "execution_count": 6,
   "metadata": {
    "collapsed": false
   },
   "outputs": [],
   "source": [
    "import neuroproof\n",
    "import neuroproof.FocusedProofreading as fp\n",
    "import numpy as np\n",
    "import sys\n",
    "sys.path.append('../')\n",
    "import gp"
   ]
  },
  {
   "cell_type": "code",
   "execution_count": null,
   "metadata": {
    "collapsed": true
   },
   "outputs": [],
   "source": []
  },
  {
   "cell_type": "code",
   "execution_count": 2,
   "metadata": {
    "collapsed": false
   },
   "outputs": [],
   "source": [
    "graph = fp.Graph('/home/d/FP/dojo/graph_relabeled.json')"
   ]
  },
  {
   "cell_type": "code",
   "execution_count": 35,
   "metadata": {
    "collapsed": true
   },
   "outputs": [],
   "source": [
    "  def generate_M(graph, rhoana, min_pixels=100, max=1000, ignore_zero_neighbor=True):\n",
    "    '''\n",
    "    '''\n",
    "\n",
    "    hist = gp.Util.get_histogram(rhoana.astype(np.uint64))\n",
    "    labels = len(hist)\n",
    "\n",
    "    batch_count = 0\n",
    "    \n",
    "    M = np.zeros((labels,labels), dtype=np.float32)\n",
    "\n",
    "    for l in range(labels):\n",
    "\n",
    "      if l == 0:\n",
    "        continue\n",
    "\n",
    "      if hist[l] < min_pixels:\n",
    "        continue\n",
    "\n",
    "#       print l\n",
    "        \n",
    "      neighbors = sorted(gp.Util.grab_neighbors(rhoana, l))\n",
    "\n",
    "      graph_neighbors = sorted(graph.find_close_bodies(l,0,0.))\n",
    "\n",
    "      pred = [ne[1] for ne in graph_neighbors if ne[0] in neighbors]\n",
    "        \n",
    "    \n",
    "      for i,n in enumerate(neighbors):\n",
    "            \n",
    "        if ignore_zero_neighbor and n == 0:\n",
    "          continue\n",
    "\n",
    "        if hist[n] < min_pixels:\n",
    "          continue\n",
    "\n",
    "        \n",
    "        M[l,n] = pred[i]\n",
    "        M[n,l] = pred[i]\n",
    "\n",
    "    return M"
   ]
  },
  {
   "cell_type": "code",
   "execution_count": 29,
   "metadata": {
    "collapsed": false
   },
   "outputs": [
    {
     "name": "stdout",
     "output_type": "stream",
     "text": [
      "a\n"
     ]
    }
   ],
   "source": [
    "image, prov, gold, rhoana, bb = gp.Legacy.read_dojo_data()"
   ]
  },
  {
   "cell_type": "code",
   "execution_count": 36,
   "metadata": {
    "collapsed": false
   },
   "outputs": [
    {
     "name": "stdout",
     "output_type": "stream",
     "text": [
      "stored z= 0\n",
      "stored z= 1\n",
      "stored z= 2\n",
      "stored z= 3\n",
      "stored z= 4\n",
      "stored z= 5\n",
      "stored z= 6\n",
      "stored z= 7\n",
      "stored z= 8\n",
      "stored z= 9\n"
     ]
    }
   ],
   "source": [
    "bigM = []\n",
    "for z in range(rhoana.shape[0]):\n",
    "    M = generate_M(graph, rhoana[z])\n",
    "    bigM.append(M)\n",
    "    print 'stored z=',z"
   ]
  },
  {
   "cell_type": "code",
   "execution_count": 33,
   "metadata": {
    "collapsed": false
   },
   "outputs": [],
   "source": [
    "import cPickle as pickle"
   ]
  },
  {
   "cell_type": "code",
   "execution_count": 37,
   "metadata": {
    "collapsed": true
   },
   "outputs": [],
   "source": [
    "with open('/home/d/dojo_xp/data/bigM_fp.p', 'wb') as f:\n",
    "    pickle.dump(bigM, f)"
   ]
  },
  {
   "cell_type": "code",
   "execution_count": null,
   "metadata": {
    "collapsed": true
   },
   "outputs": [],
   "source": []
  }
 ],
 "metadata": {
  "kernelspec": {
   "display_name": "Python 2",
   "language": "python",
   "name": "python2"
  },
  "language_info": {
   "codemirror_mode": {
    "name": "ipython",
    "version": 2
   },
   "file_extension": ".py",
   "mimetype": "text/x-python",
   "name": "python",
   "nbconvert_exporter": "python",
   "pygments_lexer": "ipython2",
   "version": "2.7.12"
  }
 },
 "nbformat": 4,
 "nbformat_minor": 1
}
