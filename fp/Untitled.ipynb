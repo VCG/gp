{
 "cells": [
  {
   "cell_type": "code",
   "execution_count": 1,
   "metadata": {
    "collapsed": false
   },
   "outputs": [],
   "source": [
    "import neuroproof as np\n",
    "import neuroproof.FocusedProofreading as fp"
   ]
  },
  {
   "cell_type": "code",
   "execution_count": 5,
   "metadata": {
    "collapsed": false
   },
   "outputs": [],
   "source": [
    "graph = fp.Graph('/home/d/fp_data/graph.json')"
   ]
  },
  {
   "cell_type": "code",
   "execution_count": 6,
   "metadata": {
    "collapsed": false
   },
   "outputs": [
    {
     "data": {
      "text/plain": [
       "<neuroproof.FocusedProofreading._focusedproofreading_python.Graph at 0x7f83040de050>"
      ]
     },
     "execution_count": 6,
     "metadata": {},
     "output_type": "execute_result"
    }
   ],
   "source": [
    "graph"
   ]
  },
  {
   "cell_type": "code",
   "execution_count": 8,
   "metadata": {
    "collapsed": false
   },
   "outputs": [
    {
     "data": {
      "text/plain": [
       "[[2248, 0.15157247212610692],\n",
       " [837, 0.12852975100074754],\n",
       " [214, 0.1991541714725122],\n",
       " [1581, 0.16707420222991293],\n",
       " [2547, 0.11515570934256195],\n",
       " [2745, 0.1764705882352966],\n",
       " [2329, 0.35686274509804106],\n",
       " [583, 0.2325259515570948],\n",
       " [1575, 0.43921568627451135],\n",
       " [2351, 0.25098039215686496],\n",
       " [2528, 0.2117647058823553],\n",
       " [1313, 0.14834294502114706],\n",
       " [2687, 0.19684736639754122],\n",
       " [1660, 0.27450980392157076],\n",
       " [1718, 0.18011534025375028],\n",
       " [1387, 0.25098039215686496],\n",
       " [393, 0.20484429065744109],\n",
       " [742, 0.22111495578623752],\n",
       " [649, 0.10961937716263125],\n",
       " [520, 0.13586810502747915],\n",
       " [2713, 0.14532871972318487],\n",
       " [2239, 0.2901960784313746]]"
      ]
     },
     "execution_count": 8,
     "metadata": {},
     "output_type": "execute_result"
    }
   ],
   "source": [
    "graph.find_close_bodies(273, 0, 0.1)"
   ]
  },
  {
   "cell_type": "code",
   "execution_count": 10,
   "metadata": {
    "collapsed": false
   },
   "outputs": [
    {
     "data": {
      "text/plain": [
       "[[2351, 0.5058823529411778],\n",
       " [273, 0.14532871972318487],\n",
       " [543, 0.2539331026528273],\n",
       " [211, 0.25836216839677195],\n",
       " [2248, 0.5843137254901971],\n",
       " [2355, 0.15695501730103947],\n",
       " [2613, 0.4078431372549036],\n",
       " [2626, 0.42745098039215845],\n",
       " [97, 0.13416016464255942],\n",
       " [2540, 0.1839292579777023],\n",
       " [473, 0.13518203405929957],\n",
       " [1259, 0.1856055363321814],\n",
       " [34, 0.2108112264513663],\n",
       " [2119, 0.3411764705882372],\n",
       " [1230, 0.19607843137255143],\n",
       " [1895, 0.23012687427912493],\n",
       " [2554, 0.29428681276432284],\n",
       " [180, 0.1004536716647456],\n",
       " [1581, 0.3176470588235314],\n",
       " [2511, 0.13139561707035888],\n",
       " [1187, 0.11773933102652956],\n",
       " [424, 0.360784313725492],\n",
       " [1575, 0.12083044982699093],\n",
       " [1660, 0.5294117647058836],\n",
       " [2579, 0.18196078431372692],\n",
       " [2086, 0.2672202998846612],\n",
       " [1916, 0.17928489042676035],\n",
       " [883, 0.2750941945405627],\n",
       " [2370, 0.20604382929642592],\n",
       " [1273, 0.10094361897008042],\n",
       " [649, 0.15321799307958617],\n",
       " [2140, 0.3529411764705901],\n",
       " [5, 0.3022837370242229],\n",
       " [1499, 0.3764705882352959],\n",
       " [2227, 0.25554786620530723]]"
      ]
     },
     "execution_count": 10,
     "metadata": {},
     "output_type": "execute_result"
    }
   ],
   "source": [
    "graph.find_close_bodies(2713, 0, 0.1)"
   ]
  },
  {
   "cell_type": "code",
   "execution_count": 12,
   "metadata": {
    "collapsed": false
   },
   "outputs": [
    {
     "data": {
      "text/plain": [
       "[[2227, 0.5568627450980403],\n",
       " [2713, 0.3529411764705901],\n",
       " [34, 0.1058823529411792],\n",
       " [1230, 0.21568627450980626],\n",
       " [5, 0.5411764705882365],\n",
       " [883, 0.18431372549019853],\n",
       " [1660, 0.247058823529414],\n",
       " [2119, 0.3764705882352959],\n",
       " [2613, 0.3882352941176488],\n",
       " [2626, 0.47450980392157005],\n",
       " [543, 0.5215686274509816]]"
      ]
     },
     "execution_count": 12,
     "metadata": {},
     "output_type": "execute_result"
    }
   ],
   "source": [
    "graph.find_close_bodies(2140, 1, 0.1)"
   ]
  },
  {
   "cell_type": "code",
   "execution_count": null,
   "metadata": {
    "collapsed": false
   },
   "outputs": [
    {
     "name": "stderr",
     "output_type": "stream",
     "text": [
      "/home/d/miniconda2/envs/NP/lib/python2.7/site-packages/matplotlib/font_manager.py:273: UserWarning: Matplotlib is building the font cache using fc-list. This may take a moment.\n",
      "  warnings.warn('Matplotlib is building the font cache using fc-list. This may take a moment.')\n"
     ]
    }
   ],
   "source": [
    "import gp"
   ]
  },
  {
   "cell_type": "code",
   "execution_count": null,
   "metadata": {
    "collapsed": true
   },
   "outputs": [],
   "source": []
  }
 ],
 "metadata": {
  "kernelspec": {
   "display_name": "Python 2",
   "language": "python",
   "name": "python2"
  },
  "language_info": {
   "codemirror_mode": {
    "name": "ipython",
    "version": 2
   },
   "file_extension": ".py",
   "mimetype": "text/x-python",
   "name": "python",
   "nbconvert_exporter": "python",
   "pygments_lexer": "ipython2",
   "version": "2.7.12"
  }
 },
 "nbformat": 4,
 "nbformat_minor": 1
}
